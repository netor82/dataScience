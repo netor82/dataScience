{
 "cells": [
  {
   "cell_type": "markdown",
   "metadata": {
    "colab_type": "text",
    "id": "GItxU96mTk16"
   },
   "source": [
    "# Aprendizaje Automático\n",
    "\n",
    "## Tarea 2\n",
    "\n",
    "Profesor: MSc. Felipe Meza.\n",
    "\n",
    "Instituto Tecnológico de Costa Rica, \n",
    "\n",
    "Medio de entrega: TecDigital.\n",
    "\n",
    "Entregables: El entregable consiste en el url de la notebook Tarea-2.ipynb en GITHUB. \n",
    "\n",
    "Grupo de trabajo:\n",
    "- Manuel Calderón\n",
    "- Ernesto Rivera\n",
    "\n",
    "---\n",
    "Objetivo: El objetivo de la Tarea 2 consiste en elegir un dataset, ejecutar las diferentes tareas de pre-procesado y crear un tutorial sobre el uso de PANDAS.\n"
   ]
  },
  {
   "cell_type": "markdown",
   "metadata": {},
   "source": [
    "Para el siguiente tutorial se aplicarán una serie de pasos con el fin de explicar un ejemplo de pre-procesado:\n",
    "\n",
    "\n",
    "## Paso 1: Descargar el dataset\n",
    "\n",
    "Lo primero que se debe realizar es la selección del dataset a trabajar.\n",
    "Para descargar el dataset, vaya a [este link](https://www.kaggle.com/philipjames11/dark-net-marketplace-drug-data-agora-20142015) y descargue el archivo \"Agora.csv\".\n",
    "\n",
    "Es necesario ir a la página pues esta requiere que uno se inscriba para poder descargar el dataset.\n",
    "\n",
    "\n",
    "## Paso 2: Importar bibliotecas\n",
    "\n",
    "Una vez descargado el archivo, colóquelo en la misma carpeta donde se encuetra este documento de jupyter para poder proceder a su lectura.\n",
    "\n",
    "Antes que nada, vamos a cargar algunas bibliotecas que vamos a ir usando posteriormente."
   ]
  },
  {
   "cell_type": "code",
   "execution_count": 1,
   "metadata": {},
   "outputs": [],
   "source": [
    "import numpy as np\n",
    "import pandas as pd"
   ]
  },
  {
   "cell_type": "markdown",
   "metadata": {},
   "source": [
    "## Paso 3: Cargar los datos\n",
    "En nuestro caso utilizaremos PANDAS para leer el archivo."
   ]
  },
  {
   "cell_type": "code",
   "execution_count": 2,
   "metadata": {},
   "outputs": [],
   "source": [
    "df = pd.read_csv(\"Agora.csv\")"
   ]
  },
  {
   "cell_type": "markdown",
   "metadata": {},
   "source": [
    "\n",
    "## Paso 4: Primeras exploraciones de los datos\n",
    "\n",
    "Algo muy importante es la visualización inicial de los datos, por lo que para este paso, se deben imprimir los datos cargados (o al menos parte de ellos), imprimir sus columnas en caso de tener alguna, caso contrario ver el paso 4, y ver cualquier dato de cargado que nos pueda ser relevante para verificar el estado de la data.\n",
    "\n",
    "Para nuestro caso usaremos un head(visualiza las primeras 5 filas), y un describe para visualizar el análisis de pandas de la data."
   ]
  },
  {
   "cell_type": "code",
   "execution_count": 3,
   "metadata": {},
   "outputs": [
    {
     "data": {
      "text/html": [
       "<div>\n",
       "<style scoped>\n",
       "    .dataframe tbody tr th:only-of-type {\n",
       "        vertical-align: middle;\n",
       "    }\n",
       "\n",
       "    .dataframe tbody tr th {\n",
       "        vertical-align: top;\n",
       "    }\n",
       "\n",
       "    .dataframe thead th {\n",
       "        text-align: right;\n",
       "    }\n",
       "</style>\n",
       "<table border=\"1\" class=\"dataframe\">\n",
       "  <thead>\n",
       "    <tr style=\"text-align: right;\">\n",
       "      <th></th>\n",
       "      <th>Vendor</th>\n",
       "      <th>Category</th>\n",
       "      <th>Item</th>\n",
       "      <th>Item Description</th>\n",
       "      <th>Price</th>\n",
       "      <th>Origin</th>\n",
       "      <th>Destination</th>\n",
       "      <th>Rating</th>\n",
       "      <th>Remarks</th>\n",
       "    </tr>\n",
       "  </thead>\n",
       "  <tbody>\n",
       "    <tr>\n",
       "      <th>0</th>\n",
       "      <td>CheapPayTV</td>\n",
       "      <td>Services/Hacking</td>\n",
       "      <td>12 Month HuluPlus gift Code</td>\n",
       "      <td>12-Month HuluPlus Codes for $25. They are wort...</td>\n",
       "      <td>0.05027025666666667 BTC</td>\n",
       "      <td>Torland</td>\n",
       "      <td>NaN</td>\n",
       "      <td>4.96/5</td>\n",
       "      <td>NaN</td>\n",
       "    </tr>\n",
       "    <tr>\n",
       "      <th>1</th>\n",
       "      <td>CheapPayTV</td>\n",
       "      <td>Services/Hacking</td>\n",
       "      <td>Pay TV Sky UK  Sky Germany HD TV  and much mor...</td>\n",
       "      <td>Hi we offer a World Wide CCcam  Service for En...</td>\n",
       "      <td>0.152419585 BTC</td>\n",
       "      <td>Torland</td>\n",
       "      <td>NaN</td>\n",
       "      <td>4.96/5</td>\n",
       "      <td>NaN</td>\n",
       "    </tr>\n",
       "    <tr>\n",
       "      <th>2</th>\n",
       "      <td>KryptykOG</td>\n",
       "      <td>Services/Hacking</td>\n",
       "      <td>OFFICIAL Account Creator Extreme 4.2</td>\n",
       "      <td>Tagged Submission Fix Bebo Submission Fix Adju...</td>\n",
       "      <td>0.007000000000000005 BTC</td>\n",
       "      <td>Torland</td>\n",
       "      <td>NaN</td>\n",
       "      <td>4.93/5</td>\n",
       "      <td>NaN</td>\n",
       "    </tr>\n",
       "    <tr>\n",
       "      <th>3</th>\n",
       "      <td>cyberzen</td>\n",
       "      <td>Services/Hacking</td>\n",
       "      <td>VPN &gt; TOR &gt; SOCK TUTORIAL</td>\n",
       "      <td>How to setup a VPN &gt; TOR &gt; SOCK super safe enc...</td>\n",
       "      <td>0.019016783532494728 BTC</td>\n",
       "      <td>NaN</td>\n",
       "      <td>NaN</td>\n",
       "      <td>4.89/5</td>\n",
       "      <td>NaN</td>\n",
       "    </tr>\n",
       "    <tr>\n",
       "      <th>4</th>\n",
       "      <td>businessdude</td>\n",
       "      <td>Services/Hacking</td>\n",
       "      <td>Facebook hacking guide</td>\n",
       "      <td>.  This guide will teach you how to hack Faceb...</td>\n",
       "      <td>0.062018073963963936 BTC</td>\n",
       "      <td>Torland</td>\n",
       "      <td>NaN</td>\n",
       "      <td>4.88/5</td>\n",
       "      <td>NaN</td>\n",
       "    </tr>\n",
       "  </tbody>\n",
       "</table>\n",
       "</div>"
      ],
      "text/plain": [
       "         Vendor          Category  \\\n",
       "0    CheapPayTV  Services/Hacking   \n",
       "1    CheapPayTV  Services/Hacking   \n",
       "2     KryptykOG  Services/Hacking   \n",
       "3      cyberzen  Services/Hacking   \n",
       "4  businessdude  Services/Hacking   \n",
       "\n",
       "                                                Item  \\\n",
       "0                        12 Month HuluPlus gift Code   \n",
       "1  Pay TV Sky UK  Sky Germany HD TV  and much mor...   \n",
       "2               OFFICIAL Account Creator Extreme 4.2   \n",
       "3                          VPN > TOR > SOCK TUTORIAL   \n",
       "4                             Facebook hacking guide   \n",
       "\n",
       "                                    Item Description  \\\n",
       "0  12-Month HuluPlus Codes for $25. They are wort...   \n",
       "1  Hi we offer a World Wide CCcam  Service for En...   \n",
       "2  Tagged Submission Fix Bebo Submission Fix Adju...   \n",
       "3  How to setup a VPN > TOR > SOCK super safe enc...   \n",
       "4  .  This guide will teach you how to hack Faceb...   \n",
       "\n",
       "                      Price   Origin  Destination  Rating  Remarks  \n",
       "0   0.05027025666666667 BTC  Torland          NaN  4.96/5      NaN  \n",
       "1           0.152419585 BTC  Torland          NaN  4.96/5      NaN  \n",
       "2  0.007000000000000005 BTC  Torland          NaN  4.93/5      NaN  \n",
       "3  0.019016783532494728 BTC      NaN          NaN  4.89/5      NaN  \n",
       "4  0.062018073963963936 BTC  Torland          NaN  4.88/5      NaN  "
      ]
     },
     "execution_count": 3,
     "metadata": {},
     "output_type": "execute_result"
    }
   ],
   "source": [
    "df.head()"
   ]
  },
  {
   "cell_type": "code",
   "execution_count": 4,
   "metadata": {},
   "outputs": [
    {
     "data": {
      "text/html": [
       "<div>\n",
       "<style scoped>\n",
       "    .dataframe tbody tr th:only-of-type {\n",
       "        vertical-align: middle;\n",
       "    }\n",
       "\n",
       "    .dataframe tbody tr th {\n",
       "        vertical-align: top;\n",
       "    }\n",
       "\n",
       "    .dataframe thead th {\n",
       "        text-align: right;\n",
       "    }\n",
       "</style>\n",
       "<table border=\"1\" class=\"dataframe\">\n",
       "  <thead>\n",
       "    <tr style=\"text-align: right;\">\n",
       "      <th></th>\n",
       "      <th>Vendor</th>\n",
       "      <th>Category</th>\n",
       "      <th>Item</th>\n",
       "      <th>Item Description</th>\n",
       "      <th>Price</th>\n",
       "      <th>Origin</th>\n",
       "      <th>Destination</th>\n",
       "      <th>Rating</th>\n",
       "      <th>Remarks</th>\n",
       "    </tr>\n",
       "  </thead>\n",
       "  <tbody>\n",
       "    <tr>\n",
       "      <th>count</th>\n",
       "      <td>109689</td>\n",
       "      <td>109689</td>\n",
       "      <td>109687</td>\n",
       "      <td>109662</td>\n",
       "      <td>109684</td>\n",
       "      <td>99807</td>\n",
       "      <td>60528</td>\n",
       "      <td>109674</td>\n",
       "      <td>12616</td>\n",
       "    </tr>\n",
       "    <tr>\n",
       "      <th>unique</th>\n",
       "      <td>3192</td>\n",
       "      <td>109</td>\n",
       "      <td>107601</td>\n",
       "      <td>69526</td>\n",
       "      <td>102682</td>\n",
       "      <td>404</td>\n",
       "      <td>1196</td>\n",
       "      <td>478</td>\n",
       "      <td>5</td>\n",
       "    </tr>\n",
       "    <tr>\n",
       "      <th>top</th>\n",
       "      <td>optiman</td>\n",
       "      <td>Drugs/Cannabis/Weed</td>\n",
       "      <td>1g MDMA</td>\n",
       "      <td>[----- Terms &amp; Conditions -----]  -YOU MUST RE...</td>\n",
       "      <td>1.0 BTC</td>\n",
       "      <td>USA</td>\n",
       "      <td>USA</td>\n",
       "      <td>5.00/5</td>\n",
       "      <td>Average price may be skewed outliar &gt; .5 BTC f...</td>\n",
       "    </tr>\n",
       "    <tr>\n",
       "      <th>freq</th>\n",
       "      <td>881</td>\n",
       "      <td>21272</td>\n",
       "      <td>18</td>\n",
       "      <td>264</td>\n",
       "      <td>74</td>\n",
       "      <td>33729</td>\n",
       "      <td>14664</td>\n",
       "      <td>19637</td>\n",
       "      <td>12612</td>\n",
       "    </tr>\n",
       "  </tbody>\n",
       "</table>\n",
       "</div>"
      ],
      "text/plain": [
       "         Vendor             Category     Item  \\\n",
       "count    109689               109689   109687   \n",
       "unique     3192                  109   107601   \n",
       "top     optiman  Drugs/Cannabis/Weed  1g MDMA   \n",
       "freq        881                21272       18   \n",
       "\n",
       "                                         Item Description    Price  Origin  \\\n",
       "count                                              109662   109684   99807   \n",
       "unique                                              69526   102682     404   \n",
       "top     [----- Terms & Conditions -----]  -YOU MUST RE...  1.0 BTC     USA   \n",
       "freq                                                  264       74   33729   \n",
       "\n",
       "        Destination  Rating                                            Remarks  \n",
       "count         60528  109674                                              12616  \n",
       "unique         1196     478                                                  5  \n",
       "top             USA  5.00/5  Average price may be skewed outliar > .5 BTC f...  \n",
       "freq          14664   19637                                              12612  "
      ]
     },
     "execution_count": 4,
     "metadata": {},
     "output_type": "execute_result"
    }
   ],
   "source": [
    "df.describe()"
   ]
  },
  {
   "cell_type": "markdown",
   "metadata": {},
   "source": [
    "\n",
    "Tenemos 109689 filas, o entradas de datos.\n",
    "\n",
    "Se puede inferir que tenemos dos tipos de dados, según la columna:\n",
    "- De tipo texto (string): vendor, category, item, description, origin, destination, remarks\n",
    "- De tipo numérico: price, rating"
   ]
  },
  {
   "cell_type": "markdown",
   "metadata": {
    "scrolled": true
   },
   "source": [
    "\n",
    "## Paso 5: Explorando las diferentes columnas\n",
    "\n",
    "Un caso interesante es la columna remarks, que contiene 5 valores únicos.\n",
    "¡Vamos a explorarlos!\n",
    "\n",
    "Para ello, tomamos el dataset original, y se obtienen los nombres de las columnas"
   ]
  },
  {
   "cell_type": "code",
   "execution_count": 5,
   "metadata": {},
   "outputs": [
    {
     "data": {
      "text/plain": [
       "Index(['Vendor', ' Category', ' Item', ' Item Description', ' Price',\n",
       "       ' Origin', ' Destination', ' Rating', ' Remarks'],\n",
       "      dtype='object')"
      ]
     },
     "execution_count": 5,
     "metadata": {},
     "output_type": "execute_result"
    }
   ],
   "source": [
    "df.columns"
   ]
  },
  {
   "cell_type": "markdown",
   "metadata": {},
   "source": [
    "Dada la naturaleza del dataset, la mayoría de los nombres de las columnas inician con un espacio en blanco.\n",
    "\n",
    "Seleccionamos la columna _Remarks_ y se calcula sus valores únicos:"
   ]
  },
  {
   "cell_type": "code",
   "execution_count": 6,
   "metadata": {},
   "outputs": [
    {
     "data": {
      "text/plain": [
       "array([nan, 'Average price may be skewed outliar > .5 BTC found',\n",
       "       '4.91/5', '4.90/5', '4.41/5', '[0 deals]'], dtype=object)"
      ]
     },
     "execution_count": 6,
     "metadata": {},
     "output_type": "execute_result"
    }
   ],
   "source": [
    "df[\" Remarks\"].unique()"
   ]
  },
  {
   "cell_type": "markdown",
   "metadata": {},
   "source": [
    "Como nada es perfecto, parece que tenemos ciertos datos _Rating_ en la columna de _Remarks_.\n",
    "\n",
    "Erroes comunes en el dataset:\n",
    "- Comillas dobles ('\"') faltantes, lo causa que una sola entrada contenga la información que debió ser de muchas entradas\n",
    "- Comas (',') de más. Dando problemas la lectura, pues la entrada contiene _más columnas_ de las necesarias.\n",
    "\n",
    "El archivo contiene 110610 records, muchos más de los enumerados en la [página del dataset](https://www.kaggle.com/philipjames11/dark-net-marketplace-drug-data-agora-20142015) que dice 107603.\n",
    "\n",
    "Con un poco de magia de python, vamos a corregir los errores.\n",
    "\n",
    "Un detalle en el siguiente código es el uso de **wb** como _modo_ para el archivo destino, esto se usa por que el archivo contiene caracteres fuera del mapping tradicional, tales como '♔' o '⚜'.\n",
    "\n",
    "## Pase 6: Eliminar errores del archivo\n",
    "\n",
    "El siguiente código genera una copia del archivo original llamada _Agora2.csv_, el cual usaremos de ahora en adelante."
   ]
  },
  {
   "cell_type": "code",
   "execution_count": 7,
   "metadata": {},
   "outputs": [],
   "source": [
    "with open(\"Agora2.csv\", \"wb\") as nuevoArchivo: # trunca el archivo si ya existe\n",
    "    with open(\"Agora.csv\", mode=\"r\", encoding=\"UTF-8\", errors=\"ignore\") as archivoOriginal:\n",
    "        numero = 1\n",
    "        for linea in archivoOriginal:\n",
    "            try:\n",
    "                # se corrigen los errores encontrados\n",
    "                linea2 = linea.replace(\"\\\"This Listing Is For Verified\", \"This Listing Is For Verified\")\n",
    "                linea2 = linea2.replace(\"\\\"This subtropical\", \"This subtropical\")\n",
    "                linea2 = linea2.replace(\"\\\"This po\", \"This po\")\n",
    "                linea2 = linea2.replace(\"\\\"Mr. H\", \"Mr. H\")\n",
    "                linea2 = linea2.replace(\"\\\"An engaging\", \"An engaging\")\n",
    "                linea2 = linea2.replace(\",\\\"Professional F\", \",Professional F\")\n",
    "                linea2 = linea2.replace(\",\\\"Professional D\", \",Professional D\")\n",
    "                linea2 = linea2.replace(\"SKU:90183\\\"\", \"SKU:90183\")\n",
    "                linea2 = linea2.replace(\"\\\"Encryption\", \"Encryption\")\n",
    "                linea2 = linea2.replace(\"\\\"ProSoma\", \"ProSoma\")\n",
    "                linea2 = linea2.replace(\"\\\"If you’\", \"If you’\")\n",
    "                linea2 = linea2.replace(\",\\\"Named\", \"Named\")\n",
    "                linea2 = linea2.replace(\",\\\"THC\", \",THC\")\n",
    "                linea2 = linea2.replace(\"\\\"Strassman'\", \"Strassman'\")\n",
    "                linea2 = linea2.replace(\"\\\"You d\", \"You d\")\n",
    "                linea2 = linea2.replace(\",\\\"This is your\", \",This is your\")\n",
    "                linea2 = linea2.replace(\"35,\\\"P\", \"35,P\")\n",
    "                linea2 = linea2.replace(\"wing,\\\"\", \"wing,\")\n",
    "                linea2 = linea2.replace(\"22,\\\"I\", \"22,I\")\n",
    "                linea2 = linea2.replace(\",\\\"G13\", \",G13\")\n",
    "                linea2 = linea2.replace(\"0,\\\"Pl\", \"0,Pl\")\n",
    "                linea2 = linea2.replace(\"s Sunglasses Replica are 1:1  ...\", \"s Sunglasses Replica are 1:1 ...\\\"\")\n",
    "                linea2 = linea2.replace(\"],,,,\", \"],\")\n",
    "                linea2 = linea2.replace(\",David Icke (\", \",\\\"David Icke (\")\n",
    "                linea2 = linea2.replace(\"r Bud,I\", \"r Bud,\\\"I\")\n",
    "                linea2 = linea2.replace(\"hone,B\", \"hone,\\\"B\")\n",
    "                linea2 = linea2.replace(\"h,I r\", \"h,\\\"I r\")\n",
    "                linea2 = linea2.replace(\".,0.01547\", \".\\\",0.01547\")\n",
    "                linea2 = linea2.replace(\"~5/5,,\", \"~5/5,\")\n",
    "                linea2 = linea2.replace(\".,2.32555\", \".\\\",2.32555\")\n",
    "                linea2 = linea2.replace(\"/5,,\", \"/5,\")\n",
    "                linea2 = linea2.replace(\".,0.130088\", \".\\\",0.130088\")\n",
    "                linea2 = linea2.replace(\"tazepam,\", \"tazepam\\\",\")\n",
    "                linea2 = linea2.replace(\"E,15.8\", \"E\\\",15.8\")\n",
    "                linea2 = linea2.replace(\"Quality\\\"\\\" we've all come to know and love. This MD ...\\\",1\",\n",
    "                                       \"Quality we've all come to know and love. This MD ...,1\")\n",
    "                \n",
    "                # se almacena el texto en el nuevo archivo\n",
    "                linea2 = linea2.encode(\"utf-8\")\n",
    "                nuevoArchivo.write(linea2)\n",
    "            except Exception as e:\n",
    "                print(\"Error con el string\", numero, linea, e)\n",
    "                raise e\n",
    "            finally:\n",
    "                numero += 1\n"
   ]
  },
  {
   "cell_type": "markdown",
   "metadata": {},
   "source": [
    "Cargamos el archivo, esta vez utilizando el nuevo sin errores."
   ]
  },
  {
   "cell_type": "code",
   "execution_count": 8,
   "metadata": {},
   "outputs": [
    {
     "data": {
      "text/html": [
       "<div>\n",
       "<style scoped>\n",
       "    .dataframe tbody tr th:only-of-type {\n",
       "        vertical-align: middle;\n",
       "    }\n",
       "\n",
       "    .dataframe tbody tr th {\n",
       "        vertical-align: top;\n",
       "    }\n",
       "\n",
       "    .dataframe thead th {\n",
       "        text-align: right;\n",
       "    }\n",
       "</style>\n",
       "<table border=\"1\" class=\"dataframe\">\n",
       "  <thead>\n",
       "    <tr style=\"text-align: right;\">\n",
       "      <th></th>\n",
       "      <th>Vendor</th>\n",
       "      <th>Category</th>\n",
       "      <th>Item</th>\n",
       "      <th>Item Description</th>\n",
       "      <th>Price</th>\n",
       "      <th>Origin</th>\n",
       "      <th>Destination</th>\n",
       "      <th>Rating</th>\n",
       "      <th>Remarks</th>\n",
       "    </tr>\n",
       "  </thead>\n",
       "  <tbody>\n",
       "    <tr>\n",
       "      <th>count</th>\n",
       "      <td>110610</td>\n",
       "      <td>110610</td>\n",
       "      <td>110609</td>\n",
       "      <td>110584</td>\n",
       "      <td>110606</td>\n",
       "      <td>100594</td>\n",
       "      <td>61014</td>\n",
       "      <td>110597</td>\n",
       "      <td>12691</td>\n",
       "    </tr>\n",
       "    <tr>\n",
       "      <th>unique</th>\n",
       "      <td>3191</td>\n",
       "      <td>108</td>\n",
       "      <td>108492</td>\n",
       "      <td>69992</td>\n",
       "      <td>103476</td>\n",
       "      <td>401</td>\n",
       "      <td>1202</td>\n",
       "      <td>477</td>\n",
       "      <td>1</td>\n",
       "    </tr>\n",
       "    <tr>\n",
       "      <th>top</th>\n",
       "      <td>optiman</td>\n",
       "      <td>Drugs/Cannabis/Weed</td>\n",
       "      <td>1g MDMA</td>\n",
       "      <td>[----- Terms &amp; Conditions -----]  -YOU MUST RE...</td>\n",
       "      <td>1.0 BTC</td>\n",
       "      <td>USA</td>\n",
       "      <td>USA</td>\n",
       "      <td>5.00/5</td>\n",
       "      <td>Average price may be skewed outliar &gt; .5 BTC f...</td>\n",
       "    </tr>\n",
       "    <tr>\n",
       "      <th>freq</th>\n",
       "      <td>885</td>\n",
       "      <td>21727</td>\n",
       "      <td>18</td>\n",
       "      <td>264</td>\n",
       "      <td>74</td>\n",
       "      <td>34023</td>\n",
       "      <td>14790</td>\n",
       "      <td>19823</td>\n",
       "      <td>12691</td>\n",
       "    </tr>\n",
       "  </tbody>\n",
       "</table>\n",
       "</div>"
      ],
      "text/plain": [
       "         Vendor             Category     Item  \\\n",
       "count    110610               110610   110609   \n",
       "unique     3191                  108   108492   \n",
       "top     optiman  Drugs/Cannabis/Weed  1g MDMA   \n",
       "freq        885                21727       18   \n",
       "\n",
       "                                         Item Description    Price  Origin  \\\n",
       "count                                              110584   110606  100594   \n",
       "unique                                              69992   103476     401   \n",
       "top     [----- Terms & Conditions -----]  -YOU MUST RE...  1.0 BTC     USA   \n",
       "freq                                                  264       74   34023   \n",
       "\n",
       "        Destination  Rating                                            Remarks  \n",
       "count         61014  110597                                              12691  \n",
       "unique         1202     477                                                  1  \n",
       "top             USA  5.00/5  Average price may be skewed outliar > .5 BTC f...  \n",
       "freq          14790   19823                                              12691  "
      ]
     },
     "execution_count": 8,
     "metadata": {},
     "output_type": "execute_result"
    }
   ],
   "source": [
    "df2 = pd.read_csv(\"Agora2.csv\")\n",
    "df2.describe()"
   ]
  },
  {
   "cell_type": "markdown",
   "metadata": {},
   "source": [
    "## Paso 7: Eliminar outliers \n",
    "\n",
    "Los datos outliers son datos que son muy diferentes al resto de los valores. En el caso de este dataset, dichos datos fueron marcados en la columna de Remarks."
   ]
  },
  {
   "cell_type": "code",
   "execution_count": 9,
   "metadata": {},
   "outputs": [
    {
     "data": {
      "text/plain": [
       "array([nan, 'Average price may be skewed outliar > .5 BTC found'],\n",
       "      dtype=object)"
      ]
     },
     "execution_count": 9,
     "metadata": {},
     "output_type": "execute_result"
    }
   ],
   "source": [
    "df2[\" Remarks\"].unique()"
   ]
  },
  {
   "cell_type": "code",
   "execution_count": 10,
   "metadata": {},
   "outputs": [
    {
     "data": {
      "text/html": [
       "<div>\n",
       "<style scoped>\n",
       "    .dataframe tbody tr th:only-of-type {\n",
       "        vertical-align: middle;\n",
       "    }\n",
       "\n",
       "    .dataframe tbody tr th {\n",
       "        vertical-align: top;\n",
       "    }\n",
       "\n",
       "    .dataframe thead th {\n",
       "        text-align: right;\n",
       "    }\n",
       "</style>\n",
       "<table border=\"1\" class=\"dataframe\">\n",
       "  <thead>\n",
       "    <tr style=\"text-align: right;\">\n",
       "      <th></th>\n",
       "      <th>Vendor</th>\n",
       "      <th>Category</th>\n",
       "      <th>Item</th>\n",
       "      <th>Item Description</th>\n",
       "      <th>Price</th>\n",
       "      <th>Origin</th>\n",
       "      <th>Destination</th>\n",
       "      <th>Rating</th>\n",
       "      <th>Remarks</th>\n",
       "    </tr>\n",
       "  </thead>\n",
       "  <tbody>\n",
       "    <tr>\n",
       "      <th>0</th>\n",
       "      <td>CheapPayTV</td>\n",
       "      <td>Services/Hacking</td>\n",
       "      <td>12 Month HuluPlus gift Code</td>\n",
       "      <td>12-Month HuluPlus Codes for $25. They are wort...</td>\n",
       "      <td>0.05027025666666667 BTC</td>\n",
       "      <td>Torland</td>\n",
       "      <td>NaN</td>\n",
       "      <td>4.96/5</td>\n",
       "      <td>NaN</td>\n",
       "    </tr>\n",
       "    <tr>\n",
       "      <th>1</th>\n",
       "      <td>CheapPayTV</td>\n",
       "      <td>Services/Hacking</td>\n",
       "      <td>Pay TV Sky UK  Sky Germany HD TV  and much mor...</td>\n",
       "      <td>Hi we offer a World Wide CCcam  Service for En...</td>\n",
       "      <td>0.152419585 BTC</td>\n",
       "      <td>Torland</td>\n",
       "      <td>NaN</td>\n",
       "      <td>4.96/5</td>\n",
       "      <td>NaN</td>\n",
       "    </tr>\n",
       "    <tr>\n",
       "      <th>2</th>\n",
       "      <td>KryptykOG</td>\n",
       "      <td>Services/Hacking</td>\n",
       "      <td>OFFICIAL Account Creator Extreme 4.2</td>\n",
       "      <td>Tagged Submission Fix Bebo Submission Fix Adju...</td>\n",
       "      <td>0.007000000000000005 BTC</td>\n",
       "      <td>Torland</td>\n",
       "      <td>NaN</td>\n",
       "      <td>4.93/5</td>\n",
       "      <td>NaN</td>\n",
       "    </tr>\n",
       "    <tr>\n",
       "      <th>3</th>\n",
       "      <td>cyberzen</td>\n",
       "      <td>Services/Hacking</td>\n",
       "      <td>VPN &gt; TOR &gt; SOCK TUTORIAL</td>\n",
       "      <td>How to setup a VPN &gt; TOR &gt; SOCK super safe enc...</td>\n",
       "      <td>0.019016783532494728 BTC</td>\n",
       "      <td>NaN</td>\n",
       "      <td>NaN</td>\n",
       "      <td>4.89/5</td>\n",
       "      <td>NaN</td>\n",
       "    </tr>\n",
       "    <tr>\n",
       "      <th>4</th>\n",
       "      <td>businessdude</td>\n",
       "      <td>Services/Hacking</td>\n",
       "      <td>Facebook hacking guide</td>\n",
       "      <td>.  This guide will teach you how to hack Faceb...</td>\n",
       "      <td>0.062018073963963936 BTC</td>\n",
       "      <td>Torland</td>\n",
       "      <td>NaN</td>\n",
       "      <td>4.88/5</td>\n",
       "      <td>NaN</td>\n",
       "    </tr>\n",
       "    <tr>\n",
       "      <th>...</th>\n",
       "      <td>...</td>\n",
       "      <td>...</td>\n",
       "      <td>...</td>\n",
       "      <td>...</td>\n",
       "      <td>...</td>\n",
       "      <td>...</td>\n",
       "      <td>...</td>\n",
       "      <td>...</td>\n",
       "      <td>...</td>\n",
       "    </tr>\n",
       "    <tr>\n",
       "      <th>110605</th>\n",
       "      <td>gonz324</td>\n",
       "      <td>Drugs/Opioids/Opium</td>\n",
       "      <td>1 gr purified Opium</td>\n",
       "      <td>This Listing is for a gramm of redefined Opium...</td>\n",
       "      <td>0.14363729 BTC</td>\n",
       "      <td>Germany</td>\n",
       "      <td>NaN</td>\n",
       "      <td>4.91/5</td>\n",
       "      <td>NaN</td>\n",
       "    </tr>\n",
       "    <tr>\n",
       "      <th>110606</th>\n",
       "      <td>cheqdropz</td>\n",
       "      <td>Weapons/Fireworks</td>\n",
       "      <td>Shipping Ticket</td>\n",
       "      <td>in order for me to ship one of the guns you bo...</td>\n",
       "      <td>0.08680555 BTC</td>\n",
       "      <td>USA</td>\n",
       "      <td>NaN</td>\n",
       "      <td>[0 deals]</td>\n",
       "      <td>NaN</td>\n",
       "    </tr>\n",
       "    <tr>\n",
       "      <th>110607</th>\n",
       "      <td>SnowQueen</td>\n",
       "      <td>Drugs/Opioids/Opium</td>\n",
       "      <td>0.50 GRAMS #4  White Afghani Heroin - FULL ESCROW</td>\n",
       "      <td>0.50 grams #4 White Afghani Heroin   SnowQueen...</td>\n",
       "      <td>0.33641201 BTC</td>\n",
       "      <td>Canada</td>\n",
       "      <td>Worldwide</td>\n",
       "      <td>[0 deals]</td>\n",
       "      <td>NaN</td>\n",
       "    </tr>\n",
       "    <tr>\n",
       "      <th>110608</th>\n",
       "      <td>SnowQueen</td>\n",
       "      <td>Drugs/Opioids/Opium</td>\n",
       "      <td>1.0 GRAMS #4 White Afghani Heroin - FULL ESCROW</td>\n",
       "      <td>1.0 grams #4 White Afghani Heroin   SnowQueen ...</td>\n",
       "      <td>0.61165820 BTC</td>\n",
       "      <td>Canada</td>\n",
       "      <td>Worldwide</td>\n",
       "      <td>[0 deals]</td>\n",
       "      <td>NaN</td>\n",
       "    </tr>\n",
       "    <tr>\n",
       "      <th>110609</th>\n",
       "      <td>daydreamer</td>\n",
       "      <td>Drugs/Opioids/Opium</td>\n",
       "      <td>HEROIN STAMP BAG (10pcs) BUNDLE</td>\n",
       "      <td>HEROIN  STAMP BAG (10pcs) BUNDLE    BEST AVAIL...</td>\n",
       "      <td>0.25491129 BTC</td>\n",
       "      <td>USA</td>\n",
       "      <td>NaN</td>\n",
       "      <td>4.87/5</td>\n",
       "      <td>NaN</td>\n",
       "    </tr>\n",
       "  </tbody>\n",
       "</table>\n",
       "<p>97919 rows × 9 columns</p>\n",
       "</div>"
      ],
      "text/plain": [
       "              Vendor             Category  \\\n",
       "0         CheapPayTV     Services/Hacking   \n",
       "1         CheapPayTV     Services/Hacking   \n",
       "2          KryptykOG     Services/Hacking   \n",
       "3           cyberzen     Services/Hacking   \n",
       "4       businessdude     Services/Hacking   \n",
       "...              ...                  ...   \n",
       "110605       gonz324  Drugs/Opioids/Opium   \n",
       "110606     cheqdropz    Weapons/Fireworks   \n",
       "110607     SnowQueen  Drugs/Opioids/Opium   \n",
       "110608     SnowQueen  Drugs/Opioids/Opium   \n",
       "110609    daydreamer  Drugs/Opioids/Opium   \n",
       "\n",
       "                                                     Item  \\\n",
       "0                             12 Month HuluPlus gift Code   \n",
       "1       Pay TV Sky UK  Sky Germany HD TV  and much mor...   \n",
       "2                    OFFICIAL Account Creator Extreme 4.2   \n",
       "3                               VPN > TOR > SOCK TUTORIAL   \n",
       "4                                  Facebook hacking guide   \n",
       "...                                                   ...   \n",
       "110605                                1 gr purified Opium   \n",
       "110606                                    Shipping Ticket   \n",
       "110607  0.50 GRAMS #4  White Afghani Heroin - FULL ESCROW   \n",
       "110608    1.0 GRAMS #4 White Afghani Heroin - FULL ESCROW   \n",
       "110609                    HEROIN STAMP BAG (10pcs) BUNDLE   \n",
       "\n",
       "                                         Item Description  \\\n",
       "0       12-Month HuluPlus Codes for $25. They are wort...   \n",
       "1       Hi we offer a World Wide CCcam  Service for En...   \n",
       "2       Tagged Submission Fix Bebo Submission Fix Adju...   \n",
       "3       How to setup a VPN > TOR > SOCK super safe enc...   \n",
       "4       .  This guide will teach you how to hack Faceb...   \n",
       "...                                                   ...   \n",
       "110605  This Listing is for a gramm of redefined Opium...   \n",
       "110606  in order for me to ship one of the guns you bo...   \n",
       "110607  0.50 grams #4 White Afghani Heroin   SnowQueen...   \n",
       "110608  1.0 grams #4 White Afghani Heroin   SnowQueen ...   \n",
       "110609  HEROIN  STAMP BAG (10pcs) BUNDLE    BEST AVAIL...   \n",
       "\n",
       "                           Price   Origin  Destination     Rating  Remarks  \n",
       "0        0.05027025666666667 BTC  Torland          NaN     4.96/5      NaN  \n",
       "1                0.152419585 BTC  Torland          NaN     4.96/5      NaN  \n",
       "2       0.007000000000000005 BTC  Torland          NaN     4.93/5      NaN  \n",
       "3       0.019016783532494728 BTC      NaN          NaN     4.89/5      NaN  \n",
       "4       0.062018073963963936 BTC  Torland          NaN     4.88/5      NaN  \n",
       "...                          ...      ...          ...        ...      ...  \n",
       "110605            0.14363729 BTC  Germany          NaN     4.91/5      NaN  \n",
       "110606            0.08680555 BTC      USA          NaN  [0 deals]      NaN  \n",
       "110607            0.33641201 BTC   Canada    Worldwide  [0 deals]      NaN  \n",
       "110608            0.61165820 BTC   Canada    Worldwide  [0 deals]      NaN  \n",
       "110609            0.25491129 BTC      USA          NaN     4.87/5      NaN  \n",
       "\n",
       "[97919 rows x 9 columns]"
      ]
     },
     "execution_count": 10,
     "metadata": {},
     "output_type": "execute_result"
    }
   ],
   "source": [
    "df2 = df2[df2[\" Remarks\"] != \"Average price may be skewed outliar > .5 BTC found\"]\n",
    "df2"
   ]
  },
  {
   "cell_type": "markdown",
   "metadata": {},
   "source": [
    "\n",
    "## Paso 8: Eliminar columnas no relevantes\n",
    "\n",
    "Una vez leído el archivo, se puede proceder a eliminar las columnas que no nos aportan ninguna información relevante, ya sea porque están completamente vacías o porque realmente no es requerida para la información que se desea visualizar. Para esto, podríamos usar el método **dropna(axis=1, how='all')**. Sin embargo, este dataset no tiene columnas sin datos.\n",
    "\n",
    "Entonces mejor usamos **drop([\"nombre_columna\"], axis=1)** para eliminar la columna de _Remarks_ dado que no aporta información relevante."
   ]
  },
  {
   "cell_type": "code",
   "execution_count": 11,
   "metadata": {},
   "outputs": [
    {
     "data": {
      "text/html": [
       "<div>\n",
       "<style scoped>\n",
       "    .dataframe tbody tr th:only-of-type {\n",
       "        vertical-align: middle;\n",
       "    }\n",
       "\n",
       "    .dataframe tbody tr th {\n",
       "        vertical-align: top;\n",
       "    }\n",
       "\n",
       "    .dataframe thead th {\n",
       "        text-align: right;\n",
       "    }\n",
       "</style>\n",
       "<table border=\"1\" class=\"dataframe\">\n",
       "  <thead>\n",
       "    <tr style=\"text-align: right;\">\n",
       "      <th></th>\n",
       "      <th>Vendor</th>\n",
       "      <th>Category</th>\n",
       "      <th>Item</th>\n",
       "      <th>Price</th>\n",
       "      <th>Rating</th>\n",
       "    </tr>\n",
       "  </thead>\n",
       "  <tbody>\n",
       "    <tr>\n",
       "      <th>0</th>\n",
       "      <td>CheapPayTV</td>\n",
       "      <td>Services/Hacking</td>\n",
       "      <td>12 Month HuluPlus gift Code</td>\n",
       "      <td>0.05027025666666667 BTC</td>\n",
       "      <td>4.96/5</td>\n",
       "    </tr>\n",
       "    <tr>\n",
       "      <th>1</th>\n",
       "      <td>CheapPayTV</td>\n",
       "      <td>Services/Hacking</td>\n",
       "      <td>Pay TV Sky UK  Sky Germany HD TV  and much mor...</td>\n",
       "      <td>0.152419585 BTC</td>\n",
       "      <td>4.96/5</td>\n",
       "    </tr>\n",
       "    <tr>\n",
       "      <th>2</th>\n",
       "      <td>KryptykOG</td>\n",
       "      <td>Services/Hacking</td>\n",
       "      <td>OFFICIAL Account Creator Extreme 4.2</td>\n",
       "      <td>0.007000000000000005 BTC</td>\n",
       "      <td>4.93/5</td>\n",
       "    </tr>\n",
       "    <tr>\n",
       "      <th>3</th>\n",
       "      <td>cyberzen</td>\n",
       "      <td>Services/Hacking</td>\n",
       "      <td>VPN &gt; TOR &gt; SOCK TUTORIAL</td>\n",
       "      <td>0.019016783532494728 BTC</td>\n",
       "      <td>4.89/5</td>\n",
       "    </tr>\n",
       "    <tr>\n",
       "      <th>4</th>\n",
       "      <td>businessdude</td>\n",
       "      <td>Services/Hacking</td>\n",
       "      <td>Facebook hacking guide</td>\n",
       "      <td>0.062018073963963936 BTC</td>\n",
       "      <td>4.88/5</td>\n",
       "    </tr>\n",
       "  </tbody>\n",
       "</table>\n",
       "</div>"
      ],
      "text/plain": [
       "         Vendor          Category  \\\n",
       "0    CheapPayTV  Services/Hacking   \n",
       "1    CheapPayTV  Services/Hacking   \n",
       "2     KryptykOG  Services/Hacking   \n",
       "3      cyberzen  Services/Hacking   \n",
       "4  businessdude  Services/Hacking   \n",
       "\n",
       "                                                Item  \\\n",
       "0                        12 Month HuluPlus gift Code   \n",
       "1  Pay TV Sky UK  Sky Germany HD TV  and much mor...   \n",
       "2               OFFICIAL Account Creator Extreme 4.2   \n",
       "3                          VPN > TOR > SOCK TUTORIAL   \n",
       "4                             Facebook hacking guide   \n",
       "\n",
       "                      Price  Rating  \n",
       "0   0.05027025666666667 BTC  4.96/5  \n",
       "1           0.152419585 BTC  4.96/5  \n",
       "2  0.007000000000000005 BTC  4.93/5  \n",
       "3  0.019016783532494728 BTC  4.89/5  \n",
       "4  0.062018073963963936 BTC  4.88/5  "
      ]
     },
     "execution_count": 11,
     "metadata": {},
     "output_type": "execute_result"
    }
   ],
   "source": [
    "df2 = df2.drop([\" Remarks\", \" Item Description\", \" Origin\", \" Destination\"], axis=1)\n",
    "df2.head()"
   ]
  },
  {
   "cell_type": "markdown",
   "metadata": {},
   "source": [
    "## Paso 8: Trabajando con categorías\n",
    "\n",
    "Consideramos que solo vamos a utilizar la segunda jerarquía de categorías.  Así, si la categoría original es _Info/eBooks/Economy_  entonces vamos a trabajar solo con eBooks.  Si no hay subcategorías, entonces se deja intacto el valor original.\n",
    "\n",
    "Si hubiese cuatro subcategorías, entonces dejar las dos de el medio, como en el caso de _Drugs/Cannabis/Shake/trim_ quedaría como _Cannabis/Shake_\n",
    "\n",
    "Además una vez realizado esto se eliminarán las filas cuya categoría sea errónea o extraña ejemplo: 0.12780125125 BTC."
   ]
  },
  {
   "cell_type": "code",
   "execution_count": 12,
   "metadata": {},
   "outputs": [
    {
     "data": {
      "text/plain": [
       "array(['Services/Hacking', 'Services/Other', 'Drugs/RCs',\n",
       "       'Forgeries/Physical documents', 'Tobacco/Smoked', 'Services/Money',\n",
       "       'Counterfeits/Money', 'Data/Software', 'Data/Accounts',\n",
       "       'Counterfeits/Clothing', 'Information/eBooks', 'Electronics',\n",
       "       'Drug paraphernalia/Pipes', 'Drugs/Weight loss', 'Data/Pirated',\n",
       "       'Drugs/Steroids', 'Drugs/Prescription', 'Information/Guides',\n",
       "       'Forgeries/Scans/Photos', 'Other', 'Jewelry', 'Drugs/Other',\n",
       "       'Counterfeits/Accessories', 'Counterfeits/Watches',\n",
       "       'Drugs/Cannabis/Weed', 'Drugs/Benzos',\n",
       "       'the Body Bags  shotty  and Mac make-up To: Kind Hearts and Gentle People',\n",
       "       'Drugs/Cannabis/Shake/trim', 'Drugs/Cannabis/Synthetics',\n",
       "       'Drugs/Cannabis/Concentrates', 'Drugs/Cannabis/Seeds',\n",
       "       'Drugs/Cannabis/Hash', 'Drugs/Dissociatives/MXE',\n",
       "       'Drugs/Dissociatives/Ketamine', 'Drugs/Cannabis/Edibles',\n",
       "       'Drugs/Ecstasy/Pills', 'Drugs/Ecstasy/Other',\n",
       "       'Drugs/Stimulants/Meth', 'Drugs/Psychedelics/LSD',\n",
       "       'Drugs/Stimulants/Speed', 'Drugs/Dissociatives/GHB',\n",
       "       'Drugs/Stimulants/Cocaine', 'Drugs/Psychedelics/NB',\n",
       "       'Drugs/Psychedelics/Mushrooms', 'Drugs/Ecstasy/MDMA',\n",
       "       'Drugs/Psychedelics/DMT', 'Weapons/Lethal firearms',\n",
       "       'Drugs/Stimulants/Prescription', 'Drugs/Ecstasy/MDA',\n",
       "       'Drugs/Psychedelics/Others', 'Drugs/Psychedelics/Mescaline',\n",
       "       'Drugs/Psychedelics/2C', 'Drugs/Opioids', 'Info/eBooks/Anonymity',\n",
       "       'Info/eBooks/Relationships/Sex', 'Drug paraphernalia/Stashes',\n",
       "       'Info/eBooks/Economy', 'Services/Advertising',\n",
       "       'Info/eBooks/Politics', 'Drugs/Opioids/Morphine',\n",
       "       'Drugs/Opioids/Other', 'Drugs/Opioids/Heroin',\n",
       "       'Info/eBooks/Science', 'Weapons/Melee', 'Info/eBooks/Other',\n",
       "       'Info/eBooks/Drugs', 'Drugs/Opioids/Fentanyl',\n",
       "       'Drugs/Opioids/Oxycodone', 'Drugs/Psychedelics/5-MeO',\n",
       "       'Drugs/Opioids/Buprenorphine', 'Drug paraphernalia/Containers',\n",
       "       'Drugs/Psychedelics/Other', 'Info/eBooks/Doomsday',\n",
       "       'Info/eBooks/IT', 'Info/eBooks/Psychology',\n",
       "       'Info/eBooks/Making money', 'Weapons/Non-lethal firearms',\n",
       "       'Tobacco/Paraphernalia', 'Forgeries/Other', 'Weapons/Ammunition',\n",
       "       'home of the Body Bags  shotty  and mag  Kind Hearts and Gentle People',\n",
       "       'Forgeries', 'Chemicals', 'Drugs/Psychedelics/Spores',\n",
       "       'Drugs/Opioids/Hydrocodone', 'Info/eBooks/Philosophy',\n",
       "       'Drugs/Dissociatives/Other', '0.12780125125 BTC',\n",
       "       'Drugs/Opioids/Codeine', 'Drug paraphernalia/Grinders',\n",
       "       'Info/eBooks/Aliens/UFOs', 'Drug paraphernalia/Paper',\n",
       "       'Services/Travel', 'Drugs/Opioids/Dihydrocodeine',\n",
       "       'Drugs/Stimulants/Mephedrone',\n",
       "       'the Body Bags  shotty  and mag To: Kind Hearts and Gentle People',\n",
       "       'Drugs/Dissociatives/GBL', 'Counterfeits/Electronics',\n",
       "       'Drug paraphernalia/Injecting equipment/Syringes',\n",
       "       'Drugs/Opioids/Opium',\n",
       "       'Drug paraphernalia/Injecting equipment/Other',\n",
       "       'Drugs/Psychedelics/Salvia', 'Drugs/Barbiturates',\n",
       "       'Weapons/Fireworks', 'Drug paraphernalia/Scales',\n",
       "       'Drug paraphernalia/Injecting equipment/Filters',\n",
       "       'Drug paraphernalia/Injecting equipment/Needles',\n",
       "       'Drugs/Dissociatives/PCP'], dtype=object)"
      ]
     },
     "execution_count": 12,
     "metadata": {},
     "output_type": "execute_result"
    }
   ],
   "source": [
    "df2[\" Category\"].unique()"
   ]
  },
  {
   "cell_type": "code",
   "execution_count": 13,
   "metadata": {},
   "outputs": [],
   "source": [
    "def soloCategoria(cat):\n",
    "    posInicio = cat.find(\"/\")\n",
    "    if posInicio == -1:\n",
    "        return cat\n",
    "    \n",
    "    posFin = cat.rindex(\"/\")\n",
    "    if posInicio == posFin:\n",
    "        return cat[posInicio+1:]\n",
    "    return cat[posInicio+1:posFin]"
   ]
  },
  {
   "cell_type": "code",
   "execution_count": 14,
   "metadata": {},
   "outputs": [
    {
     "data": {
      "text/plain": [
       "array(['Hacking', 'Other', 'RCs', 'Physical documents', 'Smoked', 'Money',\n",
       "       'Software', 'Accounts', 'Clothing', 'eBooks', 'Electronics',\n",
       "       'Pipes', 'Weight loss', 'Pirated', 'Steroids', 'Prescription',\n",
       "       'Guides', 'Scans', 'Jewelry', 'Accessories', 'Watches', 'Cannabis',\n",
       "       'Benzos',\n",
       "       'the Body Bags  shotty  and Mac make-up To: Kind Hearts and Gentle People',\n",
       "       'Cannabis/Shake', 'Dissociatives', 'Ecstasy', 'Stimulants',\n",
       "       'Psychedelics', 'Lethal firearms', 'Opioids',\n",
       "       'eBooks/Relationships', 'Stashes', 'Advertising', 'Melee',\n",
       "       'Containers', 'Non-lethal firearms', 'Paraphernalia', 'Ammunition',\n",
       "       'home of the Body Bags  shotty  and mag  Kind Hearts and Gentle People',\n",
       "       'Forgeries', 'Chemicals', '0.12780125125 BTC', 'Grinders',\n",
       "       'eBooks/Aliens', 'Paper', 'Travel',\n",
       "       'the Body Bags  shotty  and mag To: Kind Hearts and Gentle People',\n",
       "       'Injecting equipment', 'Barbiturates', 'Fireworks', 'Scales'],\n",
       "      dtype=object)"
      ]
     },
     "execution_count": 14,
     "metadata": {},
     "output_type": "execute_result"
    }
   ],
   "source": [
    "df2[\" Category\"] = df2[ \" Category\" ].apply(soloCategoria)\n",
    "df2[\" Category\"].unique()"
   ]
  },
  {
   "cell_type": "code",
   "execution_count": 15,
   "metadata": {},
   "outputs": [
    {
     "data": {
      "text/plain": [
       "array(['Hacking', 'Other', 'RCs', 'Physical documents', 'Smoked', 'Money',\n",
       "       'Software', 'Accounts', 'Clothing', 'eBooks', 'Electronics',\n",
       "       'Pipes', 'Weight loss', 'Pirated', 'Steroids', 'Prescription',\n",
       "       'Guides', 'Scans', 'Jewelry', 'Accessories', 'Watches', 'Cannabis',\n",
       "       'Benzos',\n",
       "       'the Body Bags  shotty  and Mac make-up To: Kind Hearts and Gentle People',\n",
       "       'Cannabis/Shake', 'Dissociatives', 'Ecstasy', 'Stimulants',\n",
       "       'Psychedelics', 'Lethal firearms', 'Opioids',\n",
       "       'eBooks/Relationships', 'Stashes', 'Advertising', 'Melee',\n",
       "       'Containers', 'Non-lethal firearms', 'Paraphernalia', 'Ammunition',\n",
       "       'home of the Body Bags  shotty  and mag  Kind Hearts and Gentle People',\n",
       "       'Forgeries', 'Chemicals', 'Grinders', 'eBooks/Aliens', 'Paper',\n",
       "       'Travel',\n",
       "       'the Body Bags  shotty  and mag To: Kind Hearts and Gentle People',\n",
       "       'Injecting equipment', 'Barbiturates', 'Fireworks', 'Scales'],\n",
       "      dtype=object)"
      ]
     },
     "execution_count": 15,
     "metadata": {},
     "output_type": "execute_result"
    }
   ],
   "source": [
    "df2=df2[df2[\" Category\"] != \"0.12780125125 BTC\"]\n",
    "df2[\" Category\"].unique()"
   ]
  },
  {
   "cell_type": "markdown",
   "metadata": {},
   "source": [
    "\n",
    "## Paso 9: Trabajando con tipos de datos\n",
    "\n",
    "Una vez eliminadas las columnas no deseadas, como paso final de la limpieza es el trabajar columnas y/o filas que tengan elementos no necesarios, como por ejemplo eliminar los datos no numéricos en columnas numéricas, también se pueden reemplazar algunos datos para pasarlos a un criterio numérico y así trabajarlos de una manera más sencilla, o cualquier tipo de arreglo necesario para el procesamiento del dato.\n",
    "\n",
    "Para nuestro caso, se eliminarán los datos erróneos dejando dichos con NaN y de acuerdo al resultado, utilizaremos en una columna la eliminación de filas con datos nulos o innecesarios, y en otra columna se rellenarán los datos con la mediana.\n",
    "\n",
    "Para cualquier caso, antes de aplicar cualquier rellenado se debe verificar si el criterio a usar sea el correcto, por ejemplo se pueden eliminar las filas con outlier.\n",
    "\n",
    "Las columnas de _Price_ y _Rating_ se pueden convertir a datos numéricos."
   ]
  },
  {
   "cell_type": "code",
   "execution_count": 16,
   "metadata": {},
   "outputs": [],
   "source": [
    "df2[\" Price\"] = df2[\" Price\"].str.replace(' BTC' , '')\n",
    "df2[\" Rating\"] = df2[\" Rating\"].str.replace('/5' , '')"
   ]
  },
  {
   "cell_type": "code",
   "execution_count": 17,
   "metadata": {},
   "outputs": [
    {
     "data": {
      "text/html": [
       "<div>\n",
       "<style scoped>\n",
       "    .dataframe tbody tr th:only-of-type {\n",
       "        vertical-align: middle;\n",
       "    }\n",
       "\n",
       "    .dataframe tbody tr th {\n",
       "        vertical-align: top;\n",
       "    }\n",
       "\n",
       "    .dataframe thead th {\n",
       "        text-align: right;\n",
       "    }\n",
       "</style>\n",
       "<table border=\"1\" class=\"dataframe\">\n",
       "  <thead>\n",
       "    <tr style=\"text-align: right;\">\n",
       "      <th></th>\n",
       "      <th>Vendor</th>\n",
       "      <th>Category</th>\n",
       "      <th>Item</th>\n",
       "      <th>Price</th>\n",
       "      <th>Rating</th>\n",
       "    </tr>\n",
       "  </thead>\n",
       "  <tbody>\n",
       "    <tr>\n",
       "      <th>0</th>\n",
       "      <td>CheapPayTV</td>\n",
       "      <td>Hacking</td>\n",
       "      <td>12 Month HuluPlus gift Code</td>\n",
       "      <td>0.050270</td>\n",
       "      <td>4.96</td>\n",
       "    </tr>\n",
       "    <tr>\n",
       "      <th>1</th>\n",
       "      <td>CheapPayTV</td>\n",
       "      <td>Hacking</td>\n",
       "      <td>Pay TV Sky UK  Sky Germany HD TV  and much mor...</td>\n",
       "      <td>0.152420</td>\n",
       "      <td>4.96</td>\n",
       "    </tr>\n",
       "    <tr>\n",
       "      <th>2</th>\n",
       "      <td>KryptykOG</td>\n",
       "      <td>Hacking</td>\n",
       "      <td>OFFICIAL Account Creator Extreme 4.2</td>\n",
       "      <td>0.007000</td>\n",
       "      <td>4.93</td>\n",
       "    </tr>\n",
       "    <tr>\n",
       "      <th>3</th>\n",
       "      <td>cyberzen</td>\n",
       "      <td>Hacking</td>\n",
       "      <td>VPN &gt; TOR &gt; SOCK TUTORIAL</td>\n",
       "      <td>0.019017</td>\n",
       "      <td>4.89</td>\n",
       "    </tr>\n",
       "    <tr>\n",
       "      <th>4</th>\n",
       "      <td>businessdude</td>\n",
       "      <td>Hacking</td>\n",
       "      <td>Facebook hacking guide</td>\n",
       "      <td>0.062018</td>\n",
       "      <td>4.88</td>\n",
       "    </tr>\n",
       "  </tbody>\n",
       "</table>\n",
       "</div>"
      ],
      "text/plain": [
       "         Vendor  Category                                               Item  \\\n",
       "0    CheapPayTV   Hacking                        12 Month HuluPlus gift Code   \n",
       "1    CheapPayTV   Hacking  Pay TV Sky UK  Sky Germany HD TV  and much mor...   \n",
       "2     KryptykOG   Hacking               OFFICIAL Account Creator Extreme 4.2   \n",
       "3      cyberzen   Hacking                          VPN > TOR > SOCK TUTORIAL   \n",
       "4  businessdude   Hacking                             Facebook hacking guide   \n",
       "\n",
       "      Price   Rating  \n",
       "0  0.050270     4.96  \n",
       "1  0.152420     4.96  \n",
       "2  0.007000     4.93  \n",
       "3  0.019017     4.89  \n",
       "4  0.062018     4.88  "
      ]
     },
     "execution_count": 17,
     "metadata": {},
     "output_type": "execute_result"
    }
   ],
   "source": [
    "df2[\" Price\"] =pd.to_numeric(df2[\" Price\"], errors ='coerce')\n",
    "df2[\" Rating\"] =pd.to_numeric(df2[\" Rating\"], errors ='coerce')\n",
    "df2.head()"
   ]
  },
  {
   "cell_type": "markdown",
   "metadata": {},
   "source": [
    "Se remueven outliers númericos una vez convertidos los datos."
   ]
  },
  {
   "cell_type": "code",
   "execution_count": 18,
   "metadata": {},
   "outputs": [],
   "source": [
    "df2=df2[df2[\" Price\"] <= 5]"
   ]
  },
  {
   "cell_type": "markdown",
   "metadata": {},
   "source": [
    "Y, como lo mencionado antes, se pueden rellenar los faltantes con la mediana o la media."
   ]
  },
  {
   "cell_type": "code",
   "execution_count": 19,
   "metadata": {},
   "outputs": [
    {
     "data": {
      "text/html": [
       "<div>\n",
       "<style scoped>\n",
       "    .dataframe tbody tr th:only-of-type {\n",
       "        vertical-align: middle;\n",
       "    }\n",
       "\n",
       "    .dataframe tbody tr th {\n",
       "        vertical-align: top;\n",
       "    }\n",
       "\n",
       "    .dataframe thead th {\n",
       "        text-align: right;\n",
       "    }\n",
       "</style>\n",
       "<table border=\"1\" class=\"dataframe\">\n",
       "  <thead>\n",
       "    <tr style=\"text-align: right;\">\n",
       "      <th></th>\n",
       "      <th>Vendor</th>\n",
       "      <th>Category</th>\n",
       "      <th>Item</th>\n",
       "      <th>Price</th>\n",
       "      <th>Rating</th>\n",
       "    </tr>\n",
       "  </thead>\n",
       "  <tbody>\n",
       "    <tr>\n",
       "      <th>0</th>\n",
       "      <td>CheapPayTV</td>\n",
       "      <td>Hacking</td>\n",
       "      <td>12 Month HuluPlus gift Code</td>\n",
       "      <td>0.0503</td>\n",
       "      <td>4.96</td>\n",
       "    </tr>\n",
       "    <tr>\n",
       "      <th>1</th>\n",
       "      <td>CheapPayTV</td>\n",
       "      <td>Hacking</td>\n",
       "      <td>Pay TV Sky UK  Sky Germany HD TV  and much mor...</td>\n",
       "      <td>0.1524</td>\n",
       "      <td>4.96</td>\n",
       "    </tr>\n",
       "    <tr>\n",
       "      <th>2</th>\n",
       "      <td>KryptykOG</td>\n",
       "      <td>Hacking</td>\n",
       "      <td>OFFICIAL Account Creator Extreme 4.2</td>\n",
       "      <td>0.0070</td>\n",
       "      <td>4.93</td>\n",
       "    </tr>\n",
       "    <tr>\n",
       "      <th>3</th>\n",
       "      <td>cyberzen</td>\n",
       "      <td>Hacking</td>\n",
       "      <td>VPN &gt; TOR &gt; SOCK TUTORIAL</td>\n",
       "      <td>0.0190</td>\n",
       "      <td>4.89</td>\n",
       "    </tr>\n",
       "    <tr>\n",
       "      <th>4</th>\n",
       "      <td>businessdude</td>\n",
       "      <td>Hacking</td>\n",
       "      <td>Facebook hacking guide</td>\n",
       "      <td>0.0620</td>\n",
       "      <td>4.88</td>\n",
       "    </tr>\n",
       "  </tbody>\n",
       "</table>\n",
       "</div>"
      ],
      "text/plain": [
       "         Vendor  Category                                               Item  \\\n",
       "0    CheapPayTV   Hacking                        12 Month HuluPlus gift Code   \n",
       "1    CheapPayTV   Hacking  Pay TV Sky UK  Sky Germany HD TV  and much mor...   \n",
       "2     KryptykOG   Hacking               OFFICIAL Account Creator Extreme 4.2   \n",
       "3      cyberzen   Hacking                          VPN > TOR > SOCK TUTORIAL   \n",
       "4  businessdude   Hacking                             Facebook hacking guide   \n",
       "\n",
       "    Price   Rating  \n",
       "0  0.0503     4.96  \n",
       "1  0.1524     4.96  \n",
       "2  0.0070     4.93  \n",
       "3  0.0190     4.89  \n",
       "4  0.0620     4.88  "
      ]
     },
     "execution_count": 19,
     "metadata": {},
     "output_type": "execute_result"
    }
   ],
   "source": [
    "\n",
    "df2.fillna(df2[\" Price\"].median(), inplace = True)\n",
    "df2.fillna(df2[\" Rating\"].median(), inplace = True)\n",
    "df2 = df2.round({\" Rating\": 2, \" Price\": 4})\n",
    "df2.head()"
   ]
  },
  {
   "cell_type": "code",
   "execution_count": 20,
   "metadata": {},
   "outputs": [
    {
     "data": {
      "text/html": [
       "<div>\n",
       "<style scoped>\n",
       "    .dataframe tbody tr th:only-of-type {\n",
       "        vertical-align: middle;\n",
       "    }\n",
       "\n",
       "    .dataframe tbody tr th {\n",
       "        vertical-align: top;\n",
       "    }\n",
       "\n",
       "    .dataframe thead th {\n",
       "        text-align: right;\n",
       "    }\n",
       "</style>\n",
       "<table border=\"1\" class=\"dataframe\">\n",
       "  <thead>\n",
       "    <tr style=\"text-align: right;\">\n",
       "      <th></th>\n",
       "      <th>Price</th>\n",
       "      <th>Rating</th>\n",
       "    </tr>\n",
       "  </thead>\n",
       "  <tbody>\n",
       "    <tr>\n",
       "      <th>count</th>\n",
       "      <td>94554.000000</td>\n",
       "      <td>94554.000000</td>\n",
       "    </tr>\n",
       "    <tr>\n",
       "      <th>mean</th>\n",
       "      <td>0.614878</td>\n",
       "      <td>3.851146</td>\n",
       "    </tr>\n",
       "    <tr>\n",
       "      <th>std</th>\n",
       "      <td>0.857590</td>\n",
       "      <td>1.947176</td>\n",
       "    </tr>\n",
       "    <tr>\n",
       "      <th>min</th>\n",
       "      <td>0.000000</td>\n",
       "      <td>0.120000</td>\n",
       "    </tr>\n",
       "    <tr>\n",
       "      <th>25%</th>\n",
       "      <td>0.099700</td>\n",
       "      <td>4.540000</td>\n",
       "    </tr>\n",
       "    <tr>\n",
       "      <th>50%</th>\n",
       "      <td>0.280600</td>\n",
       "      <td>4.920000</td>\n",
       "    </tr>\n",
       "    <tr>\n",
       "      <th>75%</th>\n",
       "      <td>0.730875</td>\n",
       "      <td>4.990000</td>\n",
       "    </tr>\n",
       "    <tr>\n",
       "      <th>max</th>\n",
       "      <td>5.000000</td>\n",
       "      <td>5.000000</td>\n",
       "    </tr>\n",
       "  </tbody>\n",
       "</table>\n",
       "</div>"
      ],
      "text/plain": [
       "              Price        Rating\n",
       "count  94554.000000  94554.000000\n",
       "mean       0.614878      3.851146\n",
       "std        0.857590      1.947176\n",
       "min        0.000000      0.120000\n",
       "25%        0.099700      4.540000\n",
       "50%        0.280600      4.920000\n",
       "75%        0.730875      4.990000\n",
       "max        5.000000      5.000000"
      ]
     },
     "execution_count": 20,
     "metadata": {},
     "output_type": "execute_result"
    }
   ],
   "source": [
    "df2.describe()"
   ]
  },
  {
   "cell_type": "markdown",
   "metadata": {},
   "source": [
    "\n",
    "## Paso 10\n",
    "\n",
    "Por último, con los datos pre-procesados procederemos a visualizarlos de una manera gráfica, para ello lo primero a realizar es cargar las librerías de gráficado, tales como matplotlib y/o seaborn. \n",
    "\n",
    "Una vez cargadas se pueden mostrar algunos datos específicos, o usar gráficos generales como el pairplot de seaborn.\n",
    "\n",
    "Para nuestro ejemplo mostraremos el pairplot, heatmap, KDE plots, Histograma y ."
   ]
  },
  {
   "cell_type": "code",
   "execution_count": 21,
   "metadata": {},
   "outputs": [],
   "source": [
    "from matplotlib import pyplot as plt\n",
    "import seaborn as sns\n",
    "%matplotlib inline"
   ]
  },
  {
   "cell_type": "markdown",
   "metadata": {},
   "source": [
    "\n",
    "**KDE plots (Kernel Density Estimation plots)**\n",
    "\n",
    "Genera mejores representaciones de distribuciones de datos que un histograma al suavizar la forma de los datos, pero no aporta información estadística.\n",
    "\n",
    "Tomado de https://medium.com/ironhack/data-visualization-con-pandas-y-seaborn-1044906af34f."
   ]
  },
  {
   "cell_type": "code",
   "execution_count": 22,
   "metadata": {},
   "outputs": [
    {
     "data": {
      "image/png": "[encoded data removed]",
      "text/plain": [
       "<Figure size 432x288 with 1 Axes>"
      ]
     },
     "metadata": {
      "needs_background": "light"
     },
     "output_type": "display_data"
    }
   ],
   "source": [
    "\n",
    "plt.figure()\n",
    "sns.kdeplot(data=df2[\" Rating\"], shade=True)\n",
    "plt.show()"
   ]
  },
  {
   "cell_type": "markdown",
   "metadata": {},
   "source": [
    "**Histograma.**\n",
    "\n",
    "Sirven para conocer la distribución de los datos, el histograma es una herramienta básica, sin embargo, esta representación está muy influenciada por el número de bins que se seleccionen y el ancho de cada uno.\n",
    "\n",
    "Tomado de https://medium.com/ironhack/data-visualization-con-pandas-y-seaborn-1044906af34f.\n"
   ]
  },
  {
   "cell_type": "code",
   "execution_count": 23,
   "metadata": {},
   "outputs": [
    {
     "name": "stderr",
     "output_type": "stream",
     "text": [
      "/home/manuel/anaconda3/lib/python3.8/site-packages/seaborn/distributions.py:2557: FutureWarning: `distplot` is a deprecated function and will be removed in a future version. Please adapt your code to use either `displot` (a figure-level function with similar flexibility) or `histplot` (an axes-level function for histograms).\n",
      "  warnings.warn(msg, FutureWarning)\n"
     ]
    },
    {
     "data": {
      "image/png": "[encoded data removed]",
      "text/plain": [
       "<Figure size 432x288 with 1 Axes>"
      ]
     },
     "metadata": {
      "needs_background": "light"
     },
     "output_type": "display_data"
    }
   ],
   "source": [
    "\n",
    "plt.figure()\n",
    "sns.distplot(df2[\" Price\"])\n",
    "plt.show()"
   ]
  },
  {
   "cell_type": "markdown",
   "metadata": {},
   "source": [
    "**Scatter plots** \n",
    "\n",
    "Ideal para la representación de correlaciones y cómo una variable afecta a la otra.\n",
    "\n",
    "Tomado de https://medium.com/ironhack/data-visualization-con-pandas-y-seaborn-1044906af34f."
   ]
  },
  {
   "cell_type": "code",
   "execution_count": 24,
   "metadata": {},
   "outputs": [],
   "source": [
    "def plot_data(df, col_x, col_y, label_x, label_y, val_title):\n",
    "    plt.figure(figsize=(7,7))\n",
    "    plt.scatter(x=df[col_x],y=df[col_y])\n",
    "    plt.xlabel(label_x)\n",
    "    plt.ylabel(label_y)\n",
    "    plt.title(val_title)\n",
    "    plt.show()\n",
    "    "
   ]
  },
  {
   "cell_type": "code",
   "execution_count": 25,
   "metadata": {},
   "outputs": [
    {
     "data": {
      "image/png": "[encoded data removed]",
      "text/plain": [
       "<Figure size 504x504 with 1 Axes>"
      ]
     },
     "metadata": {
      "needs_background": "light"
     },
     "output_type": "display_data"
    }
   ],
   "source": [
    "plot_data(df2,\" Rating\", \" Category\", 'Rating','Categoría', 'Comparación categoría-rating')"
   ]
  },
  {
   "cell_type": "code",
   "execution_count": 26,
   "metadata": {},
   "outputs": [
    {
     "data": {
      "image/png": "[encoded data removed]",
      "text/plain": [
       "<Figure size 504x504 with 1 Axes>"
      ]
     },
     "metadata": {
      "needs_background": "light"
     },
     "output_type": "display_data"
    }
   ],
   "source": [
    "plot_data(df2,\" Price\", \" Category\", 'Precio', 'Categoría', 'Compración Precio-Categoría')"
   ]
  },
  {
   "cell_type": "markdown",
   "metadata": {},
   "source": [
    "\n",
    "**Gráficos de dispersión de seaborn.**\n",
    "\n",
    "Los gráficos de dispersión se usan para trazar puntos de datos en un eje vertical y uno horizontal, mediante lo que se trata de mostrar cuánto afecta una variable a otra.\n",
    "Tomado de https://docs.tibco.com/pub/spotfire_web_player/6.0.0-november-2013/es-ES/WebHelp/GUID-780960FA-1DCE-4E59-8EB7-54F7144DB362.html\n",
    "\n",
    "Con sns.pairplot se muestra una comparativa de cada elemento."
   ]
  },
  {
   "cell_type": "code",
   "execution_count": 27,
   "metadata": {},
   "outputs": [
    {
     "data": {
      "image/png": "[encoded data removed]",
      "text/plain": [
       "<Figure size 360x360 with 6 Axes>"
      ]
     },
     "metadata": {
      "needs_background": "light"
     },
     "output_type": "display_data"
    }
   ],
   "source": [
    "\n",
    "sns.pairplot(df2);"
   ]
  },
  {
   "cell_type": "markdown",
   "metadata": {},
   "source": [
    "\n",
    "**Mapa de calor de acuerdo a una correlación.**\n",
    "\n",
    "Los mapas de calor visualizan los datos a través de variaciones en el color. Cuando se aplican a un formato tabular, los mapas de calor son útiles para el examen cruzado de datos multivariados, mediante la colocación de variables en las filas y columnas, y coloreando las celdas dentro de la tabla. Los mapas de calor son buenos para mostrar la varianza a través de múltiples variables, revelando cualquier patrón, mostrando si las variables son similares entre sí y para detectar si existen correlaciones entre ellas. \n",
    "Tomado de https://datavizcatalogue.com/ES/metodos/mapa_de_calor.html\n",
    "\n",
    "El heatmap creará un gráfico con la correlación de los elementos comparables, se pasa como parámetro df.corr(), el cuál es la correlación del dataset.\n",
    "\n",
    "Entiéndase correlación como una medida estadística que expresa hasta qué punto dos variables están relacionadas linealmente (esto es, cambian conjuntamente a una tasa constante). Es una herramienta común para describir relaciones simples sin hacer afirmaciones sobre causa y efecto.\n",
    "Tomado de https://www.jmp.com/es_es/statistics-knowledge-portal/what-is-correlation.html"
   ]
  },
  {
   "cell_type": "code",
   "execution_count": 28,
   "metadata": {},
   "outputs": [
    {
     "data": {
      "text/plain": [
       "<AxesSubplot:>"
      ]
     },
     "execution_count": 28,
     "metadata": {},
     "output_type": "execute_result"
    },
    {
     "data": {
      "image/png": "[encoded data removed]",
      "text/plain": [
       "<Figure size 1080x720 with 2 Axes>"
      ]
     },
     "metadata": {
      "needs_background": "light"
     },
     "output_type": "display_data"
    }
   ],
   "source": [
    "\n",
    "_,ax=plt.subplots(figsize=(15,10))\n",
    "colormap=sns.diverging_palette(220,10,as_cmap=True)\n",
    "sns.heatmap(df2.corr(),annot=True,cmap=colormap)"
   ]
  },
  {
   "cell_type": "code",
   "execution_count": null,
   "metadata": {},
   "outputs": [],
   "source": []
  }
 ],
 "metadata": {
  "colab": {
   "collapsed_sections": [],
   "name": "TP_1_Matemática_para_Ciencia_de_los_Datos_Resultado.ipynb",
   "provenance": []
  },
  "kernelspec": {
   "display_name": "Python 3",
   "language": "python",
   "name": "python3"
  },
  "language_info": {
   "codemirror_mode": {
    "name": "ipython",
    "version": 3
   },
   "file_extension": ".py",
   "mimetype": "text/x-python",
   "name": "python",
   "nbconvert_exporter": "python",
   "pygments_lexer": "ipython3",
   "version": "3.8.8"
  }
 },
 "nbformat": 4,
 "nbformat_minor": 1
}
