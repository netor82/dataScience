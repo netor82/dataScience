{
 "cells": [
  {
   "cell_type": "markdown",
   "metadata": {
    "colab_type": "text",
    "id": "GItxU96mTk16"
   },
   "source": [
    "# Aprendizaje Automático\n",
    "\n",
    "## Tarea 2\n",
    "\n",
    "Profesor: MSc. Felipe Meza.\n",
    "\n",
    "Instituto Tecnológico de Costa Rica, \n",
    "\n",
    "Medio de entrega: TecDigital.\n",
    "\n",
    "Entregables: El entregable consiste en el url de la notebook Tarea-2.ipynb en GITHUB. \n",
    "\n",
    "Grupo de trabajo:\n",
    "- Manuel Calderón\n",
    "- Ernesto Rivera\n",
    "\n",
    "---\n",
    "Objetivo: El objetivo de la Tarea 2 consiste en elegir un dataset, ejecutar las diferentes tareas de pre-procesado y crear un tutorial sobre el uso de PANDAS.\n"
   ]
  },
  {
   "cell_type": "markdown",
   "metadata": {},
   "source": [
    "Para el siguiente tutorial se aplicarán una serie de pasos con el fin de explicar un ejemplo de pre-procesado:\n",
    "\n",
    "\n",
    "## Paso 1: Descargar el dataset\n",
    "\n",
    "Lo primero que se debe realizar es la selección del dataset a trabajar.\n",
    "Para descargar el dataset, vaya a [este link](https://www.kaggle.com/philipjames11/dark-net-marketplace-drug-data-agora-20142015) y descargue el archivo \"Agora.csv\".\n",
    "\n",
    "Es necesario ir a la página pues esta requiere que uno se inscriba para poder descargar el dataset.\n",
    "\n",
    "\n",
    "## Paso 2: Importar bibliotecas\n",
    "\n",
    "Una vez descargado el archivo, colóquelo en la misma carpeta donde se encuetra este documento de jupyter para poder proceder a su lectura.\n",
    "\n",
    "Antes que nada, vamos a cargar algunas bibliotecas que vamos a ir usando posteriormente."
   ]
  },
  {
   "cell_type": "code",
   "execution_count": 1,
   "metadata": {},
   "outputs": [],
   "source": [
    "import numpy as np\n",
    "import pandas as pd"
   ]
  },
  {
   "cell_type": "markdown",
   "metadata": {},
   "source": [
    "## Paso 3: Cargar los datos\n",
    "En nuestro caso utilizaremos PANDAS para leer el archivo."
   ]
  },
  {
   "cell_type": "code",
   "execution_count": 2,
   "metadata": {},
   "outputs": [],
   "source": [
    "df = pd.read_csv(\"Agora.csv\")"
   ]
  },
  {
   "cell_type": "markdown",
   "metadata": {},
   "source": [
    "\n",
    "## Paso 4: Primeras exploraciones de los datos\n",
    "\n",
    "Algo muy importante es la visualización inicial de los datos, por lo que para este paso, se deben imprimir los datos cargados (o al menos parte de ellos), imprimir sus columnas en caso de tener alguna, caso contrario ver el paso 4, y ver cualquier dato de cargado que nos pueda ser relevante para verificar el estado de la data.\n",
    "\n",
    "Para nuestro caso usaremos un head(visualiza las primeras 5 filas), y un describe para visualizar el análisis de pandas de la data."
   ]
  },
  {
   "cell_type": "code",
   "execution_count": 3,
   "metadata": {},
   "outputs": [
    {
     "data": {
      "text/html": [
       "<div>\n",
       "<style scoped>\n",
       "    .dataframe tbody tr th:only-of-type {\n",
       "        vertical-align: middle;\n",
       "    }\n",
       "\n",
       "    .dataframe tbody tr th {\n",
       "        vertical-align: top;\n",
       "    }\n",
       "\n",
       "    .dataframe thead th {\n",
       "        text-align: right;\n",
       "    }\n",
       "</style>\n",
       "<table border=\"1\" class=\"dataframe\">\n",
       "  <thead>\n",
       "    <tr style=\"text-align: right;\">\n",
       "      <th></th>\n",
       "      <th>Vendor</th>\n",
       "      <th>Category</th>\n",
       "      <th>Item</th>\n",
       "      <th>Item Description</th>\n",
       "      <th>Price</th>\n",
       "      <th>Origin</th>\n",
       "      <th>Destination</th>\n",
       "      <th>Rating</th>\n",
       "      <th>Remarks</th>\n",
       "    </tr>\n",
       "  </thead>\n",
       "  <tbody>\n",
       "    <tr>\n",
       "      <th>0</th>\n",
       "      <td>CheapPayTV</td>\n",
       "      <td>Services/Hacking</td>\n",
       "      <td>12 Month HuluPlus gift Code</td>\n",
       "      <td>12-Month HuluPlus Codes for $25. They are wort...</td>\n",
       "      <td>0.05027025666666667 BTC</td>\n",
       "      <td>Torland</td>\n",
       "      <td>NaN</td>\n",
       "      <td>4.96/5</td>\n",
       "      <td>NaN</td>\n",
       "    </tr>\n",
       "    <tr>\n",
       "      <th>1</th>\n",
       "      <td>CheapPayTV</td>\n",
       "      <td>Services/Hacking</td>\n",
       "      <td>Pay TV Sky UK  Sky Germany HD TV  and much mor...</td>\n",
       "      <td>Hi we offer a World Wide CCcam  Service for En...</td>\n",
       "      <td>0.152419585 BTC</td>\n",
       "      <td>Torland</td>\n",
       "      <td>NaN</td>\n",
       "      <td>4.96/5</td>\n",
       "      <td>NaN</td>\n",
       "    </tr>\n",
       "    <tr>\n",
       "      <th>2</th>\n",
       "      <td>KryptykOG</td>\n",
       "      <td>Services/Hacking</td>\n",
       "      <td>OFFICIAL Account Creator Extreme 4.2</td>\n",
       "      <td>Tagged Submission Fix Bebo Submission Fix Adju...</td>\n",
       "      <td>0.007000000000000005 BTC</td>\n",
       "      <td>Torland</td>\n",
       "      <td>NaN</td>\n",
       "      <td>4.93/5</td>\n",
       "      <td>NaN</td>\n",
       "    </tr>\n",
       "    <tr>\n",
       "      <th>3</th>\n",
       "      <td>cyberzen</td>\n",
       "      <td>Services/Hacking</td>\n",
       "      <td>VPN &gt; TOR &gt; SOCK TUTORIAL</td>\n",
       "      <td>How to setup a VPN &gt; TOR &gt; SOCK super safe enc...</td>\n",
       "      <td>0.019016783532494728 BTC</td>\n",
       "      <td>NaN</td>\n",
       "      <td>NaN</td>\n",
       "      <td>4.89/5</td>\n",
       "      <td>NaN</td>\n",
       "    </tr>\n",
       "    <tr>\n",
       "      <th>4</th>\n",
       "      <td>businessdude</td>\n",
       "      <td>Services/Hacking</td>\n",
       "      <td>Facebook hacking guide</td>\n",
       "      <td>.  This guide will teach you how to hack Faceb...</td>\n",
       "      <td>0.062018073963963936 BTC</td>\n",
       "      <td>Torland</td>\n",
       "      <td>NaN</td>\n",
       "      <td>4.88/5</td>\n",
       "      <td>NaN</td>\n",
       "    </tr>\n",
       "  </tbody>\n",
       "</table>\n",
       "</div>"
      ],
      "text/plain": [
       "         Vendor          Category  \\\n",
       "0    CheapPayTV  Services/Hacking   \n",
       "1    CheapPayTV  Services/Hacking   \n",
       "2     KryptykOG  Services/Hacking   \n",
       "3      cyberzen  Services/Hacking   \n",
       "4  businessdude  Services/Hacking   \n",
       "\n",
       "                                                Item  \\\n",
       "0                        12 Month HuluPlus gift Code   \n",
       "1  Pay TV Sky UK  Sky Germany HD TV  and much mor...   \n",
       "2               OFFICIAL Account Creator Extreme 4.2   \n",
       "3                          VPN > TOR > SOCK TUTORIAL   \n",
       "4                             Facebook hacking guide   \n",
       "\n",
       "                                    Item Description  \\\n",
       "0  12-Month HuluPlus Codes for $25. They are wort...   \n",
       "1  Hi we offer a World Wide CCcam  Service for En...   \n",
       "2  Tagged Submission Fix Bebo Submission Fix Adju...   \n",
       "3  How to setup a VPN > TOR > SOCK super safe enc...   \n",
       "4  .  This guide will teach you how to hack Faceb...   \n",
       "\n",
       "                      Price   Origin  Destination  Rating  Remarks  \n",
       "0   0.05027025666666667 BTC  Torland          NaN  4.96/5      NaN  \n",
       "1           0.152419585 BTC  Torland          NaN  4.96/5      NaN  \n",
       "2  0.007000000000000005 BTC  Torland          NaN  4.93/5      NaN  \n",
       "3  0.019016783532494728 BTC      NaN          NaN  4.89/5      NaN  \n",
       "4  0.062018073963963936 BTC  Torland          NaN  4.88/5      NaN  "
      ]
     },
     "execution_count": 3,
     "metadata": {},
     "output_type": "execute_result"
    }
   ],
   "source": [
    "df.head()"
   ]
  },
  {
   "cell_type": "code",
   "execution_count": 4,
   "metadata": {},
   "outputs": [
    {
     "data": {
      "text/html": [
       "<div>\n",
       "<style scoped>\n",
       "    .dataframe tbody tr th:only-of-type {\n",
       "        vertical-align: middle;\n",
       "    }\n",
       "\n",
       "    .dataframe tbody tr th {\n",
       "        vertical-align: top;\n",
       "    }\n",
       "\n",
       "    .dataframe thead th {\n",
       "        text-align: right;\n",
       "    }\n",
       "</style>\n",
       "<table border=\"1\" class=\"dataframe\">\n",
       "  <thead>\n",
       "    <tr style=\"text-align: right;\">\n",
       "      <th></th>\n",
       "      <th>Vendor</th>\n",
       "      <th>Category</th>\n",
       "      <th>Item</th>\n",
       "      <th>Item Description</th>\n",
       "      <th>Price</th>\n",
       "      <th>Origin</th>\n",
       "      <th>Destination</th>\n",
       "      <th>Rating</th>\n",
       "      <th>Remarks</th>\n",
       "    </tr>\n",
       "  </thead>\n",
       "  <tbody>\n",
       "    <tr>\n",
       "      <th>count</th>\n",
       "      <td>109689</td>\n",
       "      <td>109689</td>\n",
       "      <td>109687</td>\n",
       "      <td>109662</td>\n",
       "      <td>109684</td>\n",
       "      <td>99807</td>\n",
       "      <td>60528</td>\n",
       "      <td>109674</td>\n",
       "      <td>12616</td>\n",
       "    </tr>\n",
       "    <tr>\n",
       "      <th>unique</th>\n",
       "      <td>3192</td>\n",
       "      <td>109</td>\n",
       "      <td>107601</td>\n",
       "      <td>69526</td>\n",
       "      <td>102682</td>\n",
       "      <td>404</td>\n",
       "      <td>1196</td>\n",
       "      <td>478</td>\n",
       "      <td>5</td>\n",
       "    </tr>\n",
       "    <tr>\n",
       "      <th>top</th>\n",
       "      <td>optiman</td>\n",
       "      <td>Drugs/Cannabis/Weed</td>\n",
       "      <td>1g MDMA</td>\n",
       "      <td>[----- Terms &amp; Conditions -----]  -YOU MUST RE...</td>\n",
       "      <td>1.0 BTC</td>\n",
       "      <td>USA</td>\n",
       "      <td>USA</td>\n",
       "      <td>5.00/5</td>\n",
       "      <td>Average price may be skewed outliar &gt; .5 BTC f...</td>\n",
       "    </tr>\n",
       "    <tr>\n",
       "      <th>freq</th>\n",
       "      <td>881</td>\n",
       "      <td>21272</td>\n",
       "      <td>18</td>\n",
       "      <td>264</td>\n",
       "      <td>74</td>\n",
       "      <td>33729</td>\n",
       "      <td>14664</td>\n",
       "      <td>19637</td>\n",
       "      <td>12612</td>\n",
       "    </tr>\n",
       "  </tbody>\n",
       "</table>\n",
       "</div>"
      ],
      "text/plain": [
       "         Vendor             Category     Item  \\\n",
       "count    109689               109689   109687   \n",
       "unique     3192                  109   107601   \n",
       "top     optiman  Drugs/Cannabis/Weed  1g MDMA   \n",
       "freq        881                21272       18   \n",
       "\n",
       "                                         Item Description    Price  Origin  \\\n",
       "count                                              109662   109684   99807   \n",
       "unique                                              69526   102682     404   \n",
       "top     [----- Terms & Conditions -----]  -YOU MUST RE...  1.0 BTC     USA   \n",
       "freq                                                  264       74   33729   \n",
       "\n",
       "        Destination  Rating                                            Remarks  \n",
       "count         60528  109674                                              12616  \n",
       "unique         1196     478                                                  5  \n",
       "top             USA  5.00/5  Average price may be skewed outliar > .5 BTC f...  \n",
       "freq          14664   19637                                              12612  "
      ]
     },
     "execution_count": 4,
     "metadata": {},
     "output_type": "execute_result"
    }
   ],
   "source": [
    "df.describe()"
   ]
  },
  {
   "cell_type": "markdown",
   "metadata": {},
   "source": [
    "\n",
    "Tenemos 109689 filas, o entradas de datos.\n",
    "\n",
    "Se puede inferir que tenemos dos tipos de dados, según la columna:\n",
    "- De tipo texto (string): vendor, category, item, description, origin, destination, remarks\n",
    "- De tipo numérico: price, rating"
   ]
  },
  {
   "cell_type": "markdown",
   "metadata": {
    "scrolled": true
   },
   "source": [
    "\n",
    "## Paso 5: Explorando las diferentes columnas\n",
    "\n",
    "Un caso interesante es la columna remarks, que contiene 5 valores únicos.\n",
    "¡Vamos a explorarlos!\n",
    "\n",
    "Para ello, tomamos el dataset original, y se obtienen los nombres de las columnas"
   ]
  },
  {
   "cell_type": "code",
   "execution_count": 5,
   "metadata": {},
   "outputs": [
    {
     "data": {
      "text/plain": [
       "Index(['Vendor', ' Category', ' Item', ' Item Description', ' Price',\n",
       "       ' Origin', ' Destination', ' Rating', ' Remarks'],\n",
       "      dtype='object')"
      ]
     },
     "execution_count": 5,
     "metadata": {},
     "output_type": "execute_result"
    }
   ],
   "source": [
    "df.columns"
   ]
  },
  {
   "cell_type": "markdown",
   "metadata": {},
   "source": [
    "Dada la naturaleza del dataset, la mayoría de los nombres de las columnas inician con un espacio en blanco.\n",
    "\n",
    "Seleccionamos la columna _Remarks_ y se calcula sus valores únicos:"
   ]
  },
  {
   "cell_type": "code",
   "execution_count": 6,
   "metadata": {},
   "outputs": [
    {
     "data": {
      "text/plain": [
       "array([nan, 'Average price may be skewed outliar > .5 BTC found',\n",
       "       '4.91/5', '4.90/5', '4.41/5', '[0 deals]'], dtype=object)"
      ]
     },
     "execution_count": 6,
     "metadata": {},
     "output_type": "execute_result"
    }
   ],
   "source": [
    "df[\" Remarks\"].unique()"
   ]
  },
  {
   "cell_type": "markdown",
   "metadata": {},
   "source": [
    "Como nada es perfecto, parece que tenemos ciertos datos _Rating_ en la columna de _Remarks_.\n",
    "\n",
    "Erroes comunes en el dataset:\n",
    "- Comillas dobles ('\"') faltantes, lo causa que una sola entrada contenga la información que debió ser de muchas entradas\n",
    "- Comas (',') de más. Dando problemas la lectura, pues la entrada contiene _más columnas_ de las necesarias.\n",
    "\n",
    "El archivo contiene 110610 records, muchos más de los enumerados en la [página del dataset](https://www.kaggle.com/philipjames11/dark-net-marketplace-drug-data-agora-20142015) que dice 107603.\n",
    "\n",
    "Con un poco de magia de python, vamos a corregir los errores.\n",
    "\n",
    "Un detalle en el siguiente código es el uso de **wb** como _modo_ para el archivo destino, esto se usa por que el archivo contiene caracteres fuera del mapping tradicional, tales como '♔' o '⚜'.\n",
    "\n",
    "## Pase 6: Eliminar errores del archivo\n",
    "\n",
    "El siguiente código genera una copia del archivo original llamada _Agora2.csv_, el cual usaremos de ahora en adelante."
   ]
  },
  {
   "cell_type": "code",
   "execution_count": 7,
   "metadata": {},
   "outputs": [],
   "source": [
    "with open(\"Agora2.csv\", \"wb\") as nuevoArchivo: # trunca el archivo si ya existe\n",
    "    with open(\"Agora.csv\", mode=\"r\", encoding=\"UTF-8\", errors=\"ignore\") as archivoOriginal:\n",
    "        numero = 1\n",
    "        for linea in archivoOriginal:\n",
    "            try:\n",
    "                # se corrigen los errores encontrados\n",
    "                linea2 = linea.replace(\"\\\"This Listing Is For Verified\", \"This Listing Is For Verified\")\n",
    "                linea2 = linea2.replace(\"\\\"This subtropical\", \"This subtropical\")\n",
    "                linea2 = linea2.replace(\"\\\"This po\", \"This po\")\n",
    "                linea2 = linea2.replace(\"\\\"Mr. H\", \"Mr. H\")\n",
    "                linea2 = linea2.replace(\"\\\"An engaging\", \"An engaging\")\n",
    "                linea2 = linea2.replace(\",\\\"Professional F\", \",Professional F\")\n",
    "                linea2 = linea2.replace(\",\\\"Professional D\", \",Professional D\")\n",
    "                linea2 = linea2.replace(\"SKU:90183\\\"\", \"SKU:90183\")\n",
    "                linea2 = linea2.replace(\"\\\"Encryption\", \"Encryption\")\n",
    "                linea2 = linea2.replace(\"\\\"ProSoma\", \"ProSoma\")\n",
    "                linea2 = linea2.replace(\"\\\"If you’\", \"If you’\")\n",
    "                linea2 = linea2.replace(\",\\\"Named\", \"Named\")\n",
    "                linea2 = linea2.replace(\",\\\"THC\", \",THC\")\n",
    "                linea2 = linea2.replace(\"\\\"Strassman'\", \"Strassman'\")\n",
    "                linea2 = linea2.replace(\"\\\"You d\", \"You d\")\n",
    "                linea2 = linea2.replace(\",\\\"This is your\", \",This is your\")\n",
    "                linea2 = linea2.replace(\"35,\\\"P\", \"35,P\")\n",
    "                linea2 = linea2.replace(\"wing,\\\"\", \"wing,\")\n",
    "                linea2 = linea2.replace(\"22,\\\"I\", \"22,I\")\n",
    "                linea2 = linea2.replace(\",\\\"G13\", \",G13\")\n",
    "                linea2 = linea2.replace(\"0,\\\"Pl\", \"0,Pl\")\n",
    "                linea2 = linea2.replace(\"s Sunglasses Replica are 1:1  ...\", \"s Sunglasses Replica are 1:1 ...\\\"\")\n",
    "                linea2 = linea2.replace(\"],,,,\", \"],\")\n",
    "                linea2 = linea2.replace(\",David Icke (\", \",\\\"David Icke (\")\n",
    "                linea2 = linea2.replace(\"r Bud,I\", \"r Bud,\\\"I\")\n",
    "                linea2 = linea2.replace(\"hone,B\", \"hone,\\\"B\")\n",
    "                linea2 = linea2.replace(\"h,I r\", \"h,\\\"I r\")\n",
    "                linea2 = linea2.replace(\".,0.01547\", \".\\\",0.01547\")\n",
    "                linea2 = linea2.replace(\"~5/5,,\", \"~5/5,\")\n",
    "                linea2 = linea2.replace(\".,2.32555\", \".\\\",2.32555\")\n",
    "                linea2 = linea2.replace(\"/5,,\", \"/5,\")\n",
    "                linea2 = linea2.replace(\".,0.130088\", \".\\\",0.130088\")\n",
    "                linea2 = linea2.replace(\"tazepam,\", \"tazepam\\\",\")\n",
    "                linea2 = linea2.replace(\"E,15.8\", \"E\\\",15.8\")\n",
    "                linea2 = linea2.replace(\"Quality\\\"\\\" we've all come to know and love. This MD ...\\\",1\",\n",
    "                                       \"Quality we've all come to know and love. This MD ...,1\")\n",
    "                \n",
    "                # se almacena el texto en el nuevo archivo\n",
    "                linea2 = linea2.encode(\"utf-8\")\n",
    "                nuevoArchivo.write(linea2)\n",
    "            except Exception as e:\n",
    "                print(\"Error con el string\", numero, linea, e)\n",
    "                raise e\n",
    "            finally:\n",
    "                numero += 1\n"
   ]
  },
  {
   "cell_type": "markdown",
   "metadata": {},
   "source": [
    "Cargamos el archivo, esta vez utilizando el nuevo sin errores."
   ]
  },
  {
   "cell_type": "code",
   "execution_count": 8,
   "metadata": {},
   "outputs": [
    {
     "data": {
      "text/html": [
       "<div>\n",
       "<style scoped>\n",
       "    .dataframe tbody tr th:only-of-type {\n",
       "        vertical-align: middle;\n",
       "    }\n",
       "\n",
       "    .dataframe tbody tr th {\n",
       "        vertical-align: top;\n",
       "    }\n",
       "\n",
       "    .dataframe thead th {\n",
       "        text-align: right;\n",
       "    }\n",
       "</style>\n",
       "<table border=\"1\" class=\"dataframe\">\n",
       "  <thead>\n",
       "    <tr style=\"text-align: right;\">\n",
       "      <th></th>\n",
       "      <th>Vendor</th>\n",
       "      <th>Category</th>\n",
       "      <th>Item</th>\n",
       "      <th>Item Description</th>\n",
       "      <th>Price</th>\n",
       "      <th>Origin</th>\n",
       "      <th>Destination</th>\n",
       "      <th>Rating</th>\n",
       "      <th>Remarks</th>\n",
       "    </tr>\n",
       "  </thead>\n",
       "  <tbody>\n",
       "    <tr>\n",
       "      <th>count</th>\n",
       "      <td>110610</td>\n",
       "      <td>110610</td>\n",
       "      <td>110609</td>\n",
       "      <td>110584</td>\n",
       "      <td>110606</td>\n",
       "      <td>100594</td>\n",
       "      <td>61014</td>\n",
       "      <td>110597</td>\n",
       "      <td>12691</td>\n",
       "    </tr>\n",
       "    <tr>\n",
       "      <th>unique</th>\n",
       "      <td>3191</td>\n",
       "      <td>108</td>\n",
       "      <td>108492</td>\n",
       "      <td>69992</td>\n",
       "      <td>103476</td>\n",
       "      <td>401</td>\n",
       "      <td>1202</td>\n",
       "      <td>477</td>\n",
       "      <td>1</td>\n",
       "    </tr>\n",
       "    <tr>\n",
       "      <th>top</th>\n",
       "      <td>optiman</td>\n",
       "      <td>Drugs/Cannabis/Weed</td>\n",
       "      <td>1g MDMA</td>\n",
       "      <td>[----- Terms &amp; Conditions -----]  -YOU MUST RE...</td>\n",
       "      <td>1.0 BTC</td>\n",
       "      <td>USA</td>\n",
       "      <td>USA</td>\n",
       "      <td>5.00/5</td>\n",
       "      <td>Average price may be skewed outliar &gt; .5 BTC f...</td>\n",
       "    </tr>\n",
       "    <tr>\n",
       "      <th>freq</th>\n",
       "      <td>885</td>\n",
       "      <td>21727</td>\n",
       "      <td>18</td>\n",
       "      <td>264</td>\n",
       "      <td>74</td>\n",
       "      <td>34023</td>\n",
       "      <td>14790</td>\n",
       "      <td>19823</td>\n",
       "      <td>12691</td>\n",
       "    </tr>\n",
       "  </tbody>\n",
       "</table>\n",
       "</div>"
      ],
      "text/plain": [
       "         Vendor             Category     Item  \\\n",
       "count    110610               110610   110609   \n",
       "unique     3191                  108   108492   \n",
       "top     optiman  Drugs/Cannabis/Weed  1g MDMA   \n",
       "freq        885                21727       18   \n",
       "\n",
       "                                         Item Description    Price  Origin  \\\n",
       "count                                              110584   110606  100594   \n",
       "unique                                              69992   103476     401   \n",
       "top     [----- Terms & Conditions -----]  -YOU MUST RE...  1.0 BTC     USA   \n",
       "freq                                                  264       74   34023   \n",
       "\n",
       "        Destination  Rating                                            Remarks  \n",
       "count         61014  110597                                              12691  \n",
       "unique         1202     477                                                  1  \n",
       "top             USA  5.00/5  Average price may be skewed outliar > .5 BTC f...  \n",
       "freq          14790   19823                                              12691  "
      ]
     },
     "execution_count": 8,
     "metadata": {},
     "output_type": "execute_result"
    }
   ],
   "source": [
    "df2 = pd.read_csv(\"Agora2.csv\")\n",
    "df2.describe()"
   ]
  },
  {
   "cell_type": "markdown",
   "metadata": {},
   "source": [
    "\n",
    "## Paso 7: Eliminar columnas no relevantes\n",
    "\n",
    "Una vez leído el archivo, se puede proceder a eliminar las columnas que no nos aportan ninguna información relevante, ya sea porque están completamente vacías o porque realmente no es requerida para la información que se desea visualizar. Para esto, podríamos usar el método **dropna(axis=1, how='all')**. Sin embargo, este dataset no tiene columnas sin datos.\n",
    "\n",
    "Entonces mejor usamos **drop([\"nombre_columna\"], axis=1)** para eliminar la columna de _Remarks_ dado que no aporta información relevante."
   ]
  },
  {
   "cell_type": "code",
   "execution_count": 9,
   "metadata": {},
   "outputs": [
    {
     "data": {
      "text/html": [
       "<div>\n",
       "<style scoped>\n",
       "    .dataframe tbody tr th:only-of-type {\n",
       "        vertical-align: middle;\n",
       "    }\n",
       "\n",
       "    .dataframe tbody tr th {\n",
       "        vertical-align: top;\n",
       "    }\n",
       "\n",
       "    .dataframe thead th {\n",
       "        text-align: right;\n",
       "    }\n",
       "</style>\n",
       "<table border=\"1\" class=\"dataframe\">\n",
       "  <thead>\n",
       "    <tr style=\"text-align: right;\">\n",
       "      <th></th>\n",
       "      <th>Vendor</th>\n",
       "      <th>Category</th>\n",
       "      <th>Item</th>\n",
       "      <th>Price</th>\n",
       "      <th>Rating</th>\n",
       "    </tr>\n",
       "  </thead>\n",
       "  <tbody>\n",
       "    <tr>\n",
       "      <th>0</th>\n",
       "      <td>CheapPayTV</td>\n",
       "      <td>Services/Hacking</td>\n",
       "      <td>12 Month HuluPlus gift Code</td>\n",
       "      <td>0.05027025666666667 BTC</td>\n",
       "      <td>4.96/5</td>\n",
       "    </tr>\n",
       "    <tr>\n",
       "      <th>1</th>\n",
       "      <td>CheapPayTV</td>\n",
       "      <td>Services/Hacking</td>\n",
       "      <td>Pay TV Sky UK  Sky Germany HD TV  and much mor...</td>\n",
       "      <td>0.152419585 BTC</td>\n",
       "      <td>4.96/5</td>\n",
       "    </tr>\n",
       "    <tr>\n",
       "      <th>2</th>\n",
       "      <td>KryptykOG</td>\n",
       "      <td>Services/Hacking</td>\n",
       "      <td>OFFICIAL Account Creator Extreme 4.2</td>\n",
       "      <td>0.007000000000000005 BTC</td>\n",
       "      <td>4.93/5</td>\n",
       "    </tr>\n",
       "    <tr>\n",
       "      <th>3</th>\n",
       "      <td>cyberzen</td>\n",
       "      <td>Services/Hacking</td>\n",
       "      <td>VPN &gt; TOR &gt; SOCK TUTORIAL</td>\n",
       "      <td>0.019016783532494728 BTC</td>\n",
       "      <td>4.89/5</td>\n",
       "    </tr>\n",
       "    <tr>\n",
       "      <th>4</th>\n",
       "      <td>businessdude</td>\n",
       "      <td>Services/Hacking</td>\n",
       "      <td>Facebook hacking guide</td>\n",
       "      <td>0.062018073963963936 BTC</td>\n",
       "      <td>4.88/5</td>\n",
       "    </tr>\n",
       "  </tbody>\n",
       "</table>\n",
       "</div>"
      ],
      "text/plain": [
       "         Vendor          Category  \\\n",
       "0    CheapPayTV  Services/Hacking   \n",
       "1    CheapPayTV  Services/Hacking   \n",
       "2     KryptykOG  Services/Hacking   \n",
       "3      cyberzen  Services/Hacking   \n",
       "4  businessdude  Services/Hacking   \n",
       "\n",
       "                                                Item  \\\n",
       "0                        12 Month HuluPlus gift Code   \n",
       "1  Pay TV Sky UK  Sky Germany HD TV  and much mor...   \n",
       "2               OFFICIAL Account Creator Extreme 4.2   \n",
       "3                          VPN > TOR > SOCK TUTORIAL   \n",
       "4                             Facebook hacking guide   \n",
       "\n",
       "                      Price  Rating  \n",
       "0   0.05027025666666667 BTC  4.96/5  \n",
       "1           0.152419585 BTC  4.96/5  \n",
       "2  0.007000000000000005 BTC  4.93/5  \n",
       "3  0.019016783532494728 BTC  4.89/5  \n",
       "4  0.062018073963963936 BTC  4.88/5  "
      ]
     },
     "execution_count": 9,
     "metadata": {},
     "output_type": "execute_result"
    }
   ],
   "source": [
    "df2 = df2.drop([\" Remarks\", \" Item Description\", \" Origin\", \" Destination\"], axis=1)\n",
    "df2.head()"
   ]
  },
  {
   "cell_type": "markdown",
   "metadata": {},
   "source": [
    "\n",
    "## Paso 8: -- por aquí quedé\n",
    "\n",
    "Una vez eliminadas las columnas no deseadas, como paso final de la limpieza es el trabajar columnas y/o filas que tengan elementos no necesarios, como por ejemplo eliminar los datos no numéricos en columnas numéricas, también se pueden reemplazar algunos datos para pasarlos a un criterio numérico y así trabajarlos de una manera más sencilla, o cualquier tipo de arreglo necesario para el procesamiento del dato.\n",
    "\n",
    "Para nuestro caso, se eliminarán los datos erróneos dejando dichos con NaN y de acuerdo al resultado, utilizaremos en una columna la eliminación de filas con datos nulos o innecesarios, y en otra columna se rellenarán los datos con la mediana.\n",
    "\n",
    "Para cualquier caso, antes de aplicar cualquier rellenado se debe verificar si el criterio a usar sea el correcto, por ejemplo se pueden eliminar las filas con outlier y aplicar promedios, si se consideran datos outlier están erróneos, usar medianas, modas o algún criterio de utilidad.\n"
   ]
  },
  {
   "cell_type": "code",
   "execution_count": 10,
   "metadata": {},
   "outputs": [
    {
     "data": {
      "text/plain": [
       "array(['Services/Hacking', 'Services/Other', 'Drugs/RCs',\n",
       "       'Forgeries/Physical documents', 'Tobacco/Smoked', 'Services/Money',\n",
       "       'Counterfeits/Money', 'Data/Software', 'Data/Accounts',\n",
       "       'Counterfeits/Clothing', 'Information/eBooks', 'Electronics',\n",
       "       'Drug paraphernalia/Pipes', 'Drugs/Weight loss', 'Data/Pirated',\n",
       "       'Drugs/Steroids', 'Drugs/Prescription', 'Information/Guides',\n",
       "       'Forgeries/Scans/Photos', 'Other', 'Jewelry', 'Drugs/Other',\n",
       "       'Counterfeits/Accessories', 'Counterfeits/Watches',\n",
       "       'Drugs/Cannabis/Weed', 'Drugs/Benzos',\n",
       "       'the Body Bags  shotty  and Mac make-up To: Kind Hearts and Gentle People',\n",
       "       'Drugs/Cannabis/Shake/trim', 'Drugs/Cannabis/Synthetics',\n",
       "       'Drugs/Cannabis/Concentrates', 'Drugs/Cannabis/Seeds',\n",
       "       'Drugs/Cannabis/Hash', 'Drugs/Dissociatives/MXE',\n",
       "       'Drugs/Dissociatives/Ketamine', 'Drugs/Cannabis/Edibles',\n",
       "       'Drugs/Ecstasy/Pills', 'Drugs/Ecstasy/Other',\n",
       "       'Drugs/Stimulants/Meth', 'Drugs/Psychedelics/LSD',\n",
       "       'Drugs/Stimulants/Speed', 'Drugs/Dissociatives/GHB',\n",
       "       'Drugs/Stimulants/Cocaine', 'Drugs/Psychedelics/NB',\n",
       "       'Drugs/Psychedelics/Mushrooms', 'Drugs/Ecstasy/MDMA',\n",
       "       'Drugs/Psychedelics/DMT', 'Weapons/Lethal firearms',\n",
       "       'Drugs/Stimulants/Prescription', 'Drugs/Ecstasy/MDA',\n",
       "       'Drugs/Psychedelics/Others', 'Drugs/Psychedelics/Mescaline',\n",
       "       'Drugs/Psychedelics/2C', 'Drugs/Opioids', 'Info/eBooks/Anonymity',\n",
       "       'Info/eBooks/Relationships/Sex', 'Drug paraphernalia/Stashes',\n",
       "       'Info/eBooks/Economy', 'Services/Advertising',\n",
       "       'Info/eBooks/Politics', 'Drugs/Opioids/Morphine',\n",
       "       'Drugs/Opioids/Other', 'Drugs/Opioids/Heroin',\n",
       "       'Info/eBooks/Science', 'Weapons/Melee', 'Info/eBooks/Other',\n",
       "       'Info/eBooks/Drugs', 'Drugs/Opioids/Fentanyl',\n",
       "       'Drugs/Opioids/Oxycodone', 'Drugs/Psychedelics/5-MeO',\n",
       "       'Drugs/Opioids/Buprenorphine', 'Drug paraphernalia/Containers',\n",
       "       'Drugs/Psychedelics/Other', 'Info/eBooks/Doomsday',\n",
       "       'Info/eBooks/IT', 'Info/eBooks/Psychology',\n",
       "       'Info/eBooks/Making money', 'Weapons/Non-lethal firearms',\n",
       "       'Tobacco/Paraphernalia', 'Forgeries/Other', 'Weapons/Ammunition',\n",
       "       'home of the Body Bags  shotty  and mag  Kind Hearts and Gentle People',\n",
       "       'Forgeries', 'Chemicals', 'Drugs/Psychedelics/Spores',\n",
       "       'Drugs/Opioids/Hydrocodone', 'Info/eBooks/Philosophy',\n",
       "       'Drugs/Dissociatives/Other', '0.12780125125 BTC',\n",
       "       'Drugs/Opioids/Codeine', 'Drug paraphernalia/Grinders',\n",
       "       'Info/eBooks/Aliens/UFOs', 'Drug paraphernalia/Paper',\n",
       "       'Services/Travel', 'Drugs/Opioids/Dihydrocodeine',\n",
       "       'Drugs/Stimulants/Mephedrone',\n",
       "       'the Body Bags  shotty  and mag To: Kind Hearts and Gentle People',\n",
       "       'Drugs/Dissociatives/GBL', 'Counterfeits/Electronics',\n",
       "       'Drug paraphernalia/Injecting equipment/Syringes',\n",
       "       'Drugs/Opioids/Opium',\n",
       "       'Drug paraphernalia/Injecting equipment/Other',\n",
       "       'Drugs/Psychedelics/Salvia', 'Drugs/Barbiturates',\n",
       "       'Weapons/Fireworks', 'Drug paraphernalia/Scales',\n",
       "       'Drug paraphernalia/Injecting equipment/Filters',\n",
       "       'Drug paraphernalia/Injecting equipment/Needles',\n",
       "       'Drugs/Dissociatives/PCP'], dtype=object)"
      ]
     },
     "execution_count": 10,
     "metadata": {},
     "output_type": "execute_result"
    }
   ],
   "source": [
    "df2[' Category'].unique()"
   ]
  },
  {
   "cell_type": "code",
   "execution_count": 11,
   "metadata": {},
   "outputs": [
    {
     "name": "stderr",
     "output_type": "stream",
     "text": [
      "<ipython-input-11-f428538252ec>:5: FutureWarning: The default value of regex will change from True to False in a future version.\n",
      "  df2[\" Category\"] = df2[\" Category\"].str.replace('\\s:/' , '')\n"
     ]
    },
    {
     "data": {
      "text/html": [
       "<div>\n",
       "<style scoped>\n",
       "    .dataframe tbody tr th:only-of-type {\n",
       "        vertical-align: middle;\n",
       "    }\n",
       "\n",
       "    .dataframe tbody tr th {\n",
       "        vertical-align: top;\n",
       "    }\n",
       "\n",
       "    .dataframe thead th {\n",
       "        text-align: right;\n",
       "    }\n",
       "</style>\n",
       "<table border=\"1\" class=\"dataframe\">\n",
       "  <thead>\n",
       "    <tr style=\"text-align: right;\">\n",
       "      <th></th>\n",
       "      <th>Vendor</th>\n",
       "      <th>Category</th>\n",
       "      <th>Item</th>\n",
       "      <th>Price</th>\n",
       "      <th>Rating</th>\n",
       "    </tr>\n",
       "  </thead>\n",
       "  <tbody>\n",
       "    <tr>\n",
       "      <th>0</th>\n",
       "      <td>CheapPayTV</td>\n",
       "      <td>Services/Hacking</td>\n",
       "      <td>12 Month HuluPlus gift Code</td>\n",
       "      <td>0.05027025666666667</td>\n",
       "      <td>4.96</td>\n",
       "    </tr>\n",
       "    <tr>\n",
       "      <th>1</th>\n",
       "      <td>CheapPayTV</td>\n",
       "      <td>Services/Hacking</td>\n",
       "      <td>Pay TV Sky UK  Sky Germany HD TV  and much mor...</td>\n",
       "      <td>0.152419585</td>\n",
       "      <td>4.96</td>\n",
       "    </tr>\n",
       "    <tr>\n",
       "      <th>2</th>\n",
       "      <td>KryptykOG</td>\n",
       "      <td>Services/Hacking</td>\n",
       "      <td>OFFICIAL Account Creator Extreme 4.2</td>\n",
       "      <td>0.007000000000000005</td>\n",
       "      <td>4.93</td>\n",
       "    </tr>\n",
       "    <tr>\n",
       "      <th>3</th>\n",
       "      <td>cyberzen</td>\n",
       "      <td>Services/Hacking</td>\n",
       "      <td>VPN &gt; TOR &gt; SOCK TUTORIAL</td>\n",
       "      <td>0.019016783532494728</td>\n",
       "      <td>4.89</td>\n",
       "    </tr>\n",
       "    <tr>\n",
       "      <th>4</th>\n",
       "      <td>businessdude</td>\n",
       "      <td>Services/Hacking</td>\n",
       "      <td>Facebook hacking guide</td>\n",
       "      <td>0.062018073963963936</td>\n",
       "      <td>4.88</td>\n",
       "    </tr>\n",
       "  </tbody>\n",
       "</table>\n",
       "</div>"
      ],
      "text/plain": [
       "         Vendor          Category  \\\n",
       "0    CheapPayTV  Services/Hacking   \n",
       "1    CheapPayTV  Services/Hacking   \n",
       "2     KryptykOG  Services/Hacking   \n",
       "3      cyberzen  Services/Hacking   \n",
       "4  businessdude  Services/Hacking   \n",
       "\n",
       "                                                Item                 Price  \\\n",
       "0                        12 Month HuluPlus gift Code   0.05027025666666667   \n",
       "1  Pay TV Sky UK  Sky Germany HD TV  and much mor...           0.152419585   \n",
       "2               OFFICIAL Account Creator Extreme 4.2  0.007000000000000005   \n",
       "3                          VPN > TOR > SOCK TUTORIAL  0.019016783532494728   \n",
       "4                             Facebook hacking guide  0.062018073963963936   \n",
       "\n",
       "   Rating  \n",
       "0    4.96  \n",
       "1    4.96  \n",
       "2    4.93  \n",
       "3    4.89  \n",
       "4    4.88  "
      ]
     },
     "execution_count": 11,
     "metadata": {},
     "output_type": "execute_result"
    }
   ],
   "source": [
    "#df.dropna([\"Price\", ], axis=0)\n",
    "#df.head()\n",
    "df2[\" Price\"] = df2[\" Price\"].str.replace(' BTC' , '')\n",
    "df2[\" Rating\"] = df2[\" Rating\"].str.replace('/5' , '')\n",
    "df2.head()"
   ]
  },
  {
   "cell_type": "code",
   "execution_count": 12,
   "metadata": {},
   "outputs": [
    {
     "data": {
      "text/html": [
       "<div>\n",
       "<style scoped>\n",
       "    .dataframe tbody tr th:only-of-type {\n",
       "        vertical-align: middle;\n",
       "    }\n",
       "\n",
       "    .dataframe tbody tr th {\n",
       "        vertical-align: top;\n",
       "    }\n",
       "\n",
       "    .dataframe thead th {\n",
       "        text-align: right;\n",
       "    }\n",
       "</style>\n",
       "<table border=\"1\" class=\"dataframe\">\n",
       "  <thead>\n",
       "    <tr style=\"text-align: right;\">\n",
       "      <th></th>\n",
       "      <th>Vendor</th>\n",
       "      <th>Category</th>\n",
       "      <th>Item</th>\n",
       "      <th>Price</th>\n",
       "      <th>Rating</th>\n",
       "    </tr>\n",
       "  </thead>\n",
       "  <tbody>\n",
       "    <tr>\n",
       "      <th>0</th>\n",
       "      <td>CheapPayTV</td>\n",
       "      <td>Services/Hacking</td>\n",
       "      <td>12 Month HuluPlus gift Code</td>\n",
       "      <td>0.050270</td>\n",
       "      <td>4.96</td>\n",
       "    </tr>\n",
       "    <tr>\n",
       "      <th>1</th>\n",
       "      <td>CheapPayTV</td>\n",
       "      <td>Services/Hacking</td>\n",
       "      <td>Pay TV Sky UK  Sky Germany HD TV  and much mor...</td>\n",
       "      <td>0.152420</td>\n",
       "      <td>4.96</td>\n",
       "    </tr>\n",
       "    <tr>\n",
       "      <th>2</th>\n",
       "      <td>KryptykOG</td>\n",
       "      <td>Services/Hacking</td>\n",
       "      <td>OFFICIAL Account Creator Extreme 4.2</td>\n",
       "      <td>0.007000</td>\n",
       "      <td>4.93</td>\n",
       "    </tr>\n",
       "    <tr>\n",
       "      <th>3</th>\n",
       "      <td>cyberzen</td>\n",
       "      <td>Services/Hacking</td>\n",
       "      <td>VPN &gt; TOR &gt; SOCK TUTORIAL</td>\n",
       "      <td>0.019017</td>\n",
       "      <td>4.89</td>\n",
       "    </tr>\n",
       "    <tr>\n",
       "      <th>4</th>\n",
       "      <td>businessdude</td>\n",
       "      <td>Services/Hacking</td>\n",
       "      <td>Facebook hacking guide</td>\n",
       "      <td>0.062018</td>\n",
       "      <td>4.88</td>\n",
       "    </tr>\n",
       "  </tbody>\n",
       "</table>\n",
       "</div>"
      ],
      "text/plain": [
       "         Vendor          Category  \\\n",
       "0    CheapPayTV  Services/Hacking   \n",
       "1    CheapPayTV  Services/Hacking   \n",
       "2     KryptykOG  Services/Hacking   \n",
       "3      cyberzen  Services/Hacking   \n",
       "4  businessdude  Services/Hacking   \n",
       "\n",
       "                                                Item     Price   Rating  \n",
       "0                        12 Month HuluPlus gift Code  0.050270     4.96  \n",
       "1  Pay TV Sky UK  Sky Germany HD TV  and much mor...  0.152420     4.96  \n",
       "2               OFFICIAL Account Creator Extreme 4.2  0.007000     4.93  \n",
       "3                          VPN > TOR > SOCK TUTORIAL  0.019017     4.89  \n",
       "4                             Facebook hacking guide  0.062018     4.88  "
      ]
     },
     "execution_count": 12,
     "metadata": {},
     "output_type": "execute_result"
    }
   ],
   "source": [
    "df2[\" Price\"] =pd.to_numeric(df2[\" Price\"], errors ='coerce')\n",
    "df2[\" Rating\"] =pd.to_numeric(df2[\" Rating\"], errors ='coerce')\n",
    "df2.head()"
   ]
  },
  {
   "cell_type": "code",
   "execution_count": 13,
   "metadata": {},
   "outputs": [
    {
     "data": {
      "text/html": [
       "<div>\n",
       "<style scoped>\n",
       "    .dataframe tbody tr th:only-of-type {\n",
       "        vertical-align: middle;\n",
       "    }\n",
       "\n",
       "    .dataframe tbody tr th {\n",
       "        vertical-align: top;\n",
       "    }\n",
       "\n",
       "    .dataframe thead th {\n",
       "        text-align: right;\n",
       "    }\n",
       "</style>\n",
       "<table border=\"1\" class=\"dataframe\">\n",
       "  <thead>\n",
       "    <tr style=\"text-align: right;\">\n",
       "      <th></th>\n",
       "      <th>Vendor</th>\n",
       "      <th>Category</th>\n",
       "      <th>Item</th>\n",
       "      <th>Price</th>\n",
       "      <th>Rating</th>\n",
       "    </tr>\n",
       "  </thead>\n",
       "  <tbody>\n",
       "    <tr>\n",
       "      <th>0</th>\n",
       "      <td>CheapPayTV</td>\n",
       "      <td>Services/Hacking</td>\n",
       "      <td>12 Month HuluPlus gift Code</td>\n",
       "      <td>0.05</td>\n",
       "      <td>4.96</td>\n",
       "    </tr>\n",
       "    <tr>\n",
       "      <th>1</th>\n",
       "      <td>CheapPayTV</td>\n",
       "      <td>Services/Hacking</td>\n",
       "      <td>Pay TV Sky UK  Sky Germany HD TV  and much mor...</td>\n",
       "      <td>0.15</td>\n",
       "      <td>4.96</td>\n",
       "    </tr>\n",
       "    <tr>\n",
       "      <th>2</th>\n",
       "      <td>KryptykOG</td>\n",
       "      <td>Services/Hacking</td>\n",
       "      <td>OFFICIAL Account Creator Extreme 4.2</td>\n",
       "      <td>0.01</td>\n",
       "      <td>4.93</td>\n",
       "    </tr>\n",
       "    <tr>\n",
       "      <th>3</th>\n",
       "      <td>cyberzen</td>\n",
       "      <td>Services/Hacking</td>\n",
       "      <td>VPN &gt; TOR &gt; SOCK TUTORIAL</td>\n",
       "      <td>0.02</td>\n",
       "      <td>4.89</td>\n",
       "    </tr>\n",
       "    <tr>\n",
       "      <th>4</th>\n",
       "      <td>businessdude</td>\n",
       "      <td>Services/Hacking</td>\n",
       "      <td>Facebook hacking guide</td>\n",
       "      <td>0.06</td>\n",
       "      <td>4.88</td>\n",
       "    </tr>\n",
       "  </tbody>\n",
       "</table>\n",
       "</div>"
      ],
      "text/plain": [
       "         Vendor          Category  \\\n",
       "0    CheapPayTV  Services/Hacking   \n",
       "1    CheapPayTV  Services/Hacking   \n",
       "2     KryptykOG  Services/Hacking   \n",
       "3      cyberzen  Services/Hacking   \n",
       "4  businessdude  Services/Hacking   \n",
       "\n",
       "                                                Item   Price   Rating  \n",
       "0                        12 Month HuluPlus gift Code    0.05     4.96  \n",
       "1  Pay TV Sky UK  Sky Germany HD TV  and much mor...    0.15     4.96  \n",
       "2               OFFICIAL Account Creator Extreme 4.2    0.01     4.93  \n",
       "3                          VPN > TOR > SOCK TUTORIAL    0.02     4.89  \n",
       "4                             Facebook hacking guide    0.06     4.88  "
      ]
     },
     "execution_count": 13,
     "metadata": {},
     "output_type": "execute_result"
    }
   ],
   "source": [
    "\n",
    "df2.fillna(df2[\" Price\"].median(), inplace = True)\n",
    "df2.fillna(df2[\" Rating\"].median(), inplace = True)\n",
    "df2 = df2.round({\" Rating\": 2, \" Price\": 2})\n",
    "df2.head()"
   ]
  },
  {
   "cell_type": "code",
   "execution_count": 14,
   "metadata": {},
   "outputs": [
    {
     "data": {
      "text/html": [
       "<div>\n",
       "<style scoped>\n",
       "    .dataframe tbody tr th:only-of-type {\n",
       "        vertical-align: middle;\n",
       "    }\n",
       "\n",
       "    .dataframe tbody tr th {\n",
       "        vertical-align: top;\n",
       "    }\n",
       "\n",
       "    .dataframe thead th {\n",
       "        text-align: right;\n",
       "    }\n",
       "</style>\n",
       "<table border=\"1\" class=\"dataframe\">\n",
       "  <thead>\n",
       "    <tr style=\"text-align: right;\">\n",
       "      <th></th>\n",
       "      <th>Price</th>\n",
       "      <th>Rating</th>\n",
       "    </tr>\n",
       "  </thead>\n",
       "  <tbody>\n",
       "    <tr>\n",
       "      <th>count</th>\n",
       "      <td>110610.000000</td>\n",
       "      <td>110610.000000</td>\n",
       "    </tr>\n",
       "    <tr>\n",
       "      <th>mean</th>\n",
       "      <td>21.992516</td>\n",
       "      <td>3.912120</td>\n",
       "    </tr>\n",
       "    <tr>\n",
       "      <th>std</th>\n",
       "      <td>1033.305692</td>\n",
       "      <td>1.879738</td>\n",
       "    </tr>\n",
       "    <tr>\n",
       "      <th>min</th>\n",
       "      <td>0.000000</td>\n",
       "      <td>0.120000</td>\n",
       "    </tr>\n",
       "    <tr>\n",
       "      <th>25%</th>\n",
       "      <td>0.120000</td>\n",
       "      <td>4.590000</td>\n",
       "    </tr>\n",
       "    <tr>\n",
       "      <th>50%</th>\n",
       "      <td>0.380000</td>\n",
       "      <td>4.920000</td>\n",
       "    </tr>\n",
       "    <tr>\n",
       "      <th>75%</th>\n",
       "      <td>1.330000</td>\n",
       "      <td>4.990000</td>\n",
       "    </tr>\n",
       "    <tr>\n",
       "      <th>max</th>\n",
       "      <td>130396.090000</td>\n",
       "      <td>5.000000</td>\n",
       "    </tr>\n",
       "  </tbody>\n",
       "</table>\n",
       "</div>"
      ],
      "text/plain": [
       "               Price         Rating\n",
       "count  110610.000000  110610.000000\n",
       "mean       21.992516       3.912120\n",
       "std      1033.305692       1.879738\n",
       "min         0.000000       0.120000\n",
       "25%         0.120000       4.590000\n",
       "50%         0.380000       4.920000\n",
       "75%         1.330000       4.990000\n",
       "max    130396.090000       5.000000"
      ]
     },
     "execution_count": 14,
     "metadata": {},
     "output_type": "execute_result"
    }
   ],
   "source": [
    "df2.describe()"
   ]
  },
  {
   "cell_type": "code",
   "execution_count": 15,
   "metadata": {},
   "outputs": [
    {
     "data": {
      "text/html": [
       "<div>\n",
       "<style scoped>\n",
       "    .dataframe tbody tr th:only-of-type {\n",
       "        vertical-align: middle;\n",
       "    }\n",
       "\n",
       "    .dataframe tbody tr th {\n",
       "        vertical-align: top;\n",
       "    }\n",
       "\n",
       "    .dataframe thead th {\n",
       "        text-align: right;\n",
       "    }\n",
       "</style>\n",
       "<table border=\"1\" class=\"dataframe\">\n",
       "  <thead>\n",
       "    <tr style=\"text-align: right;\">\n",
       "      <th></th>\n",
       "      <th>Price</th>\n",
       "      <th>Rating</th>\n",
       "    </tr>\n",
       "  </thead>\n",
       "  <tbody>\n",
       "    <tr>\n",
       "      <th>count</th>\n",
       "      <td>100650.000000</td>\n",
       "      <td>100650.000000</td>\n",
       "    </tr>\n",
       "    <tr>\n",
       "      <th>mean</th>\n",
       "      <td>0.736097</td>\n",
       "      <td>3.896642</td>\n",
       "    </tr>\n",
       "    <tr>\n",
       "      <th>std</th>\n",
       "      <td>1.002987</td>\n",
       "      <td>1.890246</td>\n",
       "    </tr>\n",
       "    <tr>\n",
       "      <th>min</th>\n",
       "      <td>0.000000</td>\n",
       "      <td>0.120000</td>\n",
       "    </tr>\n",
       "    <tr>\n",
       "      <th>25%</th>\n",
       "      <td>0.110000</td>\n",
       "      <td>4.570000</td>\n",
       "    </tr>\n",
       "    <tr>\n",
       "      <th>50%</th>\n",
       "      <td>0.310000</td>\n",
       "      <td>4.920000</td>\n",
       "    </tr>\n",
       "    <tr>\n",
       "      <th>75%</th>\n",
       "      <td>0.900000</td>\n",
       "      <td>4.990000</td>\n",
       "    </tr>\n",
       "    <tr>\n",
       "      <th>max</th>\n",
       "      <td>5.000000</td>\n",
       "      <td>5.000000</td>\n",
       "    </tr>\n",
       "  </tbody>\n",
       "</table>\n",
       "</div>"
      ],
      "text/plain": [
       "               Price         Rating\n",
       "count  100650.000000  100650.000000\n",
       "mean        0.736097       3.896642\n",
       "std         1.002987       1.890246\n",
       "min         0.000000       0.120000\n",
       "25%         0.110000       4.570000\n",
       "50%         0.310000       4.920000\n",
       "75%         0.900000       4.990000\n",
       "max         5.000000       5.000000"
      ]
     },
     "execution_count": 15,
     "metadata": {},
     "output_type": "execute_result"
    }
   ],
   "source": [
    "df2=df2[df2[\" Price\"] <= 5]\n",
    "df2.describe()"
   ]
  },
  {
   "cell_type": "markdown",
   "metadata": {},
   "source": [
    "\n",
    "## Paso 7\n",
    "\n",
    "Por último, con los datos pre-procesados procederemos a visualizarlos de una manera gráfica, para ello lo primero a realizar es cargar las librerías de gráficado, tales como matplotlib y/o seaborn. \n",
    "\n",
    "Una vez cargadas se pueden mostrar algunos datos específicos, o usar gráficos generales como el pairplot de seaborn."
   ]
  },
  {
   "cell_type": "code",
   "execution_count": 16,
   "metadata": {},
   "outputs": [],
   "source": [
    "from matplotlib import pyplot as plt\n",
    "import seaborn as sns\n",
    "%matplotlib inline"
   ]
  },
  {
   "cell_type": "markdown",
   "metadata": {},
   "source": [
    "\n",
    "**Muestra específica de datos con Gráfico de Barras.**\n",
    "\n",
    "X: Categoría\n",
    "\n",
    "Y: Rating"
   ]
  },
  {
   "cell_type": "code",
   "execution_count": 17,
   "metadata": {},
   "outputs": [
    {
     "data": {
      "image/png": "[encoded data removed]",
      "text/plain": [
       "<Figure size 432x288 with 1 Axes>"
      ]
     },
     "metadata": {
      "needs_background": "light"
     },
     "output_type": "display_data"
    }
   ],
   "source": [
    "\n",
    "plt.figure()\n",
    "sns.kdeplot(data=df2[\" Rating\"], shade=True)\n",
    "plt.show()"
   ]
  },
  {
   "cell_type": "code",
   "execution_count": 18,
   "metadata": {},
   "outputs": [
    {
     "name": "stderr",
     "output_type": "stream",
     "text": [
      "/home/manuel/anaconda3/lib/python3.8/site-packages/seaborn/distributions.py:2557: FutureWarning: `distplot` is a deprecated function and will be removed in a future version. Please adapt your code to use either `displot` (a figure-level function with similar flexibility) or `histplot` (an axes-level function for histograms).\n",
      "  warnings.warn(msg, FutureWarning)\n"
     ]
    },
    {
     "data": {
      "image/png": "[encoded data removed]",
      "text/plain": [
       "<Figure size 432x288 with 1 Axes>"
      ]
     },
     "metadata": {
      "needs_background": "light"
     },
     "output_type": "display_data"
    }
   ],
   "source": [
    "\n",
    "plt.figure()\n",
    "sns.distplot(df2[\" Price\"])\n",
    "plt.show()"
   ]
  },
  {
   "cell_type": "code",
   "execution_count": 19,
   "metadata": {},
   "outputs": [
    {
     "ename": "KeyboardInterrupt",
     "evalue": "",
     "output_type": "error",
     "traceback": [
      "\u001b[0;31m---------------------------------------------------------------------------\u001b[0m",
      "\u001b[0;31mKeyboardInterrupt\u001b[0m                         Traceback (most recent call last)",
      "\u001b[0;32m<ipython-input-19-048a77ddfe7d>\u001b[0m in \u001b[0;36m<module>\u001b[0;34m\u001b[0m\n\u001b[1;32m      1\u001b[0m \u001b[0mplt\u001b[0m\u001b[0;34m.\u001b[0m\u001b[0mfigure\u001b[0m\u001b[0;34m(\u001b[0m\u001b[0;34m)\u001b[0m\u001b[0;34m\u001b[0m\u001b[0;34m\u001b[0m\u001b[0m\n\u001b[0;32m----> 2\u001b[0;31m \u001b[0msns\u001b[0m\u001b[0;34m.\u001b[0m\u001b[0mbarplot\u001b[0m\u001b[0;34m(\u001b[0m\u001b[0mx\u001b[0m\u001b[0;34m=\u001b[0m\u001b[0;34m' Price'\u001b[0m\u001b[0;34m,\u001b[0m \u001b[0my\u001b[0m\u001b[0;34m=\u001b[0m\u001b[0;34m' Rating'\u001b[0m\u001b[0;34m,\u001b[0m \u001b[0mhue\u001b[0m\u001b[0;34m=\u001b[0m\u001b[0;34m' Category'\u001b[0m\u001b[0;34m,\u001b[0m \u001b[0mdata\u001b[0m\u001b[0;34m=\u001b[0m\u001b[0mdf2\u001b[0m\u001b[0;34m,\u001b[0m \u001b[0mestimator\u001b[0m\u001b[0;34m=\u001b[0m\u001b[0mnp\u001b[0m\u001b[0;34m.\u001b[0m\u001b[0mmedian\u001b[0m\u001b[0;34m)\u001b[0m\u001b[0;34m\u001b[0m\u001b[0;34m\u001b[0m\u001b[0m\n\u001b[0m\u001b[1;32m      3\u001b[0m \u001b[0mplt\u001b[0m\u001b[0;34m.\u001b[0m\u001b[0mshow\u001b[0m\u001b[0;34m(\u001b[0m\u001b[0;34m)\u001b[0m\u001b[0;34m\u001b[0m\u001b[0;34m\u001b[0m\u001b[0m\n",
      "\u001b[0;32m~/anaconda3/lib/python3.8/site-packages/seaborn/_decorators.py\u001b[0m in \u001b[0;36minner_f\u001b[0;34m(*args, **kwargs)\u001b[0m\n\u001b[1;32m     44\u001b[0m             )\n\u001b[1;32m     45\u001b[0m         \u001b[0mkwargs\u001b[0m\u001b[0;34m.\u001b[0m\u001b[0mupdate\u001b[0m\u001b[0;34m(\u001b[0m\u001b[0;34m{\u001b[0m\u001b[0mk\u001b[0m\u001b[0;34m:\u001b[0m \u001b[0marg\u001b[0m \u001b[0;32mfor\u001b[0m \u001b[0mk\u001b[0m\u001b[0;34m,\u001b[0m \u001b[0marg\u001b[0m \u001b[0;32min\u001b[0m \u001b[0mzip\u001b[0m\u001b[0;34m(\u001b[0m\u001b[0msig\u001b[0m\u001b[0;34m.\u001b[0m\u001b[0mparameters\u001b[0m\u001b[0;34m,\u001b[0m \u001b[0margs\u001b[0m\u001b[0;34m)\u001b[0m\u001b[0;34m}\u001b[0m\u001b[0;34m)\u001b[0m\u001b[0;34m\u001b[0m\u001b[0;34m\u001b[0m\u001b[0m\n\u001b[0;32m---> 46\u001b[0;31m         \u001b[0;32mreturn\u001b[0m \u001b[0mf\u001b[0m\u001b[0;34m(\u001b[0m\u001b[0;34m**\u001b[0m\u001b[0mkwargs\u001b[0m\u001b[0;34m)\u001b[0m\u001b[0;34m\u001b[0m\u001b[0;34m\u001b[0m\u001b[0m\n\u001b[0m\u001b[1;32m     47\u001b[0m     \u001b[0;32mreturn\u001b[0m \u001b[0minner_f\u001b[0m\u001b[0;34m\u001b[0m\u001b[0;34m\u001b[0m\u001b[0m\n\u001b[1;32m     48\u001b[0m \u001b[0;34m\u001b[0m\u001b[0m\n",
      "\u001b[0;32m~/anaconda3/lib/python3.8/site-packages/seaborn/categorical.py\u001b[0m in \u001b[0;36mbarplot\u001b[0;34m(x, y, hue, data, order, hue_order, estimator, ci, n_boot, units, seed, orient, color, palette, saturation, errcolor, errwidth, capsize, dodge, ax, **kwargs)\u001b[0m\n\u001b[1;32m   3177\u001b[0m ):\n\u001b[1;32m   3178\u001b[0m \u001b[0;34m\u001b[0m\u001b[0m\n\u001b[0;32m-> 3179\u001b[0;31m     plotter = _BarPlotter(x, y, hue, data, order, hue_order,\n\u001b[0m\u001b[1;32m   3180\u001b[0m                           \u001b[0mestimator\u001b[0m\u001b[0;34m,\u001b[0m \u001b[0mci\u001b[0m\u001b[0;34m,\u001b[0m \u001b[0mn_boot\u001b[0m\u001b[0;34m,\u001b[0m \u001b[0munits\u001b[0m\u001b[0;34m,\u001b[0m \u001b[0mseed\u001b[0m\u001b[0;34m,\u001b[0m\u001b[0;34m\u001b[0m\u001b[0;34m\u001b[0m\u001b[0m\n\u001b[1;32m   3181\u001b[0m                           \u001b[0morient\u001b[0m\u001b[0;34m,\u001b[0m \u001b[0mcolor\u001b[0m\u001b[0;34m,\u001b[0m \u001b[0mpalette\u001b[0m\u001b[0;34m,\u001b[0m \u001b[0msaturation\u001b[0m\u001b[0;34m,\u001b[0m\u001b[0;34m\u001b[0m\u001b[0;34m\u001b[0m\u001b[0m\n",
      "\u001b[0;32m~/anaconda3/lib/python3.8/site-packages/seaborn/categorical.py\u001b[0m in \u001b[0;36m__init__\u001b[0;34m(self, x, y, hue, data, order, hue_order, estimator, ci, n_boot, units, seed, orient, color, palette, saturation, errcolor, errwidth, capsize, dodge)\u001b[0m\n\u001b[1;32m   1585\u001b[0m                                  order, hue_order, units)\n\u001b[1;32m   1586\u001b[0m         \u001b[0mself\u001b[0m\u001b[0;34m.\u001b[0m\u001b[0mestablish_colors\u001b[0m\u001b[0;34m(\u001b[0m\u001b[0mcolor\u001b[0m\u001b[0;34m,\u001b[0m \u001b[0mpalette\u001b[0m\u001b[0;34m,\u001b[0m \u001b[0msaturation\u001b[0m\u001b[0;34m)\u001b[0m\u001b[0;34m\u001b[0m\u001b[0;34m\u001b[0m\u001b[0m\n\u001b[0;32m-> 1587\u001b[0;31m         \u001b[0mself\u001b[0m\u001b[0;34m.\u001b[0m\u001b[0mestimate_statistic\u001b[0m\u001b[0;34m(\u001b[0m\u001b[0mestimator\u001b[0m\u001b[0;34m,\u001b[0m \u001b[0mci\u001b[0m\u001b[0;34m,\u001b[0m \u001b[0mn_boot\u001b[0m\u001b[0;34m,\u001b[0m \u001b[0mseed\u001b[0m\u001b[0;34m)\u001b[0m\u001b[0;34m\u001b[0m\u001b[0;34m\u001b[0m\u001b[0m\n\u001b[0m\u001b[1;32m   1588\u001b[0m \u001b[0;34m\u001b[0m\u001b[0m\n\u001b[1;32m   1589\u001b[0m         \u001b[0mself\u001b[0m\u001b[0;34m.\u001b[0m\u001b[0mdodge\u001b[0m \u001b[0;34m=\u001b[0m \u001b[0mdodge\u001b[0m\u001b[0;34m\u001b[0m\u001b[0;34m\u001b[0m\u001b[0m\n",
      "\u001b[0;32m~/anaconda3/lib/python3.8/site-packages/seaborn/categorical.py\u001b[0m in \u001b[0;36mestimate_statistic\u001b[0;34m(self, estimator, ci, n_boot, seed)\u001b[0m\n\u001b[1;32m   1535\u001b[0m                         \u001b[0;32melse\u001b[0m\u001b[0;34m:\u001b[0m\u001b[0;34m\u001b[0m\u001b[0;34m\u001b[0m\u001b[0m\n\u001b[1;32m   1536\u001b[0m \u001b[0;34m\u001b[0m\u001b[0m\n\u001b[0;32m-> 1537\u001b[0;31m                             boots = bootstrap(stat_data, func=estimator,\n\u001b[0m\u001b[1;32m   1538\u001b[0m                                               \u001b[0mn_boot\u001b[0m\u001b[0;34m=\u001b[0m\u001b[0mn_boot\u001b[0m\u001b[0;34m,\u001b[0m\u001b[0;34m\u001b[0m\u001b[0;34m\u001b[0m\u001b[0m\n\u001b[1;32m   1539\u001b[0m                                               \u001b[0munits\u001b[0m\u001b[0;34m=\u001b[0m\u001b[0munit_data\u001b[0m\u001b[0;34m,\u001b[0m\u001b[0;34m\u001b[0m\u001b[0;34m\u001b[0m\u001b[0m\n",
      "\u001b[0;32m~/anaconda3/lib/python3.8/site-packages/seaborn/algorithms.py\u001b[0m in \u001b[0;36mbootstrap\u001b[0;34m(*args, **kwargs)\u001b[0m\n\u001b[1;32m     83\u001b[0m         \u001b[0mresampler\u001b[0m \u001b[0;34m=\u001b[0m \u001b[0mintegers\u001b[0m\u001b[0;34m(\u001b[0m\u001b[0;36m0\u001b[0m\u001b[0;34m,\u001b[0m \u001b[0mn\u001b[0m\u001b[0;34m,\u001b[0m \u001b[0mn\u001b[0m\u001b[0;34m,\u001b[0m \u001b[0mdtype\u001b[0m\u001b[0;34m=\u001b[0m\u001b[0mnp\u001b[0m\u001b[0;34m.\u001b[0m\u001b[0mintp\u001b[0m\u001b[0;34m)\u001b[0m  \u001b[0;31m# intp is indexing dtype\u001b[0m\u001b[0;34m\u001b[0m\u001b[0;34m\u001b[0m\u001b[0m\n\u001b[1;32m     84\u001b[0m         \u001b[0msample\u001b[0m \u001b[0;34m=\u001b[0m \u001b[0;34m[\u001b[0m\u001b[0ma\u001b[0m\u001b[0;34m.\u001b[0m\u001b[0mtake\u001b[0m\u001b[0;34m(\u001b[0m\u001b[0mresampler\u001b[0m\u001b[0;34m,\u001b[0m \u001b[0maxis\u001b[0m\u001b[0;34m=\u001b[0m\u001b[0;36m0\u001b[0m\u001b[0;34m)\u001b[0m \u001b[0;32mfor\u001b[0m \u001b[0ma\u001b[0m \u001b[0;32min\u001b[0m \u001b[0margs\u001b[0m\u001b[0;34m]\u001b[0m\u001b[0;34m\u001b[0m\u001b[0;34m\u001b[0m\u001b[0m\n\u001b[0;32m---> 85\u001b[0;31m         \u001b[0mboot_dist\u001b[0m\u001b[0;34m.\u001b[0m\u001b[0mappend\u001b[0m\u001b[0;34m(\u001b[0m\u001b[0mf\u001b[0m\u001b[0;34m(\u001b[0m\u001b[0;34m*\u001b[0m\u001b[0msample\u001b[0m\u001b[0;34m,\u001b[0m \u001b[0;34m**\u001b[0m\u001b[0mfunc_kwargs\u001b[0m\u001b[0;34m)\u001b[0m\u001b[0;34m)\u001b[0m\u001b[0;34m\u001b[0m\u001b[0;34m\u001b[0m\u001b[0m\n\u001b[0m\u001b[1;32m     86\u001b[0m     \u001b[0;32mreturn\u001b[0m \u001b[0mnp\u001b[0m\u001b[0;34m.\u001b[0m\u001b[0marray\u001b[0m\u001b[0;34m(\u001b[0m\u001b[0mboot_dist\u001b[0m\u001b[0;34m)\u001b[0m\u001b[0;34m\u001b[0m\u001b[0;34m\u001b[0m\u001b[0m\n\u001b[1;32m     87\u001b[0m \u001b[0;34m\u001b[0m\u001b[0m\n",
      "\u001b[0;32m<__array_function__ internals>\u001b[0m in \u001b[0;36mmedian\u001b[0;34m(*args, **kwargs)\u001b[0m\n",
      "\u001b[0;32m~/anaconda3/lib/python3.8/site-packages/numpy/lib/function_base.py\u001b[0m in \u001b[0;36mmedian\u001b[0;34m(a, axis, out, overwrite_input, keepdims)\u001b[0m\n\u001b[1;32m   3604\u001b[0m \u001b[0;34m\u001b[0m\u001b[0m\n\u001b[1;32m   3605\u001b[0m     \"\"\"\n\u001b[0;32m-> 3606\u001b[0;31m     r, k = _ureduce(a, func=_median, axis=axis, out=out,\n\u001b[0m\u001b[1;32m   3607\u001b[0m                     overwrite_input=overwrite_input)\n\u001b[1;32m   3608\u001b[0m     \u001b[0;32mif\u001b[0m \u001b[0mkeepdims\u001b[0m\u001b[0;34m:\u001b[0m\u001b[0;34m\u001b[0m\u001b[0;34m\u001b[0m\u001b[0m\n",
      "\u001b[0;32m~/anaconda3/lib/python3.8/site-packages/numpy/lib/function_base.py\u001b[0m in \u001b[0;36m_ureduce\u001b[0;34m(a, func, **kwargs)\u001b[0m\n\u001b[1;32m   3513\u001b[0m         \u001b[0mkeepdim\u001b[0m \u001b[0;34m=\u001b[0m \u001b[0;34m(\u001b[0m\u001b[0;36m1\u001b[0m\u001b[0;34m,\u001b[0m\u001b[0;34m)\u001b[0m \u001b[0;34m*\u001b[0m \u001b[0ma\u001b[0m\u001b[0;34m.\u001b[0m\u001b[0mndim\u001b[0m\u001b[0;34m\u001b[0m\u001b[0;34m\u001b[0m\u001b[0m\n\u001b[1;32m   3514\u001b[0m \u001b[0;34m\u001b[0m\u001b[0m\n\u001b[0;32m-> 3515\u001b[0;31m     \u001b[0mr\u001b[0m \u001b[0;34m=\u001b[0m \u001b[0mfunc\u001b[0m\u001b[0;34m(\u001b[0m\u001b[0ma\u001b[0m\u001b[0;34m,\u001b[0m \u001b[0;34m**\u001b[0m\u001b[0mkwargs\u001b[0m\u001b[0;34m)\u001b[0m\u001b[0;34m\u001b[0m\u001b[0;34m\u001b[0m\u001b[0m\n\u001b[0m\u001b[1;32m   3516\u001b[0m     \u001b[0;32mreturn\u001b[0m \u001b[0mr\u001b[0m\u001b[0;34m,\u001b[0m \u001b[0mkeepdim\u001b[0m\u001b[0;34m\u001b[0m\u001b[0;34m\u001b[0m\u001b[0m\n\u001b[1;32m   3517\u001b[0m \u001b[0;34m\u001b[0m\u001b[0m\n",
      "\u001b[0;32m~/anaconda3/lib/python3.8/site-packages/numpy/lib/function_base.py\u001b[0m in \u001b[0;36m_median\u001b[0;34m(a, axis, out, overwrite_input)\u001b[0m\n\u001b[1;32m   3639\u001b[0m             \u001b[0mpart\u001b[0m \u001b[0;34m=\u001b[0m \u001b[0ma\u001b[0m\u001b[0;34m\u001b[0m\u001b[0;34m\u001b[0m\u001b[0m\n\u001b[1;32m   3640\u001b[0m     \u001b[0;32melse\u001b[0m\u001b[0;34m:\u001b[0m\u001b[0;34m\u001b[0m\u001b[0;34m\u001b[0m\u001b[0m\n\u001b[0;32m-> 3641\u001b[0;31m         \u001b[0mpart\u001b[0m \u001b[0;34m=\u001b[0m \u001b[0mpartition\u001b[0m\u001b[0;34m(\u001b[0m\u001b[0ma\u001b[0m\u001b[0;34m,\u001b[0m \u001b[0mkth\u001b[0m\u001b[0;34m,\u001b[0m \u001b[0maxis\u001b[0m\u001b[0;34m=\u001b[0m\u001b[0maxis\u001b[0m\u001b[0;34m)\u001b[0m\u001b[0;34m\u001b[0m\u001b[0;34m\u001b[0m\u001b[0m\n\u001b[0m\u001b[1;32m   3642\u001b[0m \u001b[0;34m\u001b[0m\u001b[0m\n\u001b[1;32m   3643\u001b[0m     \u001b[0;32mif\u001b[0m \u001b[0mpart\u001b[0m\u001b[0;34m.\u001b[0m\u001b[0mshape\u001b[0m \u001b[0;34m==\u001b[0m \u001b[0;34m(\u001b[0m\u001b[0;34m)\u001b[0m\u001b[0;34m:\u001b[0m\u001b[0;34m\u001b[0m\u001b[0;34m\u001b[0m\u001b[0m\n",
      "\u001b[0;32m<__array_function__ internals>\u001b[0m in \u001b[0;36mpartition\u001b[0;34m(*args, **kwargs)\u001b[0m\n",
      "\u001b[0;31mKeyboardInterrupt\u001b[0m: "
     ]
    },
    {
     "data": {
      "text/plain": [
       "<Figure size 432x288 with 0 Axes>"
      ]
     },
     "metadata": {},
     "output_type": "display_data"
    }
   ],
   "source": [
    "#plt.figure()\n",
    "#sns.barplot(x=' Price', y=' Rating', hue=' Category', data=df2, estimator=np.median)\n",
    "#plt.show()"
   ]
  },
  {
   "cell_type": "markdown",
   "metadata": {},
   "source": [
    "\n",
    "**Gráficos de dispersión de seaborn.**\n",
    "\n",
    "Los gráficos de dispersión se usan para trazar puntos de datos en un eje vertical y uno horizontal, mediante lo que se trata de mostrar cuánto afecta una variable a otra.\n",
    "Tomado de https://docs.tibco.com/pub/spotfire_web_player/6.0.0-november-2013/es-ES/WebHelp/GUID-780960FA-1DCE-4E59-8EB7-54F7144DB362.html\n",
    "\n",
    "Con sns.pairplot se muestra una comparativa de cada elemento."
   ]
  },
  {
   "cell_type": "code",
   "execution_count": null,
   "metadata": {},
   "outputs": [],
   "source": [
    "\n",
    "# sns.pairplot(df2);"
   ]
  },
  {
   "cell_type": "markdown",
   "metadata": {},
   "source": [
    "\n",
    "**Mapa de calor de acuerdo a una correlación.**\n",
    "\n",
    "Los mapas de calor visualizan los datos a través de variaciones en el color. Cuando se aplican a un formato tabular, los mapas de calor son útiles para el examen cruzado de datos multivariados, mediante la colocación de variables en las filas y columnas, y coloreando las celdas dentro de la tabla. Los mapas de calor son buenos para mostrar la varianza a través de múltiples variables, revelando cualquier patrón, mostrando si las variables son similares entre sí y para detectar si existen correlaciones entre ellas. \n",
    "Tomado de https://datavizcatalogue.com/ES/metodos/mapa_de_calor.html\n",
    "\n",
    "El heatmap creará un gráfico con la correlación de los elementos comparables, se pasa como parámetro df.corr(), el cuál es la correlación del dataset.\n",
    "\n",
    "Entiéndase correlación como una medida estadística que expresa hasta qué punto dos variables están relacionadas linealmente (esto es, cambian conjuntamente a una tasa constante). Es una herramienta común para describir relaciones simples sin hacer afirmaciones sobre causa y efecto.\n",
    "Tomado de https://www.jmp.com/es_es/statistics-knowledge-portal/what-is-correlation.html"
   ]
  },
  {
   "cell_type": "code",
   "execution_count": null,
   "metadata": {},
   "outputs": [],
   "source": [
    "\n",
    "#_,ax=plt.subplots(figsize=(15,10))\n",
    "#colormap=sns.diverging_palette(220,10,as_cmap=True)\n",
    "#sns.heatmap(df.corr(),annot=True,cmap=colormap)"
   ]
  }
 ],
 "metadata": {
  "colab": {
   "collapsed_sections": [],
   "name": "TP_1_Matemática_para_Ciencia_de_los_Datos_Resultado.ipynb",
   "provenance": []
  },
  "kernelspec": {
   "display_name": "Python 3",
   "language": "python",
   "name": "python3"
  },
  "language_info": {
   "codemirror_mode": {
    "name": "ipython",
    "version": 3
   },
   "file_extension": ".py",
   "mimetype": "text/x-python",
   "name": "python",
   "nbconvert_exporter": "python",
   "pygments_lexer": "ipython3",
   "version": "3.8.8"
  }
 },
 "nbformat": 4,
 "nbformat_minor": 1
}
