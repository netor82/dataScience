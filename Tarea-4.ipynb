{
 "cells": [
  {
   "cell_type": "markdown",
   "id": "1b585072",
   "metadata": {},
   "source": [
    "# Aprendizaje Automático\n",
    "\n",
    "## Tarea 4\n",
    "\n",
    "Profesor: MSc. Felipe Meza.\n",
    "\n",
    "Instituto Tecnológico de Costa Rica, \n",
    "\n",
    "Medio de entrega: TecDigital.\n",
    "\n",
    "Entregables: El entregable consiste en el url de la notebook Tarea-4.ipynb en GITHUB. \n",
    "\n",
    "Grupo de trabajo:\n",
    "- Manuel Calderón\n",
    "- Ernesto Rivera\n",
    "\n",
    "---\n",
    "Objetivo: El objetivo de la Tarea 4 consiste en utilizar el dataset de la Tarea 3 y aplicarle una red neuronal."
   ]
  },
  {
   "cell_type": "markdown",
   "id": "1628ecc6",
   "metadata": {},
   "source": [
    "# Manejo y preprocesado de datos\n",
    "\n",
    "\n",
    "Para el ejemplo de los algoritmos supervisados se escogió el dataset de Agora.csv, utilizado en la tarea 2, ya que proporciona bastantes datos a trabajar.\n",
    "\n",
    "En las siguientes tres celdas:\n",
    "- Se importan las bibliotecas necesarias para este documento\n",
    "- Se lee el archivo **Agora.csv** y se eliminan errores de tabulado usando sustituciones textuales. El resultado final se guarda en el archivo **Agora2.csv**.\n",
    "- Se carga **Agora2.csv** en un dataframe de pandas.\n",
    "- Se eliminan los outliers y se convierten los features _Price_ y _Rating_ datos de texto a numéricos, y se eliminan los features que no interesan.\n",
    "- Se procesa el feature de _Category_ y se transforma usando _one hot encoding_.\n",
    "- Toma el _Rating_ y se crean categorías o clases.\n",
    "- Definir valores de entrada y target.\n",
    "\n",
    "### Importar bibliotecas"
   ]
  },
  {
   "cell_type": "code",
   "execution_count": 1,
   "id": "a5ef504d",
   "metadata": {},
   "outputs": [],
   "source": [
    "import numpy as np\n",
    "import pandas as pd\n",
    "from sklearn.model_selection import train_test_split\n",
    "import keras\n",
    "from keras.utils import np_utils\n",
    "from keras.models import Sequential\n",
    "from keras.layers.core import Dense, Dropout, Activation\n",
    "from tensorflow.keras.optimizers import SGD\n",
    "\n",
    "from matplotlib import pyplot as plt\n",
    "import seaborn as sns\n",
    "%matplotlib inline"
   ]
  },
  {
   "cell_type": "markdown",
   "id": "ef451dcd",
   "metadata": {},
   "source": [
    "### 1. Leer archivo original y eliminar errores de tabulación\n",
    "El resultado final es otro archico sin los errores de tabulación."
   ]
  },
  {
   "cell_type": "code",
   "execution_count": 2,
   "id": "b2383100",
   "metadata": {},
   "outputs": [],
   "source": [
    "## reemplazos textuales para curar los datos del dataset\n",
    "replacements = [\n",
    "[\"\\\"This Listing Is For Verified\", \"This Listing Is For Verified\", -1],\n",
    "[\"\\\"This subtropical\", \"This subtropical\", -1],\n",
    "[\"\\\"This po\", \"This po\", -1],\n",
    "[\"\\\"Mr. H\", \"Mr. H\", -1],\n",
    "[\"\\\"An engaging\", \"An engaging\", -1],\n",
    "[\",\\\"Professional F\", \",Professional F\", -1],\n",
    "[\",\\\"Professional D\", \",Professional D\", -1],\n",
    "[\"SKU:90183\\\"\", \"SKU:90183\", -1],\n",
    "[\"\\\"Encryption\", \"Encryption\", -1],\n",
    "[\"\\\"ProSoma\", \"ProSoma\", -1],\n",
    "[\"\\\"If you’\", \"If you’\", -1],\n",
    "[\",\\\"Named\", \"Named\", -1],\n",
    "[\",\\\"THC\", \",THC\", -1],\n",
    "[\"\\\"Strassman'\", \"Strassman'\", -1],\n",
    "[\"\\\"You d\", \"You d\", -1],\n",
    "[\",\\\"This is your\", \",This is your\", -1],\n",
    "[\"35,\\\"P\", \"35,P\", -1],\n",
    "[\"wing,\\\"\", \"wing,\", -1],\n",
    "[\"22,\\\"I\", \"22,I\", -1],\n",
    "[\",\\\"G13\", \",G13\", -1],\n",
    "[\"0,\\\"Pl\", \"0,Pl\", -1],\n",
    "[\"s Sunglasses Replica are 1:1  ...\", \"s Sunglasses Replica are 1:1 ...\\\"\", -1],\n",
    "[\"],,,,\", \"],\", -1],\n",
    "[\",David Icke (\", \",\\\"David Icke (\", -1],\n",
    "[\"r Bud,I\", \"r Bud,\\\"I\", -1],\n",
    "[\"hone,B\", \"hone,\\\"B\", -1],\n",
    "[\"h,I r\", \"h,\\\"I r\", -1],\n",
    "[\".,0.01547\", \".\\\",0.01547\", -1],\n",
    "[\"~5/5,,\", \"~5/5,\", -1],\n",
    "[\".,2.32555\", \".\\\",2.32555\", -1],\n",
    "[\"/5,,\", \"/5,\", -1],\n",
    "[\".,0.130088\", \".\\\",0.130088\", -1],\n",
    "[\"tazepam,\", \"tazepam\\\",\", -1],\n",
    "[\"E,15.8\", \"E\\\",15.8\", -1],\n",
    "[\"Quality\\\"\\\" we've all come to know and love. This MD ...\\\",1\", \n",
    "                        \"Quality we've all come to know and love. This MD ...,1\", -1] ]\n",
    "\n",
    "with open(\"Agora2.csv\", \"wb\") as nuevoArchivo: # trunca el archivo si ya existe\n",
    "    with open(\"Agora.csv\", mode=\"r\", encoding=\"UTF-8\", errors=\"ignore\") as archivoOriginal:\n",
    "        numero = 1\n",
    "        for linea in archivoOriginal:\n",
    "            if numero == 5000:\n",
    "                break\n",
    "            try:\n",
    "                # se corrigen los errores encontrados\n",
    "                for rep in replacements:\n",
    "                    modified = False\n",
    "                    if rep[0] in linea:\n",
    "                        if not modified:\n",
    "                            rep[2] = numero\n",
    "                            modified = True\n",
    "                        linea = linea.replace(rep[0], rep[1])\n",
    "                \n",
    "                # se almacena el texto en el nuevo archivo\n",
    "                linea = linea.encode(\"utf-8\")\n",
    "                nuevoArchivo.write(linea)\n",
    "            except Exception as e:\n",
    "                print(\"Error con el string\", numero, linea, e)\n",
    "                raise e\n",
    "            finally:\n",
    "                numero += 1\n",
    "\n",
    "# replacements"
   ]
  },
  {
   "cell_type": "markdown",
   "id": "a6e0fbfe",
   "metadata": {},
   "source": [
    "### 2. Cargar la nueva data"
   ]
  },
  {
   "cell_type": "code",
   "execution_count": 3,
   "id": "622d42ac",
   "metadata": {},
   "outputs": [
    {
     "data": {
      "text/html": [
       "<div>\n",
       "<style scoped>\n",
       "    .dataframe tbody tr th:only-of-type {\n",
       "        vertical-align: middle;\n",
       "    }\n",
       "\n",
       "    .dataframe tbody tr th {\n",
       "        vertical-align: top;\n",
       "    }\n",
       "\n",
       "    .dataframe thead th {\n",
       "        text-align: right;\n",
       "    }\n",
       "</style>\n",
       "<table border=\"1\" class=\"dataframe\">\n",
       "  <thead>\n",
       "    <tr style=\"text-align: right;\">\n",
       "      <th></th>\n",
       "      <th>Vendor</th>\n",
       "      <th>Category</th>\n",
       "      <th>Item</th>\n",
       "      <th>Item Description</th>\n",
       "      <th>Price</th>\n",
       "      <th>Origin</th>\n",
       "      <th>Destination</th>\n",
       "      <th>Rating</th>\n",
       "      <th>Remarks</th>\n",
       "    </tr>\n",
       "  </thead>\n",
       "  <tbody>\n",
       "    <tr>\n",
       "      <th>count</th>\n",
       "      <td>4998</td>\n",
       "      <td>4998</td>\n",
       "      <td>4998</td>\n",
       "      <td>4998</td>\n",
       "      <td>4998</td>\n",
       "      <td>3521</td>\n",
       "      <td>1525</td>\n",
       "      <td>4998</td>\n",
       "      <td>721</td>\n",
       "    </tr>\n",
       "    <tr>\n",
       "      <th>unique</th>\n",
       "      <td>339</td>\n",
       "      <td>21</td>\n",
       "      <td>4953</td>\n",
       "      <td>3930</td>\n",
       "      <td>4870</td>\n",
       "      <td>61</td>\n",
       "      <td>84</td>\n",
       "      <td>74</td>\n",
       "      <td>1</td>\n",
       "    </tr>\n",
       "    <tr>\n",
       "      <th>top</th>\n",
       "      <td>fake</td>\n",
       "      <td>Drugs/Prescription</td>\n",
       "      <td>Armani Business man suit Replica</td>\n",
       "      <td>This shipment is with tracking number. The shi...</td>\n",
       "      <td>0.00415549 BTC</td>\n",
       "      <td>USA</td>\n",
       "      <td>Worldwide</td>\n",
       "      <td>5.00/5</td>\n",
       "      <td>Average price may be skewed outliar &gt; .5 BTC f...</td>\n",
       "    </tr>\n",
       "    <tr>\n",
       "      <th>freq</th>\n",
       "      <td>467</td>\n",
       "      <td>1057</td>\n",
       "      <td>3</td>\n",
       "      <td>96</td>\n",
       "      <td>29</td>\n",
       "      <td>691</td>\n",
       "      <td>492</td>\n",
       "      <td>839</td>\n",
       "      <td>721</td>\n",
       "    </tr>\n",
       "  </tbody>\n",
       "</table>\n",
       "</div>"
      ],
      "text/plain": [
       "       Vendor            Category                              Item  \\\n",
       "count    4998                4998                              4998   \n",
       "unique    339                  21                              4953   \n",
       "top      fake  Drugs/Prescription  Armani Business man suit Replica   \n",
       "freq      467                1057                                 3   \n",
       "\n",
       "                                         Item Description           Price  \\\n",
       "count                                                4998            4998   \n",
       "unique                                               3930            4870   \n",
       "top     This shipment is with tracking number. The shi...  0.00415549 BTC   \n",
       "freq                                                   96              29   \n",
       "\n",
       "        Origin  Destination  Rating  \\\n",
       "count     3521         1525    4998   \n",
       "unique      61           84      74   \n",
       "top        USA    Worldwide  5.00/5   \n",
       "freq       691          492     839   \n",
       "\n",
       "                                                  Remarks  \n",
       "count                                                 721  \n",
       "unique                                                  1  \n",
       "top     Average price may be skewed outliar > .5 BTC f...  \n",
       "freq                                                  721  "
      ]
     },
     "execution_count": 3,
     "metadata": {},
     "output_type": "execute_result"
    }
   ],
   "source": [
    "df = pd.read_csv(\"Agora2.csv\")\n",
    "df.describe()"
   ]
  },
  {
   "cell_type": "markdown",
   "id": "38e46aa0",
   "metadata": {},
   "source": [
    "### 3. Limpiar datos y manejar tipos de datos\n",
    "Consiste en eliminar outliers y remover caracteres de columnas para poder convertirlas en números."
   ]
  },
  {
   "cell_type": "code",
   "execution_count": 4,
   "id": "25c371df",
   "metadata": {},
   "outputs": [
    {
     "name": "stdout",
     "output_type": "stream",
     "text": [
      "Cantidad de filas iniciales: 4998\n",
      "Cantidad de filas sin outliars: 4277\n",
      "Cantidad de filas con rating no nulo: 4277\n",
      "Cantidad de filas con ratings válidos: 4088\n",
      "Cantidad de filas con precio: 4088\n",
      "cantidad de precios en BTC: 4088\n",
      "Columnas restantes: Index([' Category', ' Price', ' Rating'], dtype='object')\n"
     ]
    },
    {
     "data": {
      "text/html": [
       "<div>\n",
       "<style scoped>\n",
       "    .dataframe tbody tr th:only-of-type {\n",
       "        vertical-align: middle;\n",
       "    }\n",
       "\n",
       "    .dataframe tbody tr th {\n",
       "        vertical-align: top;\n",
       "    }\n",
       "\n",
       "    .dataframe thead th {\n",
       "        text-align: right;\n",
       "    }\n",
       "</style>\n",
       "<table border=\"1\" class=\"dataframe\">\n",
       "  <thead>\n",
       "    <tr style=\"text-align: right;\">\n",
       "      <th></th>\n",
       "      <th>Price</th>\n",
       "      <th>Rating</th>\n",
       "    </tr>\n",
       "  </thead>\n",
       "  <tbody>\n",
       "    <tr>\n",
       "      <th>count</th>\n",
       "      <td>4.088000e+03</td>\n",
       "      <td>4088.000000</td>\n",
       "    </tr>\n",
       "    <tr>\n",
       "      <th>mean</th>\n",
       "      <td>6.705033e+00</td>\n",
       "      <td>4.866215</td>\n",
       "    </tr>\n",
       "    <tr>\n",
       "      <th>std</th>\n",
       "      <td>3.511620e+02</td>\n",
       "      <td>0.337424</td>\n",
       "    </tr>\n",
       "    <tr>\n",
       "      <th>min</th>\n",
       "      <td>1.000000e-07</td>\n",
       "      <td>0.000000</td>\n",
       "    </tr>\n",
       "    <tr>\n",
       "      <th>25%</th>\n",
       "      <td>2.818479e-02</td>\n",
       "      <td>4.827750</td>\n",
       "    </tr>\n",
       "    <tr>\n",
       "      <th>50%</th>\n",
       "      <td>1.000080e-01</td>\n",
       "      <td>4.960000</td>\n",
       "    </tr>\n",
       "    <tr>\n",
       "      <th>75%</th>\n",
       "      <td>2.541704e-01</td>\n",
       "      <td>4.994000</td>\n",
       "    </tr>\n",
       "    <tr>\n",
       "      <th>max</th>\n",
       "      <td>2.198500e+04</td>\n",
       "      <td>5.000000</td>\n",
       "    </tr>\n",
       "  </tbody>\n",
       "</table>\n",
       "</div>"
      ],
      "text/plain": [
       "              Price       Rating\n",
       "count  4.088000e+03  4088.000000\n",
       "mean   6.705033e+00     4.866215\n",
       "std    3.511620e+02     0.337424\n",
       "min    1.000000e-07     0.000000\n",
       "25%    2.818479e-02     4.827750\n",
       "50%    1.000080e-01     4.960000\n",
       "75%    2.541704e-01     4.994000\n",
       "max    2.198500e+04     5.000000"
      ]
     },
     "execution_count": 4,
     "metadata": {},
     "output_type": "execute_result"
    }
   ],
   "source": [
    "\n",
    "print('Cantidad de filas iniciales:', df.shape[0])\n",
    "\n",
    "# queda en 10737 si outliers\n",
    "df = df[df[\" Remarks\"] != \"Average price may be skewed outliar > .5 BTC found\"]\n",
    "print('Cantidad de filas sin outliars:', df.shape[0])\n",
    "\n",
    "# Elimina entradas sin rating\n",
    "df.dropna(subset = [\" Rating\"], inplace=True)\n",
    "print('Cantidad de filas con rating no nulo:', df.shape[0])\n",
    "\n",
    "# se deja los Ratings válidos - que terminan en '/5'\n",
    "df = df[df[\" Rating\"].str.endswith(\"/5\")]\n",
    "print('Cantidad de filas con ratings válidos:', df.shape[0])\n",
    "\n",
    "# Todas las entradas tienen precio, entonces **no elimina** ninguna fila\n",
    "df.dropna(subset = [\" Price\"], inplace=True)\n",
    "print('Cantidad de filas con precio:', df.shape[0])\n",
    "\n",
    "# Verifica la cantidad de entradas que terminan con 'BTC'\n",
    "print('cantidad de precios en BTC:', df[\" Price\"].str.endswith('BTC').count() )\n",
    "\n",
    "# texto a números\n",
    "df[\" Price\"]  = df[\" Price\"].str.replace(\" BTC\" , \"\")\n",
    "df[\" Rating\"] = df[\" Rating\"].str.replace(\"/5\" , \"\")\n",
    "df[\" Rating\"] = df[\" Rating\"].str.replace(\"~\" , \"\")\n",
    "df[\" Price\"]  = pd.to_numeric(df[\" Price\"], errors =\"coerce\")\n",
    "df[\" Rating\"] = pd.to_numeric(df[\" Rating\"], errors =\"coerce\")\n",
    "\n",
    "\n",
    "\n",
    "# eliminar features no necesarios\n",
    "df.drop(columns=[\"Vendor\", \" Item\", \" Item Description\", \" Origin\", \" Destination\", \" Remarks\"], inplace=True)\n",
    "print('Columnas restantes:', df.columns)\n",
    "\n",
    "df.describe()"
   ]
  },
  {
   "cell_type": "markdown",
   "id": "2a4e4462",
   "metadata": {},
   "source": [
    "### 4. Codificar _category_ usando one hot encoding\n",
    "Al analizar los datos, nos dimos cuenta que es más variada la información de subcategoría que la de categoría.  Y que el subtipo ya era demasiado específico.\n",
    "\n",
    "La siguiente celda recolecta solo la información de subcategoría."
   ]
  },
  {
   "cell_type": "code",
   "execution_count": 5,
   "id": "9933ee67",
   "metadata": {},
   "outputs": [],
   "source": [
    "def soloCategoria(cat):\n",
    "    posInicio = cat.find(\"/\")\n",
    "    if posInicio == -1:\n",
    "        return cat\n",
    "    \n",
    "    posFin = cat.rindex(\"/\")\n",
    "    if posInicio == posFin:\n",
    "        return cat[posInicio+1:]\n",
    "    return cat[posInicio+1:posFin]\n",
    "\n",
    "# usa la subcategoría\n",
    "df[\" Category\"] = df[ \" Category\" ].apply(soloCategoria)\n",
    "\n",
    "# codifica la categoría usando one-hot-encoding\n",
    "oneHotEncoded = pd.get_dummies(df, columns=[\" Category\"], prefix=\"Cat\")"
   ]
  },
  {
   "cell_type": "markdown",
   "id": "0787e64b",
   "metadata": {},
   "source": [
    "### 5. Covertir _rating_ en clases\n",
    "Se crea la nueva columna _RatingClass_ para almacenar los valores resultantes de la clasificación.\n",
    "\n",
    "Para la clasificación, se usaron valoes co los que las diferentes categorías resultantes estén balanceadas. Como parte de esta celda se imprime la cantidad de elementos por categoría."
   ]
  },
  {
   "cell_type": "code",
   "execution_count": 6,
   "id": "c564ba03",
   "metadata": {},
   "outputs": [
    {
     "name": "stdout",
     "output_type": "stream",
     "text": [
      "Cantidades por categoría\n"
     ]
    },
    {
     "data": {
      "text/plain": [
       "1    1687\n",
       "2    1394\n",
       "0    1007\n",
       "Name: RatingClass, dtype: int64"
      ]
     },
     "execution_count": 6,
     "metadata": {},
     "output_type": "execute_result"
    }
   ],
   "source": [
    "## Retorna la categoría correspondiente al rating.\n",
    "## El valor Rating de los datos está en el rango [2.6, 5.0]\n",
    "## Categorías resultantes:\n",
    "## - 2: excelente\n",
    "## - 1: regular\n",
    "## - 0: malo\n",
    "def categoriasDeRating(valor):\n",
    "    if valor > 4.98:\n",
    "        return 2 # excelente\n",
    "    if valor > 4.8:\n",
    "        return 1 # regular\n",
    "    return 0 #malo\n",
    "\n",
    "df[\"RatingClass\"] = df[ \" Rating\" ].apply(categoriasDeRating)\n",
    "print(\"Cantidades por categoría\")\n",
    "df[\"RatingClass\"].value_counts()"
   ]
  },
  {
   "cell_type": "markdown",
   "id": "3274154c",
   "metadata": {},
   "source": [
    "### 6. Eliminar columna _rating_ de los datos de entrada\n",
    "La columna _Rating_ corresponde a los datos Target o _Y_, por eso se debe eliminar de los datos de entrada o _X_."
   ]
  },
  {
   "cell_type": "code",
   "execution_count": 7,
   "id": "2b3e4211",
   "metadata": {},
   "outputs": [
    {
     "name": "stdout",
     "output_type": "stream",
     "text": [
      "Columnas a usar:  20 Index([' Price', 'Cat_Accounts', 'Cat_Clothing', 'Cat_Electronics',\n",
      "       'Cat_Guides', 'Cat_Hacking', 'Cat_Jewelry', 'Cat_Money', 'Cat_Other',\n",
      "       'Cat_Physical documents', 'Cat_Pipes', 'Cat_Pirated',\n",
      "       'Cat_Prescription', 'Cat_RCs', 'Cat_Scans', 'Cat_Smoked',\n",
      "       'Cat_Software', 'Cat_Steroids', 'Cat_Weight loss', 'Cat_eBooks'],\n",
      "      dtype='object')\n"
     ]
    }
   ],
   "source": [
    "oneHotEncoded.drop(columns=[\" Rating\"], inplace=True)\n",
    "print(\"Columnas a usar: \", oneHotEncoded.shape[1], oneHotEncoded.columns)"
   ]
  },
  {
   "cell_type": "markdown",
   "id": "cfd557a6",
   "metadata": {},
   "source": [
    "### 7. Valores de entrada y salida para entrenamiento\n",
    "_X_ corresponde a los valores de entrada, y _Y_ a la clasificación de Rating, también codificados usando one hot encoding."
   ]
  },
  {
   "cell_type": "code",
   "execution_count": 8,
   "id": "8148fd0c",
   "metadata": {},
   "outputs": [
    {
     "name": "stdout",
     "output_type": "stream",
     "text": [
      "Shape de X: (4088, 19)\n",
      "Shape de Y: (4088, 3)\n",
      "\n",
      "Primeras 10 filas de X\n",
      "[[0. 0. 0. 0. 1. 0. 0. 0. 0. 0. 0. 0. 0. 0. 0. 0. 0. 0. 0.]\n",
      " [0. 0. 0. 0. 1. 0. 0. 0. 0. 0. 0. 0. 0. 0. 0. 0. 0. 0. 0.]\n",
      " [0. 0. 0. 0. 1. 0. 0. 0. 0. 0. 0. 0. 0. 0. 0. 0. 0. 0. 0.]\n",
      " [0. 0. 0. 0. 1. 0. 0. 0. 0. 0. 0. 0. 0. 0. 0. 0. 0. 0. 0.]\n",
      " [0. 0. 0. 0. 1. 0. 0. 0. 0. 0. 0. 0. 0. 0. 0. 0. 0. 0. 0.]\n",
      " [0. 0. 0. 0. 1. 0. 0. 0. 0. 0. 0. 0. 0. 0. 0. 0. 0. 0. 0.]\n",
      " [0. 0. 0. 0. 1. 0. 0. 0. 0. 0. 0. 0. 0. 0. 0. 0. 0. 0. 0.]\n",
      " [0. 0. 0. 0. 1. 0. 0. 0. 0. 0. 0. 0. 0. 0. 0. 0. 0. 0. 0.]\n",
      " [0. 0. 0. 0. 1. 0. 0. 0. 0. 0. 0. 0. 0. 0. 0. 0. 0. 0. 0.]\n",
      " [0. 0. 0. 0. 1. 0. 0. 0. 0. 0. 0. 0. 0. 0. 0. 0. 0. 0. 0.]]\n",
      "\n",
      "Primeras 10 filas de Y\n",
      "[[0. 1. 0.]\n",
      " [0. 1. 0.]\n",
      " [0. 1. 0.]\n",
      " [0. 1. 0.]\n",
      " [0. 1. 0.]\n",
      " [0. 1. 0.]\n",
      " [0. 1. 0.]\n",
      " [0. 1. 0.]\n",
      " [0. 1. 0.]\n",
      " [0. 1. 0.]]\n"
     ]
    }
   ],
   "source": [
    "X = np.array(oneHotEncoded)[:,1:]\n",
    "X = X.astype('float32')\n",
    "y = keras.utils.np_utils.to_categorical(df[\"RatingClass\"],3)\n",
    "\n",
    "# Checking that the input and output look correct\n",
    "print(\"Shape de X:\", X.shape)\n",
    "print(\"Shape de Y:\", y.shape)\n",
    "print(\"\\nPrimeras 10 filas de X\")\n",
    "print(X[:10])\n",
    "print(\"\\nPrimeras 10 filas de Y\")\n",
    "print(y[:10])"
   ]
  },
  {
   "cell_type": "code",
   "execution_count": 9,
   "id": "2573efef",
   "metadata": {},
   "outputs": [
    {
     "name": "stdout",
     "output_type": "stream",
     "text": [
      "Cantidad de valores para entrenar: 3066\n",
      "Cantidad de valores para comprobar: 1022\n"
     ]
    }
   ],
   "source": [
    "X_train, X_test, Y_train, Y_test = train_test_split(X, y, random_state=13)\n",
    "print(\"Cantidad de valores para entrenar:\", X_train.shape[0])\n",
    "print(\"Cantidad de valores para comprobar:\", Y_test.shape[0])"
   ]
  },
  {
   "cell_type": "markdown",
   "id": "28062e48",
   "metadata": {},
   "source": [
    "## Primer acercamiento\n",
    "Se procede a crear una red neuronal de:\n",
    "- 20 entradas (cantidad de features),\n",
    "- capa intermedia de 128 perceptrones,\n",
    "- capa intermedia de 64 perceptrones,\n",
    "- capa intermedia de 32 perceptrones\n",
    "- salida de 3, uno por categoría, usando función de activación sigmoide."
   ]
  },
  {
   "cell_type": "code",
   "execution_count": 10,
   "id": "39071bda",
   "metadata": {},
   "outputs": [
    {
     "name": "stdout",
     "output_type": "stream",
     "text": [
      "Model: \"sequential\"\n",
      "_________________________________________________________________\n",
      "Layer (type)                 Output Shape              Param #   \n",
      "=================================================================\n",
      "dense (Dense)                (None, 128)               2560      \n",
      "_________________________________________________________________\n",
      "activation (Activation)      (None, 128)               0         \n",
      "_________________________________________________________________\n",
      "dropout (Dropout)            (None, 128)               0         \n",
      "_________________________________________________________________\n",
      "dense_1 (Dense)              (None, 64)                8256      \n",
      "_________________________________________________________________\n",
      "activation_1 (Activation)    (None, 64)                0         \n",
      "_________________________________________________________________\n",
      "dropout_1 (Dropout)          (None, 64)                0         \n",
      "_________________________________________________________________\n",
      "dense_2 (Dense)              (None, 32)                2080      \n",
      "_________________________________________________________________\n",
      "activation_2 (Activation)    (None, 32)                0         \n",
      "_________________________________________________________________\n",
      "dropout_2 (Dropout)          (None, 32)                0         \n",
      "_________________________________________________________________\n",
      "dense_3 (Dense)              (None, 3)                 99        \n",
      "_________________________________________________________________\n",
      "activation_3 (Activation)    (None, 3)                 0         \n",
      "=================================================================\n",
      "Total params: 12,995\n",
      "Trainable params: 12,995\n",
      "Non-trainable params: 0\n",
      "_________________________________________________________________\n"
     ]
    }
   ],
   "source": [
    "model = Sequential()\n",
    "\n",
    "model.add(Dense(128, input_dim= X_train.shape[1]))\n",
    "model.add(Activation('tanh'))\n",
    "model.add(Dropout(.3)) # now using dropout\n",
    "\n",
    "model.add(Dense(64))\n",
    "model.add(Activation('tanh'))\n",
    "model.add(Dropout(.2))\n",
    "\n",
    "model.add(Dense(32))\n",
    "model.add(Activation('tanh'))\n",
    "model.add(Dropout(.1))\n",
    "\n",
    "model.add(Dense(3))\n",
    "model.add(Activation('sigmoid'))\n",
    "\n",
    "model.compile(loss = 'categorical_crossentropy', optimizer='rmsprop', metrics=['accuracy'])\n",
    "model.summary()"
   ]
  },
  {
   "cell_type": "markdown",
   "id": "f76c9ae8",
   "metadata": {},
   "source": [
    "### Entrenamiento del modelo y evaluación"
   ]
  },
  {
   "cell_type": "code",
   "execution_count": 24,
   "id": "3e12fa23",
   "metadata": {},
   "outputs": [],
   "source": [
    "## Función para graficar\n",
    "def graficar(X, results, title):\n",
    "    \n",
    "    plt.plot(X, results[0], label=\"Training loss\")\n",
    "    plt.plot(X, results[1], label=\"Training accuracy\")\n",
    "    plt.plot(X, results[2], label=\"Test loss\")\n",
    "    plt.plot(X, results[3], label=\"Test accuracy\")\n",
    "    plt.xlabel(\"Iteraciones\")\n",
    "\n",
    "    plt.title(title)\n",
    "    plt.tight_layout(pad=3.0)\n",
    "    plt.legend()\n",
    "\n",
    "    plt.show()\n",
    "\n",
    "## Función para entrenar y probar\n",
    "def testEpochs(epochs):\n",
    "    resultados = [[],[],[],[]] ## train loss, train accuracy, test loss, test accuracy\n",
    "    for i in range (epochs):\n",
    "        model.fit(X_train, Y_train, epochs=i, batch_size=200, verbose=0)\n",
    "        # datos de entrenamiento\n",
    "        score = model.evaluate(X_train, Y_train, verbose=0)\n",
    "        resultados[0].append(score[0])\n",
    "        resultados[1].append(score[1])\n",
    "        \n",
    "        #datos de prueba\n",
    "        score = model.evaluate(X_test, Y_test, verbose=0)\n",
    "        resultados[2].append(score[0])\n",
    "        resultados[3].append(score[1])\n",
    "        print(\".\", end=\"\")\n",
    "    print(\"!\")\n",
    "    return resultados"
   ]
  },
  {
   "cell_type": "code",
   "execution_count": 25,
   "id": "aaa45528",
   "metadata": {},
   "outputs": [
    {
     "name": "stdout",
     "output_type": "stream",
     "text": [
      "..............................!\n"
     ]
    },
    {
     "data": {
      "image/png": "[encoded data removed]",
      "text/plain": [
       "<Figure size 432x288 with 1 Axes>"
      ]
     },
     "metadata": {
      "needs_background": "light"
     },
     "output_type": "display_data"
    }
   ],
   "source": [
    "resultados = testEpochs(30)\n",
    "graficar(range(30), resultados, \"Función sigmoide\")"
   ]
  },
  {
   "cell_type": "markdown",
   "id": "ec1a1634",
   "metadata": {},
   "source": [
    "### Conclusión de este primer acercamiento\n",
    "Parece que el primer acercamiento tuvo certeza en al rededor del 55% de los casos."
   ]
  }
 ],
 "metadata": {
  "kernelspec": {
   "display_name": "Python 3",
   "language": "python",
   "name": "python3"
  },
  "language_info": {
   "codemirror_mode": {
    "name": "ipython",
    "version": 3
   },
   "file_extension": ".py",
   "mimetype": "text/x-python",
   "name": "python",
   "nbconvert_exporter": "python",
   "pygments_lexer": "ipython3",
   "version": "3.8.8"
  }
 },
 "nbformat": 4,
 "nbformat_minor": 5
}
