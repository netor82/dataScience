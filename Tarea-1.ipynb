{
 "cells": [
  {
   "cell_type": "markdown",
   "id": "dfb0eeac",
   "metadata": {},
   "source": [
    "# Aprendizaje Automático\n",
    "\n",
    "## Tarea 1\n",
    "\n",
    "Grupo de trabajo:\n",
    "- Manuel Calderón\n",
    "- Ernesto Rivera\n",
    "\n",
    "\n",
    "Primer paso: Importar las bibliotecas necesarias"
   ]
  },
  {
   "cell_type": "code",
   "execution_count": 10,
   "id": "8bae55ae",
   "metadata": {},
   "outputs": [],
   "source": [
    "import math \n",
    "import matplotlib.pyplot as plt\n",
    "import numpy as np\n",
    "import pandas as pd\n",
    "from sklearn import preprocessing\n",
    "import torch as torch"
   ]
  },
  {
   "cell_type": "markdown",
   "id": "5ce2099c",
   "metadata": {},
   "source": [
    "Siguiente paso: Leer los datos del archivo, que está separado por comas."
   ]
  },
  {
   "cell_type": "code",
   "execution_count": 43,
   "id": "b1a69a46",
   "metadata": {},
   "outputs": [
    {
     "name": "stdout",
     "output_type": "stream",
     "text": [
      "            Date  Temp\n",
      "0     1981-01-01  20.7\n",
      "1     1981-01-02  17.9\n",
      "2     1981-01-03  18.8\n",
      "3     1981-01-04  14.6\n",
      "4     1981-01-05  15.8\n",
      "...          ...   ...\n",
      "3645  1990-12-27  14.0\n",
      "3646  1990-12-28  13.6\n",
      "3647  1990-12-29  13.5\n",
      "3648  1990-12-30  15.7\n",
      "3649  1990-12-31  13.0\n",
      "\n",
      "[3650 rows x 2 columns]\n"
     ]
    }
   ],
   "source": [
    "# cargar dataframe\n",
    "df = pd.read_csv(\"daily-min-temperatures.txt\", delimiter=\",\")\n",
    "print(df)"
   ]
  },
  {
   "cell_type": "code",
   "execution_count": 46,
   "id": "db2364fb",
   "metadata": {},
   "outputs": [
    {
     "data": {
      "text/html": [
       "<div>\n",
       "<style scoped>\n",
       "    .dataframe tbody tr th:only-of-type {\n",
       "        vertical-align: middle;\n",
       "    }\n",
       "\n",
       "    .dataframe tbody tr th {\n",
       "        vertical-align: top;\n",
       "    }\n",
       "\n",
       "    .dataframe thead th {\n",
       "        text-align: right;\n",
       "    }\n",
       "</style>\n",
       "<table border=\"1\" class=\"dataframe\">\n",
       "  <thead>\n",
       "    <tr style=\"text-align: right;\">\n",
       "      <th></th>\n",
       "      <th>Temp</th>\n",
       "    </tr>\n",
       "  </thead>\n",
       "  <tbody>\n",
       "    <tr>\n",
       "      <th>count</th>\n",
       "      <td>3650.000000</td>\n",
       "    </tr>\n",
       "    <tr>\n",
       "      <th>mean</th>\n",
       "      <td>11.177753</td>\n",
       "    </tr>\n",
       "    <tr>\n",
       "      <th>std</th>\n",
       "      <td>4.071837</td>\n",
       "    </tr>\n",
       "    <tr>\n",
       "      <th>min</th>\n",
       "      <td>0.000000</td>\n",
       "    </tr>\n",
       "    <tr>\n",
       "      <th>25%</th>\n",
       "      <td>8.300000</td>\n",
       "    </tr>\n",
       "    <tr>\n",
       "      <th>50%</th>\n",
       "      <td>11.000000</td>\n",
       "    </tr>\n",
       "    <tr>\n",
       "      <th>75%</th>\n",
       "      <td>14.000000</td>\n",
       "    </tr>\n",
       "    <tr>\n",
       "      <th>max</th>\n",
       "      <td>26.300000</td>\n",
       "    </tr>\n",
       "  </tbody>\n",
       "</table>\n",
       "</div>"
      ],
      "text/plain": [
       "              Temp\n",
       "count  3650.000000\n",
       "mean     11.177753\n",
       "std       4.071837\n",
       "min       0.000000\n",
       "25%       8.300000\n",
       "50%      11.000000\n",
       "75%      14.000000\n",
       "max      26.300000"
      ]
     },
     "execution_count": 46,
     "metadata": {},
     "output_type": "execute_result"
    }
   ],
   "source": [
    "# analizar los datos\n",
    "df.describe()"
   ]
  },
  {
   "cell_type": "code",
   "execution_count": 45,
   "id": "5a037033",
   "metadata": {},
   "outputs": [
    {
     "data": {
      "text/plain": [
       "tensor([[20.7000],\n",
       "        [17.9000],\n",
       "        [18.8000],\n",
       "        ...,\n",
       "        [13.5000],\n",
       "        [15.7000],\n",
       "        [13.0000]], dtype=torch.float64)"
      ]
     },
     "execution_count": 45,
     "metadata": {},
     "output_type": "execute_result"
    }
   ],
   "source": [
    "# necesita hacer \"reshape\" para que transforme de \n",
    "# - arreglo de n [20.7000, 17.9000 ...]\n",
    "# - a matriz de nx1 [[20.7000], [17.9000], ...]] \n",
    "temperatura = torch.tensor(df[\"Temp\"]).reshape(-1, 1)\n",
    "temperatura"
   ]
  },
  {
   "cell_type": "markdown",
   "id": "b35d278a",
   "metadata": {},
   "source": [
    "Siguientes pasos:\n",
    "1. normalizar los datos\n",
    "1. estandarizar los datos\n",
    "\n",
    "## 1. Normalización\n",
    "\n",
    "### Usando procedimiento automático"
   ]
  },
  {
   "cell_type": "code",
   "execution_count": 51,
   "id": "bbbdb0d3",
   "metadata": {},
   "outputs": [
    {
     "name": "stdout",
     "output_type": "stream",
     "text": [
      "[[0.78707224]\n",
      " [0.68060837]\n",
      " [0.7148289 ]\n",
      " ...\n",
      " [0.51330798]\n",
      " [0.59695817]\n",
      " [0.49429658]]\n"
     ]
    }
   ],
   "source": [
    "normalizador = preprocessing.MinMaxScaler()\n",
    "normalizador.fit(temperatura)\n",
    "normalizadaAutomatica = normalizador.transform(temperatura)\n",
    "print(normalizadaAutomatica)"
   ]
  },
  {
   "cell_type": "markdown",
   "id": "31de71e9",
   "metadata": {},
   "source": [
    "### Usando procedimiento manual\n",
    "Se usa la fórmula\n",
    "$$\n",
    "\\frac{valor - mínimo}{máximo - mínimo}\n",
    "$$"
   ]
  },
  {
   "cell_type": "code",
   "execution_count": 31,
   "id": "1336ad27",
   "metadata": {},
   "outputs": [
    {
     "data": {
      "text/plain": [
       "tensor([[0.7871],\n",
       "        [0.6806],\n",
       "        [0.7148],\n",
       "        ...,\n",
       "        [0.5133],\n",
       "        [0.5970],\n",
       "        [0.4943]], dtype=torch.float64)"
      ]
     },
     "execution_count": 31,
     "metadata": {},
     "output_type": "execute_result"
    }
   ],
   "source": [
    "# normalizar\n",
    "normalizadaManual = (temperatura-temperatura.min()) / (temperatura.max()-temperatura.min())\n",
    "normalizadaManual"
   ]
  },
  {
   "cell_type": "markdown",
   "id": "51ff462a",
   "metadata": {},
   "source": [
    "## 2. Estandarización\n",
    "\n",
    "### Usando procedimiento automático"
   ]
  },
  {
   "cell_type": "code",
   "execution_count": 49,
   "id": "d5e45d12",
   "metadata": {},
   "outputs": [
    {
     "data": {
      "text/plain": [
       "array([[2.33888328],\n",
       "       [1.65113873],\n",
       "       [1.87219948],\n",
       "       ...,\n",
       "       [0.5703973 ],\n",
       "       [1.11076801],\n",
       "       [0.44758577]])"
      ]
     },
     "execution_count": 49,
     "metadata": {},
     "output_type": "execute_result"
    }
   ],
   "source": [
    "# estándar automática\n",
    "scaler = preprocessing.StandardScaler()\n",
    "scaler.fit(temperatura)\n",
    "estandarAutomatica = scaler.transform(temperatura)\n",
    "estandarAutomatica"
   ]
  },
  {
   "cell_type": "markdown",
   "id": "ce2337a8",
   "metadata": {},
   "source": [
    "### Usando procedimiento manual\n",
    "Se usa la fórmula\n",
    "$$\n",
    "\\frac{valor - media}{\\text{desviación estándar}}\n",
    "$$"
   ]
  },
  {
   "cell_type": "code",
   "execution_count": 50,
   "id": "9f3d7564",
   "metadata": {},
   "outputs": [
    {
     "data": {
      "text/plain": [
       "tensor([[2.3386],\n",
       "        [1.6509],\n",
       "        [1.8719],\n",
       "        ...,\n",
       "        [0.5703],\n",
       "        [1.1106],\n",
       "        [0.4475]], dtype=torch.float64)"
      ]
     },
     "execution_count": 50,
     "metadata": {},
     "output_type": "execute_result"
    }
   ],
   "source": [
    "# estándar manual\n",
    "estandarManual = (temperatura - temperatura.mean()) / temperatura.std()\n",
    "estandarManual"
   ]
  }
 ],
 "metadata": {
  "kernelspec": {
   "display_name": "Python 3",
   "language": "python",
   "name": "python3"
  },
  "language_info": {
   "codemirror_mode": {
    "name": "ipython",
    "version": 3
   },
   "file_extension": ".py",
   "mimetype": "text/x-python",
   "name": "python",
   "nbconvert_exporter": "python",
   "pygments_lexer": "ipython3",
   "version": "3.8.8"
  }
 },
 "nbformat": 4,
 "nbformat_minor": 5
}
