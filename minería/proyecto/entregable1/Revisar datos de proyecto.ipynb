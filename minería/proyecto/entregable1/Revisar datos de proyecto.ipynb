{
 "cells": [
  {
   "cell_type": "code",
   "execution_count": 1,
   "id": "1060f79e",
   "metadata": {},
   "outputs": [],
   "source": [
    "import numpy as np\n",
    "import pandas as pd\n",
    "\n",
    "from matplotlib import pyplot as plt\n",
    "import seaborn as sns\n",
    "\n",
    "from keras.models import Sequential\n",
    "from keras.layers.core import Dense, Dropout, Activation\n",
    "from keras.callbacks import ModelCheckpoint, EarlyStopping\n",
    "\n",
    "%matplotlib inline\n",
    "\n",
    "import openpyxl"
   ]
  },
  {
   "cell_type": "code",
   "execution_count": 2,
   "id": "96bbe0cd",
   "metadata": {},
   "outputs": [
    {
     "data": {
      "text/html": [
       "<div>\n",
       "<style scoped>\n",
       "    .dataframe tbody tr th:only-of-type {\n",
       "        vertical-align: middle;\n",
       "    }\n",
       "\n",
       "    .dataframe tbody tr th {\n",
       "        vertical-align: top;\n",
       "    }\n",
       "\n",
       "    .dataframe thead th {\n",
       "        text-align: right;\n",
       "    }\n",
       "</style>\n",
       "<table border=\"1\" class=\"dataframe\">\n",
       "  <thead>\n",
       "    <tr style=\"text-align: right;\">\n",
       "      <th></th>\n",
       "      <th>Domain Code</th>\n",
       "      <th>Domain</th>\n",
       "      <th>Area Code (FAO)</th>\n",
       "      <th>Area</th>\n",
       "      <th>Element Code</th>\n",
       "      <th>Element</th>\n",
       "      <th>Item Code (FAO)</th>\n",
       "      <th>Item</th>\n",
       "      <th>Year Code</th>\n",
       "      <th>Year</th>\n",
       "      <th>Unit</th>\n",
       "      <th>Value</th>\n",
       "      <th>Flag</th>\n",
       "      <th>Flag Description</th>\n",
       "    </tr>\n",
       "  </thead>\n",
       "  <tbody>\n",
       "    <tr>\n",
       "      <th>0</th>\n",
       "      <td>QCL</td>\n",
       "      <td>Crops and livestock products</td>\n",
       "      <td>2</td>\n",
       "      <td>Afghanistan</td>\n",
       "      <td>5510</td>\n",
       "      <td>Production</td>\n",
       "      <td>867</td>\n",
       "      <td>Meat, cattle</td>\n",
       "      <td>1961</td>\n",
       "      <td>1961</td>\n",
       "      <td>tonnes</td>\n",
       "      <td>43000.0</td>\n",
       "      <td>F</td>\n",
       "      <td>FAO estimate</td>\n",
       "    </tr>\n",
       "    <tr>\n",
       "      <th>1</th>\n",
       "      <td>QCL</td>\n",
       "      <td>Crops and livestock products</td>\n",
       "      <td>2</td>\n",
       "      <td>Afghanistan</td>\n",
       "      <td>5510</td>\n",
       "      <td>Production</td>\n",
       "      <td>867</td>\n",
       "      <td>Meat, cattle</td>\n",
       "      <td>1962</td>\n",
       "      <td>1962</td>\n",
       "      <td>tonnes</td>\n",
       "      <td>45800.0</td>\n",
       "      <td>F</td>\n",
       "      <td>FAO estimate</td>\n",
       "    </tr>\n",
       "  </tbody>\n",
       "</table>\n",
       "</div>"
      ],
      "text/plain": [
       "  Domain Code                        Domain  Area Code (FAO)         Area  \\\n",
       "0         QCL  Crops and livestock products                2  Afghanistan   \n",
       "1         QCL  Crops and livestock products                2  Afghanistan   \n",
       "\n",
       "   Element Code     Element  Item Code (FAO)          Item  Year Code  Year  \\\n",
       "0          5510  Production              867  Meat, cattle       1961  1961   \n",
       "1          5510  Production              867  Meat, cattle       1962  1962   \n",
       "\n",
       "     Unit    Value Flag Flag Description  \n",
       "0  tonnes  43000.0    F     FAO estimate  \n",
       "1  tonnes  45800.0    F     FAO estimate  "
      ]
     },
     "execution_count": 2,
     "metadata": {},
     "output_type": "execute_result"
    }
   ],
   "source": [
    "dfFao = pd.read_csv(\"FAOSTAT.csv\")\n",
    "dfCountries = pd.read_csv(\"iso-country-codes.csv\")\n",
    "dfConsumption = pd.read_csv(\"oecd_meat_consumption.csv\")\n",
    "\n",
    "dfFao.head(2)"
   ]
  },
  {
   "cell_type": "code",
   "execution_count": 3,
   "id": "bb8c55af",
   "metadata": {},
   "outputs": [
    {
     "data": {
      "text/html": [
       "<div>\n",
       "<style scoped>\n",
       "    .dataframe tbody tr th:only-of-type {\n",
       "        vertical-align: middle;\n",
       "    }\n",
       "\n",
       "    .dataframe tbody tr th {\n",
       "        vertical-align: top;\n",
       "    }\n",
       "\n",
       "    .dataframe thead th {\n",
       "        text-align: right;\n",
       "    }\n",
       "</style>\n",
       "<table border=\"1\" class=\"dataframe\">\n",
       "  <thead>\n",
       "    <tr style=\"text-align: right;\">\n",
       "      <th></th>\n",
       "      <th>English short name lower case</th>\n",
       "      <th>Alpha-2 code</th>\n",
       "      <th>Alpha-3 code</th>\n",
       "      <th>Numeric code</th>\n",
       "      <th>ISO 3166-2</th>\n",
       "    </tr>\n",
       "  </thead>\n",
       "  <tbody>\n",
       "    <tr>\n",
       "      <th>0</th>\n",
       "      <td>Zimbabwe</td>\n",
       "      <td>ZW</td>\n",
       "      <td>ZWE</td>\n",
       "      <td>716</td>\n",
       "      <td>ISO 3166-2:ZW</td>\n",
       "    </tr>\n",
       "    <tr>\n",
       "      <th>1</th>\n",
       "      <td>Zambia</td>\n",
       "      <td>ZM</td>\n",
       "      <td>ZMB</td>\n",
       "      <td>894</td>\n",
       "      <td>ISO 3166-2:ZM</td>\n",
       "    </tr>\n",
       "  </tbody>\n",
       "</table>\n",
       "</div>"
      ],
      "text/plain": [
       "  English short name lower case Alpha-2 code Alpha-3 code  Numeric code  \\\n",
       "0                      Zimbabwe           ZW          ZWE           716   \n",
       "1                        Zambia           ZM          ZMB           894   \n",
       "\n",
       "      ISO 3166-2  \n",
       "0  ISO 3166-2:ZW  \n",
       "1  ISO 3166-2:ZM  "
      ]
     },
     "execution_count": 3,
     "metadata": {},
     "output_type": "execute_result"
    }
   ],
   "source": [
    "dfCountries.head(2)"
   ]
  },
  {
   "cell_type": "code",
   "execution_count": 4,
   "id": "134fed3e",
   "metadata": {},
   "outputs": [
    {
     "data": {
      "text/html": [
       "<div>\n",
       "<style scoped>\n",
       "    .dataframe tbody tr th:only-of-type {\n",
       "        vertical-align: middle;\n",
       "    }\n",
       "\n",
       "    .dataframe tbody tr th {\n",
       "        vertical-align: top;\n",
       "    }\n",
       "\n",
       "    .dataframe thead th {\n",
       "        text-align: right;\n",
       "    }\n",
       "</style>\n",
       "<table border=\"1\" class=\"dataframe\">\n",
       "  <thead>\n",
       "    <tr style=\"text-align: right;\">\n",
       "      <th></th>\n",
       "      <th>LOCATION</th>\n",
       "      <th>INDICATOR</th>\n",
       "      <th>SUBJECT</th>\n",
       "      <th>MEASURE</th>\n",
       "      <th>FREQUENCY</th>\n",
       "      <th>TIME</th>\n",
       "      <th>Value</th>\n",
       "      <th>Flag Codes</th>\n",
       "    </tr>\n",
       "  </thead>\n",
       "  <tbody>\n",
       "    <tr>\n",
       "      <th>0</th>\n",
       "      <td>AUS</td>\n",
       "      <td>MEATCONSUMP</td>\n",
       "      <td>BEEF</td>\n",
       "      <td>KG_CAP</td>\n",
       "      <td>A</td>\n",
       "      <td>1990</td>\n",
       "      <td>0.000</td>\n",
       "      <td>NaN</td>\n",
       "    </tr>\n",
       "    <tr>\n",
       "      <th>1</th>\n",
       "      <td>AUS</td>\n",
       "      <td>MEATCONSUMP</td>\n",
       "      <td>BEEF</td>\n",
       "      <td>KG_CAP</td>\n",
       "      <td>A</td>\n",
       "      <td>1991</td>\n",
       "      <td>27.942</td>\n",
       "      <td>NaN</td>\n",
       "    </tr>\n",
       "  </tbody>\n",
       "</table>\n",
       "</div>"
      ],
      "text/plain": [
       "  LOCATION    INDICATOR SUBJECT MEASURE FREQUENCY  TIME   Value  Flag Codes\n",
       "0      AUS  MEATCONSUMP    BEEF  KG_CAP         A  1990   0.000         NaN\n",
       "1      AUS  MEATCONSUMP    BEEF  KG_CAP         A  1991  27.942         NaN"
      ]
     },
     "execution_count": 4,
     "metadata": {},
     "output_type": "execute_result"
    }
   ],
   "source": [
    "dfConsumption.head(2)"
   ]
  },
  {
   "cell_type": "markdown",
   "id": "1418365a",
   "metadata": {},
   "source": [
    "## Pasos para limpiar dfCountries\n",
    "1. Seleccionar solo aquellas columnas necesarias.\n",
    "2. Renombrar las columnas al igual que las columnas en los otros dataset para luego hacer los joins.\n",
    "3. Revisar qué valores de dfCountries no hacen correspondencia con los códigos o nombres usados en los otros datasets.\n",
    "\n",
    "### Paso 1 y 2"
   ]
  },
  {
   "cell_type": "code",
   "execution_count": 5,
   "id": "b7f1cad0",
   "metadata": {},
   "outputs": [
    {
     "data": {
      "text/html": [
       "<div>\n",
       "<style scoped>\n",
       "    .dataframe tbody tr th:only-of-type {\n",
       "        vertical-align: middle;\n",
       "    }\n",
       "\n",
       "    .dataframe tbody tr th {\n",
       "        vertical-align: top;\n",
       "    }\n",
       "\n",
       "    .dataframe thead th {\n",
       "        text-align: right;\n",
       "    }\n",
       "</style>\n",
       "<table border=\"1\" class=\"dataframe\">\n",
       "  <thead>\n",
       "    <tr style=\"text-align: right;\">\n",
       "      <th></th>\n",
       "      <th>LOCATION</th>\n",
       "      <th>Area</th>\n",
       "    </tr>\n",
       "  </thead>\n",
       "  <tbody>\n",
       "    <tr>\n",
       "      <th>0</th>\n",
       "      <td>ZWE</td>\n",
       "      <td>Zimbabwe</td>\n",
       "    </tr>\n",
       "    <tr>\n",
       "      <th>1</th>\n",
       "      <td>ZMB</td>\n",
       "      <td>Zambia</td>\n",
       "    </tr>\n",
       "    <tr>\n",
       "      <th>2</th>\n",
       "      <td>YEM</td>\n",
       "      <td>Yemen</td>\n",
       "    </tr>\n",
       "    <tr>\n",
       "      <th>3</th>\n",
       "      <td>ESH</td>\n",
       "      <td>Western Sahara</td>\n",
       "    </tr>\n",
       "    <tr>\n",
       "      <th>4</th>\n",
       "      <td>WLF</td>\n",
       "      <td>Wallis and Futuna</td>\n",
       "    </tr>\n",
       "  </tbody>\n",
       "</table>\n",
       "</div>"
      ],
      "text/plain": [
       "  LOCATION               Area\n",
       "0      ZWE           Zimbabwe\n",
       "1      ZMB             Zambia\n",
       "2      YEM              Yemen\n",
       "3      ESH     Western Sahara\n",
       "4      WLF  Wallis and Futuna"
      ]
     },
     "execution_count": 5,
     "metadata": {},
     "output_type": "execute_result"
    }
   ],
   "source": [
    "dfCountries = dfCountries[['Alpha-3 code', 'English short name lower case']] \\\n",
    "    .rename(columns={'Alpha-3 code': 'LOCATION', 'English short name lower case':'Area'})\n",
    "dfCountries.head(5)"
   ]
  },
  {
   "cell_type": "markdown",
   "id": "90c7b9d7",
   "metadata": {},
   "source": [
    "### Paso 3: emparejado de valores"
   ]
  },
  {
   "cell_type": "code",
   "execution_count": 6,
   "id": "60925d9b",
   "metadata": {},
   "outputs": [
    {
     "name": "stdout",
     "output_type": "stream",
     "text": [
      "valores que no hacen correspondencia:\n",
      "   LOCATION Area     _merge\n",
      "32      WLD  NaN  left_only\n",
      "33     OECD  NaN  left_only\n",
      "34    BRICS  NaN  left_only\n"
     ]
    }
   ],
   "source": [
    "def unirDf(df1, df2, columna):\n",
    "    df1 = df1.merge(df2, on=columna, how='left', indicator=True)\n",
    "    print('valores que no hacen correspondencia:')\n",
    "    print(df1[df1['_merge'] != 'both'])\n",
    "    return df1\n",
    "\n",
    "\n",
    "dfUnicosEnConsumo = pd.DataFrame(dfConsumption['LOCATION'].unique(), columns = ['LOCATION'])\n",
    "dfJoinedConsumptionAndCountries = unirDf(dfUnicosEnConsumo, dfCountries, 'LOCATION')"
   ]
  },
  {
   "cell_type": "markdown",
   "id": "bf393ed5",
   "metadata": {},
   "source": [
    "Esto es esperado, pues el dataset de consumo de OEDC usa esos tres valores para poner valores especiales para su propio análisis.\n",
    "\n",
    "Ahora, quitamos esos valores y revisamos cuáles valores no están en el dataset de producción de FAO."
   ]
  },
  {
   "cell_type": "code",
   "execution_count": 7,
   "id": "896b36f1",
   "metadata": {},
   "outputs": [
    {
     "name": "stdout",
     "output_type": "stream",
     "text": [
      "valores que no hacen correspondencia:\n",
      "              Area     _merge\n",
      "3      South Korea  left_only\n",
      "6           Turkey  left_only\n",
      "7    United States  left_only\n",
      "17            Iran  left_only\n",
      "26          Russia  left_only\n",
      "31         Vietnam  left_only\n",
      "34  United Kingdom  left_only\n"
     ]
    }
   ],
   "source": [
    "dfConsumptionOK = dfJoinedConsumptionAndCountries[dfJoinedConsumptionAndCountries['_merge'] == 'both'][['Area']]\n",
    "\n",
    "def corroborarValoresEnFAO(df):\n",
    "    dfUnicosEnFao = pd.DataFrame(dfFao['Area'].unique(), columns = ['Area'])\n",
    "    _ = unirDf(df, dfUnicosEnFao, 'Area')\n",
    "    \n",
    "corroborarValoresEnFAO(dfConsumptionOK)"
   ]
  },
  {
   "cell_type": "markdown",
   "id": "b7310c0f",
   "metadata": {},
   "source": [
    "Vale acotar que **FAO no tiene datos para Turquía**.\n",
    "\n",
    "Correcciones a valores en dfFao"
   ]
  },
  {
   "cell_type": "code",
   "execution_count": 8,
   "id": "6d88c003",
   "metadata": {},
   "outputs": [
    {
     "name": "stdout",
     "output_type": "stream",
     "text": [
      "valores que no hacen correspondencia:\n",
      "Empty DataFrame\n",
      "Columns: [Area, _merge]\n",
      "Index: []\n"
     ]
    }
   ],
   "source": [
    "def corregirValorEnFao(malo, bueno, columma='Area'):\n",
    "    dfFao.loc[dfFao[columma] == malo, columma] = bueno\n",
    "\n",
    "corregirValorEnFao('Republic of Korea', 'South Korea')\n",
    "corregirValorEnFao('United States of America', 'United States')\n",
    "corregirValorEnFao('Iran (Islamic Republic of)', 'Iran')\n",
    "corregirValorEnFao('Russian Federation', 'Russia')\n",
    "corregirValorEnFao('Viet Nam', 'Vietnam')\n",
    "corregirValorEnFao('United Kingdom of Great Britain and Northern Ireland', 'United Kingdom')\n",
    "corregirValorEnFao('Türkiye', 'Turkey')\n",
    "\n",
    "corroborarValoresEnFAO(dfConsumptionOK)"
   ]
  },
  {
   "cell_type": "code",
   "execution_count": 9,
   "id": "3445e671",
   "metadata": {},
   "outputs": [
    {
     "data": {
      "text/html": [
       "<div>\n",
       "<style scoped>\n",
       "    .dataframe tbody tr th:only-of-type {\n",
       "        vertical-align: middle;\n",
       "    }\n",
       "\n",
       "    .dataframe tbody tr th {\n",
       "        vertical-align: top;\n",
       "    }\n",
       "\n",
       "    .dataframe thead th {\n",
       "        text-align: right;\n",
       "    }\n",
       "</style>\n",
       "<table border=\"1\" class=\"dataframe\">\n",
       "  <thead>\n",
       "    <tr style=\"text-align: right;\">\n",
       "      <th></th>\n",
       "      <th>LOCATION</th>\n",
       "      <th>Area</th>\n",
       "    </tr>\n",
       "  </thead>\n",
       "  <tbody>\n",
       "    <tr>\n",
       "      <th>0</th>\n",
       "      <td>ZWE</td>\n",
       "      <td>Zimbabwe</td>\n",
       "    </tr>\n",
       "    <tr>\n",
       "      <th>1</th>\n",
       "      <td>ZMB</td>\n",
       "      <td>Zambia</td>\n",
       "    </tr>\n",
       "    <tr>\n",
       "      <th>2</th>\n",
       "      <td>YEM</td>\n",
       "      <td>Yemen</td>\n",
       "    </tr>\n",
       "    <tr>\n",
       "      <th>3</th>\n",
       "      <td>ESH</td>\n",
       "      <td>Western Sahara</td>\n",
       "    </tr>\n",
       "    <tr>\n",
       "      <th>4</th>\n",
       "      <td>WLF</td>\n",
       "      <td>Wallis and Futuna</td>\n",
       "    </tr>\n",
       "  </tbody>\n",
       "</table>\n",
       "</div>"
      ],
      "text/plain": [
       "  LOCATION               Area\n",
       "0      ZWE           Zimbabwe\n",
       "1      ZMB             Zambia\n",
       "2      YEM              Yemen\n",
       "3      ESH     Western Sahara\n",
       "4      WLF  Wallis and Futuna"
      ]
     },
     "execution_count": 9,
     "metadata": {},
     "output_type": "execute_result"
    }
   ],
   "source": [
    "dfCountries.head(5)"
   ]
  },
  {
   "cell_type": "markdown",
   "id": "d690a071",
   "metadata": {},
   "source": [
    "----\n",
    "\n",
    "## Pasos para limpiar dfConsumption\n",
    "Pasos:\n",
    "1. Unir los datos de Consumo con los países.\n",
    "2. Quitar los códigos de 'Location' propios del análisis de la OECD.\n",
    "3. Remover entradas para Turquía.\n",
    "4. Quitar columnas innecesarias.\n",
    "\n",
    "### 1. Unir datos con dataframe de países"
   ]
  },
  {
   "cell_type": "code",
   "execution_count": 10,
   "id": "c6806af5",
   "metadata": {},
   "outputs": [
    {
     "data": {
      "text/html": [
       "<div>\n",
       "<style scoped>\n",
       "    .dataframe tbody tr th:only-of-type {\n",
       "        vertical-align: middle;\n",
       "    }\n",
       "\n",
       "    .dataframe tbody tr th {\n",
       "        vertical-align: top;\n",
       "    }\n",
       "\n",
       "    .dataframe thead th {\n",
       "        text-align: right;\n",
       "    }\n",
       "</style>\n",
       "<table border=\"1\" class=\"dataframe\">\n",
       "  <thead>\n",
       "    <tr style=\"text-align: right;\">\n",
       "      <th></th>\n",
       "      <th>LOCATION</th>\n",
       "      <th>INDICATOR</th>\n",
       "      <th>SUBJECT</th>\n",
       "      <th>MEASURE</th>\n",
       "      <th>FREQUENCY</th>\n",
       "      <th>TIME</th>\n",
       "      <th>Value</th>\n",
       "      <th>Flag Codes</th>\n",
       "      <th>Area</th>\n",
       "      <th>_merge</th>\n",
       "    </tr>\n",
       "  </thead>\n",
       "  <tbody>\n",
       "    <tr>\n",
       "      <th>0</th>\n",
       "      <td>AUS</td>\n",
       "      <td>MEATCONSUMP</td>\n",
       "      <td>BEEF</td>\n",
       "      <td>KG_CAP</td>\n",
       "      <td>A</td>\n",
       "      <td>1990</td>\n",
       "      <td>0.000</td>\n",
       "      <td>NaN</td>\n",
       "      <td>Australia</td>\n",
       "      <td>both</td>\n",
       "    </tr>\n",
       "    <tr>\n",
       "      <th>1</th>\n",
       "      <td>AUS</td>\n",
       "      <td>MEATCONSUMP</td>\n",
       "      <td>BEEF</td>\n",
       "      <td>KG_CAP</td>\n",
       "      <td>A</td>\n",
       "      <td>1991</td>\n",
       "      <td>27.942</td>\n",
       "      <td>NaN</td>\n",
       "      <td>Australia</td>\n",
       "      <td>both</td>\n",
       "    </tr>\n",
       "    <tr>\n",
       "      <th>2</th>\n",
       "      <td>AUS</td>\n",
       "      <td>MEATCONSUMP</td>\n",
       "      <td>BEEF</td>\n",
       "      <td>KG_CAP</td>\n",
       "      <td>A</td>\n",
       "      <td>1992</td>\n",
       "      <td>26.405</td>\n",
       "      <td>NaN</td>\n",
       "      <td>Australia</td>\n",
       "      <td>both</td>\n",
       "    </tr>\n",
       "    <tr>\n",
       "      <th>3</th>\n",
       "      <td>AUS</td>\n",
       "      <td>MEATCONSUMP</td>\n",
       "      <td>BEEF</td>\n",
       "      <td>KG_CAP</td>\n",
       "      <td>A</td>\n",
       "      <td>1993</td>\n",
       "      <td>26.370</td>\n",
       "      <td>NaN</td>\n",
       "      <td>Australia</td>\n",
       "      <td>both</td>\n",
       "    </tr>\n",
       "    <tr>\n",
       "      <th>4</th>\n",
       "      <td>AUS</td>\n",
       "      <td>MEATCONSUMP</td>\n",
       "      <td>BEEF</td>\n",
       "      <td>KG_CAP</td>\n",
       "      <td>A</td>\n",
       "      <td>1994</td>\n",
       "      <td>25.662</td>\n",
       "      <td>NaN</td>\n",
       "      <td>Australia</td>\n",
       "      <td>both</td>\n",
       "    </tr>\n",
       "  </tbody>\n",
       "</table>\n",
       "</div>"
      ],
      "text/plain": [
       "  LOCATION    INDICATOR SUBJECT MEASURE FREQUENCY  TIME   Value  Flag Codes  \\\n",
       "0      AUS  MEATCONSUMP    BEEF  KG_CAP         A  1990   0.000         NaN   \n",
       "1      AUS  MEATCONSUMP    BEEF  KG_CAP         A  1991  27.942         NaN   \n",
       "2      AUS  MEATCONSUMP    BEEF  KG_CAP         A  1992  26.405         NaN   \n",
       "3      AUS  MEATCONSUMP    BEEF  KG_CAP         A  1993  26.370         NaN   \n",
       "4      AUS  MEATCONSUMP    BEEF  KG_CAP         A  1994  25.662         NaN   \n",
       "\n",
       "        Area _merge  \n",
       "0  Australia   both  \n",
       "1  Australia   both  \n",
       "2  Australia   both  \n",
       "3  Australia   both  \n",
       "4  Australia   both  "
      ]
     },
     "execution_count": 10,
     "metadata": {},
     "output_type": "execute_result"
    }
   ],
   "source": [
    "dfConsumption = dfConsumption.merge(dfCountries, on='LOCATION', how='left', indicator=True)\n",
    "dfConsumption.head(5)"
   ]
  },
  {
   "cell_type": "code",
   "execution_count": 11,
   "id": "c7a753de",
   "metadata": {},
   "outputs": [
    {
     "data": {
      "text/plain": [
       "array(['WLD', 'OECD', 'BRICS'], dtype=object)"
      ]
     },
     "execution_count": 11,
     "metadata": {},
     "output_type": "execute_result"
    }
   ],
   "source": [
    "dfConsumption[dfConsumption['_merge'] != 'both']['LOCATION'].unique()"
   ]
  },
  {
   "cell_type": "markdown",
   "id": "72dbd840",
   "metadata": {},
   "source": [
    "### 2. Remover Location extras\n",
    "\n",
    "Remover filas cuando el 'Location' es 'WLD', 'OECD' o 'BRICS'.\n",
    "\n",
    "Esos son valores totales usados por OECD para comparaciones que no son necesarios para nuestro análisis."
   ]
  },
  {
   "cell_type": "code",
   "execution_count": 12,
   "id": "f1bda0db",
   "metadata": {},
   "outputs": [
    {
     "data": {
      "text/html": [
       "<div>\n",
       "<style scoped>\n",
       "    .dataframe tbody tr th:only-of-type {\n",
       "        vertical-align: middle;\n",
       "    }\n",
       "\n",
       "    .dataframe tbody tr th {\n",
       "        vertical-align: top;\n",
       "    }\n",
       "\n",
       "    .dataframe thead th {\n",
       "        text-align: right;\n",
       "    }\n",
       "</style>\n",
       "<table border=\"1\" class=\"dataframe\">\n",
       "  <thead>\n",
       "    <tr style=\"text-align: right;\">\n",
       "      <th></th>\n",
       "      <th>LOCATION</th>\n",
       "      <th>INDICATOR</th>\n",
       "      <th>SUBJECT</th>\n",
       "      <th>MEASURE</th>\n",
       "      <th>FREQUENCY</th>\n",
       "      <th>TIME</th>\n",
       "      <th>Value</th>\n",
       "      <th>Flag Codes</th>\n",
       "      <th>Area</th>\n",
       "      <th>_merge</th>\n",
       "    </tr>\n",
       "  </thead>\n",
       "  <tbody>\n",
       "    <tr>\n",
       "      <th>0</th>\n",
       "      <td>AUS</td>\n",
       "      <td>MEATCONSUMP</td>\n",
       "      <td>BEEF</td>\n",
       "      <td>KG_CAP</td>\n",
       "      <td>A</td>\n",
       "      <td>1990</td>\n",
       "      <td>0.000</td>\n",
       "      <td>NaN</td>\n",
       "      <td>Australia</td>\n",
       "      <td>both</td>\n",
       "    </tr>\n",
       "    <tr>\n",
       "      <th>1</th>\n",
       "      <td>AUS</td>\n",
       "      <td>MEATCONSUMP</td>\n",
       "      <td>BEEF</td>\n",
       "      <td>KG_CAP</td>\n",
       "      <td>A</td>\n",
       "      <td>1991</td>\n",
       "      <td>27.942</td>\n",
       "      <td>NaN</td>\n",
       "      <td>Australia</td>\n",
       "      <td>both</td>\n",
       "    </tr>\n",
       "    <tr>\n",
       "      <th>2</th>\n",
       "      <td>AUS</td>\n",
       "      <td>MEATCONSUMP</td>\n",
       "      <td>BEEF</td>\n",
       "      <td>KG_CAP</td>\n",
       "      <td>A</td>\n",
       "      <td>1992</td>\n",
       "      <td>26.405</td>\n",
       "      <td>NaN</td>\n",
       "      <td>Australia</td>\n",
       "      <td>both</td>\n",
       "    </tr>\n",
       "  </tbody>\n",
       "</table>\n",
       "</div>"
      ],
      "text/plain": [
       "  LOCATION    INDICATOR SUBJECT MEASURE FREQUENCY  TIME   Value  Flag Codes  \\\n",
       "0      AUS  MEATCONSUMP    BEEF  KG_CAP         A  1990   0.000         NaN   \n",
       "1      AUS  MEATCONSUMP    BEEF  KG_CAP         A  1991  27.942         NaN   \n",
       "2      AUS  MEATCONSUMP    BEEF  KG_CAP         A  1992  26.405         NaN   \n",
       "\n",
       "        Area _merge  \n",
       "0  Australia   both  \n",
       "1  Australia   both  \n",
       "2  Australia   both  "
      ]
     },
     "execution_count": 12,
     "metadata": {},
     "output_type": "execute_result"
    }
   ],
   "source": [
    "dfConsumption = dfConsumption[dfConsumption['_merge'] == 'both']\n",
    "dfConsumption.head(3)"
   ]
  },
  {
   "cell_type": "markdown",
   "id": "4790ee8f",
   "metadata": {},
   "source": [
    "### 3. Remover Turquía"
   ]
  },
  {
   "cell_type": "code",
   "execution_count": 13,
   "id": "d5a1b4e7",
   "metadata": {},
   "outputs": [],
   "source": [
    "#dfConsumption = dfConsumption[dfConsumption['Area'] != 'Turkey']"
   ]
  },
  {
   "cell_type": "markdown",
   "id": "72994b19",
   "metadata": {},
   "source": [
    "### 4. Columnas innecesarias\n",
    "Descubriendo cuáles columnas son innecesarias:\n",
    "- Location (se sustituye por Area).\n",
    "- Flag Codes que son solo nulos.\n",
    "- Frecuencia: que siempre es A de Anual.\n",
    "- Indicador: que siempre es MEATCONSUMP.\n",
    "- Columnas de códigos redundantes como Year Code, Item Code, Element Code, Area Code"
   ]
  },
  {
   "cell_type": "code",
   "execution_count": 14,
   "id": "7d5c2975",
   "metadata": {},
   "outputs": [
    {
     "data": {
      "text/plain": [
       "array([nan])"
      ]
     },
     "execution_count": 14,
     "metadata": {},
     "output_type": "execute_result"
    }
   ],
   "source": [
    "dfConsumption['Flag Codes'].unique()"
   ]
  },
  {
   "cell_type": "code",
   "execution_count": 15,
   "id": "0d43f5f3",
   "metadata": {},
   "outputs": [
    {
     "data": {
      "text/plain": [
       "array(['A'], dtype=object)"
      ]
     },
     "execution_count": 15,
     "metadata": {},
     "output_type": "execute_result"
    }
   ],
   "source": [
    "dfConsumption['FREQUENCY'].unique()"
   ]
  },
  {
   "cell_type": "code",
   "execution_count": 16,
   "id": "6d0e1cba",
   "metadata": {},
   "outputs": [
    {
     "data": {
      "text/plain": [
       "array(['MEATCONSUMP'], dtype=object)"
      ]
     },
     "execution_count": 16,
     "metadata": {},
     "output_type": "execute_result"
    }
   ],
   "source": [
    "dfConsumption['INDICATOR'].unique()"
   ]
  },
  {
   "cell_type": "code",
   "execution_count": 17,
   "id": "71d21387",
   "metadata": {},
   "outputs": [
    {
     "data": {
      "text/html": [
       "<div>\n",
       "<style scoped>\n",
       "    .dataframe tbody tr th:only-of-type {\n",
       "        vertical-align: middle;\n",
       "    }\n",
       "\n",
       "    .dataframe tbody tr th {\n",
       "        vertical-align: top;\n",
       "    }\n",
       "\n",
       "    .dataframe thead th {\n",
       "        text-align: right;\n",
       "    }\n",
       "</style>\n",
       "<table border=\"1\" class=\"dataframe\">\n",
       "  <thead>\n",
       "    <tr style=\"text-align: right;\">\n",
       "      <th></th>\n",
       "      <th>Area</th>\n",
       "      <th>SUBJECT</th>\n",
       "      <th>MEASURE</th>\n",
       "      <th>TIME</th>\n",
       "      <th>Value</th>\n",
       "    </tr>\n",
       "  </thead>\n",
       "  <tbody>\n",
       "    <tr>\n",
       "      <th>0</th>\n",
       "      <td>Australia</td>\n",
       "      <td>BEEF</td>\n",
       "      <td>KG_CAP</td>\n",
       "      <td>1990</td>\n",
       "      <td>0.000</td>\n",
       "    </tr>\n",
       "    <tr>\n",
       "      <th>1</th>\n",
       "      <td>Australia</td>\n",
       "      <td>BEEF</td>\n",
       "      <td>KG_CAP</td>\n",
       "      <td>1991</td>\n",
       "      <td>27.942</td>\n",
       "    </tr>\n",
       "    <tr>\n",
       "      <th>2</th>\n",
       "      <td>Australia</td>\n",
       "      <td>BEEF</td>\n",
       "      <td>KG_CAP</td>\n",
       "      <td>1992</td>\n",
       "      <td>26.405</td>\n",
       "    </tr>\n",
       "  </tbody>\n",
       "</table>\n",
       "</div>"
      ],
      "text/plain": [
       "        Area SUBJECT MEASURE  TIME   Value\n",
       "0  Australia    BEEF  KG_CAP  1990   0.000\n",
       "1  Australia    BEEF  KG_CAP  1991  27.942\n",
       "2  Australia    BEEF  KG_CAP  1992  26.405"
      ]
     },
     "execution_count": 17,
     "metadata": {},
     "output_type": "execute_result"
    }
   ],
   "source": [
    "dfConsumption = dfConsumption[['Area', 'SUBJECT', 'MEASURE', 'TIME', 'Value']]\n",
    "dfConsumption.head(3)"
   ]
  },
  {
   "cell_type": "markdown",
   "id": "86500f7a",
   "metadata": {},
   "source": [
    "----\n",
    "\n",
    "## Pasos para limpiar dfFao\n",
    "Este dataset contiene datos de la producción total en toneladas.\n",
    "\n",
    "Para nuestro análisis solo nos interesa la producción, para poder compararla con el consumo (dfConsumption)."
   ]
  },
  {
   "cell_type": "code",
   "execution_count": 18,
   "id": "ae4307f2",
   "metadata": {},
   "outputs": [
    {
     "data": {
      "text/html": [
       "<div>\n",
       "<style scoped>\n",
       "    .dataframe tbody tr th:only-of-type {\n",
       "        vertical-align: middle;\n",
       "    }\n",
       "\n",
       "    .dataframe tbody tr th {\n",
       "        vertical-align: top;\n",
       "    }\n",
       "\n",
       "    .dataframe thead th {\n",
       "        text-align: right;\n",
       "    }\n",
       "</style>\n",
       "<table border=\"1\" class=\"dataframe\">\n",
       "  <thead>\n",
       "    <tr style=\"text-align: right;\">\n",
       "      <th></th>\n",
       "      <th>Domain Code</th>\n",
       "      <th>Domain</th>\n",
       "      <th>Area Code (FAO)</th>\n",
       "      <th>Area</th>\n",
       "      <th>Element Code</th>\n",
       "      <th>Element</th>\n",
       "      <th>Item Code (FAO)</th>\n",
       "      <th>Item</th>\n",
       "      <th>Year Code</th>\n",
       "      <th>Year</th>\n",
       "      <th>Unit</th>\n",
       "      <th>Value</th>\n",
       "      <th>Flag</th>\n",
       "      <th>Flag Description</th>\n",
       "    </tr>\n",
       "  </thead>\n",
       "  <tbody>\n",
       "    <tr>\n",
       "      <th>0</th>\n",
       "      <td>QCL</td>\n",
       "      <td>Crops and livestock products</td>\n",
       "      <td>2</td>\n",
       "      <td>Afghanistan</td>\n",
       "      <td>5510</td>\n",
       "      <td>Production</td>\n",
       "      <td>867</td>\n",
       "      <td>Meat, cattle</td>\n",
       "      <td>1961</td>\n",
       "      <td>1961</td>\n",
       "      <td>tonnes</td>\n",
       "      <td>43000.0</td>\n",
       "      <td>F</td>\n",
       "      <td>FAO estimate</td>\n",
       "    </tr>\n",
       "    <tr>\n",
       "      <th>1</th>\n",
       "      <td>QCL</td>\n",
       "      <td>Crops and livestock products</td>\n",
       "      <td>2</td>\n",
       "      <td>Afghanistan</td>\n",
       "      <td>5510</td>\n",
       "      <td>Production</td>\n",
       "      <td>867</td>\n",
       "      <td>Meat, cattle</td>\n",
       "      <td>1962</td>\n",
       "      <td>1962</td>\n",
       "      <td>tonnes</td>\n",
       "      <td>45800.0</td>\n",
       "      <td>F</td>\n",
       "      <td>FAO estimate</td>\n",
       "    </tr>\n",
       "    <tr>\n",
       "      <th>2</th>\n",
       "      <td>QCL</td>\n",
       "      <td>Crops and livestock products</td>\n",
       "      <td>2</td>\n",
       "      <td>Afghanistan</td>\n",
       "      <td>5510</td>\n",
       "      <td>Production</td>\n",
       "      <td>867</td>\n",
       "      <td>Meat, cattle</td>\n",
       "      <td>1963</td>\n",
       "      <td>1963</td>\n",
       "      <td>tonnes</td>\n",
       "      <td>47250.0</td>\n",
       "      <td>F</td>\n",
       "      <td>FAO estimate</td>\n",
       "    </tr>\n",
       "    <tr>\n",
       "      <th>3</th>\n",
       "      <td>QCL</td>\n",
       "      <td>Crops and livestock products</td>\n",
       "      <td>2</td>\n",
       "      <td>Afghanistan</td>\n",
       "      <td>5510</td>\n",
       "      <td>Production</td>\n",
       "      <td>867</td>\n",
       "      <td>Meat, cattle</td>\n",
       "      <td>1964</td>\n",
       "      <td>1964</td>\n",
       "      <td>tonnes</td>\n",
       "      <td>48000.0</td>\n",
       "      <td>F</td>\n",
       "      <td>FAO estimate</td>\n",
       "    </tr>\n",
       "    <tr>\n",
       "      <th>4</th>\n",
       "      <td>QCL</td>\n",
       "      <td>Crops and livestock products</td>\n",
       "      <td>2</td>\n",
       "      <td>Afghanistan</td>\n",
       "      <td>5510</td>\n",
       "      <td>Production</td>\n",
       "      <td>867</td>\n",
       "      <td>Meat, cattle</td>\n",
       "      <td>1965</td>\n",
       "      <td>1965</td>\n",
       "      <td>tonnes</td>\n",
       "      <td>48700.0</td>\n",
       "      <td>F</td>\n",
       "      <td>FAO estimate</td>\n",
       "    </tr>\n",
       "  </tbody>\n",
       "</table>\n",
       "</div>"
      ],
      "text/plain": [
       "  Domain Code                        Domain  Area Code (FAO)         Area  \\\n",
       "0         QCL  Crops and livestock products                2  Afghanistan   \n",
       "1         QCL  Crops and livestock products                2  Afghanistan   \n",
       "2         QCL  Crops and livestock products                2  Afghanistan   \n",
       "3         QCL  Crops and livestock products                2  Afghanistan   \n",
       "4         QCL  Crops and livestock products                2  Afghanistan   \n",
       "\n",
       "   Element Code     Element  Item Code (FAO)          Item  Year Code  Year  \\\n",
       "0          5510  Production              867  Meat, cattle       1961  1961   \n",
       "1          5510  Production              867  Meat, cattle       1962  1962   \n",
       "2          5510  Production              867  Meat, cattle       1963  1963   \n",
       "3          5510  Production              867  Meat, cattle       1964  1964   \n",
       "4          5510  Production              867  Meat, cattle       1965  1965   \n",
       "\n",
       "     Unit    Value Flag Flag Description  \n",
       "0  tonnes  43000.0    F     FAO estimate  \n",
       "1  tonnes  45800.0    F     FAO estimate  \n",
       "2  tonnes  47250.0    F     FAO estimate  \n",
       "3  tonnes  48000.0    F     FAO estimate  \n",
       "4  tonnes  48700.0    F     FAO estimate  "
      ]
     },
     "execution_count": 18,
     "metadata": {},
     "output_type": "execute_result"
    }
   ],
   "source": [
    "dfFao.head(5)"
   ]
  },
  {
   "cell_type": "code",
   "execution_count": 19,
   "id": "54239368",
   "metadata": {},
   "outputs": [
    {
     "data": {
      "text/html": [
       "<div>\n",
       "<style scoped>\n",
       "    .dataframe tbody tr th:only-of-type {\n",
       "        vertical-align: middle;\n",
       "    }\n",
       "\n",
       "    .dataframe tbody tr th {\n",
       "        vertical-align: top;\n",
       "    }\n",
       "\n",
       "    .dataframe thead th {\n",
       "        text-align: right;\n",
       "    }\n",
       "</style>\n",
       "<table border=\"1\" class=\"dataframe\">\n",
       "  <thead>\n",
       "    <tr style=\"text-align: right;\">\n",
       "      <th></th>\n",
       "      <th>Area</th>\n",
       "      <th>Item</th>\n",
       "      <th>Year</th>\n",
       "      <th>Value</th>\n",
       "    </tr>\n",
       "  </thead>\n",
       "  <tbody>\n",
       "    <tr>\n",
       "      <th>0</th>\n",
       "      <td>Afghanistan</td>\n",
       "      <td>Meat, cattle</td>\n",
       "      <td>1961</td>\n",
       "      <td>43000.0</td>\n",
       "    </tr>\n",
       "    <tr>\n",
       "      <th>1</th>\n",
       "      <td>Afghanistan</td>\n",
       "      <td>Meat, cattle</td>\n",
       "      <td>1962</td>\n",
       "      <td>45800.0</td>\n",
       "    </tr>\n",
       "    <tr>\n",
       "      <th>2</th>\n",
       "      <td>Afghanistan</td>\n",
       "      <td>Meat, cattle</td>\n",
       "      <td>1963</td>\n",
       "      <td>47250.0</td>\n",
       "    </tr>\n",
       "  </tbody>\n",
       "</table>\n",
       "</div>"
      ],
      "text/plain": [
       "          Area          Item  Year    Value\n",
       "0  Afghanistan  Meat, cattle  1961  43000.0\n",
       "1  Afghanistan  Meat, cattle  1962  45800.0\n",
       "2  Afghanistan  Meat, cattle  1963  47250.0"
      ]
     },
     "execution_count": 19,
     "metadata": {},
     "output_type": "execute_result"
    }
   ],
   "source": [
    "dfFao = dfFao[['Area', 'Item', 'Year', 'Value']]\n",
    "dfFao.head(3)"
   ]
  },
  {
   "cell_type": "code",
   "execution_count": 20,
   "id": "9d449bfb",
   "metadata": {},
   "outputs": [],
   "source": [
    "dfFao = dfFao[dfFao['Value'] != None]"
   ]
  },
  {
   "cell_type": "markdown",
   "id": "9dd939bb",
   "metadata": {},
   "source": [
    "---\n",
    "---\n",
    "\n",
    "# Primeros Gráficos"
   ]
  },
  {
   "cell_type": "code",
   "execution_count": 21,
   "id": "45ac0d89",
   "metadata": {},
   "outputs": [],
   "source": [
    "corregirValorEnFao('Meat, cattle', 'BEEF', 'Item')\n",
    "corregirValorEnFao('Meat, chicken', 'POULTRY', 'Item')\n",
    "corregirValorEnFao('Meat, sheep', 'SHEEP', 'Item')\n",
    "corregirValorEnFao('Meat, pig', 'PIG', 'Item')\n"
   ]
  },
  {
   "cell_type": "code",
   "execution_count": 22,
   "id": "f65d7e5b",
   "metadata": {},
   "outputs": [
    {
     "data": {
      "text/plain": [
       "array(['BEEF', 'POULTRY', 'SHEEP', 'PIG'], dtype=object)"
      ]
     },
     "execution_count": 22,
     "metadata": {},
     "output_type": "execute_result"
    }
   ],
   "source": [
    "dfFao['Item'].unique()"
   ]
  },
  {
   "cell_type": "code",
   "execution_count": 23,
   "id": "db209ad2",
   "metadata": {},
   "outputs": [
    {
     "data": {
      "text/html": [
       "<div>\n",
       "<style scoped>\n",
       "    .dataframe tbody tr th:only-of-type {\n",
       "        vertical-align: middle;\n",
       "    }\n",
       "\n",
       "    .dataframe tbody tr th {\n",
       "        vertical-align: top;\n",
       "    }\n",
       "\n",
       "    .dataframe thead th {\n",
       "        text-align: right;\n",
       "    }\n",
       "</style>\n",
       "<table border=\"1\" class=\"dataframe\">\n",
       "  <thead>\n",
       "    <tr style=\"text-align: right;\">\n",
       "      <th></th>\n",
       "      <th>Area</th>\n",
       "      <th>Item</th>\n",
       "      <th>Year</th>\n",
       "      <th>Value</th>\n",
       "    </tr>\n",
       "  </thead>\n",
       "  <tbody>\n",
       "    <tr>\n",
       "      <th>0</th>\n",
       "      <td>Afghanistan</td>\n",
       "      <td>BEEF</td>\n",
       "      <td>1961</td>\n",
       "      <td>43000.0</td>\n",
       "    </tr>\n",
       "    <tr>\n",
       "      <th>1</th>\n",
       "      <td>Afghanistan</td>\n",
       "      <td>BEEF</td>\n",
       "      <td>1962</td>\n",
       "      <td>45800.0</td>\n",
       "    </tr>\n",
       "    <tr>\n",
       "      <th>2</th>\n",
       "      <td>Afghanistan</td>\n",
       "      <td>BEEF</td>\n",
       "      <td>1963</td>\n",
       "      <td>47250.0</td>\n",
       "    </tr>\n",
       "  </tbody>\n",
       "</table>\n",
       "</div>"
      ],
      "text/plain": [
       "          Area  Item  Year    Value\n",
       "0  Afghanistan  BEEF  1961  43000.0\n",
       "1  Afghanistan  BEEF  1962  45800.0\n",
       "2  Afghanistan  BEEF  1963  47250.0"
      ]
     },
     "execution_count": 23,
     "metadata": {},
     "output_type": "execute_result"
    }
   ],
   "source": [
    "dfFao.head(3)"
   ]
  },
  {
   "cell_type": "code",
   "execution_count": 24,
   "id": "b3e57963",
   "metadata": {},
   "outputs": [
    {
     "data": {
      "text/html": [
       "<div>\n",
       "<style scoped>\n",
       "    .dataframe tbody tr th:only-of-type {\n",
       "        vertical-align: middle;\n",
       "    }\n",
       "\n",
       "    .dataframe tbody tr th {\n",
       "        vertical-align: top;\n",
       "    }\n",
       "\n",
       "    .dataframe thead th {\n",
       "        text-align: right;\n",
       "    }\n",
       "</style>\n",
       "<table border=\"1\" class=\"dataframe\">\n",
       "  <thead>\n",
       "    <tr style=\"text-align: right;\">\n",
       "      <th></th>\n",
       "      <th>Area</th>\n",
       "      <th>SUBJECT</th>\n",
       "      <th>MEASURE</th>\n",
       "      <th>TIME</th>\n",
       "      <th>Value</th>\n",
       "    </tr>\n",
       "  </thead>\n",
       "  <tbody>\n",
       "    <tr>\n",
       "      <th>5600</th>\n",
       "      <td>South Korea</td>\n",
       "      <td>SHEEP</td>\n",
       "      <td>THND_TONNE</td>\n",
       "      <td>1990</td>\n",
       "      <td>9.563</td>\n",
       "    </tr>\n",
       "    <tr>\n",
       "      <th>5601</th>\n",
       "      <td>South Korea</td>\n",
       "      <td>SHEEP</td>\n",
       "      <td>THND_TONNE</td>\n",
       "      <td>1991</td>\n",
       "      <td>7.896</td>\n",
       "    </tr>\n",
       "    <tr>\n",
       "      <th>5602</th>\n",
       "      <td>South Korea</td>\n",
       "      <td>SHEEP</td>\n",
       "      <td>THND_TONNE</td>\n",
       "      <td>1992</td>\n",
       "      <td>15.467</td>\n",
       "    </tr>\n",
       "  </tbody>\n",
       "</table>\n",
       "</div>"
      ],
      "text/plain": [
       "             Area SUBJECT     MEASURE  TIME   Value\n",
       "5600  South Korea   SHEEP  THND_TONNE  1990   9.563\n",
       "5601  South Korea   SHEEP  THND_TONNE  1991   7.896\n",
       "5602  South Korea   SHEEP  THND_TONNE  1992  15.467"
      ]
     },
     "execution_count": 24,
     "metadata": {},
     "output_type": "execute_result"
    }
   ],
   "source": [
    "dfConsumption2 = dfConsumption[dfConsumption['MEASURE']=='THND_TONNE']\n",
    "dfConsumption2.head(3)"
   ]
  },
  {
   "cell_type": "code",
   "execution_count": 25,
   "id": "c6bedeac",
   "metadata": {},
   "outputs": [
    {
     "data": {
      "text/html": [
       "<div>\n",
       "<style scoped>\n",
       "    .dataframe tbody tr th:only-of-type {\n",
       "        vertical-align: middle;\n",
       "    }\n",
       "\n",
       "    .dataframe tbody tr th {\n",
       "        vertical-align: top;\n",
       "    }\n",
       "\n",
       "    .dataframe thead th {\n",
       "        text-align: right;\n",
       "    }\n",
       "</style>\n",
       "<table border=\"1\" class=\"dataframe\">\n",
       "  <thead>\n",
       "    <tr style=\"text-align: right;\">\n",
       "      <th></th>\n",
       "      <th>Area</th>\n",
       "      <th>Item</th>\n",
       "      <th>TIME</th>\n",
       "      <th>Consumption</th>\n",
       "      <th>Production</th>\n",
       "    </tr>\n",
       "  </thead>\n",
       "  <tbody>\n",
       "    <tr>\n",
       "      <th>0</th>\n",
       "      <td>South Korea</td>\n",
       "      <td>SHEEP</td>\n",
       "      <td>1990</td>\n",
       "      <td>9563.0</td>\n",
       "      <td>14.0</td>\n",
       "    </tr>\n",
       "    <tr>\n",
       "      <th>1</th>\n",
       "      <td>South Korea</td>\n",
       "      <td>SHEEP</td>\n",
       "      <td>1991</td>\n",
       "      <td>7896.0</td>\n",
       "      <td>14.0</td>\n",
       "    </tr>\n",
       "    <tr>\n",
       "      <th>2</th>\n",
       "      <td>South Korea</td>\n",
       "      <td>SHEEP</td>\n",
       "      <td>1992</td>\n",
       "      <td>15467.0</td>\n",
       "      <td>29.0</td>\n",
       "    </tr>\n",
       "    <tr>\n",
       "      <th>3</th>\n",
       "      <td>South Korea</td>\n",
       "      <td>SHEEP</td>\n",
       "      <td>1993</td>\n",
       "      <td>11516.0</td>\n",
       "      <td>8.0</td>\n",
       "    </tr>\n",
       "    <tr>\n",
       "      <th>4</th>\n",
       "      <td>South Korea</td>\n",
       "      <td>SHEEP</td>\n",
       "      <td>1994</td>\n",
       "      <td>14189.0</td>\n",
       "      <td>7.0</td>\n",
       "    </tr>\n",
       "    <tr>\n",
       "      <th>5</th>\n",
       "      <td>South Korea</td>\n",
       "      <td>SHEEP</td>\n",
       "      <td>1995</td>\n",
       "      <td>12722.0</td>\n",
       "      <td>7.0</td>\n",
       "    </tr>\n",
       "    <tr>\n",
       "      <th>6</th>\n",
       "      <td>South Korea</td>\n",
       "      <td>SHEEP</td>\n",
       "      <td>1996</td>\n",
       "      <td>10887.0</td>\n",
       "      <td>7.0</td>\n",
       "    </tr>\n",
       "    <tr>\n",
       "      <th>7</th>\n",
       "      <td>South Korea</td>\n",
       "      <td>SHEEP</td>\n",
       "      <td>1997</td>\n",
       "      <td>9606.0</td>\n",
       "      <td>6.0</td>\n",
       "    </tr>\n",
       "    <tr>\n",
       "      <th>8</th>\n",
       "      <td>South Korea</td>\n",
       "      <td>SHEEP</td>\n",
       "      <td>1998</td>\n",
       "      <td>8067.0</td>\n",
       "      <td>5.0</td>\n",
       "    </tr>\n",
       "    <tr>\n",
       "      <th>9</th>\n",
       "      <td>South Korea</td>\n",
       "      <td>SHEEP</td>\n",
       "      <td>1999</td>\n",
       "      <td>6814.0</td>\n",
       "      <td>5.0</td>\n",
       "    </tr>\n",
       "  </tbody>\n",
       "</table>\n",
       "</div>"
      ],
      "text/plain": [
       "          Area   Item  TIME  Consumption  Production\n",
       "0  South Korea  SHEEP  1990       9563.0        14.0\n",
       "1  South Korea  SHEEP  1991       7896.0        14.0\n",
       "2  South Korea  SHEEP  1992      15467.0        29.0\n",
       "3  South Korea  SHEEP  1993      11516.0         8.0\n",
       "4  South Korea  SHEEP  1994      14189.0         7.0\n",
       "5  South Korea  SHEEP  1995      12722.0         7.0\n",
       "6  South Korea  SHEEP  1996      10887.0         7.0\n",
       "7  South Korea  SHEEP  1997       9606.0         6.0\n",
       "8  South Korea  SHEEP  1998       8067.0         5.0\n",
       "9  South Korea  SHEEP  1999       6814.0         5.0"
      ]
     },
     "execution_count": 25,
     "metadata": {},
     "output_type": "execute_result"
    }
   ],
   "source": [
    "new_df = pd.merge(dfConsumption2.rename(columns={'Value': 'Consumption'}), \n",
    "                  dfFao.rename(columns={'Value': 'Production'}),\n",
    "                  how='left',\n",
    "                  left_on=['Area','SUBJECT', 'TIME'], right_on = ['Area','Item', 'Year'])\n",
    "new_df = new_df[['Area', 'Item', 'TIME', 'Consumption', 'Production']]\n",
    "\n",
    "#cambiar escala de consumo pues está en miles de toneladas\n",
    "new_df['Consumption'] = new_df['Consumption'] * 1000\n",
    "\n",
    "new_df.head(10)"
   ]
  },
  {
   "cell_type": "code",
   "execution_count": 26,
   "id": "ad5be7d4",
   "metadata": {},
   "outputs": [
    {
     "data": {
      "image/png": "[encoded data removed]",
      "text/plain": [
       "<Figure size 1332x756 with 4 Axes>"
      ]
     },
     "metadata": {
      "needs_background": "light"
     },
     "output_type": "display_data"
    }
   ],
   "source": [
    "fig, ax = plt.subplots(2, 2, sharex='col')\n",
    "ejes = ax.flatten()\n",
    "tipos = ['BEEF', 'SHEEP', 'PIG', 'POULTRY']\n",
    "\n",
    "fig.set_size_inches(18.5, 10.5)\n",
    "\n",
    "for i in range(4):\n",
    "    new_df.where(new_df['Item']==tipos[i]) \\\n",
    "        .groupby('TIME') \\\n",
    "        .sum() \\\n",
    "        .plot(title=tipos[i], ax=ejes[i])\n",
    "fig.savefig('porTipo.png', dpi=100)"
   ]
  },
  {
   "cell_type": "code",
   "execution_count": 27,
   "id": "a32612a6",
   "metadata": {},
   "outputs": [
    {
     "data": {
      "image/png": "[encoded data removed]",
      "text/plain": [
       "<Figure size 432x288 with 1 Axes>"
      ]
     },
     "metadata": {
      "needs_background": "light"
     },
     "output_type": "display_data"
    }
   ],
   "source": [
    "axe = new_df.where(new_df['TIME']<2021).groupby('TIME').sum().plot(title='Total')\n",
    "axe.get_figure().savefig('total.png', dpi=100)"
   ]
  },
  {
   "cell_type": "code",
   "execution_count": 28,
   "id": "ba595fa3",
   "metadata": {},
   "outputs": [
    {
     "name": "stdout",
     "output_type": "stream",
     "text": [
      "35\n"
     ]
    },
    {
     "data": {
      "text/plain": [
       "array(['South Korea', 'South Africa', 'India', 'Norway', 'Ethiopia',\n",
       "       'Ukraine', 'Saudi Arabia', 'Russia', 'Thailand', 'Kazakhstan',\n",
       "       'Israel', 'Egypt', 'United States', 'Nigeria', 'Vietnam',\n",
       "       'New Zealand', 'Peru', 'Turkey', 'Japan', 'Brazil', 'Indonesia',\n",
       "       'Argentina', 'Colombia', 'Malaysia', 'Iran', 'Switzerland',\n",
       "       'Pakistan', 'Canada', 'Chile', 'Philippines', 'Australia', 'China',\n",
       "       'Mexico', 'Paraguay', 'United Kingdom'], dtype=object)"
      ]
     },
     "execution_count": 28,
     "metadata": {},
     "output_type": "execute_result"
    }
   ],
   "source": [
    "paises = new_df['Area'].unique()\n",
    "print(len(paises))\n",
    "paises"
   ]
  },
  {
   "cell_type": "code",
   "execution_count": 29,
   "id": "fe1af630",
   "metadata": {},
   "outputs": [
    {
     "data": {
      "text/plain": [
       "209"
      ]
     },
     "execution_count": 29,
     "metadata": {},
     "output_type": "execute_result"
    }
   ],
   "source": [
    "len(dfFao['Area'].unique())"
   ]
  },
  {
   "cell_type": "code",
   "execution_count": 30,
   "id": "0cf14654",
   "metadata": {},
   "outputs": [
    {
     "data": {
      "image/png": "[encoded data removed]",
      "text/plain": [
       "<Figure size 432x288 with 2 Axes>"
      ]
     },
     "metadata": {
      "needs_background": "light"
     },
     "output_type": "display_data"
    }
   ],
   "source": [
    "axe = sns.heatmap(new_df.corr())\n",
    "axe.get_figure().savefig('correlation.png', dpi=100)"
   ]
  },
  {
   "cell_type": "code",
   "execution_count": 31,
   "id": "1e7c0db5",
   "metadata": {},
   "outputs": [
    {
     "data": {
      "text/html": [
       "<div>\n",
       "<style scoped>\n",
       "    .dataframe tbody tr th:only-of-type {\n",
       "        vertical-align: middle;\n",
       "    }\n",
       "\n",
       "    .dataframe tbody tr th {\n",
       "        vertical-align: top;\n",
       "    }\n",
       "\n",
       "    .dataframe thead th {\n",
       "        text-align: right;\n",
       "    }\n",
       "</style>\n",
       "<table border=\"1\" class=\"dataframe\">\n",
       "  <thead>\n",
       "    <tr style=\"text-align: right;\">\n",
       "      <th></th>\n",
       "      <th>TIME</th>\n",
       "      <th>Consumption</th>\n",
       "      <th>Production</th>\n",
       "    </tr>\n",
       "  </thead>\n",
       "  <tbody>\n",
       "    <tr>\n",
       "      <th>TIME</th>\n",
       "      <td>1.000000</td>\n",
       "      <td>0.077064</td>\n",
       "      <td>0.068393</td>\n",
       "    </tr>\n",
       "    <tr>\n",
       "      <th>Consumption</th>\n",
       "      <td>0.077064</td>\n",
       "      <td>1.000000</td>\n",
       "      <td>0.991085</td>\n",
       "    </tr>\n",
       "    <tr>\n",
       "      <th>Production</th>\n",
       "      <td>0.068393</td>\n",
       "      <td>0.991085</td>\n",
       "      <td>1.000000</td>\n",
       "    </tr>\n",
       "  </tbody>\n",
       "</table>\n",
       "</div>"
      ],
      "text/plain": [
       "                 TIME  Consumption  Production\n",
       "TIME         1.000000     0.077064    0.068393\n",
       "Consumption  0.077064     1.000000    0.991085\n",
       "Production   0.068393     0.991085    1.000000"
      ]
     },
     "execution_count": 31,
     "metadata": {},
     "output_type": "execute_result"
    }
   ],
   "source": [
    "new_df.corr()"
   ]
  },
  {
   "cell_type": "code",
   "execution_count": 32,
   "id": "b355626f",
   "metadata": {},
   "outputs": [],
   "source": [
    "# Load libraries\n",
    "import pandas as pd\n",
    "from sklearn.tree import DecisionTreeRegressor # Import Decision Tree Classifier\n",
    "from sklearn.model_selection import train_test_split # Import train_test_split function\n",
    "from sklearn import metrics #Import scikit-learn metrics module for accuracy calculation\n",
    "import category_encoders as ce\n"
   ]
  },
  {
   "cell_type": "code",
   "execution_count": 33,
   "id": "60d64f21",
   "metadata": {},
   "outputs": [
    {
     "data": {
      "text/html": [
       "<div>\n",
       "<style scoped>\n",
       "    .dataframe tbody tr th:only-of-type {\n",
       "        vertical-align: middle;\n",
       "    }\n",
       "\n",
       "    .dataframe tbody tr th {\n",
       "        vertical-align: top;\n",
       "    }\n",
       "\n",
       "    .dataframe thead th {\n",
       "        text-align: right;\n",
       "    }\n",
       "</style>\n",
       "<table border=\"1\" class=\"dataframe\">\n",
       "  <thead>\n",
       "    <tr style=\"text-align: right;\">\n",
       "      <th></th>\n",
       "      <th>Area</th>\n",
       "      <th>Item</th>\n",
       "      <th>TIME</th>\n",
       "      <th>Consumption</th>\n",
       "      <th>Production</th>\n",
       "    </tr>\n",
       "  </thead>\n",
       "  <tbody>\n",
       "    <tr>\n",
       "      <th>0</th>\n",
       "      <td>South Korea</td>\n",
       "      <td>SHEEP</td>\n",
       "      <td>1990</td>\n",
       "      <td>9563.0</td>\n",
       "      <td>14.0</td>\n",
       "    </tr>\n",
       "    <tr>\n",
       "      <th>1</th>\n",
       "      <td>South Korea</td>\n",
       "      <td>SHEEP</td>\n",
       "      <td>1991</td>\n",
       "      <td>7896.0</td>\n",
       "      <td>14.0</td>\n",
       "    </tr>\n",
       "    <tr>\n",
       "      <th>2</th>\n",
       "      <td>South Korea</td>\n",
       "      <td>SHEEP</td>\n",
       "      <td>1992</td>\n",
       "      <td>15467.0</td>\n",
       "      <td>29.0</td>\n",
       "    </tr>\n",
       "    <tr>\n",
       "      <th>3</th>\n",
       "      <td>South Korea</td>\n",
       "      <td>SHEEP</td>\n",
       "      <td>1993</td>\n",
       "      <td>11516.0</td>\n",
       "      <td>8.0</td>\n",
       "    </tr>\n",
       "    <tr>\n",
       "      <th>4</th>\n",
       "      <td>South Korea</td>\n",
       "      <td>SHEEP</td>\n",
       "      <td>1994</td>\n",
       "      <td>14189.0</td>\n",
       "      <td>7.0</td>\n",
       "    </tr>\n",
       "    <tr>\n",
       "      <th>...</th>\n",
       "      <td>...</td>\n",
       "      <td>...</td>\n",
       "      <td>...</td>\n",
       "      <td>...</td>\n",
       "      <td>...</td>\n",
       "    </tr>\n",
       "    <tr>\n",
       "      <th>145</th>\n",
       "      <td>India</td>\n",
       "      <td>SHEEP</td>\n",
       "      <td>2015</td>\n",
       "      <td>708951.0</td>\n",
       "      <td>248467.0</td>\n",
       "    </tr>\n",
       "    <tr>\n",
       "      <th>146</th>\n",
       "      <td>India</td>\n",
       "      <td>SHEEP</td>\n",
       "      <td>2016</td>\n",
       "      <td>722370.0</td>\n",
       "      <td>258335.0</td>\n",
       "    </tr>\n",
       "    <tr>\n",
       "      <th>147</th>\n",
       "      <td>India</td>\n",
       "      <td>SHEEP</td>\n",
       "      <td>2017</td>\n",
       "      <td>711407.0</td>\n",
       "      <td>261211.0</td>\n",
       "    </tr>\n",
       "    <tr>\n",
       "      <th>148</th>\n",
       "      <td>India</td>\n",
       "      <td>SHEEP</td>\n",
       "      <td>2018</td>\n",
       "      <td>713248.0</td>\n",
       "      <td>268191.0</td>\n",
       "    </tr>\n",
       "    <tr>\n",
       "      <th>149</th>\n",
       "      <td>India</td>\n",
       "      <td>SHEEP</td>\n",
       "      <td>2019</td>\n",
       "      <td>712850.0</td>\n",
       "      <td>276191.0</td>\n",
       "    </tr>\n",
       "  </tbody>\n",
       "</table>\n",
       "<p>150 rows × 5 columns</p>\n",
       "</div>"
      ],
      "text/plain": [
       "            Area   Item  TIME  Consumption  Production\n",
       "0    South Korea  SHEEP  1990       9563.0        14.0\n",
       "1    South Korea  SHEEP  1991       7896.0        14.0\n",
       "2    South Korea  SHEEP  1992      15467.0        29.0\n",
       "3    South Korea  SHEEP  1993      11516.0         8.0\n",
       "4    South Korea  SHEEP  1994      14189.0         7.0\n",
       "..           ...    ...   ...          ...         ...\n",
       "145        India  SHEEP  2015     708951.0    248467.0\n",
       "146        India  SHEEP  2016     722370.0    258335.0\n",
       "147        India  SHEEP  2017     711407.0    261211.0\n",
       "148        India  SHEEP  2018     713248.0    268191.0\n",
       "149        India  SHEEP  2019     712850.0    276191.0\n",
       "\n",
       "[150 rows x 5 columns]"
      ]
     },
     "execution_count": 33,
     "metadata": {},
     "output_type": "execute_result"
    }
   ],
   "source": [
    "new_df.head(150)"
   ]
  },
  {
   "cell_type": "code",
   "execution_count": 34,
   "id": "7cb7b77c",
   "metadata": {},
   "outputs": [],
   "source": [
    "encoder = ce.OneHotEncoder()\n",
    "new_df_enc = encoder.fit_transform(new_df)"
   ]
  },
  {
   "cell_type": "code",
   "execution_count": 35,
   "id": "0d678d8a",
   "metadata": {},
   "outputs": [
    {
     "data": {
      "text/plain": [
       "Index(['Area_1', 'Area_2', 'Area_3', 'Area_4', 'Area_5', 'Area_6', 'Area_7',\n",
       "       'Area_8', 'Area_9', 'Area_10', 'Area_11', 'Area_12', 'Area_13',\n",
       "       'Area_14', 'Area_15', 'Area_16', 'Area_17', 'Area_18', 'Area_19',\n",
       "       'Area_20', 'Area_21', 'Area_22', 'Area_23', 'Area_24', 'Area_25',\n",
       "       'Area_26', 'Area_27', 'Area_28', 'Area_29', 'Area_30', 'Area_31',\n",
       "       'Area_32', 'Area_33', 'Area_34', 'Area_35', 'Item_1', 'Item_2',\n",
       "       'Item_3', 'Item_4', 'Item_5', 'TIME', 'Consumption', 'Production'],\n",
       "      dtype='object')"
      ]
     },
     "execution_count": 35,
     "metadata": {},
     "output_type": "execute_result"
    }
   ],
   "source": [
    "new_df_enc.columns"
   ]
  },
  {
   "cell_type": "code",
   "execution_count": 36,
   "id": "91947371",
   "metadata": {},
   "outputs": [],
   "source": [
    "#split dataset in features and target variable\n",
    "feature_cols = ['Area_1', 'Area_2', 'Area_3', 'Area_4', 'Area_5', 'Area_6', 'Area_7',\n",
    "       'Area_8', 'Area_9', 'Area_10', 'Area_11', 'Area_12', 'Area_13',\n",
    "       'Area_14', 'Area_15', 'Area_16', 'Area_17', 'Area_18', 'Area_19',\n",
    "       'Area_20', 'Area_21', 'Area_22', 'Area_23', 'Area_24', 'Area_25',\n",
    "       'Area_26', 'Area_27', 'Area_28', 'Area_29', 'Area_30', 'Area_31',\n",
    "       'Area_32', 'Area_33', 'Area_34', 'Area_35', 'Item_1', 'Item_2',\n",
    "       'Item_3', 'Item_4', 'Item_5', 'TIME']\n",
    "X = new_df_enc[feature_cols] # Features\n",
    "y = new_df_enc.Consumption # Target variable"
   ]
  },
  {
   "cell_type": "code",
   "execution_count": 37,
   "id": "8e40981a",
   "metadata": {},
   "outputs": [],
   "source": [
    "# Split dataset into training set and test set\n",
    "X_train, X_test, y_train, y_test = train_test_split(X, y, test_size=0.3, random_state=1) # 70% training and 30% test\n"
   ]
  },
  {
   "cell_type": "code",
   "execution_count": 38,
   "id": "8e8f0427",
   "metadata": {},
   "outputs": [
    {
     "data": {
      "text/html": [
       "<div>\n",
       "<style scoped>\n",
       "    .dataframe tbody tr th:only-of-type {\n",
       "        vertical-align: middle;\n",
       "    }\n",
       "\n",
       "    .dataframe tbody tr th {\n",
       "        vertical-align: top;\n",
       "    }\n",
       "\n",
       "    .dataframe thead th {\n",
       "        text-align: right;\n",
       "    }\n",
       "</style>\n",
       "<table border=\"1\" class=\"dataframe\">\n",
       "  <thead>\n",
       "    <tr style=\"text-align: right;\">\n",
       "      <th></th>\n",
       "      <th>Actual</th>\n",
       "      <th>Predicted</th>\n",
       "    </tr>\n",
       "  </thead>\n",
       "  <tbody>\n",
       "    <tr>\n",
       "      <th>4704</th>\n",
       "      <td>1590551.0</td>\n",
       "      <td>1649933.0</td>\n",
       "    </tr>\n",
       "    <tr>\n",
       "      <th>5570</th>\n",
       "      <td>391864.0</td>\n",
       "      <td>378922.0</td>\n",
       "    </tr>\n",
       "    <tr>\n",
       "      <th>250</th>\n",
       "      <td>903782.0</td>\n",
       "      <td>810041.0</td>\n",
       "    </tr>\n",
       "    <tr>\n",
       "      <th>1727</th>\n",
       "      <td>4644.0</td>\n",
       "      <td>4650.0</td>\n",
       "    </tr>\n",
       "    <tr>\n",
       "      <th>2610</th>\n",
       "      <td>91977.0</td>\n",
       "      <td>66462.0</td>\n",
       "    </tr>\n",
       "    <tr>\n",
       "      <th>...</th>\n",
       "      <td>...</td>\n",
       "      <td>...</td>\n",
       "    </tr>\n",
       "    <tr>\n",
       "      <th>2139</th>\n",
       "      <td>322077.0</td>\n",
       "      <td>374954.0</td>\n",
       "    </tr>\n",
       "    <tr>\n",
       "      <th>5061</th>\n",
       "      <td>114126.0</td>\n",
       "      <td>114445.0</td>\n",
       "    </tr>\n",
       "    <tr>\n",
       "      <th>1542</th>\n",
       "      <td>153791.0</td>\n",
       "      <td>149201.0</td>\n",
       "    </tr>\n",
       "    <tr>\n",
       "      <th>2991</th>\n",
       "      <td>129568.0</td>\n",
       "      <td>271.0</td>\n",
       "    </tr>\n",
       "    <tr>\n",
       "      <th>1433</th>\n",
       "      <td>225498.0</td>\n",
       "      <td>73253.0</td>\n",
       "    </tr>\n",
       "  </tbody>\n",
       "</table>\n",
       "<p>1680 rows × 2 columns</p>\n",
       "</div>"
      ],
      "text/plain": [
       "         Actual  Predicted\n",
       "4704  1590551.0  1649933.0\n",
       "5570   391864.0   378922.0\n",
       "250    903782.0   810041.0\n",
       "1727     4644.0     4650.0\n",
       "2610    91977.0    66462.0\n",
       "...         ...        ...\n",
       "2139   322077.0   374954.0\n",
       "5061   114126.0   114445.0\n",
       "1542   153791.0   149201.0\n",
       "2991   129568.0      271.0\n",
       "1433   225498.0    73253.0\n",
       "\n",
       "[1680 rows x 2 columns]"
      ]
     },
     "execution_count": 38,
     "metadata": {},
     "output_type": "execute_result"
    }
   ],
   "source": [
    "# Create Decision Tree classifier object\n",
    "clf = DecisionTreeRegressor()\n",
    "# Train Decision Tree Classifier\n",
    "clf.fit(X_train,y_train)\n",
    "#Predict the response for test dataset\n",
    "y_pred = clf.predict(X_test)\n",
    "\n",
    "df_pred_test=pd.DataFrame({'Actual':y_test, 'Predicted':y_pred})\n",
    "df_pred_test"
   ]
  },
  {
   "cell_type": "code",
   "execution_count": 39,
   "id": "26008213",
   "metadata": {},
   "outputs": [
    {
     "data": {
      "text/html": [
       "<div>\n",
       "<style scoped>\n",
       "    .dataframe tbody tr th:only-of-type {\n",
       "        vertical-align: middle;\n",
       "    }\n",
       "\n",
       "    .dataframe tbody tr th {\n",
       "        vertical-align: top;\n",
       "    }\n",
       "\n",
       "    .dataframe thead th {\n",
       "        text-align: right;\n",
       "    }\n",
       "</style>\n",
       "<table border=\"1\" class=\"dataframe\">\n",
       "  <thead>\n",
       "    <tr style=\"text-align: right;\">\n",
       "      <th></th>\n",
       "      <th>Area_1</th>\n",
       "      <th>Area_2</th>\n",
       "      <th>Area_3</th>\n",
       "      <th>Area_4</th>\n",
       "      <th>Area_5</th>\n",
       "      <th>Area_6</th>\n",
       "      <th>Area_7</th>\n",
       "      <th>Area_8</th>\n",
       "      <th>Area_9</th>\n",
       "      <th>Area_10</th>\n",
       "      <th>...</th>\n",
       "      <th>Area_32</th>\n",
       "      <th>Area_33</th>\n",
       "      <th>Area_34</th>\n",
       "      <th>Area_35</th>\n",
       "      <th>Item_1</th>\n",
       "      <th>Item_2</th>\n",
       "      <th>Item_3</th>\n",
       "      <th>Item_4</th>\n",
       "      <th>Item_5</th>\n",
       "      <th>TIME</th>\n",
       "    </tr>\n",
       "  </thead>\n",
       "  <tbody>\n",
       "    <tr>\n",
       "      <th>0</th>\n",
       "      <td>1</td>\n",
       "      <td>0</td>\n",
       "      <td>0</td>\n",
       "      <td>0</td>\n",
       "      <td>0</td>\n",
       "      <td>0</td>\n",
       "      <td>0</td>\n",
       "      <td>0</td>\n",
       "      <td>0</td>\n",
       "      <td>0</td>\n",
       "      <td>...</td>\n",
       "      <td>0</td>\n",
       "      <td>0</td>\n",
       "      <td>0</td>\n",
       "      <td>0</td>\n",
       "      <td>1</td>\n",
       "      <td>0</td>\n",
       "      <td>0</td>\n",
       "      <td>0</td>\n",
       "      <td>0</td>\n",
       "      <td>2025</td>\n",
       "    </tr>\n",
       "  </tbody>\n",
       "</table>\n",
       "<p>1 rows × 41 columns</p>\n",
       "</div>"
      ],
      "text/plain": [
       "   Area_1  Area_2  Area_3  Area_4  Area_5  Area_6  Area_7  Area_8  Area_9  \\\n",
       "0       1       0       0       0       0       0       0       0       0   \n",
       "\n",
       "   Area_10  ...  Area_32  Area_33  Area_34  Area_35  Item_1  Item_2  Item_3  \\\n",
       "0        0  ...        0        0        0        0       1       0       0   \n",
       "\n",
       "   Item_4  Item_5  TIME  \n",
       "0       0       0  2025  \n",
       "\n",
       "[1 rows x 41 columns]"
      ]
     },
     "execution_count": 39,
     "metadata": {},
     "output_type": "execute_result"
    }
   ],
   "source": [
    "df3 = pd.DataFrame([(1,0,0,0,0,0,0,0,0,0,0,0,0,0,0,0,0,0,0,0,0,0,0,0,0,0,0,0,0,0,0,0,0,0,0,1,0,0,0,0,2025)], \n",
    "                   columns=['Area_1', 'Area_2', 'Area_3', 'Area_4', 'Area_5', 'Area_6', 'Area_7',\n",
    "       'Area_8', 'Area_9', 'Area_10', 'Area_11', 'Area_12', 'Area_13',\n",
    "       'Area_14', 'Area_15', 'Area_16', 'Area_17', 'Area_18', 'Area_19',\n",
    "       'Area_20', 'Area_21', 'Area_22', 'Area_23', 'Area_24', 'Area_25',\n",
    "       'Area_26', 'Area_27', 'Area_28', 'Area_29', 'Area_30', 'Area_31',\n",
    "       'Area_32', 'Area_33', 'Area_34', 'Area_35', 'Item_1', 'Item_2',\n",
    "       'Item_3', 'Item_4', 'Item_5', 'TIME'])\n",
    "\n",
    "df3\n"
   ]
  },
  {
   "cell_type": "code",
   "execution_count": 40,
   "id": "e98aed31",
   "metadata": {},
   "outputs": [
    {
     "name": "stdout",
     "output_type": "stream",
     "text": [
      "[19317.]\n"
     ]
    }
   ],
   "source": [
    "\n",
    "y_pred = clf.predict(df3)\n",
    "\n",
    "print(y_pred)"
   ]
  },
  {
   "cell_type": "code",
   "execution_count": 41,
   "id": "6c07abda",
   "metadata": {},
   "outputs": [
    {
     "data": {
      "text/html": [
       "<div>\n",
       "<style scoped>\n",
       "    .dataframe tbody tr th:only-of-type {\n",
       "        vertical-align: middle;\n",
       "    }\n",
       "\n",
       "    .dataframe tbody tr th {\n",
       "        vertical-align: top;\n",
       "    }\n",
       "\n",
       "    .dataframe thead th {\n",
       "        text-align: right;\n",
       "    }\n",
       "</style>\n",
       "<table border=\"1\" class=\"dataframe\">\n",
       "  <thead>\n",
       "    <tr style=\"text-align: right;\">\n",
       "      <th></th>\n",
       "      <th>Area</th>\n",
       "      <th>Item</th>\n",
       "      <th>TIME</th>\n",
       "      <th>Consumption</th>\n",
       "      <th>Production</th>\n",
       "    </tr>\n",
       "  </thead>\n",
       "  <tbody>\n",
       "    <tr>\n",
       "      <th>0</th>\n",
       "      <td>South Korea</td>\n",
       "      <td>SHEEP</td>\n",
       "      <td>1990</td>\n",
       "      <td>9563.0</td>\n",
       "      <td>14.0</td>\n",
       "    </tr>\n",
       "    <tr>\n",
       "      <th>1</th>\n",
       "      <td>South Korea</td>\n",
       "      <td>SHEEP</td>\n",
       "      <td>1991</td>\n",
       "      <td>7896.0</td>\n",
       "      <td>14.0</td>\n",
       "    </tr>\n",
       "    <tr>\n",
       "      <th>2</th>\n",
       "      <td>South Korea</td>\n",
       "      <td>SHEEP</td>\n",
       "      <td>1992</td>\n",
       "      <td>15467.0</td>\n",
       "      <td>29.0</td>\n",
       "    </tr>\n",
       "    <tr>\n",
       "      <th>3</th>\n",
       "      <td>South Korea</td>\n",
       "      <td>SHEEP</td>\n",
       "      <td>1993</td>\n",
       "      <td>11516.0</td>\n",
       "      <td>8.0</td>\n",
       "    </tr>\n",
       "    <tr>\n",
       "      <th>4</th>\n",
       "      <td>South Korea</td>\n",
       "      <td>SHEEP</td>\n",
       "      <td>1994</td>\n",
       "      <td>14189.0</td>\n",
       "      <td>7.0</td>\n",
       "    </tr>\n",
       "    <tr>\n",
       "      <th>...</th>\n",
       "      <td>...</td>\n",
       "      <td>...</td>\n",
       "      <td>...</td>\n",
       "      <td>...</td>\n",
       "      <td>...</td>\n",
       "    </tr>\n",
       "    <tr>\n",
       "      <th>5595</th>\n",
       "      <td>United Kingdom</td>\n",
       "      <td>NaN</td>\n",
       "      <td>2025</td>\n",
       "      <td>303964.0</td>\n",
       "      <td>NaN</td>\n",
       "    </tr>\n",
       "    <tr>\n",
       "      <th>5596</th>\n",
       "      <td>United Kingdom</td>\n",
       "      <td>NaN</td>\n",
       "      <td>2026</td>\n",
       "      <td>303925.0</td>\n",
       "      <td>NaN</td>\n",
       "    </tr>\n",
       "    <tr>\n",
       "      <th>5597</th>\n",
       "      <td>United Kingdom</td>\n",
       "      <td>NaN</td>\n",
       "      <td>2027</td>\n",
       "      <td>304111.0</td>\n",
       "      <td>NaN</td>\n",
       "    </tr>\n",
       "    <tr>\n",
       "      <th>5598</th>\n",
       "      <td>United Kingdom</td>\n",
       "      <td>NaN</td>\n",
       "      <td>2028</td>\n",
       "      <td>304370.0</td>\n",
       "      <td>NaN</td>\n",
       "    </tr>\n",
       "    <tr>\n",
       "      <th>5599</th>\n",
       "      <td>United Kingdom</td>\n",
       "      <td>NaN</td>\n",
       "      <td>2029</td>\n",
       "      <td>304515.0</td>\n",
       "      <td>NaN</td>\n",
       "    </tr>\n",
       "  </tbody>\n",
       "</table>\n",
       "<p>5600 rows × 5 columns</p>\n",
       "</div>"
      ],
      "text/plain": [
       "                Area   Item  TIME  Consumption  Production\n",
       "0        South Korea  SHEEP  1990       9563.0        14.0\n",
       "1        South Korea  SHEEP  1991       7896.0        14.0\n",
       "2        South Korea  SHEEP  1992      15467.0        29.0\n",
       "3        South Korea  SHEEP  1993      11516.0         8.0\n",
       "4        South Korea  SHEEP  1994      14189.0         7.0\n",
       "...              ...    ...   ...          ...         ...\n",
       "5595  United Kingdom    NaN  2025     303964.0         NaN\n",
       "5596  United Kingdom    NaN  2026     303925.0         NaN\n",
       "5597  United Kingdom    NaN  2027     304111.0         NaN\n",
       "5598  United Kingdom    NaN  2028     304370.0         NaN\n",
       "5599  United Kingdom    NaN  2029     304515.0         NaN\n",
       "\n",
       "[5600 rows x 5 columns]"
      ]
     },
     "execution_count": 41,
     "metadata": {},
     "output_type": "execute_result"
    }
   ],
   "source": [
    "new_df"
   ]
  },
  {
   "cell_type": "code",
   "execution_count": 42,
   "id": "0121c0a6",
   "metadata": {},
   "outputs": [
    {
     "data": {
      "text/html": [
       "<div>\n",
       "<style scoped>\n",
       "    .dataframe tbody tr th:only-of-type {\n",
       "        vertical-align: middle;\n",
       "    }\n",
       "\n",
       "    .dataframe tbody tr th {\n",
       "        vertical-align: top;\n",
       "    }\n",
       "\n",
       "    .dataframe thead th {\n",
       "        text-align: right;\n",
       "    }\n",
       "</style>\n",
       "<table border=\"1\" class=\"dataframe\">\n",
       "  <thead>\n",
       "    <tr style=\"text-align: right;\">\n",
       "      <th></th>\n",
       "      <th>Area</th>\n",
       "      <th>Item</th>\n",
       "      <th>TIME</th>\n",
       "      <th>Consumption</th>\n",
       "      <th>Production</th>\n",
       "    </tr>\n",
       "  </thead>\n",
       "  <tbody>\n",
       "    <tr>\n",
       "      <th>30</th>\n",
       "      <td>South Korea</td>\n",
       "      <td>SHEEP</td>\n",
       "      <td>2020</td>\n",
       "      <td>19317.0</td>\n",
       "      <td>4.0</td>\n",
       "    </tr>\n",
       "  </tbody>\n",
       "</table>\n",
       "</div>"
      ],
      "text/plain": [
       "           Area   Item  TIME  Consumption  Production\n",
       "30  South Korea  SHEEP  2020      19317.0         4.0"
      ]
     },
     "execution_count": 42,
     "metadata": {},
     "output_type": "execute_result"
    }
   ],
   "source": [
    "new_df.query(\"Area == 'South Korea' & Item == 'SHEEP' & TIME == 2020\")"
   ]
  },
  {
   "cell_type": "code",
   "execution_count": 43,
   "id": "d80de4a5",
   "metadata": {},
   "outputs": [],
   "source": [
    "new_df = new_df[new_df[\"Item\"] == 'BEEF'] \n",
    "new_df = new_df[new_df[\"Area\"] == 'South Korea'] \n",
    "new_df = new_df.drop(columns=[\"Item\", \"Area\",\"TIME\", \"Production\"])\n",
    "\n",
    "new_df.describe()\n",
    "\n",
    "dataset = new_df.values"
   ]
  },
  {
   "cell_type": "code",
   "execution_count": 44,
   "id": "1948e462",
   "metadata": {},
   "outputs": [],
   "source": [
    "def convert2matrix(dataset, look_back=1):\n",
    "    X, Y =[], []\n",
    "    for i in range(len(dataset)-look_back):\n",
    "        d=i+look_back  \n",
    "        X.append(dataset[i:d,0])\n",
    "        Y.append(dataset[d,0])\n",
    "    return np.array(X), np.array(Y)"
   ]
  },
  {
   "cell_type": "code",
   "execution_count": 45,
   "id": "d2560bc9",
   "metadata": {},
   "outputs": [],
   "source": [
    "def neural_model(look_back, trainX, trainY, epochs, batch_size):\n",
    "    model = Sequential()\n",
    "    model.add(Dense(32, input_dim=look_back, activation='relu'))\n",
    "    model.add(Dense(32, activation='relu'))\n",
    "    model.add(Dense(1))\n",
    "    model.compile(loss='mse', optimizer='adam', metrics=['mae'])\n",
    "    history = model.fit(trainX, trainY, epochs=epochs, batch_size=batch_size, verbose=0, validation_data=(testX,testY), \n",
    "                        callbacks=[EarlyStopping(monitor='val_loss', patience=10)],shuffle=False)\n",
    "    return model, history"
   ]
  },
  {
   "cell_type": "code",
   "execution_count": 46,
   "id": "295c9821",
   "metadata": {},
   "outputs": [],
   "source": [
    "def history_model_plot(dataset, look_back, trainPredict, testPredict):\n",
    "    # shift train predictions for plotting\n",
    "    trainPredictPlot = np.empty_like(dataset)\n",
    "    trainPredictPlot[:, :] = np.nan\n",
    "    trainPredictPlot[look_back:len(trainPredict)+look_back, :] = trainPredict\n",
    "    # shift test predictions for plotting\n",
    "    testPredictPlot = np.empty_like(dataset)\n",
    "    testPredictPlot[:, :] = np.nan\n",
    "    testPredictPlot[len(trainPredict)+look_back:len(dataset)-1, :] = testPredict\n",
    "    # plot baseline and predictions\n",
    "    print(dataset.shape)\n",
    "    print(trainPredict.shape)\n",
    "    print(testPredict.shape)\n",
    "    plt.plot(dataset)\n",
    "    plt.plot(trainPredictPlot)\n",
    "    plt.plot(testPredictPlot)\n",
    "    plt.show()"
   ]
  },
  {
   "cell_type": "code",
   "execution_count": 47,
   "id": "66e40603",
   "metadata": {},
   "outputs": [],
   "source": [
    "def model_loss(history):\n",
    "    plt.figure(figsize=(8,4))\n",
    "    plt.plot(history.history['loss'], label='Train Loss')\n",
    "    plt.plot(history.history['val_loss'], label='Test Loss')\n",
    "    plt.title('model loss')\n",
    "    plt.ylabel('loss')\n",
    "    plt.xlabel('epochs')\n",
    "    plt.legend(loc='upper right')\n",
    "    plt.show();"
   ]
  },
  {
   "cell_type": "code",
   "execution_count": 48,
   "id": "868284ae",
   "metadata": {},
   "outputs": [],
   "source": [
    "def prediction_plot(testY, test_predict, l):\n",
    "    len_prediction=[x for x in range(len(testY))]\n",
    "    plt.figure(figsize=(8,4))\n",
    "    plt.plot(len_prediction, testY[:l], marker='.', label=\"actual\")\n",
    "    plt.plot(len_prediction, test_predict[:l], 'r', label=\"prediction\")\n",
    "    plt.tight_layout()\n",
    "    sns.despine(top=True)\n",
    "    plt.subplots_adjust(left=0.07)\n",
    "    plt.ylabel('Ads Daily Spend', size=15)\n",
    "    plt.xlabel('Time step', size=15)\n",
    "    plt.legend(fontsize=15)\n",
    "    plt.show();"
   ]
  },
  {
   "cell_type": "code",
   "execution_count": 49,
   "id": "7e2a6dcf",
   "metadata": {},
   "outputs": [],
   "source": [
    "train_size = int(len(dataset) * 0.67)\n",
    "test_size = len(dataset) - train_size\n",
    "train, test = dataset[0:train_size,:], dataset[train_size:len(dataset),:]\n",
    "\n",
    "look_back = 1\n",
    "trainX, trainY = convert2matrix(train, look_back)\n",
    "testX, testY = convert2matrix(test, look_back)\n",
    "\n",
    "model, history = neural_model(trainX.shape[1], trainX, trainY, 300, 20)"
   ]
  },
  {
   "cell_type": "code",
   "execution_count": 50,
   "id": "a1851077",
   "metadata": {},
   "outputs": [
    {
     "name": "stdout",
     "output_type": "stream",
     "text": [
      "Train Score: 7708841984.00 MSE (55797.09 MAE)\n",
      "Test Score: 7708841984.00 MSE (55797.09 MAE)\n"
     ]
    }
   ],
   "source": [
    "trainScore = model.evaluate(trainX,trainY, verbose=0)\n",
    "print('Train Score: %.2f MSE (%.2f MAE)' % (trainScore[0], trainScore[1]))\n",
    "\n",
    "testScore = model.evaluate(testX, testY, verbose=0)\n",
    "print('Test Score: %.2f MSE (%.2f MAE)' % (trainScore[0], trainScore[1])) "
   ]
  },
  {
   "cell_type": "code",
   "execution_count": 51,
   "id": "015f788a",
   "metadata": {},
   "outputs": [
    {
     "data": {
      "image/png": "[encoded data removed]",
      "text/plain": [
       "<Figure size 576x288 with 1 Axes>"
      ]
     },
     "metadata": {
      "needs_background": "light"
     },
     "output_type": "display_data"
    }
   ],
   "source": [
    "model_loss(history)"
   ]
  },
  {
   "cell_type": "code",
   "execution_count": 52,
   "id": "6535f4f4",
   "metadata": {},
   "outputs": [],
   "source": [
    "trainPredict = model.predict(trainX)\n",
    "testPredict = model.predict(testX)"
   ]
  },
  {
   "cell_type": "code",
   "execution_count": 53,
   "id": "1ee4c37b",
   "metadata": {},
   "outputs": [
    {
     "name": "stdout",
     "output_type": "stream",
     "text": [
      "(31, 1)\n",
      "(19, 1)\n",
      "(10, 1)\n"
     ]
    },
    {
     "data": {
      "image/png": "[encoded data removed]",
      "text/plain": [
       "<Figure size 432x288 with 1 Axes>"
      ]
     },
     "metadata": {
      "needs_background": "light"
     },
     "output_type": "display_data"
    }
   ],
   "source": [
    "history_model_plot(dataset, look_back, trainPredict, testPredict)"
   ]
  },
  {
   "cell_type": "code",
   "execution_count": 54,
   "id": "b6d65818",
   "metadata": {},
   "outputs": [
    {
     "data": {
      "image/png": "[encoded data removed]",
      "text/plain": [
       "<Figure size 576x288 with 1 Axes>"
      ]
     },
     "metadata": {
      "needs_background": "light"
     },
     "output_type": "display_data"
    }
   ],
   "source": [
    "prediction_plot(testY, testPredict, testY.shape[0])"
   ]
  },
  {
   "cell_type": "code",
   "execution_count": 55,
   "id": "e5aa9122",
   "metadata": {},
   "outputs": [
    {
     "data": {
      "text/plain": [
       "array([[564912.],\n",
       "       [627210.],\n",
       "       [639583.],\n",
       "       [671544.],\n",
       "       [713675.],\n",
       "       [726628.],\n",
       "       [729746.],\n",
       "       [762168.],\n",
       "       [791703.],\n",
       "       [865100.]])"
      ]
     },
     "execution_count": 55,
     "metadata": {},
     "output_type": "execute_result"
    }
   ],
   "source": [
    "testX"
   ]
  },
  {
   "cell_type": "code",
   "execution_count": 56,
   "id": "10176317",
   "metadata": {},
   "outputs": [
    {
     "data": {
      "text/plain": [
       "array([[578708.56],\n",
       "       [642528.  ],\n",
       "       [655203.2 ],\n",
       "       [687944.7 ],\n",
       "       [731104.6 ],\n",
       "       [744374.  ],\n",
       "       [747568.06],\n",
       "       [780781.94],\n",
       "       [811038.2 ],\n",
       "       [886227.56]], dtype=float32)"
      ]
     },
     "execution_count": 56,
     "metadata": {},
     "output_type": "execute_result"
    }
   ],
   "source": [
    "testPredict"
   ]
  },
  {
   "cell_type": "code",
   "execution_count": null,
   "id": "9920cb3b",
   "metadata": {},
   "outputs": [],
   "source": []
  }
 ],
 "metadata": {
  "kernelspec": {
   "display_name": "Python 3",
   "language": "python",
   "name": "python3"
  },
  "language_info": {
   "codemirror_mode": {
    "name": "ipython",
    "version": 3
   },
   "file_extension": ".py",
   "mimetype": "text/x-python",
   "name": "python",
   "nbconvert_exporter": "python",
   "pygments_lexer": "ipython3",
   "version": "3.8.8"
  }
 },
 "nbformat": 4,
 "nbformat_minor": 5
}
