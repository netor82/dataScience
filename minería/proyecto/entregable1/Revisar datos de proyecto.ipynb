{
 "cells": [
  {
   "cell_type": "code",
   "execution_count": 1,
   "id": "f059e440-8e23-4898-beb5-9d6b8d02fd44",
   "metadata": {},
   "outputs": [],
   "source": [
    "import sys\n",
    "#!{sys.executable} -m pip install openpyxl"
   ]
  },
  {
   "cell_type": "code",
   "execution_count": 2,
   "id": "b5032576-e631-4c97-a4a8-a5f1c2edaa34",
   "metadata": {},
   "outputs": [],
   "source": [
    "#!{sys.executable} -m pip install category_encoders"
   ]
  },
  {
   "cell_type": "code",
   "execution_count": 3,
   "id": "1060f79e",
   "metadata": {},
   "outputs": [],
   "source": [
    "import numpy as np\n",
    "import pandas as pd\n",
    "\n",
    "from matplotlib import pyplot as plt\n",
    "import seaborn as sns\n",
    "\n",
    "from keras.models import Sequential\n",
    "from keras.layers.core import Dense, Dropout, Activation\n",
    "from keras.callbacks import ModelCheckpoint, EarlyStopping\n",
    "\n",
    "%matplotlib inline\n",
    "\n",
    "import openpyxl"
   ]
  },
  {
   "cell_type": "code",
   "execution_count": 4,
   "id": "96bbe0cd",
   "metadata": {},
   "outputs": [
    {
     "data": {
      "text/html": [
       "<div>\n",
       "<style scoped>\n",
       "    .dataframe tbody tr th:only-of-type {\n",
       "        vertical-align: middle;\n",
       "    }\n",
       "\n",
       "    .dataframe tbody tr th {\n",
       "        vertical-align: top;\n",
       "    }\n",
       "\n",
       "    .dataframe thead th {\n",
       "        text-align: right;\n",
       "    }\n",
       "</style>\n",
       "<table border=\"1\" class=\"dataframe\">\n",
       "  <thead>\n",
       "    <tr style=\"text-align: right;\">\n",
       "      <th></th>\n",
       "      <th>Domain Code</th>\n",
       "      <th>Domain</th>\n",
       "      <th>Area Code (FAO)</th>\n",
       "      <th>Area</th>\n",
       "      <th>Element Code</th>\n",
       "      <th>Element</th>\n",
       "      <th>Item Code (FAO)</th>\n",
       "      <th>Item</th>\n",
       "      <th>Year Code</th>\n",
       "      <th>Year</th>\n",
       "      <th>Unit</th>\n",
       "      <th>Value</th>\n",
       "      <th>Flag</th>\n",
       "      <th>Flag Description</th>\n",
       "    </tr>\n",
       "  </thead>\n",
       "  <tbody>\n",
       "    <tr>\n",
       "      <th>0</th>\n",
       "      <td>QCL</td>\n",
       "      <td>Crops and livestock products</td>\n",
       "      <td>2</td>\n",
       "      <td>Afghanistan</td>\n",
       "      <td>5510</td>\n",
       "      <td>Production</td>\n",
       "      <td>867</td>\n",
       "      <td>Meat, cattle</td>\n",
       "      <td>1961</td>\n",
       "      <td>1961</td>\n",
       "      <td>tonnes</td>\n",
       "      <td>43000.0</td>\n",
       "      <td>F</td>\n",
       "      <td>FAO estimate</td>\n",
       "    </tr>\n",
       "    <tr>\n",
       "      <th>1</th>\n",
       "      <td>QCL</td>\n",
       "      <td>Crops and livestock products</td>\n",
       "      <td>2</td>\n",
       "      <td>Afghanistan</td>\n",
       "      <td>5510</td>\n",
       "      <td>Production</td>\n",
       "      <td>867</td>\n",
       "      <td>Meat, cattle</td>\n",
       "      <td>1962</td>\n",
       "      <td>1962</td>\n",
       "      <td>tonnes</td>\n",
       "      <td>45800.0</td>\n",
       "      <td>F</td>\n",
       "      <td>FAO estimate</td>\n",
       "    </tr>\n",
       "  </tbody>\n",
       "</table>\n",
       "</div>"
      ],
      "text/plain": [
       "  Domain Code                        Domain  Area Code (FAO)         Area  \\\n",
       "0         QCL  Crops and livestock products                2  Afghanistan   \n",
       "1         QCL  Crops and livestock products                2  Afghanistan   \n",
       "\n",
       "   Element Code     Element  Item Code (FAO)          Item  Year Code  Year  \\\n",
       "0          5510  Production              867  Meat, cattle       1961  1961   \n",
       "1          5510  Production              867  Meat, cattle       1962  1962   \n",
       "\n",
       "     Unit    Value Flag Flag Description  \n",
       "0  tonnes  43000.0    F     FAO estimate  \n",
       "1  tonnes  45800.0    F     FAO estimate  "
      ]
     },
     "execution_count": 4,
     "metadata": {},
     "output_type": "execute_result"
    }
   ],
   "source": [
    "dfFao = pd.read_csv(\"FAOSTAT.csv\")\n",
    "dfCountries = pd.read_csv(\"iso-country-codes.csv\")\n",
    "dfConsumption = pd.read_csv(\"oecd_meat_consumption.csv\")\n",
    "\n",
    "dfFao.head(2)"
   ]
  },
  {
   "cell_type": "code",
   "execution_count": 5,
   "id": "bb8c55af",
   "metadata": {},
   "outputs": [
    {
     "data": {
      "text/html": [
       "<div>\n",
       "<style scoped>\n",
       "    .dataframe tbody tr th:only-of-type {\n",
       "        vertical-align: middle;\n",
       "    }\n",
       "\n",
       "    .dataframe tbody tr th {\n",
       "        vertical-align: top;\n",
       "    }\n",
       "\n",
       "    .dataframe thead th {\n",
       "        text-align: right;\n",
       "    }\n",
       "</style>\n",
       "<table border=\"1\" class=\"dataframe\">\n",
       "  <thead>\n",
       "    <tr style=\"text-align: right;\">\n",
       "      <th></th>\n",
       "      <th>English short name lower case</th>\n",
       "      <th>Alpha-2 code</th>\n",
       "      <th>Alpha-3 code</th>\n",
       "      <th>Numeric code</th>\n",
       "      <th>ISO 3166-2</th>\n",
       "    </tr>\n",
       "  </thead>\n",
       "  <tbody>\n",
       "    <tr>\n",
       "      <th>0</th>\n",
       "      <td>Zimbabwe</td>\n",
       "      <td>ZW</td>\n",
       "      <td>ZWE</td>\n",
       "      <td>716</td>\n",
       "      <td>ISO 3166-2:ZW</td>\n",
       "    </tr>\n",
       "    <tr>\n",
       "      <th>1</th>\n",
       "      <td>Zambia</td>\n",
       "      <td>ZM</td>\n",
       "      <td>ZMB</td>\n",
       "      <td>894</td>\n",
       "      <td>ISO 3166-2:ZM</td>\n",
       "    </tr>\n",
       "  </tbody>\n",
       "</table>\n",
       "</div>"
      ],
      "text/plain": [
       "  English short name lower case Alpha-2 code Alpha-3 code  Numeric code  \\\n",
       "0                      Zimbabwe           ZW          ZWE           716   \n",
       "1                        Zambia           ZM          ZMB           894   \n",
       "\n",
       "      ISO 3166-2  \n",
       "0  ISO 3166-2:ZW  \n",
       "1  ISO 3166-2:ZM  "
      ]
     },
     "execution_count": 5,
     "metadata": {},
     "output_type": "execute_result"
    }
   ],
   "source": [
    "dfCountries.head(2)"
   ]
  },
  {
   "cell_type": "code",
   "execution_count": 6,
   "id": "134fed3e",
   "metadata": {},
   "outputs": [
    {
     "data": {
      "text/html": [
       "<div>\n",
       "<style scoped>\n",
       "    .dataframe tbody tr th:only-of-type {\n",
       "        vertical-align: middle;\n",
       "    }\n",
       "\n",
       "    .dataframe tbody tr th {\n",
       "        vertical-align: top;\n",
       "    }\n",
       "\n",
       "    .dataframe thead th {\n",
       "        text-align: right;\n",
       "    }\n",
       "</style>\n",
       "<table border=\"1\" class=\"dataframe\">\n",
       "  <thead>\n",
       "    <tr style=\"text-align: right;\">\n",
       "      <th></th>\n",
       "      <th>LOCATION</th>\n",
       "      <th>INDICATOR</th>\n",
       "      <th>SUBJECT</th>\n",
       "      <th>MEASURE</th>\n",
       "      <th>FREQUENCY</th>\n",
       "      <th>TIME</th>\n",
       "      <th>Value</th>\n",
       "      <th>Flag Codes</th>\n",
       "    </tr>\n",
       "  </thead>\n",
       "  <tbody>\n",
       "    <tr>\n",
       "      <th>0</th>\n",
       "      <td>AUS</td>\n",
       "      <td>MEATCONSUMP</td>\n",
       "      <td>BEEF</td>\n",
       "      <td>KG_CAP</td>\n",
       "      <td>A</td>\n",
       "      <td>1990</td>\n",
       "      <td>0.000</td>\n",
       "      <td>NaN</td>\n",
       "    </tr>\n",
       "    <tr>\n",
       "      <th>1</th>\n",
       "      <td>AUS</td>\n",
       "      <td>MEATCONSUMP</td>\n",
       "      <td>BEEF</td>\n",
       "      <td>KG_CAP</td>\n",
       "      <td>A</td>\n",
       "      <td>1991</td>\n",
       "      <td>27.942</td>\n",
       "      <td>NaN</td>\n",
       "    </tr>\n",
       "  </tbody>\n",
       "</table>\n",
       "</div>"
      ],
      "text/plain": [
       "  LOCATION    INDICATOR SUBJECT MEASURE FREQUENCY  TIME   Value  Flag Codes\n",
       "0      AUS  MEATCONSUMP    BEEF  KG_CAP         A  1990   0.000         NaN\n",
       "1      AUS  MEATCONSUMP    BEEF  KG_CAP         A  1991  27.942         NaN"
      ]
     },
     "execution_count": 6,
     "metadata": {},
     "output_type": "execute_result"
    }
   ],
   "source": [
    "dfConsumption.head(2)"
   ]
  },
  {
   "cell_type": "markdown",
   "id": "1418365a",
   "metadata": {},
   "source": [
    "## Pasos para limpiar dfCountries\n",
    "1. Seleccionar solo aquellas columnas necesarias.\n",
    "2. Renombrar las columnas al igual que las columnas en los otros dataset para luego hacer los joins.\n",
    "3. Revisar qué valores de dfCountries no hacen correspondencia con los códigos o nombres usados en los otros datasets.\n",
    "\n",
    "### Paso 1 y 2"
   ]
  },
  {
   "cell_type": "code",
   "execution_count": 7,
   "id": "b7f1cad0",
   "metadata": {},
   "outputs": [
    {
     "data": {
      "text/html": [
       "<div>\n",
       "<style scoped>\n",
       "    .dataframe tbody tr th:only-of-type {\n",
       "        vertical-align: middle;\n",
       "    }\n",
       "\n",
       "    .dataframe tbody tr th {\n",
       "        vertical-align: top;\n",
       "    }\n",
       "\n",
       "    .dataframe thead th {\n",
       "        text-align: right;\n",
       "    }\n",
       "</style>\n",
       "<table border=\"1\" class=\"dataframe\">\n",
       "  <thead>\n",
       "    <tr style=\"text-align: right;\">\n",
       "      <th></th>\n",
       "      <th>LOCATION</th>\n",
       "      <th>Area</th>\n",
       "    </tr>\n",
       "  </thead>\n",
       "  <tbody>\n",
       "    <tr>\n",
       "      <th>0</th>\n",
       "      <td>ZWE</td>\n",
       "      <td>Zimbabwe</td>\n",
       "    </tr>\n",
       "    <tr>\n",
       "      <th>1</th>\n",
       "      <td>ZMB</td>\n",
       "      <td>Zambia</td>\n",
       "    </tr>\n",
       "    <tr>\n",
       "      <th>2</th>\n",
       "      <td>YEM</td>\n",
       "      <td>Yemen</td>\n",
       "    </tr>\n",
       "    <tr>\n",
       "      <th>3</th>\n",
       "      <td>ESH</td>\n",
       "      <td>Western Sahara</td>\n",
       "    </tr>\n",
       "    <tr>\n",
       "      <th>4</th>\n",
       "      <td>WLF</td>\n",
       "      <td>Wallis and Futuna</td>\n",
       "    </tr>\n",
       "  </tbody>\n",
       "</table>\n",
       "</div>"
      ],
      "text/plain": [
       "  LOCATION               Area\n",
       "0      ZWE           Zimbabwe\n",
       "1      ZMB             Zambia\n",
       "2      YEM              Yemen\n",
       "3      ESH     Western Sahara\n",
       "4      WLF  Wallis and Futuna"
      ]
     },
     "execution_count": 7,
     "metadata": {},
     "output_type": "execute_result"
    }
   ],
   "source": [
    "dfCountries = dfCountries[['Alpha-3 code', 'English short name lower case']] \\\n",
    "    .rename(columns={'Alpha-3 code': 'LOCATION', 'English short name lower case':'Area'})\n",
    "dfCountries.head(5)"
   ]
  },
  {
   "cell_type": "markdown",
   "id": "90c7b9d7",
   "metadata": {},
   "source": [
    "### Paso 3: emparejado de valores"
   ]
  },
  {
   "cell_type": "code",
   "execution_count": 8,
   "id": "60925d9b",
   "metadata": {},
   "outputs": [
    {
     "name": "stdout",
     "output_type": "stream",
     "text": [
      "valores que no hacen correspondencia:\n",
      "   LOCATION Area     _merge\n",
      "32      WLD  NaN  left_only\n",
      "33     OECD  NaN  left_only\n",
      "34    BRICS  NaN  left_only\n"
     ]
    }
   ],
   "source": [
    "def unirDf(df1, df2, columna):\n",
    "    df1 = df1.merge(df2, on=columna, how='left', indicator=True)\n",
    "    print('valores que no hacen correspondencia:')\n",
    "    print(df1[df1['_merge'] != 'both'])\n",
    "    return df1\n",
    "\n",
    "\n",
    "dfUnicosEnConsumo = pd.DataFrame(dfConsumption['LOCATION'].unique(), columns = ['LOCATION'])\n",
    "dfJoinedConsumptionAndCountries = unirDf(dfUnicosEnConsumo, dfCountries, 'LOCATION')"
   ]
  },
  {
   "cell_type": "markdown",
   "id": "bf393ed5",
   "metadata": {},
   "source": [
    "Esto es esperado, pues el dataset de consumo de OEDC usa esos tres valores para poner valores especiales para su propio análisis.\n",
    "\n",
    "Ahora, quitamos esos valores y revisamos cuáles valores no están en el dataset de producción de FAO."
   ]
  },
  {
   "cell_type": "code",
   "execution_count": 9,
   "id": "896b36f1",
   "metadata": {},
   "outputs": [
    {
     "name": "stdout",
     "output_type": "stream",
     "text": [
      "valores que no hacen correspondencia:\n",
      "              Area     _merge\n",
      "3      South Korea  left_only\n",
      "6           Turkey  left_only\n",
      "7    United States  left_only\n",
      "17            Iran  left_only\n",
      "26          Russia  left_only\n",
      "31         Vietnam  left_only\n",
      "34  United Kingdom  left_only\n"
     ]
    }
   ],
   "source": [
    "dfConsumptionOK = dfJoinedConsumptionAndCountries[dfJoinedConsumptionAndCountries['_merge'] == 'both'][['Area']]\n",
    "\n",
    "def corroborarValoresEnFAO(df):\n",
    "    dfUnicosEnFao = pd.DataFrame(dfFao['Area'].unique(), columns = ['Area'])\n",
    "    _ = unirDf(df, dfUnicosEnFao, 'Area')\n",
    "    \n",
    "corroborarValoresEnFAO(dfConsumptionOK)"
   ]
  },
  {
   "cell_type": "markdown",
   "id": "b7310c0f",
   "metadata": {},
   "source": [
    "Correcciones a valores en dfFao"
   ]
  },
  {
   "cell_type": "code",
   "execution_count": 10,
   "id": "6d88c003",
   "metadata": {},
   "outputs": [
    {
     "name": "stdout",
     "output_type": "stream",
     "text": [
      "valores que no hacen correspondencia:\n",
      "Empty DataFrame\n",
      "Columns: [Area, _merge]\n",
      "Index: []\n"
     ]
    }
   ],
   "source": [
    "def corregirValorEnFao(malo, bueno, columma='Area'):\n",
    "    dfFao.loc[dfFao[columma] == malo, columma] = bueno\n",
    "\n",
    "corregirValorEnFao('Republic of Korea', 'South Korea')\n",
    "corregirValorEnFao('United States of America', 'United States')\n",
    "corregirValorEnFao('Iran (Islamic Republic of)', 'Iran')\n",
    "corregirValorEnFao('Russian Federation', 'Russia')\n",
    "corregirValorEnFao('Viet Nam', 'Vietnam')\n",
    "corregirValorEnFao('United Kingdom of Great Britain and Northern Ireland', 'United Kingdom')\n",
    "corregirValorEnFao('Türkiye', 'Turkey')\n",
    "\n",
    "corroborarValoresEnFAO(dfConsumptionOK)"
   ]
  },
  {
   "cell_type": "code",
   "execution_count": 11,
   "id": "3445e671",
   "metadata": {},
   "outputs": [
    {
     "data": {
      "text/html": [
       "<div>\n",
       "<style scoped>\n",
       "    .dataframe tbody tr th:only-of-type {\n",
       "        vertical-align: middle;\n",
       "    }\n",
       "\n",
       "    .dataframe tbody tr th {\n",
       "        vertical-align: top;\n",
       "    }\n",
       "\n",
       "    .dataframe thead th {\n",
       "        text-align: right;\n",
       "    }\n",
       "</style>\n",
       "<table border=\"1\" class=\"dataframe\">\n",
       "  <thead>\n",
       "    <tr style=\"text-align: right;\">\n",
       "      <th></th>\n",
       "      <th>LOCATION</th>\n",
       "      <th>Area</th>\n",
       "    </tr>\n",
       "  </thead>\n",
       "  <tbody>\n",
       "    <tr>\n",
       "      <th>0</th>\n",
       "      <td>ZWE</td>\n",
       "      <td>Zimbabwe</td>\n",
       "    </tr>\n",
       "    <tr>\n",
       "      <th>1</th>\n",
       "      <td>ZMB</td>\n",
       "      <td>Zambia</td>\n",
       "    </tr>\n",
       "    <tr>\n",
       "      <th>2</th>\n",
       "      <td>YEM</td>\n",
       "      <td>Yemen</td>\n",
       "    </tr>\n",
       "    <tr>\n",
       "      <th>3</th>\n",
       "      <td>ESH</td>\n",
       "      <td>Western Sahara</td>\n",
       "    </tr>\n",
       "    <tr>\n",
       "      <th>4</th>\n",
       "      <td>WLF</td>\n",
       "      <td>Wallis and Futuna</td>\n",
       "    </tr>\n",
       "  </tbody>\n",
       "</table>\n",
       "</div>"
      ],
      "text/plain": [
       "  LOCATION               Area\n",
       "0      ZWE           Zimbabwe\n",
       "1      ZMB             Zambia\n",
       "2      YEM              Yemen\n",
       "3      ESH     Western Sahara\n",
       "4      WLF  Wallis and Futuna"
      ]
     },
     "execution_count": 11,
     "metadata": {},
     "output_type": "execute_result"
    }
   ],
   "source": [
    "dfCountries.head(5)"
   ]
  },
  {
   "cell_type": "markdown",
   "id": "d690a071",
   "metadata": {},
   "source": [
    "----\n",
    "\n",
    "## Pasos para limpiar dfConsumption\n",
    "Pasos:\n",
    "1. Unir los datos de Consumo con los países.\n",
    "2. Quitar los códigos de 'Location' propios del análisis de la OECD.\n",
    "3. Remover entradas para Turquía.\n",
    "4. Quitar columnas innecesarias.\n",
    "\n",
    "### 1. Unir datos con dataframe de países"
   ]
  },
  {
   "cell_type": "code",
   "execution_count": 12,
   "id": "c6806af5",
   "metadata": {},
   "outputs": [
    {
     "data": {
      "text/html": [
       "<div>\n",
       "<style scoped>\n",
       "    .dataframe tbody tr th:only-of-type {\n",
       "        vertical-align: middle;\n",
       "    }\n",
       "\n",
       "    .dataframe tbody tr th {\n",
       "        vertical-align: top;\n",
       "    }\n",
       "\n",
       "    .dataframe thead th {\n",
       "        text-align: right;\n",
       "    }\n",
       "</style>\n",
       "<table border=\"1\" class=\"dataframe\">\n",
       "  <thead>\n",
       "    <tr style=\"text-align: right;\">\n",
       "      <th></th>\n",
       "      <th>LOCATION</th>\n",
       "      <th>INDICATOR</th>\n",
       "      <th>SUBJECT</th>\n",
       "      <th>MEASURE</th>\n",
       "      <th>FREQUENCY</th>\n",
       "      <th>TIME</th>\n",
       "      <th>Value</th>\n",
       "      <th>Flag Codes</th>\n",
       "      <th>Area</th>\n",
       "      <th>_merge</th>\n",
       "    </tr>\n",
       "  </thead>\n",
       "  <tbody>\n",
       "    <tr>\n",
       "      <th>0</th>\n",
       "      <td>AUS</td>\n",
       "      <td>MEATCONSUMP</td>\n",
       "      <td>BEEF</td>\n",
       "      <td>KG_CAP</td>\n",
       "      <td>A</td>\n",
       "      <td>1990</td>\n",
       "      <td>0.000</td>\n",
       "      <td>NaN</td>\n",
       "      <td>Australia</td>\n",
       "      <td>both</td>\n",
       "    </tr>\n",
       "    <tr>\n",
       "      <th>1</th>\n",
       "      <td>AUS</td>\n",
       "      <td>MEATCONSUMP</td>\n",
       "      <td>BEEF</td>\n",
       "      <td>KG_CAP</td>\n",
       "      <td>A</td>\n",
       "      <td>1991</td>\n",
       "      <td>27.942</td>\n",
       "      <td>NaN</td>\n",
       "      <td>Australia</td>\n",
       "      <td>both</td>\n",
       "    </tr>\n",
       "    <tr>\n",
       "      <th>2</th>\n",
       "      <td>AUS</td>\n",
       "      <td>MEATCONSUMP</td>\n",
       "      <td>BEEF</td>\n",
       "      <td>KG_CAP</td>\n",
       "      <td>A</td>\n",
       "      <td>1992</td>\n",
       "      <td>26.405</td>\n",
       "      <td>NaN</td>\n",
       "      <td>Australia</td>\n",
       "      <td>both</td>\n",
       "    </tr>\n",
       "    <tr>\n",
       "      <th>3</th>\n",
       "      <td>AUS</td>\n",
       "      <td>MEATCONSUMP</td>\n",
       "      <td>BEEF</td>\n",
       "      <td>KG_CAP</td>\n",
       "      <td>A</td>\n",
       "      <td>1993</td>\n",
       "      <td>26.370</td>\n",
       "      <td>NaN</td>\n",
       "      <td>Australia</td>\n",
       "      <td>both</td>\n",
       "    </tr>\n",
       "    <tr>\n",
       "      <th>4</th>\n",
       "      <td>AUS</td>\n",
       "      <td>MEATCONSUMP</td>\n",
       "      <td>BEEF</td>\n",
       "      <td>KG_CAP</td>\n",
       "      <td>A</td>\n",
       "      <td>1994</td>\n",
       "      <td>25.662</td>\n",
       "      <td>NaN</td>\n",
       "      <td>Australia</td>\n",
       "      <td>both</td>\n",
       "    </tr>\n",
       "  </tbody>\n",
       "</table>\n",
       "</div>"
      ],
      "text/plain": [
       "  LOCATION    INDICATOR SUBJECT MEASURE FREQUENCY  TIME   Value  Flag Codes  \\\n",
       "0      AUS  MEATCONSUMP    BEEF  KG_CAP         A  1990   0.000         NaN   \n",
       "1      AUS  MEATCONSUMP    BEEF  KG_CAP         A  1991  27.942         NaN   \n",
       "2      AUS  MEATCONSUMP    BEEF  KG_CAP         A  1992  26.405         NaN   \n",
       "3      AUS  MEATCONSUMP    BEEF  KG_CAP         A  1993  26.370         NaN   \n",
       "4      AUS  MEATCONSUMP    BEEF  KG_CAP         A  1994  25.662         NaN   \n",
       "\n",
       "        Area _merge  \n",
       "0  Australia   both  \n",
       "1  Australia   both  \n",
       "2  Australia   both  \n",
       "3  Australia   both  \n",
       "4  Australia   both  "
      ]
     },
     "execution_count": 12,
     "metadata": {},
     "output_type": "execute_result"
    }
   ],
   "source": [
    "dfConsumption = dfConsumption.merge(dfCountries, on='LOCATION', how='left', indicator=True)\n",
    "dfConsumption.head(5)"
   ]
  },
  {
   "cell_type": "code",
   "execution_count": 13,
   "id": "c7a753de",
   "metadata": {},
   "outputs": [
    {
     "data": {
      "text/plain": [
       "array(['WLD', 'OECD', 'BRICS'], dtype=object)"
      ]
     },
     "execution_count": 13,
     "metadata": {},
     "output_type": "execute_result"
    }
   ],
   "source": [
    "dfConsumption[dfConsumption['_merge'] != 'both']['LOCATION'].unique()"
   ]
  },
  {
   "cell_type": "markdown",
   "id": "72dbd840",
   "metadata": {},
   "source": [
    "### 2. Remover Location extras\n",
    "\n",
    "Remover filas cuando el 'Location' es 'WLD', 'OECD' o 'BRICS'.\n",
    "\n",
    "Esos son valores totales usados por OECD para comparaciones que no son necesarios para nuestro análisis."
   ]
  },
  {
   "cell_type": "code",
   "execution_count": 14,
   "id": "f1bda0db",
   "metadata": {},
   "outputs": [
    {
     "data": {
      "text/html": [
       "<div>\n",
       "<style scoped>\n",
       "    .dataframe tbody tr th:only-of-type {\n",
       "        vertical-align: middle;\n",
       "    }\n",
       "\n",
       "    .dataframe tbody tr th {\n",
       "        vertical-align: top;\n",
       "    }\n",
       "\n",
       "    .dataframe thead th {\n",
       "        text-align: right;\n",
       "    }\n",
       "</style>\n",
       "<table border=\"1\" class=\"dataframe\">\n",
       "  <thead>\n",
       "    <tr style=\"text-align: right;\">\n",
       "      <th></th>\n",
       "      <th>LOCATION</th>\n",
       "      <th>INDICATOR</th>\n",
       "      <th>SUBJECT</th>\n",
       "      <th>MEASURE</th>\n",
       "      <th>FREQUENCY</th>\n",
       "      <th>TIME</th>\n",
       "      <th>Value</th>\n",
       "      <th>Flag Codes</th>\n",
       "      <th>Area</th>\n",
       "      <th>_merge</th>\n",
       "    </tr>\n",
       "  </thead>\n",
       "  <tbody>\n",
       "    <tr>\n",
       "      <th>0</th>\n",
       "      <td>AUS</td>\n",
       "      <td>MEATCONSUMP</td>\n",
       "      <td>BEEF</td>\n",
       "      <td>KG_CAP</td>\n",
       "      <td>A</td>\n",
       "      <td>1990</td>\n",
       "      <td>0.000</td>\n",
       "      <td>NaN</td>\n",
       "      <td>Australia</td>\n",
       "      <td>both</td>\n",
       "    </tr>\n",
       "    <tr>\n",
       "      <th>1</th>\n",
       "      <td>AUS</td>\n",
       "      <td>MEATCONSUMP</td>\n",
       "      <td>BEEF</td>\n",
       "      <td>KG_CAP</td>\n",
       "      <td>A</td>\n",
       "      <td>1991</td>\n",
       "      <td>27.942</td>\n",
       "      <td>NaN</td>\n",
       "      <td>Australia</td>\n",
       "      <td>both</td>\n",
       "    </tr>\n",
       "    <tr>\n",
       "      <th>2</th>\n",
       "      <td>AUS</td>\n",
       "      <td>MEATCONSUMP</td>\n",
       "      <td>BEEF</td>\n",
       "      <td>KG_CAP</td>\n",
       "      <td>A</td>\n",
       "      <td>1992</td>\n",
       "      <td>26.405</td>\n",
       "      <td>NaN</td>\n",
       "      <td>Australia</td>\n",
       "      <td>both</td>\n",
       "    </tr>\n",
       "  </tbody>\n",
       "</table>\n",
       "</div>"
      ],
      "text/plain": [
       "  LOCATION    INDICATOR SUBJECT MEASURE FREQUENCY  TIME   Value  Flag Codes  \\\n",
       "0      AUS  MEATCONSUMP    BEEF  KG_CAP         A  1990   0.000         NaN   \n",
       "1      AUS  MEATCONSUMP    BEEF  KG_CAP         A  1991  27.942         NaN   \n",
       "2      AUS  MEATCONSUMP    BEEF  KG_CAP         A  1992  26.405         NaN   \n",
       "\n",
       "        Area _merge  \n",
       "0  Australia   both  \n",
       "1  Australia   both  \n",
       "2  Australia   both  "
      ]
     },
     "execution_count": 14,
     "metadata": {},
     "output_type": "execute_result"
    }
   ],
   "source": [
    "dfConsumption = dfConsumption[dfConsumption['_merge'] == 'both']\n",
    "dfConsumption.head(3)"
   ]
  },
  {
   "cell_type": "markdown",
   "id": "72994b19",
   "metadata": {},
   "source": [
    "### 3. Columnas innecesarias\n",
    "Descubriendo cuáles columnas son innecesarias:\n",
    "- Location (se sustituye por Area).\n",
    "- Flag Codes que son solo nulos.\n",
    "- Frecuencia: que siempre es A de Anual.\n",
    "- Indicador: que siempre es MEATCONSUMP.\n",
    "- Columnas de códigos redundantes como Year Code, Item Code, Element Code, Area Code\n",
    "- Measure: solo vamos a ocupar por toneladas, no kg/cápita, pues el dataset de FAO solo tiene toneladas"
   ]
  },
  {
   "cell_type": "code",
   "execution_count": 15,
   "id": "7d5c2975",
   "metadata": {},
   "outputs": [
    {
     "data": {
      "text/plain": [
       "array([nan])"
      ]
     },
     "execution_count": 15,
     "metadata": {},
     "output_type": "execute_result"
    }
   ],
   "source": [
    "dfConsumption['Flag Codes'].unique()"
   ]
  },
  {
   "cell_type": "code",
   "execution_count": 16,
   "id": "0d43f5f3",
   "metadata": {},
   "outputs": [
    {
     "data": {
      "text/plain": [
       "array(['A'], dtype=object)"
      ]
     },
     "execution_count": 16,
     "metadata": {},
     "output_type": "execute_result"
    }
   ],
   "source": [
    "dfConsumption['FREQUENCY'].unique()"
   ]
  },
  {
   "cell_type": "code",
   "execution_count": 17,
   "id": "6d0e1cba",
   "metadata": {},
   "outputs": [
    {
     "data": {
      "text/plain": [
       "array(['MEATCONSUMP'], dtype=object)"
      ]
     },
     "execution_count": 17,
     "metadata": {},
     "output_type": "execute_result"
    }
   ],
   "source": [
    "dfConsumption['INDICATOR'].unique()"
   ]
  },
  {
   "cell_type": "markdown",
   "id": "52b33437",
   "metadata": {},
   "source": [
    "En FAO solo tenemos tonnes, mientras que en OECD tenemos tonnes y kg/cápita"
   ]
  },
  {
   "cell_type": "code",
   "execution_count": 18,
   "id": "e2259cb9",
   "metadata": {},
   "outputs": [
    {
     "data": {
      "text/plain": [
       "array(['KG_CAP', 'THND_TONNE'], dtype=object)"
      ]
     },
     "execution_count": 18,
     "metadata": {},
     "output_type": "execute_result"
    }
   ],
   "source": [
    "dfConsumption['MEASURE'].unique()"
   ]
  },
  {
   "cell_type": "code",
   "execution_count": 19,
   "id": "409dce13",
   "metadata": {},
   "outputs": [
    {
     "data": {
      "text/plain": [
       "array(['tonnes'], dtype=object)"
      ]
     },
     "execution_count": 19,
     "metadata": {},
     "output_type": "execute_result"
    }
   ],
   "source": [
    "dfFao['Unit'].unique()"
   ]
  },
  {
   "cell_type": "code",
   "execution_count": 20,
   "id": "2013f1d3",
   "metadata": {},
   "outputs": [
    {
     "data": {
      "text/html": [
       "<div>\n",
       "<style scoped>\n",
       "    .dataframe tbody tr th:only-of-type {\n",
       "        vertical-align: middle;\n",
       "    }\n",
       "\n",
       "    .dataframe tbody tr th {\n",
       "        vertical-align: top;\n",
       "    }\n",
       "\n",
       "    .dataframe thead th {\n",
       "        text-align: right;\n",
       "    }\n",
       "</style>\n",
       "<table border=\"1\" class=\"dataframe\">\n",
       "  <thead>\n",
       "    <tr style=\"text-align: right;\">\n",
       "      <th></th>\n",
       "      <th>LOCATION</th>\n",
       "      <th>INDICATOR</th>\n",
       "      <th>SUBJECT</th>\n",
       "      <th>MEASURE</th>\n",
       "      <th>FREQUENCY</th>\n",
       "      <th>TIME</th>\n",
       "      <th>Value</th>\n",
       "      <th>Flag Codes</th>\n",
       "      <th>Area</th>\n",
       "      <th>_merge</th>\n",
       "    </tr>\n",
       "  </thead>\n",
       "  <tbody>\n",
       "    <tr>\n",
       "      <th>5600</th>\n",
       "      <td>KOR</td>\n",
       "      <td>MEATCONSUMP</td>\n",
       "      <td>SHEEP</td>\n",
       "      <td>THND_TONNE</td>\n",
       "      <td>A</td>\n",
       "      <td>1990</td>\n",
       "      <td>9.563</td>\n",
       "      <td>NaN</td>\n",
       "      <td>South Korea</td>\n",
       "      <td>both</td>\n",
       "    </tr>\n",
       "    <tr>\n",
       "      <th>5601</th>\n",
       "      <td>KOR</td>\n",
       "      <td>MEATCONSUMP</td>\n",
       "      <td>SHEEP</td>\n",
       "      <td>THND_TONNE</td>\n",
       "      <td>A</td>\n",
       "      <td>1991</td>\n",
       "      <td>7.896</td>\n",
       "      <td>NaN</td>\n",
       "      <td>South Korea</td>\n",
       "      <td>both</td>\n",
       "    </tr>\n",
       "    <tr>\n",
       "      <th>5602</th>\n",
       "      <td>KOR</td>\n",
       "      <td>MEATCONSUMP</td>\n",
       "      <td>SHEEP</td>\n",
       "      <td>THND_TONNE</td>\n",
       "      <td>A</td>\n",
       "      <td>1992</td>\n",
       "      <td>15.467</td>\n",
       "      <td>NaN</td>\n",
       "      <td>South Korea</td>\n",
       "      <td>both</td>\n",
       "    </tr>\n",
       "  </tbody>\n",
       "</table>\n",
       "</div>"
      ],
      "text/plain": [
       "     LOCATION    INDICATOR SUBJECT     MEASURE FREQUENCY  TIME   Value  \\\n",
       "5600      KOR  MEATCONSUMP   SHEEP  THND_TONNE         A  1990   9.563   \n",
       "5601      KOR  MEATCONSUMP   SHEEP  THND_TONNE         A  1991   7.896   \n",
       "5602      KOR  MEATCONSUMP   SHEEP  THND_TONNE         A  1992  15.467   \n",
       "\n",
       "      Flag Codes         Area _merge  \n",
       "5600         NaN  South Korea   both  \n",
       "5601         NaN  South Korea   both  \n",
       "5602         NaN  South Korea   both  "
      ]
     },
     "execution_count": 20,
     "metadata": {},
     "output_type": "execute_result"
    }
   ],
   "source": [
    "dfConsumption = dfConsumption[dfConsumption['MEASURE']== 'THND_TONNE']\n",
    "dfConsumption.head(3)"
   ]
  },
  {
   "cell_type": "code",
   "execution_count": 21,
   "id": "71d21387",
   "metadata": {},
   "outputs": [
    {
     "data": {
      "text/html": [
       "<div>\n",
       "<style scoped>\n",
       "    .dataframe tbody tr th:only-of-type {\n",
       "        vertical-align: middle;\n",
       "    }\n",
       "\n",
       "    .dataframe tbody tr th {\n",
       "        vertical-align: top;\n",
       "    }\n",
       "\n",
       "    .dataframe thead th {\n",
       "        text-align: right;\n",
       "    }\n",
       "</style>\n",
       "<table border=\"1\" class=\"dataframe\">\n",
       "  <thead>\n",
       "    <tr style=\"text-align: right;\">\n",
       "      <th></th>\n",
       "      <th>Area</th>\n",
       "      <th>SUBJECT</th>\n",
       "      <th>TIME</th>\n",
       "      <th>Value</th>\n",
       "    </tr>\n",
       "  </thead>\n",
       "  <tbody>\n",
       "    <tr>\n",
       "      <th>5600</th>\n",
       "      <td>South Korea</td>\n",
       "      <td>SHEEP</td>\n",
       "      <td>1990</td>\n",
       "      <td>9.563</td>\n",
       "    </tr>\n",
       "    <tr>\n",
       "      <th>5601</th>\n",
       "      <td>South Korea</td>\n",
       "      <td>SHEEP</td>\n",
       "      <td>1991</td>\n",
       "      <td>7.896</td>\n",
       "    </tr>\n",
       "    <tr>\n",
       "      <th>5602</th>\n",
       "      <td>South Korea</td>\n",
       "      <td>SHEEP</td>\n",
       "      <td>1992</td>\n",
       "      <td>15.467</td>\n",
       "    </tr>\n",
       "  </tbody>\n",
       "</table>\n",
       "</div>"
      ],
      "text/plain": [
       "             Area SUBJECT  TIME   Value\n",
       "5600  South Korea   SHEEP  1990   9.563\n",
       "5601  South Korea   SHEEP  1991   7.896\n",
       "5602  South Korea   SHEEP  1992  15.467"
      ]
     },
     "execution_count": 21,
     "metadata": {},
     "output_type": "execute_result"
    }
   ],
   "source": [
    "dfConsumption = dfConsumption[['Area', 'SUBJECT', 'TIME', 'Value']]\n",
    "dfConsumption.head(3)"
   ]
  },
  {
   "cell_type": "markdown",
   "id": "86500f7a",
   "metadata": {},
   "source": [
    "----\n",
    "\n",
    "## Pasos para limpiar dfFao\n",
    "Este dataset contiene datos de la producción total en toneladas.\n",
    "\n",
    "Para nuestro análisis solo nos interesa la producción, para poder compararla con el consumo (dfConsumption)."
   ]
  },
  {
   "cell_type": "code",
   "execution_count": 22,
   "id": "ae4307f2",
   "metadata": {},
   "outputs": [
    {
     "data": {
      "text/html": [
       "<div>\n",
       "<style scoped>\n",
       "    .dataframe tbody tr th:only-of-type {\n",
       "        vertical-align: middle;\n",
       "    }\n",
       "\n",
       "    .dataframe tbody tr th {\n",
       "        vertical-align: top;\n",
       "    }\n",
       "\n",
       "    .dataframe thead th {\n",
       "        text-align: right;\n",
       "    }\n",
       "</style>\n",
       "<table border=\"1\" class=\"dataframe\">\n",
       "  <thead>\n",
       "    <tr style=\"text-align: right;\">\n",
       "      <th></th>\n",
       "      <th>Domain Code</th>\n",
       "      <th>Domain</th>\n",
       "      <th>Area Code (FAO)</th>\n",
       "      <th>Area</th>\n",
       "      <th>Element Code</th>\n",
       "      <th>Element</th>\n",
       "      <th>Item Code (FAO)</th>\n",
       "      <th>Item</th>\n",
       "      <th>Year Code</th>\n",
       "      <th>Year</th>\n",
       "      <th>Unit</th>\n",
       "      <th>Value</th>\n",
       "      <th>Flag</th>\n",
       "      <th>Flag Description</th>\n",
       "    </tr>\n",
       "  </thead>\n",
       "  <tbody>\n",
       "    <tr>\n",
       "      <th>0</th>\n",
       "      <td>QCL</td>\n",
       "      <td>Crops and livestock products</td>\n",
       "      <td>2</td>\n",
       "      <td>Afghanistan</td>\n",
       "      <td>5510</td>\n",
       "      <td>Production</td>\n",
       "      <td>867</td>\n",
       "      <td>Meat, cattle</td>\n",
       "      <td>1961</td>\n",
       "      <td>1961</td>\n",
       "      <td>tonnes</td>\n",
       "      <td>43000.0</td>\n",
       "      <td>F</td>\n",
       "      <td>FAO estimate</td>\n",
       "    </tr>\n",
       "    <tr>\n",
       "      <th>1</th>\n",
       "      <td>QCL</td>\n",
       "      <td>Crops and livestock products</td>\n",
       "      <td>2</td>\n",
       "      <td>Afghanistan</td>\n",
       "      <td>5510</td>\n",
       "      <td>Production</td>\n",
       "      <td>867</td>\n",
       "      <td>Meat, cattle</td>\n",
       "      <td>1962</td>\n",
       "      <td>1962</td>\n",
       "      <td>tonnes</td>\n",
       "      <td>45800.0</td>\n",
       "      <td>F</td>\n",
       "      <td>FAO estimate</td>\n",
       "    </tr>\n",
       "    <tr>\n",
       "      <th>2</th>\n",
       "      <td>QCL</td>\n",
       "      <td>Crops and livestock products</td>\n",
       "      <td>2</td>\n",
       "      <td>Afghanistan</td>\n",
       "      <td>5510</td>\n",
       "      <td>Production</td>\n",
       "      <td>867</td>\n",
       "      <td>Meat, cattle</td>\n",
       "      <td>1963</td>\n",
       "      <td>1963</td>\n",
       "      <td>tonnes</td>\n",
       "      <td>47250.0</td>\n",
       "      <td>F</td>\n",
       "      <td>FAO estimate</td>\n",
       "    </tr>\n",
       "    <tr>\n",
       "      <th>3</th>\n",
       "      <td>QCL</td>\n",
       "      <td>Crops and livestock products</td>\n",
       "      <td>2</td>\n",
       "      <td>Afghanistan</td>\n",
       "      <td>5510</td>\n",
       "      <td>Production</td>\n",
       "      <td>867</td>\n",
       "      <td>Meat, cattle</td>\n",
       "      <td>1964</td>\n",
       "      <td>1964</td>\n",
       "      <td>tonnes</td>\n",
       "      <td>48000.0</td>\n",
       "      <td>F</td>\n",
       "      <td>FAO estimate</td>\n",
       "    </tr>\n",
       "    <tr>\n",
       "      <th>4</th>\n",
       "      <td>QCL</td>\n",
       "      <td>Crops and livestock products</td>\n",
       "      <td>2</td>\n",
       "      <td>Afghanistan</td>\n",
       "      <td>5510</td>\n",
       "      <td>Production</td>\n",
       "      <td>867</td>\n",
       "      <td>Meat, cattle</td>\n",
       "      <td>1965</td>\n",
       "      <td>1965</td>\n",
       "      <td>tonnes</td>\n",
       "      <td>48700.0</td>\n",
       "      <td>F</td>\n",
       "      <td>FAO estimate</td>\n",
       "    </tr>\n",
       "  </tbody>\n",
       "</table>\n",
       "</div>"
      ],
      "text/plain": [
       "  Domain Code                        Domain  Area Code (FAO)         Area  \\\n",
       "0         QCL  Crops and livestock products                2  Afghanistan   \n",
       "1         QCL  Crops and livestock products                2  Afghanistan   \n",
       "2         QCL  Crops and livestock products                2  Afghanistan   \n",
       "3         QCL  Crops and livestock products                2  Afghanistan   \n",
       "4         QCL  Crops and livestock products                2  Afghanistan   \n",
       "\n",
       "   Element Code     Element  Item Code (FAO)          Item  Year Code  Year  \\\n",
       "0          5510  Production              867  Meat, cattle       1961  1961   \n",
       "1          5510  Production              867  Meat, cattle       1962  1962   \n",
       "2          5510  Production              867  Meat, cattle       1963  1963   \n",
       "3          5510  Production              867  Meat, cattle       1964  1964   \n",
       "4          5510  Production              867  Meat, cattle       1965  1965   \n",
       "\n",
       "     Unit    Value Flag Flag Description  \n",
       "0  tonnes  43000.0    F     FAO estimate  \n",
       "1  tonnes  45800.0    F     FAO estimate  \n",
       "2  tonnes  47250.0    F     FAO estimate  \n",
       "3  tonnes  48000.0    F     FAO estimate  \n",
       "4  tonnes  48700.0    F     FAO estimate  "
      ]
     },
     "execution_count": 22,
     "metadata": {},
     "output_type": "execute_result"
    }
   ],
   "source": [
    "dfFao.head(5)"
   ]
  },
  {
   "cell_type": "code",
   "execution_count": 23,
   "id": "b2b70252",
   "metadata": {},
   "outputs": [
    {
     "data": {
      "text/plain": [
       "array(['tonnes'], dtype=object)"
      ]
     },
     "execution_count": 23,
     "metadata": {},
     "output_type": "execute_result"
    }
   ],
   "source": [
    "dfFao['Unit'].unique()"
   ]
  },
  {
   "cell_type": "code",
   "execution_count": 24,
   "id": "7594adbe",
   "metadata": {},
   "outputs": [
    {
     "data": {
      "text/plain": [
       "68"
      ]
     },
     "execution_count": 24,
     "metadata": {},
     "output_type": "execute_result"
    }
   ],
   "source": [
    "dfFao['Value'].isnull().sum()"
   ]
  },
  {
   "cell_type": "code",
   "execution_count": 25,
   "id": "54239368",
   "metadata": {},
   "outputs": [
    {
     "data": {
      "text/html": [
       "<div>\n",
       "<style scoped>\n",
       "    .dataframe tbody tr th:only-of-type {\n",
       "        vertical-align: middle;\n",
       "    }\n",
       "\n",
       "    .dataframe tbody tr th {\n",
       "        vertical-align: top;\n",
       "    }\n",
       "\n",
       "    .dataframe thead th {\n",
       "        text-align: right;\n",
       "    }\n",
       "</style>\n",
       "<table border=\"1\" class=\"dataframe\">\n",
       "  <thead>\n",
       "    <tr style=\"text-align: right;\">\n",
       "      <th></th>\n",
       "      <th>Area</th>\n",
       "      <th>Item</th>\n",
       "      <th>Year</th>\n",
       "      <th>Value</th>\n",
       "    </tr>\n",
       "  </thead>\n",
       "  <tbody>\n",
       "    <tr>\n",
       "      <th>0</th>\n",
       "      <td>Afghanistan</td>\n",
       "      <td>Meat, cattle</td>\n",
       "      <td>1961</td>\n",
       "      <td>43000.0</td>\n",
       "    </tr>\n",
       "    <tr>\n",
       "      <th>1</th>\n",
       "      <td>Afghanistan</td>\n",
       "      <td>Meat, cattle</td>\n",
       "      <td>1962</td>\n",
       "      <td>45800.0</td>\n",
       "    </tr>\n",
       "    <tr>\n",
       "      <th>2</th>\n",
       "      <td>Afghanistan</td>\n",
       "      <td>Meat, cattle</td>\n",
       "      <td>1963</td>\n",
       "      <td>47250.0</td>\n",
       "    </tr>\n",
       "  </tbody>\n",
       "</table>\n",
       "</div>"
      ],
      "text/plain": [
       "          Area          Item  Year    Value\n",
       "0  Afghanistan  Meat, cattle  1961  43000.0\n",
       "1  Afghanistan  Meat, cattle  1962  45800.0\n",
       "2  Afghanistan  Meat, cattle  1963  47250.0"
      ]
     },
     "execution_count": 25,
     "metadata": {},
     "output_type": "execute_result"
    }
   ],
   "source": [
    "dfFao = dfFao[['Area', 'Item', 'Year', 'Value']]\n",
    "dfFao.head(3)"
   ]
  },
  {
   "cell_type": "code",
   "execution_count": 26,
   "id": "9d449bfb",
   "metadata": {},
   "outputs": [
    {
     "data": {
      "text/html": [
       "<div>\n",
       "<style scoped>\n",
       "    .dataframe tbody tr th:only-of-type {\n",
       "        vertical-align: middle;\n",
       "    }\n",
       "\n",
       "    .dataframe tbody tr th {\n",
       "        vertical-align: top;\n",
       "    }\n",
       "\n",
       "    .dataframe thead th {\n",
       "        text-align: right;\n",
       "    }\n",
       "</style>\n",
       "<table border=\"1\" class=\"dataframe\">\n",
       "  <thead>\n",
       "    <tr style=\"text-align: right;\">\n",
       "      <th></th>\n",
       "      <th>Area</th>\n",
       "      <th>Item</th>\n",
       "      <th>Year</th>\n",
       "      <th>Value</th>\n",
       "    </tr>\n",
       "  </thead>\n",
       "  <tbody>\n",
       "    <tr>\n",
       "      <th>0</th>\n",
       "      <td>Afghanistan</td>\n",
       "      <td>Meat, cattle</td>\n",
       "      <td>1961</td>\n",
       "      <td>43000.0</td>\n",
       "    </tr>\n",
       "    <tr>\n",
       "      <th>1</th>\n",
       "      <td>Afghanistan</td>\n",
       "      <td>Meat, cattle</td>\n",
       "      <td>1962</td>\n",
       "      <td>45800.0</td>\n",
       "    </tr>\n",
       "    <tr>\n",
       "      <th>2</th>\n",
       "      <td>Afghanistan</td>\n",
       "      <td>Meat, cattle</td>\n",
       "      <td>1963</td>\n",
       "      <td>47250.0</td>\n",
       "    </tr>\n",
       "  </tbody>\n",
       "</table>\n",
       "</div>"
      ],
      "text/plain": [
       "          Area          Item  Year    Value\n",
       "0  Afghanistan  Meat, cattle  1961  43000.0\n",
       "1  Afghanistan  Meat, cattle  1962  45800.0\n",
       "2  Afghanistan  Meat, cattle  1963  47250.0"
      ]
     },
     "execution_count": 26,
     "metadata": {},
     "output_type": "execute_result"
    }
   ],
   "source": [
    "dfFao = dfFao[dfFao['Value'] != None]\n",
    "dfFao.head(3)"
   ]
  },
  {
   "cell_type": "markdown",
   "id": "9dd939bb",
   "metadata": {},
   "source": [
    "---\n",
    "---\n",
    "\n",
    "# Primeros Gráficos"
   ]
  },
  {
   "cell_type": "code",
   "execution_count": 27,
   "id": "45ac0d89",
   "metadata": {},
   "outputs": [],
   "source": [
    "corregirValorEnFao('Meat, cattle', 'BEEF', 'Item')\n",
    "corregirValorEnFao('Meat, chicken', 'POULTRY', 'Item')\n",
    "corregirValorEnFao('Meat, sheep', 'SHEEP', 'Item')\n",
    "corregirValorEnFao('Meat, pig', 'PIG', 'Item')\n"
   ]
  },
  {
   "cell_type": "code",
   "execution_count": 28,
   "id": "f65d7e5b",
   "metadata": {},
   "outputs": [
    {
     "data": {
      "text/plain": [
       "array(['BEEF', 'POULTRY', 'SHEEP', 'PIG'], dtype=object)"
      ]
     },
     "execution_count": 28,
     "metadata": {},
     "output_type": "execute_result"
    }
   ],
   "source": [
    "dfFao['Item'].unique()"
   ]
  },
  {
   "cell_type": "code",
   "execution_count": 29,
   "id": "db209ad2",
   "metadata": {},
   "outputs": [
    {
     "data": {
      "text/html": [
       "<div>\n",
       "<style scoped>\n",
       "    .dataframe tbody tr th:only-of-type {\n",
       "        vertical-align: middle;\n",
       "    }\n",
       "\n",
       "    .dataframe tbody tr th {\n",
       "        vertical-align: top;\n",
       "    }\n",
       "\n",
       "    .dataframe thead th {\n",
       "        text-align: right;\n",
       "    }\n",
       "</style>\n",
       "<table border=\"1\" class=\"dataframe\">\n",
       "  <thead>\n",
       "    <tr style=\"text-align: right;\">\n",
       "      <th></th>\n",
       "      <th>Area</th>\n",
       "      <th>Item</th>\n",
       "      <th>Year</th>\n",
       "      <th>Value</th>\n",
       "    </tr>\n",
       "  </thead>\n",
       "  <tbody>\n",
       "    <tr>\n",
       "      <th>0</th>\n",
       "      <td>Afghanistan</td>\n",
       "      <td>BEEF</td>\n",
       "      <td>1961</td>\n",
       "      <td>43000.0</td>\n",
       "    </tr>\n",
       "    <tr>\n",
       "      <th>1</th>\n",
       "      <td>Afghanistan</td>\n",
       "      <td>BEEF</td>\n",
       "      <td>1962</td>\n",
       "      <td>45800.0</td>\n",
       "    </tr>\n",
       "    <tr>\n",
       "      <th>2</th>\n",
       "      <td>Afghanistan</td>\n",
       "      <td>BEEF</td>\n",
       "      <td>1963</td>\n",
       "      <td>47250.0</td>\n",
       "    </tr>\n",
       "  </tbody>\n",
       "</table>\n",
       "</div>"
      ],
      "text/plain": [
       "          Area  Item  Year    Value\n",
       "0  Afghanistan  BEEF  1961  43000.0\n",
       "1  Afghanistan  BEEF  1962  45800.0\n",
       "2  Afghanistan  BEEF  1963  47250.0"
      ]
     },
     "execution_count": 29,
     "metadata": {},
     "output_type": "execute_result"
    }
   ],
   "source": [
    "dfFao.head(3)"
   ]
  },
  {
   "cell_type": "code",
   "execution_count": 30,
   "id": "b3e57963",
   "metadata": {},
   "outputs": [
    {
     "data": {
      "text/html": [
       "<div>\n",
       "<style scoped>\n",
       "    .dataframe tbody tr th:only-of-type {\n",
       "        vertical-align: middle;\n",
       "    }\n",
       "\n",
       "    .dataframe tbody tr th {\n",
       "        vertical-align: top;\n",
       "    }\n",
       "\n",
       "    .dataframe thead th {\n",
       "        text-align: right;\n",
       "    }\n",
       "</style>\n",
       "<table border=\"1\" class=\"dataframe\">\n",
       "  <thead>\n",
       "    <tr style=\"text-align: right;\">\n",
       "      <th></th>\n",
       "      <th>Area</th>\n",
       "      <th>SUBJECT</th>\n",
       "      <th>TIME</th>\n",
       "      <th>Value</th>\n",
       "    </tr>\n",
       "  </thead>\n",
       "  <tbody>\n",
       "    <tr>\n",
       "      <th>5600</th>\n",
       "      <td>South Korea</td>\n",
       "      <td>SHEEP</td>\n",
       "      <td>1990</td>\n",
       "      <td>9.563</td>\n",
       "    </tr>\n",
       "    <tr>\n",
       "      <th>5601</th>\n",
       "      <td>South Korea</td>\n",
       "      <td>SHEEP</td>\n",
       "      <td>1991</td>\n",
       "      <td>7.896</td>\n",
       "    </tr>\n",
       "    <tr>\n",
       "      <th>5602</th>\n",
       "      <td>South Korea</td>\n",
       "      <td>SHEEP</td>\n",
       "      <td>1992</td>\n",
       "      <td>15.467</td>\n",
       "    </tr>\n",
       "  </tbody>\n",
       "</table>\n",
       "</div>"
      ],
      "text/plain": [
       "             Area SUBJECT  TIME   Value\n",
       "5600  South Korea   SHEEP  1990   9.563\n",
       "5601  South Korea   SHEEP  1991   7.896\n",
       "5602  South Korea   SHEEP  1992  15.467"
      ]
     },
     "execution_count": 30,
     "metadata": {},
     "output_type": "execute_result"
    }
   ],
   "source": [
    "dfConsumption.head(3)"
   ]
  },
  {
   "cell_type": "code",
   "execution_count": 31,
   "id": "c6bedeac",
   "metadata": {},
   "outputs": [
    {
     "data": {
      "text/html": [
       "<div>\n",
       "<style scoped>\n",
       "    .dataframe tbody tr th:only-of-type {\n",
       "        vertical-align: middle;\n",
       "    }\n",
       "\n",
       "    .dataframe tbody tr th {\n",
       "        vertical-align: top;\n",
       "    }\n",
       "\n",
       "    .dataframe thead th {\n",
       "        text-align: right;\n",
       "    }\n",
       "</style>\n",
       "<table border=\"1\" class=\"dataframe\">\n",
       "  <thead>\n",
       "    <tr style=\"text-align: right;\">\n",
       "      <th></th>\n",
       "      <th>Area</th>\n",
       "      <th>Item</th>\n",
       "      <th>TIME</th>\n",
       "      <th>Consumption</th>\n",
       "      <th>Production</th>\n",
       "    </tr>\n",
       "  </thead>\n",
       "  <tbody>\n",
       "    <tr>\n",
       "      <th>0</th>\n",
       "      <td>South Korea</td>\n",
       "      <td>SHEEP</td>\n",
       "      <td>1990</td>\n",
       "      <td>9563.0</td>\n",
       "      <td>14.0</td>\n",
       "    </tr>\n",
       "    <tr>\n",
       "      <th>1</th>\n",
       "      <td>South Korea</td>\n",
       "      <td>SHEEP</td>\n",
       "      <td>1991</td>\n",
       "      <td>7896.0</td>\n",
       "      <td>14.0</td>\n",
       "    </tr>\n",
       "    <tr>\n",
       "      <th>2</th>\n",
       "      <td>South Korea</td>\n",
       "      <td>SHEEP</td>\n",
       "      <td>1992</td>\n",
       "      <td>15467.0</td>\n",
       "      <td>29.0</td>\n",
       "    </tr>\n",
       "    <tr>\n",
       "      <th>3</th>\n",
       "      <td>South Korea</td>\n",
       "      <td>SHEEP</td>\n",
       "      <td>1993</td>\n",
       "      <td>11516.0</td>\n",
       "      <td>8.0</td>\n",
       "    </tr>\n",
       "    <tr>\n",
       "      <th>4</th>\n",
       "      <td>South Korea</td>\n",
       "      <td>SHEEP</td>\n",
       "      <td>1994</td>\n",
       "      <td>14189.0</td>\n",
       "      <td>7.0</td>\n",
       "    </tr>\n",
       "    <tr>\n",
       "      <th>5</th>\n",
       "      <td>South Korea</td>\n",
       "      <td>SHEEP</td>\n",
       "      <td>1995</td>\n",
       "      <td>12722.0</td>\n",
       "      <td>7.0</td>\n",
       "    </tr>\n",
       "    <tr>\n",
       "      <th>6</th>\n",
       "      <td>South Korea</td>\n",
       "      <td>SHEEP</td>\n",
       "      <td>1996</td>\n",
       "      <td>10887.0</td>\n",
       "      <td>7.0</td>\n",
       "    </tr>\n",
       "    <tr>\n",
       "      <th>7</th>\n",
       "      <td>South Korea</td>\n",
       "      <td>SHEEP</td>\n",
       "      <td>1997</td>\n",
       "      <td>9606.0</td>\n",
       "      <td>6.0</td>\n",
       "    </tr>\n",
       "    <tr>\n",
       "      <th>8</th>\n",
       "      <td>South Korea</td>\n",
       "      <td>SHEEP</td>\n",
       "      <td>1998</td>\n",
       "      <td>8067.0</td>\n",
       "      <td>5.0</td>\n",
       "    </tr>\n",
       "    <tr>\n",
       "      <th>9</th>\n",
       "      <td>South Korea</td>\n",
       "      <td>SHEEP</td>\n",
       "      <td>1999</td>\n",
       "      <td>6814.0</td>\n",
       "      <td>5.0</td>\n",
       "    </tr>\n",
       "  </tbody>\n",
       "</table>\n",
       "</div>"
      ],
      "text/plain": [
       "          Area   Item  TIME  Consumption  Production\n",
       "0  South Korea  SHEEP  1990       9563.0        14.0\n",
       "1  South Korea  SHEEP  1991       7896.0        14.0\n",
       "2  South Korea  SHEEP  1992      15467.0        29.0\n",
       "3  South Korea  SHEEP  1993      11516.0         8.0\n",
       "4  South Korea  SHEEP  1994      14189.0         7.0\n",
       "5  South Korea  SHEEP  1995      12722.0         7.0\n",
       "6  South Korea  SHEEP  1996      10887.0         7.0\n",
       "7  South Korea  SHEEP  1997       9606.0         6.0\n",
       "8  South Korea  SHEEP  1998       8067.0         5.0\n",
       "9  South Korea  SHEEP  1999       6814.0         5.0"
      ]
     },
     "execution_count": 31,
     "metadata": {},
     "output_type": "execute_result"
    }
   ],
   "source": [
    "new_df = pd.merge(dfConsumption.rename(columns={'Value': 'Consumption'}), \n",
    "                  dfFao.rename(columns={'Value': 'Production'}),\n",
    "                  how='inner',\n",
    "                  left_on=['Area','SUBJECT', 'TIME'], right_on = ['Area','Item', 'Year'])\n",
    "new_df = new_df[['Area', 'Item', 'TIME', 'Consumption', 'Production']]\n",
    "\n",
    "#cambiar escala de consumo pues está en miles de toneladas\n",
    "new_df['Consumption'] = new_df['Consumption'] * 1000\n",
    "\n",
    "new_df.head(10)"
   ]
  },
  {
   "cell_type": "code",
   "execution_count": 32,
   "id": "154bdba4",
   "metadata": {
    "scrolled": true
   },
   "outputs": [
    {
     "data": {
      "text/html": [
       "<div>\n",
       "<style scoped>\n",
       "    .dataframe tbody tr th:only-of-type {\n",
       "        vertical-align: middle;\n",
       "    }\n",
       "\n",
       "    .dataframe tbody tr th {\n",
       "        vertical-align: top;\n",
       "    }\n",
       "\n",
       "    .dataframe thead th {\n",
       "        text-align: right;\n",
       "    }\n",
       "</style>\n",
       "<table border=\"1\" class=\"dataframe\">\n",
       "  <thead>\n",
       "    <tr style=\"text-align: right;\">\n",
       "      <th></th>\n",
       "      <th>TIME</th>\n",
       "      <th>Consumption</th>\n",
       "      <th>Production</th>\n",
       "    </tr>\n",
       "  </thead>\n",
       "  <tbody>\n",
       "    <tr>\n",
       "      <th>count</th>\n",
       "      <td>4211.000000</td>\n",
       "      <td>4.211000e+03</td>\n",
       "      <td>4.188000e+03</td>\n",
       "    </tr>\n",
       "    <tr>\n",
       "      <th>mean</th>\n",
       "      <td>2005.122536</td>\n",
       "      <td>1.402071e+06</td>\n",
       "      <td>1.340810e+06</td>\n",
       "    </tr>\n",
       "    <tr>\n",
       "      <th>std</th>\n",
       "      <td>8.884115</td>\n",
       "      <td>4.367043e+06</td>\n",
       "      <td>4.401340e+06</td>\n",
       "    </tr>\n",
       "    <tr>\n",
       "      <th>min</th>\n",
       "      <td>1990.000000</td>\n",
       "      <td>0.000000e+00</td>\n",
       "      <td>0.000000e+00</td>\n",
       "    </tr>\n",
       "    <tr>\n",
       "      <th>25%</th>\n",
       "      <td>1997.000000</td>\n",
       "      <td>1.144215e+05</td>\n",
       "      <td>8.312625e+04</td>\n",
       "    </tr>\n",
       "    <tr>\n",
       "      <th>50%</th>\n",
       "      <td>2005.000000</td>\n",
       "      <td>3.648420e+05</td>\n",
       "      <td>3.086875e+05</td>\n",
       "    </tr>\n",
       "    <tr>\n",
       "      <th>75%</th>\n",
       "      <td>2013.000000</td>\n",
       "      <td>1.037394e+06</td>\n",
       "      <td>9.474450e+05</td>\n",
       "    </tr>\n",
       "    <tr>\n",
       "      <th>max</th>\n",
       "      <td>2020.000000</td>\n",
       "      <td>5.870460e+07</td>\n",
       "      <td>5.766187e+07</td>\n",
       "    </tr>\n",
       "  </tbody>\n",
       "</table>\n",
       "</div>"
      ],
      "text/plain": [
       "              TIME   Consumption    Production\n",
       "count  4211.000000  4.211000e+03  4.188000e+03\n",
       "mean   2005.122536  1.402071e+06  1.340810e+06\n",
       "std       8.884115  4.367043e+06  4.401340e+06\n",
       "min    1990.000000  0.000000e+00  0.000000e+00\n",
       "25%    1997.000000  1.144215e+05  8.312625e+04\n",
       "50%    2005.000000  3.648420e+05  3.086875e+05\n",
       "75%    2013.000000  1.037394e+06  9.474450e+05\n",
       "max    2020.000000  5.870460e+07  5.766187e+07"
      ]
     },
     "execution_count": 32,
     "metadata": {},
     "output_type": "execute_result"
    }
   ],
   "source": [
    "new_df.describe()"
   ]
  },
  {
   "cell_type": "code",
   "execution_count": 33,
   "id": "ad5be7d4",
   "metadata": {},
   "outputs": [
    {
     "data": {
      "image/png": "[encoded data removed]",
      "text/plain": [
       "<Figure size 1332x756 with 4 Axes>"
      ]
     },
     "metadata": {
      "needs_background": "light"
     },
     "output_type": "display_data"
    }
   ],
   "source": [
    "fig, ax = plt.subplots(2, 2, sharex='col')\n",
    "ejes = ax.flatten()\n",
    "tipos = ['BEEF', 'SHEEP', 'PIG', 'POULTRY']\n",
    "\n",
    "fig.set_size_inches(18.5, 10.5)\n",
    "\n",
    "for i in range(4):\n",
    "    new_df.where(new_df['Item']==tipos[i]) \\\n",
    "        .groupby('TIME') \\\n",
    "        .sum() \\\n",
    "        .plot(title=tipos[i], ax=ejes[i])\n",
    "fig.savefig('porTipo.png', dpi=100)"
   ]
  },
  {
   "cell_type": "code",
   "execution_count": 34,
   "id": "a32612a6",
   "metadata": {},
   "outputs": [
    {
     "data": {
      "image/png": "[encoded data removed]",
      "text/plain": [
       "<Figure size 432x288 with 1 Axes>"
      ]
     },
     "metadata": {
      "needs_background": "light"
     },
     "output_type": "display_data"
    }
   ],
   "source": [
    "axe = new_df.where(new_df['TIME']<2020).groupby('TIME').sum().plot(title='Total')\n",
    "axe.get_figure().savefig('total.png', dpi=100)"
   ]
  },
  {
   "cell_type": "code",
   "execution_count": 35,
   "id": "ba595fa3",
   "metadata": {},
   "outputs": [
    {
     "name": "stdout",
     "output_type": "stream",
     "text": [
      "35\n"
     ]
    },
    {
     "data": {
      "text/plain": [
       "array(['South Korea', 'South Africa', 'India', 'Norway', 'Ethiopia',\n",
       "       'Ukraine', 'Saudi Arabia', 'Russia', 'Thailand', 'Kazakhstan',\n",
       "       'Israel', 'Egypt', 'United States', 'Nigeria', 'Vietnam',\n",
       "       'New Zealand', 'Peru', 'Turkey', 'Japan', 'Brazil', 'Indonesia',\n",
       "       'Argentina', 'Colombia', 'Malaysia', 'Iran', 'Switzerland',\n",
       "       'Pakistan', 'Canada', 'Chile', 'Philippines', 'Australia', 'China',\n",
       "       'Mexico', 'Paraguay', 'United Kingdom'], dtype=object)"
      ]
     },
     "execution_count": 35,
     "metadata": {},
     "output_type": "execute_result"
    }
   ],
   "source": [
    "paises = new_df['Area'].unique()\n",
    "print(len(paises))\n",
    "paises"
   ]
  },
  {
   "cell_type": "code",
   "execution_count": 36,
   "id": "0cf14654",
   "metadata": {},
   "outputs": [
    {
     "data": {
      "image/png": "[encoded data removed]",
      "text/plain": [
       "<Figure size 432x288 with 2 Axes>"
      ]
     },
     "metadata": {
      "needs_background": "light"
     },
     "output_type": "display_data"
    }
   ],
   "source": [
    "axe = sns.heatmap(new_df.corr())\n",
    "axe.get_figure().savefig('correlation.png', dpi=100)"
   ]
  },
  {
   "cell_type": "code",
   "execution_count": 37,
   "id": "1e7c0db5",
   "metadata": {},
   "outputs": [
    {
     "data": {
      "text/html": [
       "<div>\n",
       "<style scoped>\n",
       "    .dataframe tbody tr th:only-of-type {\n",
       "        vertical-align: middle;\n",
       "    }\n",
       "\n",
       "    .dataframe tbody tr th {\n",
       "        vertical-align: top;\n",
       "    }\n",
       "\n",
       "    .dataframe thead th {\n",
       "        text-align: right;\n",
       "    }\n",
       "</style>\n",
       "<table border=\"1\" class=\"dataframe\">\n",
       "  <thead>\n",
       "    <tr style=\"text-align: right;\">\n",
       "      <th></th>\n",
       "      <th>TIME</th>\n",
       "      <th>Consumption</th>\n",
       "      <th>Production</th>\n",
       "    </tr>\n",
       "  </thead>\n",
       "  <tbody>\n",
       "    <tr>\n",
       "      <th>TIME</th>\n",
       "      <td>1.000000</td>\n",
       "      <td>0.069150</td>\n",
       "      <td>0.068393</td>\n",
       "    </tr>\n",
       "    <tr>\n",
       "      <th>Consumption</th>\n",
       "      <td>0.069150</td>\n",
       "      <td>1.000000</td>\n",
       "      <td>0.991085</td>\n",
       "    </tr>\n",
       "    <tr>\n",
       "      <th>Production</th>\n",
       "      <td>0.068393</td>\n",
       "      <td>0.991085</td>\n",
       "      <td>1.000000</td>\n",
       "    </tr>\n",
       "  </tbody>\n",
       "</table>\n",
       "</div>"
      ],
      "text/plain": [
       "                 TIME  Consumption  Production\n",
       "TIME         1.000000     0.069150    0.068393\n",
       "Consumption  0.069150     1.000000    0.991085\n",
       "Production   0.068393     0.991085    1.000000"
      ]
     },
     "execution_count": 37,
     "metadata": {},
     "output_type": "execute_result"
    }
   ],
   "source": [
    "new_df.corr()"
   ]
  },
  {
   "cell_type": "code",
   "execution_count": 38,
   "id": "c16033aa",
   "metadata": {},
   "outputs": [
    {
     "data": {
      "text/html": [
       "<div>\n",
       "<style scoped>\n",
       "    .dataframe tbody tr th:only-of-type {\n",
       "        vertical-align: middle;\n",
       "    }\n",
       "\n",
       "    .dataframe tbody tr th {\n",
       "        vertical-align: top;\n",
       "    }\n",
       "\n",
       "    .dataframe thead th {\n",
       "        text-align: right;\n",
       "    }\n",
       "</style>\n",
       "<table border=\"1\" class=\"dataframe\">\n",
       "  <thead>\n",
       "    <tr style=\"text-align: right;\">\n",
       "      <th></th>\n",
       "      <th>Area</th>\n",
       "      <th>Item</th>\n",
       "      <th>TIME</th>\n",
       "      <th>Consumption</th>\n",
       "      <th>Production</th>\n",
       "    </tr>\n",
       "  </thead>\n",
       "  <tbody>\n",
       "    <tr>\n",
       "      <th>0</th>\n",
       "      <td>South Korea</td>\n",
       "      <td>SHEEP</td>\n",
       "      <td>1990</td>\n",
       "      <td>9563.0</td>\n",
       "      <td>14.0</td>\n",
       "    </tr>\n",
       "    <tr>\n",
       "      <th>1</th>\n",
       "      <td>South Korea</td>\n",
       "      <td>SHEEP</td>\n",
       "      <td>1991</td>\n",
       "      <td>7896.0</td>\n",
       "      <td>14.0</td>\n",
       "    </tr>\n",
       "    <tr>\n",
       "      <th>2</th>\n",
       "      <td>South Korea</td>\n",
       "      <td>SHEEP</td>\n",
       "      <td>1992</td>\n",
       "      <td>15467.0</td>\n",
       "      <td>29.0</td>\n",
       "    </tr>\n",
       "  </tbody>\n",
       "</table>\n",
       "</div>"
      ],
      "text/plain": [
       "          Area   Item  TIME  Consumption  Production\n",
       "0  South Korea  SHEEP  1990       9563.0        14.0\n",
       "1  South Korea  SHEEP  1991       7896.0        14.0\n",
       "2  South Korea  SHEEP  1992      15467.0        29.0"
      ]
     },
     "execution_count": 38,
     "metadata": {},
     "output_type": "execute_result"
    }
   ],
   "source": [
    "new_df.head(3)"
   ]
  },
  {
   "cell_type": "markdown",
   "id": "018ce5b5-9ce3-42e3-90b2-6df1587fc5e1",
   "metadata": {},
   "source": [
    "Se crea la columna a 'futuro' para poder hacer el merge utilizando ese valor"
   ]
  },
  {
   "cell_type": "code",
   "execution_count": 39,
   "id": "37b9b560-075d-41ad-8a36-fc158397f332",
   "metadata": {},
   "outputs": [
    {
     "data": {
      "text/html": [
       "<div>\n",
       "<style scoped>\n",
       "    .dataframe tbody tr th:only-of-type {\n",
       "        vertical-align: middle;\n",
       "    }\n",
       "\n",
       "    .dataframe tbody tr th {\n",
       "        vertical-align: top;\n",
       "    }\n",
       "\n",
       "    .dataframe thead th {\n",
       "        text-align: right;\n",
       "    }\n",
       "</style>\n",
       "<table border=\"1\" class=\"dataframe\">\n",
       "  <thead>\n",
       "    <tr style=\"text-align: right;\">\n",
       "      <th></th>\n",
       "      <th>Area</th>\n",
       "      <th>Item</th>\n",
       "      <th>TIME</th>\n",
       "      <th>Consumption</th>\n",
       "      <th>Production</th>\n",
       "      <th>time+1</th>\n",
       "    </tr>\n",
       "  </thead>\n",
       "  <tbody>\n",
       "    <tr>\n",
       "      <th>0</th>\n",
       "      <td>South Korea</td>\n",
       "      <td>SHEEP</td>\n",
       "      <td>1990</td>\n",
       "      <td>9563.0</td>\n",
       "      <td>14.0</td>\n",
       "      <td>1991</td>\n",
       "    </tr>\n",
       "    <tr>\n",
       "      <th>1</th>\n",
       "      <td>South Korea</td>\n",
       "      <td>SHEEP</td>\n",
       "      <td>1991</td>\n",
       "      <td>7896.0</td>\n",
       "      <td>14.0</td>\n",
       "      <td>1992</td>\n",
       "    </tr>\n",
       "    <tr>\n",
       "      <th>2</th>\n",
       "      <td>South Korea</td>\n",
       "      <td>SHEEP</td>\n",
       "      <td>1992</td>\n",
       "      <td>15467.0</td>\n",
       "      <td>29.0</td>\n",
       "      <td>1993</td>\n",
       "    </tr>\n",
       "  </tbody>\n",
       "</table>\n",
       "</div>"
      ],
      "text/plain": [
       "          Area   Item  TIME  Consumption  Production  time+1\n",
       "0  South Korea  SHEEP  1990       9563.0        14.0    1991\n",
       "1  South Korea  SHEEP  1991       7896.0        14.0    1992\n",
       "2  South Korea  SHEEP  1992      15467.0        29.0    1993"
      ]
     },
     "execution_count": 39,
     "metadata": {},
     "output_type": "execute_result"
    }
   ],
   "source": [
    "new_df[\"time+1\"] = (new_df['TIME']+1)\n",
    "new_df.head(3)"
   ]
  },
  {
   "cell_type": "code",
   "execution_count": 40,
   "id": "f84add99",
   "metadata": {},
   "outputs": [
    {
     "data": {
      "text/html": [
       "<div>\n",
       "<style scoped>\n",
       "    .dataframe tbody tr th:only-of-type {\n",
       "        vertical-align: middle;\n",
       "    }\n",
       "\n",
       "    .dataframe tbody tr th {\n",
       "        vertical-align: top;\n",
       "    }\n",
       "\n",
       "    .dataframe thead th {\n",
       "        text-align: right;\n",
       "    }\n",
       "</style>\n",
       "<table border=\"1\" class=\"dataframe\">\n",
       "  <thead>\n",
       "    <tr style=\"text-align: right;\">\n",
       "      <th></th>\n",
       "      <th>Area</th>\n",
       "      <th>Item</th>\n",
       "      <th>Time</th>\n",
       "      <th>Consumption_x</th>\n",
       "      <th>Production_x</th>\n",
       "      <th>Consumption_y</th>\n",
       "      <th>Production_y</th>\n",
       "    </tr>\n",
       "  </thead>\n",
       "  <tbody>\n",
       "    <tr>\n",
       "      <th>0</th>\n",
       "      <td>South Korea</td>\n",
       "      <td>SHEEP</td>\n",
       "      <td>1990</td>\n",
       "      <td>9563.0</td>\n",
       "      <td>14.0</td>\n",
       "      <td>7896.0</td>\n",
       "      <td>14.0</td>\n",
       "    </tr>\n",
       "    <tr>\n",
       "      <th>1</th>\n",
       "      <td>South Korea</td>\n",
       "      <td>SHEEP</td>\n",
       "      <td>1991</td>\n",
       "      <td>7896.0</td>\n",
       "      <td>14.0</td>\n",
       "      <td>15467.0</td>\n",
       "      <td>29.0</td>\n",
       "    </tr>\n",
       "    <tr>\n",
       "      <th>2</th>\n",
       "      <td>South Korea</td>\n",
       "      <td>SHEEP</td>\n",
       "      <td>1992</td>\n",
       "      <td>15467.0</td>\n",
       "      <td>29.0</td>\n",
       "      <td>11516.0</td>\n",
       "      <td>8.0</td>\n",
       "    </tr>\n",
       "  </tbody>\n",
       "</table>\n",
       "</div>"
      ],
      "text/plain": [
       "          Area   Item  Time  Consumption_x  Production_x  Consumption_y  \\\n",
       "0  South Korea  SHEEP  1990         9563.0          14.0         7896.0   \n",
       "1  South Korea  SHEEP  1991         7896.0          14.0        15467.0   \n",
       "2  South Korea  SHEEP  1992        15467.0          29.0        11516.0   \n",
       "\n",
       "   Production_y  \n",
       "0          14.0  \n",
       "1          29.0  \n",
       "2           8.0  "
      ]
     },
     "execution_count": 40,
     "metadata": {},
     "output_type": "execute_result"
    }
   ],
   "source": [
    "df_for_time2 = pd.merge(left=new_df, right=new_df, how='left', \n",
    "         left_on=['Area','Item', 'time+1'], right_on = ['Area','Item', 'TIME'])\n",
    "\n",
    "df_for_time2 = df_for_time2[['Area','Item', 'TIME_x', 'Consumption_x', 'Production_x', 'Consumption_y','Production_y']]\n",
    "df_for_time2 = df_for_time2.rename(columns={'TIME_x': 'Time'})\n",
    "df_for_time2.head(3)"
   ]
  },
  {
   "cell_type": "code",
   "execution_count": 41,
   "id": "758539a6",
   "metadata": {},
   "outputs": [
    {
     "data": {
      "text/html": [
       "<div>\n",
       "<style scoped>\n",
       "    .dataframe tbody tr th:only-of-type {\n",
       "        vertical-align: middle;\n",
       "    }\n",
       "\n",
       "    .dataframe tbody tr th {\n",
       "        vertical-align: top;\n",
       "    }\n",
       "\n",
       "    .dataframe thead th {\n",
       "        text-align: right;\n",
       "    }\n",
       "</style>\n",
       "<table border=\"1\" class=\"dataframe\">\n",
       "  <thead>\n",
       "    <tr style=\"text-align: right;\">\n",
       "      <th></th>\n",
       "      <th>Area</th>\n",
       "      <th>Item</th>\n",
       "      <th>Time</th>\n",
       "      <th>Consumption_x</th>\n",
       "      <th>Production_x</th>\n",
       "      <th>Consumption_y</th>\n",
       "      <th>Production_y</th>\n",
       "    </tr>\n",
       "  </thead>\n",
       "  <tbody>\n",
       "    <tr>\n",
       "      <th>4208</th>\n",
       "      <td>United Kingdom</td>\n",
       "      <td>SHEEP</td>\n",
       "      <td>2018</td>\n",
       "      <td>299124.0</td>\n",
       "      <td>289000.0</td>\n",
       "      <td>302000.0</td>\n",
       "      <td>307000.0</td>\n",
       "    </tr>\n",
       "    <tr>\n",
       "      <th>4209</th>\n",
       "      <td>United Kingdom</td>\n",
       "      <td>SHEEP</td>\n",
       "      <td>2019</td>\n",
       "      <td>302000.0</td>\n",
       "      <td>307000.0</td>\n",
       "      <td>302996.0</td>\n",
       "      <td>296000.0</td>\n",
       "    </tr>\n",
       "    <tr>\n",
       "      <th>4210</th>\n",
       "      <td>United Kingdom</td>\n",
       "      <td>SHEEP</td>\n",
       "      <td>2020</td>\n",
       "      <td>302996.0</td>\n",
       "      <td>296000.0</td>\n",
       "      <td>NaN</td>\n",
       "      <td>NaN</td>\n",
       "    </tr>\n",
       "  </tbody>\n",
       "</table>\n",
       "</div>"
      ],
      "text/plain": [
       "                Area   Item  Time  Consumption_x  Production_x  Consumption_y  \\\n",
       "4208  United Kingdom  SHEEP  2018       299124.0      289000.0       302000.0   \n",
       "4209  United Kingdom  SHEEP  2019       302000.0      307000.0       302996.0   \n",
       "4210  United Kingdom  SHEEP  2020       302996.0      296000.0            NaN   \n",
       "\n",
       "      Production_y  \n",
       "4208      307000.0  \n",
       "4209      296000.0  \n",
       "4210           NaN  "
      ]
     },
     "execution_count": 41,
     "metadata": {},
     "output_type": "execute_result"
    }
   ],
   "source": [
    "df_for_time2.tail(3)"
   ]
  },
  {
   "cell_type": "code",
   "execution_count": 42,
   "id": "b355626f",
   "metadata": {},
   "outputs": [],
   "source": [
    "# Load libraries\n",
    "import pandas as pd\n",
    "from sklearn.tree import DecisionTreeRegressor # Import Decision Tree Classifier\n",
    "from sklearn.model_selection import train_test_split # Import train_test_split function\n",
    "from sklearn import metrics #Import scikit-learn metrics module for accuracy calculation\n",
    "import category_encoders as ce\n"
   ]
  },
  {
   "cell_type": "code",
   "execution_count": 43,
   "id": "7cb7b77c",
   "metadata": {},
   "outputs": [],
   "source": [
    "encoder = ce.OneHotEncoder()\n",
    "new_df_enc = encoder.fit_transform(df_for_time2)"
   ]
  },
  {
   "cell_type": "code",
   "execution_count": 44,
   "id": "0d678d8a",
   "metadata": {},
   "outputs": [
    {
     "data": {
      "text/plain": [
       "Index(['Area_1', 'Area_2', 'Area_3', 'Area_4', 'Area_5', 'Area_6', 'Area_7',\n",
       "       'Area_8', 'Area_9', 'Area_10', 'Area_11', 'Area_12', 'Area_13',\n",
       "       'Area_14', 'Area_15', 'Area_16', 'Area_17', 'Area_18', 'Area_19',\n",
       "       'Area_20', 'Area_21', 'Area_22', 'Area_23', 'Area_24', 'Area_25',\n",
       "       'Area_26', 'Area_27', 'Area_28', 'Area_29', 'Area_30', 'Area_31',\n",
       "       'Area_32', 'Area_33', 'Area_34', 'Area_35', 'Item_1', 'Item_2',\n",
       "       'Item_3', 'Item_4', 'Time', 'Consumption_x', 'Production_x',\n",
       "       'Consumption_y', 'Production_y'],\n",
       "      dtype='object')"
      ]
     },
     "execution_count": 44,
     "metadata": {},
     "output_type": "execute_result"
    }
   ],
   "source": [
    "new_df_enc.columns"
   ]
  },
  {
   "cell_type": "code",
   "execution_count": 45,
   "id": "c254ee98-a5ef-4610-b054-af158714831e",
   "metadata": {},
   "outputs": [
    {
     "data": {
      "text/plain": [
       "Int64Index([   0,    1,    2,    3,    4,    5,    6,    7,    8,    9,\n",
       "            ...\n",
       "            4201, 4202, 4203, 4204, 4205, 4206, 4207, 4208, 4209, 4210],\n",
       "           dtype='int64', length=4211)"
      ]
     },
     "execution_count": 45,
     "metadata": {},
     "output_type": "execute_result"
    }
   ],
   "source": [
    "new_df_enc.index"
   ]
  },
  {
   "cell_type": "code",
   "execution_count": 46,
   "id": "8e40981a",
   "metadata": {},
   "outputs": [
    {
     "name": "stdout",
     "output_type": "stream",
     "text": [
      "Nulos para consumo: 0\n",
      "Nulos para consumo: 0\n",
      "Nulos para producción: 0\n",
      "Nulos para producción: 0\n"
     ]
    }
   ],
   "source": [
    "#Dividir en dataframe en datos de entrenamiento y prueba\n",
    "feature_cols = ['Area_1', 'Area_2', 'Area_3', 'Area_4', 'Area_5', 'Area_6', 'Area_7',\n",
    "       'Area_8', 'Area_9', 'Area_10', 'Area_11', 'Area_12', 'Area_13',\n",
    "       'Area_14', 'Area_15', 'Area_16', 'Area_17', 'Area_18', 'Area_19',\n",
    "       'Area_20', 'Area_21', 'Area_22', 'Area_23', 'Area_24', 'Area_25',\n",
    "       'Area_26', 'Area_27', 'Area_28', 'Area_29', 'Area_30', 'Area_31',\n",
    "       'Area_32', 'Area_33', 'Area_34', 'Area_35', 'Item_1', 'Item_2',\n",
    "       'Item_3', 'Item_4', 'Time', 'Consumption_x']\n",
    "\n",
    "dfTrainConsumo = new_df_enc[new_df_enc.Time < 2019 ]\n",
    "dfTestConsumo  = new_df_enc[new_df_enc.Time == 2019]\n",
    "print('Nulos para consumo:', dfTrainConsumo.Consumption_x.isnull().sum())\n",
    "print('Nulos para consumo:', dfTestConsumo .Consumption_x.isnull().sum())\n",
    "\n",
    "dfTrainProd = new_df_enc[(new_df_enc.Time < 2019)  & (new_df_enc.Production_y.notnull()) ]\n",
    "dfTestProd  = new_df_enc[(new_df_enc.Time == 2019) & (new_df_enc.Production_y.notnull()) ]\n",
    "print('Nulos para producción:', dfTrainProd.Production_y.isnull().sum())\n",
    "print('Nulos para producción:', dfTestProd .Production_y.isnull().sum())"
   ]
  },
  {
   "cell_type": "code",
   "execution_count": 47,
   "id": "dad3f8c0-b20f-4a61-ab63-0340c3981038",
   "metadata": {},
   "outputs": [],
   "source": [
    "# Dataframes para la predicción real para le año 2021\n",
    "# En las columnas '_y' quedará el valor de 2021\n",
    "\n",
    "dfPredConsumo = dfTestConsumo.copy()\n",
    "dfPredConsumo.Time = 2020\n",
    "dfPredConsumo.Consumption_x = dfPredConsumo.Consumption_y\n",
    "dfPredConsumo.Consumption_y = 0\n",
    "dfPredConsumo.Production_y  = None\n",
    "\n",
    "dfPredProd = dfTestProd.copy()\n",
    "dfPredProd.Time = 2020\n",
    "dfPredProd.Production_x = dfPredConsumo.Production_x\n",
    "dfPredProd.Consumption_y = None\n",
    "dfPredProd.Production_y  = 0\n"
   ]
  },
  {
   "cell_type": "code",
   "execution_count": 48,
   "id": "c4671450-9316-4ba3-836d-343051311b87",
   "metadata": {},
   "outputs": [
    {
     "name": "stdout",
     "output_type": "stream",
     "text": [
      "Datos sobre Consumo\n",
      "total de datos iniciales: 4211\n",
      "total de datos sin nulos (por el T, T+1): 4074\n",
      "datos de entrenamiento: 3937  = 96.64%\n",
      "datos de prueba: 137  = 3.36%\n"
     ]
    }
   ],
   "source": [
    "def printTotalesConsumo():\n",
    "    totalRecords = new_df_enc[new_df_enc.Time <= 2019].shape[0]\n",
    "    print('Datos sobre Consumo')\n",
    "    print('total de datos iniciales:', new_df_enc.shape[0])\n",
    "    print('total de datos sin nulos (por el T, T+1):', totalRecords)\n",
    "    print('datos de entrenamiento:', dfTrainConsumo.shape[0], \" = {:.2f}%\".format(dfTrainConsumo.shape[0] / totalRecords * 100))\n",
    "    print('datos de prueba:', dfTestConsumo.shape[0], \" = {:.2f}%\".format(dfTestConsumo.shape[0] / totalRecords * 100))\n",
    "printTotalesConsumo()"
   ]
  },
  {
   "cell_type": "code",
   "execution_count": 49,
   "id": "c99ca4fa-23ed-4101-94e0-6d54aa36bb96",
   "metadata": {},
   "outputs": [
    {
     "name": "stdout",
     "output_type": "stream",
     "text": [
      "Datos sobre Producción\n",
      "total de datos iniciales: 4211\n",
      "total de datos sin nulos (por el T, T+1) o valores faltantes: 4051\n",
      "datos de entrenamiento: 3916  = 96.67%\n",
      "datos de prueba: 135  = 3.33%\n"
     ]
    }
   ],
   "source": [
    "def printTotalesProduccion():\n",
    "    totalRecords = new_df_enc[(new_df_enc.Time <= 2019) & (new_df_enc.Production_y.notnull())].shape[0]\n",
    "    print('Datos sobre Producción')\n",
    "    print('total de datos iniciales:', new_df_enc.shape[0])\n",
    "    print('total de datos sin nulos (por el T, T+1) o valores faltantes:', totalRecords)\n",
    "    print('datos de entrenamiento:', dfTrainProd.shape[0], \" = {:.2f}%\".format(dfTrainProd.shape[0] / totalRecords * 100))\n",
    "    print('datos de prueba:', dfTestProd.shape[0], \" = {:.2f}%\".format(dfTestProd.shape[0] / totalRecords * 100))\n",
    "printTotalesProduccion()"
   ]
  },
  {
   "cell_type": "markdown",
   "id": "d3d30277-dbcd-43ed-bf75-0b156698468f",
   "metadata": {},
   "source": [
    "### Modelos de análisis"
   ]
  },
  {
   "cell_type": "code",
   "execution_count": 50,
   "id": "d2560bc9",
   "metadata": {},
   "outputs": [],
   "source": [
    "def neural_model(look_back, trainX, trainY, epochs, batch_size, testX, testY):\n",
    "    model = Sequential()\n",
    "    model.add(Dense(41, input_dim=look_back, activation='relu'))\n",
    "    model.add(Dense(32, activation='relu'))\n",
    "    model.add(Dense(1))\n",
    "    model.compile(loss='mse', optimizer='adam', metrics=['mae'])\n",
    "    history = model.fit(trainX, trainY, epochs=epochs, batch_size=batch_size, verbose=0, validation_data=(testX,testY), \n",
    "                        callbacks=[EarlyStopping(monitor='val_loss', patience=10)],shuffle=False)\n",
    "    return model, history"
   ]
  },
  {
   "cell_type": "code",
   "execution_count": 51,
   "id": "66e40603",
   "metadata": {},
   "outputs": [],
   "source": [
    "def model_loss(history, titulo=''):\n",
    "    plt.figure(figsize=(8,4))\n",
    "    plt.plot(history.history['loss'], label='Train Loss')\n",
    "    plt.plot(history.history['val_loss'], label='Test Loss')\n",
    "    plt.title('Pérdida del modelo RNN' + titulo)\n",
    "    plt.ylabel('loss')\n",
    "    plt.xlabel('epochs')\n",
    "    plt.legend(loc='upper right')\n",
    "    plt.show();"
   ]
  },
  {
   "cell_type": "code",
   "execution_count": 52,
   "id": "868284ae",
   "metadata": {},
   "outputs": [],
   "source": [
    "def prediction_plot(realY, predictY, l, leyendaY, titulo):\n",
    "    len_prediction=[x for x in range(len(realY))]\n",
    "    plt.figure(figsize=(8,4))\n",
    "    plt.plot(len_prediction, realY[:l], marker='o', label=\"actual\")\n",
    "    plt.plot(len_prediction, predictY[:l], '-', label=\"prediction\")\n",
    "    plt.tight_layout()\n",
    "    sns.despine(top=True)\n",
    "    plt.subplots_adjust(left=0.07)\n",
    "    plt.ylabel(leyendaY, size=15)\n",
    "    plt.xlabel('Entrada', size=15)\n",
    "    plt.title(titulo)\n",
    "    plt.legend(fontsize=15)\n",
    "    plt.show();"
   ]
  },
  {
   "cell_type": "code",
   "execution_count": 53,
   "id": "29604d3b-52ba-44a6-8518-a778748a8c6f",
   "metadata": {},
   "outputs": [],
   "source": [
    "def get_mse_r2(values, prediction):\n",
    "    rmse = np.sqrt(metrics.mean_squared_error(values, prediction))\n",
    "    r2 = metrics.r2_score(values, prediction)\n",
    "    return (rmse, r2)"
   ]
  },
  {
   "cell_type": "code",
   "execution_count": 54,
   "id": "8e8f0427",
   "metadata": {},
   "outputs": [],
   "source": [
    "def ejecutarModelos(dfTrain, dfTest, dfPred, featureX, featureY, name):\n",
    "    # variable para guardar los errores\n",
    "    global mseResults\n",
    "    mseResults = mseResults if 'mseResults' in globals() else {}\n",
    "    mseResults[name] = {}\n",
    "    \n",
    "    # variable para guardar predicciones de 2020\n",
    "    global predicciones2020\n",
    "    predicciones2020 = predicciones2020 if 'predicciones2020' in globals() else {}\n",
    "    predicciones2020[name] = {}\n",
    "    \n",
    "    # usa columna Consumption_x o Production_x\n",
    "    feature_cols[len(feature_cols)-1] = featureX\n",
    "    \n",
    "    # selección de datos\n",
    "    X_train = dfTrain[feature_cols]\n",
    "    Y_train = dfTrain[featureY]\n",
    "\n",
    "    X_test = dfTest[feature_cols]\n",
    "    Y_test = dfTest[featureY]\n",
    "    \n",
    "    X_pred = dfPred[feature_cols]\n",
    "    \n",
    "    # ------------------------------------\n",
    "    \n",
    "    # Decision Tree\n",
    "    clf = DecisionTreeRegressor()\n",
    "    clf.fit(X_train,Y_train)\n",
    "    \n",
    "    Y_pred_train = clf.predict(X_train)\n",
    "    Y_pred_test  = clf.predict(X_test)\n",
    "    dfPred[featureY] = clf.predict(X_pred)\n",
    "    \n",
    "    # Calculando error\n",
    "    errorTreeTrain = get_mse_r2(Y_train, Y_pred_train)\n",
    "    print('DecisionTree . Train Score: %.2f MSE (%.2f R2)' % errorTreeTrain)\n",
    "    \n",
    "    errorTreeTest  = get_mse_r2(Y_test, Y_pred_test)\n",
    "    print('DecisionTree . Test Score: %.2f MSE (%.2f R2)' % errorTreeTest)\n",
    "    \n",
    "    mseResults[name]['tree'] = {'train': errorTreeTrain[0], 'test': errorTreeTest[0]}\n",
    "    predicciones2020[name]['tree'] = Y_pred_test.sum()\n",
    "    \n",
    "    prediction_plot(Y_test, Y_pred_test, Y_test.shape[0], name, 'DecisionTree para '+name)\n",
    "    # ------------------------------------\n",
    "    \n",
    "    # Red Neuronal\n",
    "    model, history = neural_model(X_train.shape[1], X_train, Y_train, 300, 20, X_test, Y_test)\n",
    "\n",
    "    trainScore = model.evaluate(X_train, Y_train, verbose=0)\n",
    "    print('Neural network . Train Score: %.2f MSE (%.2f MAE)' % (trainScore[0], trainScore[1]))\n",
    "    \n",
    "    testScore = model.evaluate(X_test, Y_test, verbose=0)\n",
    "    print('Neural network . Test Score: %.2f MSE (%.2f MAE)' % (trainScore[0], trainScore[1]))\n",
    "    \n",
    "    mseResults[name]['rnn'] = {'train': trainScore[0], 'test': testScore[0]}\n",
    "    \n",
    "    #histórico de pérdida del modelo en cada epoch\n",
    "    model_loss(history)\n",
    "    \n",
    "    # predicciones del modelo de RNN\n",
    "    trainPredict = model.predict(X_train)\n",
    "    testPredict = model.predict(X_test)\n",
    "    predicciones2020[name]['rnn'] = testPredict.sum()\n",
    "    \n",
    "    prediction_plot(Y_test, testPredict, Y_test.shape[0], name, 'RNN para '+name)"
   ]
  },
  {
   "cell_type": "code",
   "execution_count": 55,
   "id": "7e2a6dcf",
   "metadata": {},
   "outputs": [
    {
     "name": "stdout",
     "output_type": "stream",
     "text": [
      "DecisionTree . Train Score: 0.00 MSE (1.00 R2)\n",
      "DecisionTree . Test Score: 283633.81 MSE (1.00 R2)\n"
     ]
    },
    {
     "data": {
      "image/png": "[encoded data removed]",
      "text/plain": [
       "<Figure size 576x288 with 1 Axes>"
      ]
     },
     "metadata": {
      "needs_background": "light"
     },
     "output_type": "display_data"
    },
    {
     "name": "stderr",
     "output_type": "stream",
     "text": [
      "2022-07-28 05:48:16.274767: I tensorflow/core/platform/cpu_feature_guard.cc:193] This TensorFlow binary is optimized with oneAPI Deep Neural Network Library (oneDNN) to use the following CPU instructions in performance-critical operations:  SSE4.1 SSE4.2 AVX AVX2 FMA\n",
      "To enable them in other operations, rebuild TensorFlow with the appropriate compiler flags.\n"
     ]
    },
    {
     "name": "stdout",
     "output_type": "stream",
     "text": [
      "Neural network . Train Score: 83017449472.00 MSE (63991.89 MAE)\n",
      "Neural network . Test Score: 83017449472.00 MSE (63991.89 MAE)\n"
     ]
    },
    {
     "data": {
      "image/png": "[encoded data removed]",
      "text/plain": [
       "<Figure size 576x288 with 1 Axes>"
      ]
     },
     "metadata": {
      "needs_background": "light"
     },
     "output_type": "display_data"
    },
    {
     "name": "stdout",
     "output_type": "stream",
     "text": [
      "124/124 [==============================] - 0s 669us/step\n",
      "5/5 [==============================] - 0s 1ms/step\n"
     ]
    },
    {
     "data": {
      "image/png": "[encoded data removed]",
      "text/plain": [
       "<Figure size 576x288 with 1 Axes>"
      ]
     },
     "metadata": {
      "needs_background": "light"
     },
     "output_type": "display_data"
    }
   ],
   "source": [
    "mseResults = {}\n",
    "predicciones2020 =  {}\n",
    "ejecutarModelos(dfTrainConsumo, dfTestConsumo, dfPredConsumo, 'Consumption_x', 'Consumption_y', 'Consumo')"
   ]
  },
  {
   "cell_type": "code",
   "execution_count": 56,
   "id": "a1851077",
   "metadata": {},
   "outputs": [
    {
     "name": "stdout",
     "output_type": "stream",
     "text": [
      "DecisionTree . Train Score: 0.00 MSE (1.00 R2)\n",
      "DecisionTree . Test Score: 756788.85 MSE (0.97 R2)\n"
     ]
    },
    {
     "data": {
      "image/png": "[encoded data removed]",
      "text/plain": [
       "<Figure size 576x288 with 1 Axes>"
      ]
     },
     "metadata": {
      "needs_background": "light"
     },
     "output_type": "display_data"
    },
    {
     "name": "stdout",
     "output_type": "stream",
     "text": [
      "Neural network . Train Score: 350537940992.00 MSE (165780.91 MAE)\n",
      "Neural network . Test Score: 350537940992.00 MSE (165780.91 MAE)\n"
     ]
    },
    {
     "data": {
      "image/png": "[encoded data removed]",
      "text/plain": [
       "<Figure size 576x288 with 1 Axes>"
      ]
     },
     "metadata": {
      "needs_background": "light"
     },
     "output_type": "display_data"
    },
    {
     "name": "stdout",
     "output_type": "stream",
     "text": [
      "123/123 [==============================] - 0s 700us/step\n",
      "5/5 [==============================] - 0s 1ms/step\n"
     ]
    },
    {
     "data": {
      "image/png": "[encoded data removed]",
      "text/plain": [
       "<Figure size 576x288 with 1 Axes>"
      ]
     },
     "metadata": {
      "needs_background": "light"
     },
     "output_type": "display_data"
    }
   ],
   "source": [
    "ejecutarModelos(dfTrainProd, dfTestProd, dfPredProd, 'Production_x', 'Production_y', 'Producción')"
   ]
  },
  {
   "cell_type": "markdown",
   "id": "ce4d1e81-c41b-4023-9e5c-deb8ab757748",
   "metadata": {},
   "source": [
    "### Errores de ambos modelos\n",
    "Los errores se estiman utilizando el MSE (Mean Standard Error)."
   ]
  },
  {
   "cell_type": "code",
   "execution_count": 57,
   "id": "ae4395c4-f0de-435b-897f-1e1a4a5edd23",
   "metadata": {},
   "outputs": [
    {
     "data": {
      "text/html": [
       "<div>\n",
       "<style scoped>\n",
       "    .dataframe tbody tr th:only-of-type {\n",
       "        vertical-align: middle;\n",
       "    }\n",
       "\n",
       "    .dataframe tbody tr th {\n",
       "        vertical-align: top;\n",
       "    }\n",
       "\n",
       "    .dataframe thead th {\n",
       "        text-align: right;\n",
       "    }\n",
       "</style>\n",
       "<table border=\"1\" class=\"dataframe\">\n",
       "  <thead>\n",
       "    <tr style=\"text-align: right;\">\n",
       "      <th></th>\n",
       "      <th>Consumo.tree.train</th>\n",
       "      <th>Consumo.tree.test</th>\n",
       "      <th>Consumo.rnn.train</th>\n",
       "      <th>Consumo.rnn.test</th>\n",
       "      <th>Producción.tree.train</th>\n",
       "      <th>Producción.tree.test</th>\n",
       "      <th>Producción.rnn.train</th>\n",
       "      <th>Producción.rnn.test</th>\n",
       "    </tr>\n",
       "  </thead>\n",
       "  <tbody>\n",
       "    <tr>\n",
       "      <th>0</th>\n",
       "      <td>0.0</td>\n",
       "      <td>283633.805995</td>\n",
       "      <td>8.301745e+10</td>\n",
       "      <td>1.354456e+11</td>\n",
       "      <td>0.0</td>\n",
       "      <td>756788.846242</td>\n",
       "      <td>3.505379e+11</td>\n",
       "      <td>2.165467e+11</td>\n",
       "    </tr>\n",
       "  </tbody>\n",
       "</table>\n",
       "</div>"
      ],
      "text/plain": [
       "   Consumo.tree.train  Consumo.tree.test  Consumo.rnn.train  Consumo.rnn.test  \\\n",
       "0                 0.0      283633.805995       8.301745e+10      1.354456e+11   \n",
       "\n",
       "   Producción.tree.train  Producción.tree.test  Producción.rnn.train  \\\n",
       "0                    0.0         756788.846242          3.505379e+11   \n",
       "\n",
       "   Producción.rnn.test  \n",
       "0         2.165467e+11  "
      ]
     },
     "execution_count": 57,
     "metadata": {},
     "output_type": "execute_result"
    }
   ],
   "source": [
    "pd.json_normalize (mseResults)"
   ]
  },
  {
   "cell_type": "markdown",
   "id": "f9a305bf-317e-4011-942a-dfeaa0ac725d",
   "metadata": {},
   "source": [
    "### Predicciones de ambos modelos\n",
    "Las predicciones se comparan los datos de prueba de 2020, contra la predicción para 2020"
   ]
  },
  {
   "cell_type": "code",
   "execution_count": 58,
   "id": "f0292ce9-1a84-4154-bec2-0b2add5c854f",
   "metadata": {},
   "outputs": [
    {
     "data": {
      "text/plain": [
       "{'Consumo': {'tree': 252290383.0, 'rnn': 254874020.0},\n",
       " 'Producción': {'tree': 251465690.0, 'rnn': 214389060.0}}"
      ]
     },
     "execution_count": 58,
     "metadata": {},
     "output_type": "execute_result"
    }
   ],
   "source": [
    "predicciones2020"
   ]
  },
  {
   "cell_type": "code",
   "execution_count": 59,
   "id": "2e7f58b4-67e9-4e21-b14d-3e72bc764138",
   "metadata": {},
   "outputs": [
    {
     "data": {
      "text/html": [
       "<div>\n",
       "<style scoped>\n",
       "    .dataframe tbody tr th:only-of-type {\n",
       "        vertical-align: middle;\n",
       "    }\n",
       "\n",
       "    .dataframe tbody tr th {\n",
       "        vertical-align: top;\n",
       "    }\n",
       "\n",
       "    .dataframe thead th {\n",
       "        text-align: right;\n",
       "    }\n",
       "</style>\n",
       "<table border=\"1\" class=\"dataframe\">\n",
       "  <thead>\n",
       "    <tr style=\"text-align: right;\">\n",
       "      <th></th>\n",
       "      <th>Consumo.tree</th>\n",
       "      <th>Consumo.rnn</th>\n",
       "      <th>Consumo.Real</th>\n",
       "      <th>Producción.tree</th>\n",
       "      <th>Producción.rnn</th>\n",
       "      <th>Producción.Real</th>\n",
       "    </tr>\n",
       "  </thead>\n",
       "  <tbody>\n",
       "    <tr>\n",
       "      <th>0</th>\n",
       "      <td>252290383.0</td>\n",
       "      <td>254874016.0</td>\n",
       "      <td>246539331.0</td>\n",
       "      <td>251465690.0</td>\n",
       "      <td>214389056.0</td>\n",
       "      <td>238388169.0</td>\n",
       "    </tr>\n",
       "  </tbody>\n",
       "</table>\n",
       "</div>"
      ],
      "text/plain": [
       "   Consumo.tree  Consumo.rnn  Consumo.Real  Producción.tree  Producción.rnn  \\\n",
       "0   252290383.0  254874016.0   246539331.0      251465690.0     214389056.0   \n",
       "\n",
       "   Producción.Real  \n",
       "0      238388169.0  "
      ]
     },
     "execution_count": 59,
     "metadata": {},
     "output_type": "execute_result"
    }
   ],
   "source": [
    "predicciones2020['Consumo']['Real'] = new_df[new_df.TIME == 2020].Consumption.sum()\n",
    "predicciones2020['Producción']['Real'] = new_df[new_df.TIME == 2020].Production.sum()\n",
    "pd.json_normalize (predicciones2020)"
   ]
  },
  {
   "cell_type": "markdown",
   "id": "9df816cc-8723-4c0a-a0ed-956e19469d21",
   "metadata": {},
   "source": [
    "### Juntando los resultados de ambas predicciones\n",
    "En un solo dataset para exportarlo y usarlo para construir los gráficos"
   ]
  },
  {
   "cell_type": "code",
   "execution_count": 60,
   "id": "960e9ce8-5c83-4fc9-9f8e-1ea71fa4aa35",
   "metadata": {},
   "outputs": [
    {
     "name": "stdout",
     "output_type": "stream",
     "text": [
      "(4211, 6)\n",
      "(137, 5)\n",
      "(4348, 5)\n"
     ]
    }
   ],
   "source": [
    "datosPredichos = df_for_time2.loc[dfPredConsumo.index][['Area', 'Item']]\n",
    "datosPredichos['TIME'] = 2021\n",
    "datosPredichos['Consumption'] = dfPredConsumo['Consumption_y']\n",
    "\n",
    "datosPredichos.loc[dfPredProd.index, 'Production'] = dfPredProd['Production_y']\n",
    "\n",
    "# se pega al final con los datos originales \n",
    "# (luego de mezclados las tres fuentes de datos en new_df)\n",
    "print(new_df.shape)\n",
    "print(datosPredichos.shape)\n",
    "\n",
    "dfParaGraficos = pd.concat([new_df[['Area', 'Item', 'TIME', 'Consumption', 'Production']], datosPredichos])\n",
    "print(dfParaGraficos.shape)\n",
    "dfParaGraficos.to_csv('datosConPrediccion2021.csv',index=False)\n"
   ]
  },
  {
   "cell_type": "code",
   "execution_count": 61,
   "id": "e07ffdb5-f6de-43be-a952-dd8af122a296",
   "metadata": {},
   "outputs": [
    {
     "data": {
      "text/html": [
       "<div>\n",
       "<style scoped>\n",
       "    .dataframe tbody tr th:only-of-type {\n",
       "        vertical-align: middle;\n",
       "    }\n",
       "\n",
       "    .dataframe tbody tr th {\n",
       "        vertical-align: top;\n",
       "    }\n",
       "\n",
       "    .dataframe thead th {\n",
       "        text-align: right;\n",
       "    }\n",
       "</style>\n",
       "<table border=\"1\" class=\"dataframe\">\n",
       "  <thead>\n",
       "    <tr style=\"text-align: right;\">\n",
       "      <th></th>\n",
       "      <th>Area</th>\n",
       "      <th>Item</th>\n",
       "      <th>TIME</th>\n",
       "      <th>Consumption</th>\n",
       "      <th>Production</th>\n",
       "    </tr>\n",
       "  </thead>\n",
       "  <tbody>\n",
       "    <tr>\n",
       "      <th>29</th>\n",
       "      <td>South Korea</td>\n",
       "      <td>SHEEP</td>\n",
       "      <td>2021</td>\n",
       "      <td>18835.0</td>\n",
       "      <td>6.0</td>\n",
       "    </tr>\n",
       "    <tr>\n",
       "      <th>60</th>\n",
       "      <td>South Africa</td>\n",
       "      <td>SHEEP</td>\n",
       "      <td>2021</td>\n",
       "      <td>170900.0</td>\n",
       "      <td>214111.0</td>\n",
       "    </tr>\n",
       "    <tr>\n",
       "      <th>91</th>\n",
       "      <td>South Korea</td>\n",
       "      <td>PIG</td>\n",
       "      <td>2021</td>\n",
       "      <td>2098465.0</td>\n",
       "      <td>1424388.0</td>\n",
       "    </tr>\n",
       "    <tr>\n",
       "      <th>122</th>\n",
       "      <td>India</td>\n",
       "      <td>SHEEP</td>\n",
       "      <td>2021</td>\n",
       "      <td>711407.0</td>\n",
       "      <td>289000.0</td>\n",
       "    </tr>\n",
       "    <tr>\n",
       "      <th>153</th>\n",
       "      <td>Norway</td>\n",
       "      <td>PIG</td>\n",
       "      <td>2021</td>\n",
       "      <td>125860.0</td>\n",
       "      <td>122116.0</td>\n",
       "    </tr>\n",
       "    <tr>\n",
       "      <th>...</th>\n",
       "      <td>...</td>\n",
       "      <td>...</td>\n",
       "      <td>...</td>\n",
       "      <td>...</td>\n",
       "      <td>...</td>\n",
       "    </tr>\n",
       "    <tr>\n",
       "      <th>4085</th>\n",
       "      <td>Malaysia</td>\n",
       "      <td>SHEEP</td>\n",
       "      <td>2021</td>\n",
       "      <td>38501.0</td>\n",
       "      <td>1880.0</td>\n",
       "    </tr>\n",
       "    <tr>\n",
       "      <th>4116</th>\n",
       "      <td>United Kingdom</td>\n",
       "      <td>BEEF</td>\n",
       "      <td>2021</td>\n",
       "      <td>1125594.0</td>\n",
       "      <td>915640.0</td>\n",
       "    </tr>\n",
       "    <tr>\n",
       "      <th>4147</th>\n",
       "      <td>United Kingdom</td>\n",
       "      <td>PIG</td>\n",
       "      <td>2021</td>\n",
       "      <td>1450053.0</td>\n",
       "      <td>957000.0</td>\n",
       "    </tr>\n",
       "    <tr>\n",
       "      <th>4178</th>\n",
       "      <td>United Kingdom</td>\n",
       "      <td>POULTRY</td>\n",
       "      <td>2021</td>\n",
       "      <td>2299763.0</td>\n",
       "      <td>1677838.0</td>\n",
       "    </tr>\n",
       "    <tr>\n",
       "      <th>4209</th>\n",
       "      <td>United Kingdom</td>\n",
       "      <td>SHEEP</td>\n",
       "      <td>2021</td>\n",
       "      <td>299124.0</td>\n",
       "      <td>289000.0</td>\n",
       "    </tr>\n",
       "  </tbody>\n",
       "</table>\n",
       "<p>137 rows × 5 columns</p>\n",
       "</div>"
      ],
      "text/plain": [
       "                Area     Item  TIME  Consumption  Production\n",
       "29       South Korea    SHEEP  2021      18835.0         6.0\n",
       "60      South Africa    SHEEP  2021     170900.0    214111.0\n",
       "91       South Korea      PIG  2021    2098465.0   1424388.0\n",
       "122            India    SHEEP  2021     711407.0    289000.0\n",
       "153           Norway      PIG  2021     125860.0    122116.0\n",
       "...              ...      ...   ...          ...         ...\n",
       "4085        Malaysia    SHEEP  2021      38501.0      1880.0\n",
       "4116  United Kingdom     BEEF  2021    1125594.0    915640.0\n",
       "4147  United Kingdom      PIG  2021    1450053.0    957000.0\n",
       "4178  United Kingdom  POULTRY  2021    2299763.0   1677838.0\n",
       "4209  United Kingdom    SHEEP  2021     299124.0    289000.0\n",
       "\n",
       "[137 rows x 5 columns]"
      ]
     },
     "execution_count": 61,
     "metadata": {},
     "output_type": "execute_result"
    }
   ],
   "source": [
    "datosPredichos"
   ]
  }
 ],
 "metadata": {
  "kernelspec": {
   "display_name": "Python 3 (ipykernel)",
   "language": "python",
   "name": "python3"
  },
  "language_info": {
   "codemirror_mode": {
    "name": "ipython",
    "version": 3
   },
   "file_extension": ".py",
   "mimetype": "text/x-python",
   "name": "python",
   "nbconvert_exporter": "python",
   "pygments_lexer": "ipython3",
   "version": "3.10.5"
  }
 },
 "nbformat": 4,
 "nbformat_minor": 5
}
