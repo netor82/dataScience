{
 "cells": [
  {
   "cell_type": "code",
   "execution_count": null,
   "id": "1060f79e",
   "metadata": {},
   "outputs": [],
   "source": [
    "import numpy as np\n",
    "import pandas as pd\n",
    "\n",
    "from matplotlib import pyplot as plt\n",
    "import seaborn as sns\n",
    "\n",
    "#from keras.models import Sequential\n",
    "#from keras.layers.core import Dense, Dropout, Activation\n",
    "#from keras.callbacks import ModelCheckpoint, EarlyStopping\n",
    "\n",
    "%matplotlib inline\n",
    "\n",
    "import openpyxl"
   ]
  },
  {
   "cell_type": "code",
   "execution_count": null,
   "id": "96bbe0cd",
   "metadata": {},
   "outputs": [],
   "source": [
    "dfFao = pd.read_csv(\"FAOSTAT.csv\")\n",
    "dfCountries = pd.read_csv(\"iso-country-codes.csv\")\n",
    "dfConsumption = pd.read_csv(\"oecd_meat_consumption.csv\")\n",
    "\n",
    "dfFao.head(2)"
   ]
  },
  {
   "cell_type": "code",
   "execution_count": null,
   "id": "bb8c55af",
   "metadata": {},
   "outputs": [],
   "source": [
    "dfCountries.head(2)"
   ]
  },
  {
   "cell_type": "code",
   "execution_count": null,
   "id": "134fed3e",
   "metadata": {},
   "outputs": [],
   "source": [
    "dfConsumption.head(2)"
   ]
  },
  {
   "cell_type": "markdown",
   "id": "1418365a",
   "metadata": {},
   "source": [
    "## Pasos para limpiar dfCountries\n",
    "1. Seleccionar solo aquellas columnas necesarias.\n",
    "2. Renombrar las columnas al igual que las columnas en los otros dataset para luego hacer los joins.\n",
    "3. Revisar qué valores de dfCountries no hacen correspondencia con los códigos o nombres usados en los otros datasets.\n",
    "\n",
    "### Paso 1 y 2"
   ]
  },
  {
   "cell_type": "code",
   "execution_count": null,
   "id": "b7f1cad0",
   "metadata": {},
   "outputs": [],
   "source": [
    "dfCountries = dfCountries[['Alpha-3 code', 'English short name lower case']] \\\n",
    "    .rename(columns={'Alpha-3 code': 'LOCATION', 'English short name lower case':'Area'})\n",
    "dfCountries.head(5)"
   ]
  },
  {
   "cell_type": "markdown",
   "id": "90c7b9d7",
   "metadata": {},
   "source": [
    "### Paso 3: emparejado de valores"
   ]
  },
  {
   "cell_type": "code",
   "execution_count": null,
   "id": "60925d9b",
   "metadata": {},
   "outputs": [],
   "source": [
    "def unirDf(df1, df2, columna):\n",
    "    df1 = df1.merge(df2, on=columna, how='left', indicator=True)\n",
    "    print('valores que no hacen correspondencia:')\n",
    "    print(df1[df1['_merge'] != 'both'])\n",
    "    return df1\n",
    "\n",
    "\n",
    "dfUnicosEnConsumo = pd.DataFrame(dfConsumption['LOCATION'].unique(), columns = ['LOCATION'])\n",
    "dfJoinedConsumptionAndCountries = unirDf(dfUnicosEnConsumo, dfCountries, 'LOCATION')"
   ]
  },
  {
   "cell_type": "markdown",
   "id": "bf393ed5",
   "metadata": {},
   "source": [
    "Esto es esperado, pues el dataset de consumo de OEDC usa esos tres valores para poner valores especiales para su propio análisis.\n",
    "\n",
    "Ahora, quitamos esos valores y revisamos cuáles valores no están en el dataset de producción de FAO."
   ]
  },
  {
   "cell_type": "code",
   "execution_count": null,
   "id": "896b36f1",
   "metadata": {},
   "outputs": [],
   "source": [
    "dfConsumptionOK = dfJoinedConsumptionAndCountries[dfJoinedConsumptionAndCountries['_merge'] == 'both'][['Area']]\n",
    "\n",
    "def corroborarValoresEnFAO(df):\n",
    "    dfUnicosEnFao = pd.DataFrame(dfFao['Area'].unique(), columns = ['Area'])\n",
    "    _ = unirDf(df, dfUnicosEnFao, 'Area')\n",
    "    \n",
    "corroborarValoresEnFAO(dfConsumptionOK)"
   ]
  },
  {
   "cell_type": "markdown",
   "id": "b7310c0f",
   "metadata": {},
   "source": [
    "Correcciones a valores en dfFao"
   ]
  },
  {
   "cell_type": "code",
   "execution_count": null,
   "id": "6d88c003",
   "metadata": {},
   "outputs": [],
   "source": [
    "def corregirValorEnFao(malo, bueno, columma='Area'):\n",
    "    dfFao.loc[dfFao[columma] == malo, columma] = bueno\n",
    "\n",
    "corregirValorEnFao('Republic of Korea', 'South Korea')\n",
    "corregirValorEnFao('United States of America', 'United States')\n",
    "corregirValorEnFao('Iran (Islamic Republic of)', 'Iran')\n",
    "corregirValorEnFao('Russian Federation', 'Russia')\n",
    "corregirValorEnFao('Viet Nam', 'Vietnam')\n",
    "corregirValorEnFao('United Kingdom of Great Britain and Northern Ireland', 'United Kingdom')\n",
    "corregirValorEnFao('Türkiye', 'Turkey')\n",
    "\n",
    "corroborarValoresEnFAO(dfConsumptionOK)"
   ]
  },
  {
   "cell_type": "code",
   "execution_count": null,
   "id": "3445e671",
   "metadata": {},
   "outputs": [],
   "source": [
    "dfCountries.head(5)"
   ]
  },
  {
   "cell_type": "markdown",
   "id": "d690a071",
   "metadata": {},
   "source": [
    "----\n",
    "\n",
    "## Pasos para limpiar dfConsumption\n",
    "Pasos:\n",
    "1. Unir los datos de Consumo con los países.\n",
    "2. Quitar los códigos de 'Location' propios del análisis de la OECD.\n",
    "3. Remover entradas para Turquía.\n",
    "4. Quitar columnas innecesarias.\n",
    "\n",
    "### 1. Unir datos con dataframe de países"
   ]
  },
  {
   "cell_type": "code",
   "execution_count": null,
   "id": "c6806af5",
   "metadata": {},
   "outputs": [],
   "source": [
    "dfConsumption = dfConsumption.merge(dfCountries, on='LOCATION', how='left', indicator=True)\n",
    "dfConsumption.head(5)"
   ]
  },
  {
   "cell_type": "code",
   "execution_count": null,
   "id": "c7a753de",
   "metadata": {},
   "outputs": [],
   "source": [
    "dfConsumption[dfConsumption['_merge'] != 'both']['LOCATION'].unique()"
   ]
  },
  {
   "cell_type": "markdown",
   "id": "72dbd840",
   "metadata": {},
   "source": [
    "### 2. Remover Location extras\n",
    "\n",
    "Remover filas cuando el 'Location' es 'WLD', 'OECD' o 'BRICS'.\n",
    "\n",
    "Esos son valores totales usados por OECD para comparaciones que no son necesarios para nuestro análisis."
   ]
  },
  {
   "cell_type": "code",
   "execution_count": null,
   "id": "f1bda0db",
   "metadata": {},
   "outputs": [],
   "source": [
    "dfConsumption = dfConsumption[dfConsumption['_merge'] == 'both']\n",
    "dfConsumption.head(3)"
   ]
  },
  {
   "cell_type": "markdown",
   "id": "72994b19",
   "metadata": {},
   "source": [
    "### 3. Columnas innecesarias\n",
    "Descubriendo cuáles columnas son innecesarias:\n",
    "- Location (se sustituye por Area).\n",
    "- Flag Codes que son solo nulos.\n",
    "- Frecuencia: que siempre es A de Anual.\n",
    "- Indicador: que siempre es MEATCONSUMP.\n",
    "- Columnas de códigos redundantes como Year Code, Item Code, Element Code, Area Code\n",
    "- Measure: solo vamos a ocupar por toneladas, no kg/cápita, pues el dataset de FAO solo tiene toneladas"
   ]
  },
  {
   "cell_type": "code",
   "execution_count": null,
   "id": "7d5c2975",
   "metadata": {},
   "outputs": [],
   "source": [
    "dfConsumption['Flag Codes'].unique()"
   ]
  },
  {
   "cell_type": "code",
   "execution_count": null,
   "id": "0d43f5f3",
   "metadata": {},
   "outputs": [],
   "source": [
    "dfConsumption['FREQUENCY'].unique()"
   ]
  },
  {
   "cell_type": "code",
   "execution_count": null,
   "id": "6d0e1cba",
   "metadata": {},
   "outputs": [],
   "source": [
    "dfConsumption['INDICATOR'].unique()"
   ]
  },
  {
   "cell_type": "markdown",
   "id": "52b33437",
   "metadata": {},
   "source": [
    "En FAO solo tenemos tonnes, mientras que en OECD tenemos tonnes y kg/cápita"
   ]
  },
  {
   "cell_type": "code",
   "execution_count": null,
   "id": "e2259cb9",
   "metadata": {},
   "outputs": [],
   "source": [
    "dfConsumption['MEASURE'].unique()"
   ]
  },
  {
   "cell_type": "code",
   "execution_count": null,
   "id": "409dce13",
   "metadata": {},
   "outputs": [],
   "source": [
    "dfFao['Unit'].unique()"
   ]
  },
  {
   "cell_type": "code",
   "execution_count": null,
   "id": "2013f1d3",
   "metadata": {},
   "outputs": [],
   "source": [
    "dfConsumption = dfConsumption[dfConsumption['MEASURE']== 'THND_TONNE']\n",
    "dfConsumption.head(3)"
   ]
  },
  {
   "cell_type": "code",
   "execution_count": null,
   "id": "71d21387",
   "metadata": {},
   "outputs": [],
   "source": [
    "dfConsumption = dfConsumption[['Area', 'SUBJECT', 'TIME', 'Value']]\n",
    "dfConsumption.head(3)"
   ]
  },
  {
   "cell_type": "markdown",
   "id": "86500f7a",
   "metadata": {},
   "source": [
    "----\n",
    "\n",
    "## Pasos para limpiar dfFao\n",
    "Este dataset contiene datos de la producción total en toneladas.\n",
    "\n",
    "Para nuestro análisis solo nos interesa la producción, para poder compararla con el consumo (dfConsumption)."
   ]
  },
  {
   "cell_type": "code",
   "execution_count": null,
   "id": "ae4307f2",
   "metadata": {},
   "outputs": [],
   "source": [
    "dfFao.head(5)"
   ]
  },
  {
   "cell_type": "code",
   "execution_count": null,
   "id": "b2b70252",
   "metadata": {},
   "outputs": [],
   "source": [
    "dfFao['Unit'].unique()"
   ]
  },
  {
   "cell_type": "code",
   "execution_count": null,
   "id": "7594adbe",
   "metadata": {},
   "outputs": [],
   "source": [
    "dfFao[dfFao['Value']==None]"
   ]
  },
  {
   "cell_type": "code",
   "execution_count": null,
   "id": "54239368",
   "metadata": {},
   "outputs": [],
   "source": [
    "dfFao = dfFao[['Area', 'Item', 'Year', 'Value']]\n",
    "dfFao.head(3)"
   ]
  },
  {
   "cell_type": "code",
   "execution_count": null,
   "id": "9d449bfb",
   "metadata": {},
   "outputs": [],
   "source": [
    "dfFao = dfFao[dfFao['Value'] != None]\n",
    "dfFao.head(3)"
   ]
  },
  {
   "cell_type": "markdown",
   "id": "9dd939bb",
   "metadata": {},
   "source": [
    "---\n",
    "---\n",
    "\n",
    "# Primeros Gráficos"
   ]
  },
  {
   "cell_type": "code",
   "execution_count": null,
   "id": "45ac0d89",
   "metadata": {},
   "outputs": [],
   "source": [
    "corregirValorEnFao('Meat, cattle', 'BEEF', 'Item')\n",
    "corregirValorEnFao('Meat, chicken', 'POULTRY', 'Item')\n",
    "corregirValorEnFao('Meat, sheep', 'SHEEP', 'Item')\n",
    "corregirValorEnFao('Meat, pig', 'PIG', 'Item')\n"
   ]
  },
  {
   "cell_type": "code",
   "execution_count": null,
   "id": "f65d7e5b",
   "metadata": {},
   "outputs": [],
   "source": [
    "dfFao['Item'].unique()"
   ]
  },
  {
   "cell_type": "code",
   "execution_count": null,
   "id": "db209ad2",
   "metadata": {},
   "outputs": [],
   "source": [
    "dfFao.head(3)"
   ]
  },
  {
   "cell_type": "code",
   "execution_count": null,
   "id": "b3e57963",
   "metadata": {},
   "outputs": [],
   "source": [
    "dfConsumption2.head(3)"
   ]
  },
  {
   "cell_type": "code",
   "execution_count": null,
   "id": "c6bedeac",
   "metadata": {},
   "outputs": [],
   "source": [
    "new_df = pd.merge(dfConsumption.rename(columns={'Value': 'Consumption'}), \n",
    "                  dfFao.rename(columns={'Value': 'Production'}),\n",
    "                  how='inner',\n",
    "                  left_on=['Area','SUBJECT', 'TIME'], right_on = ['Area','Item', 'Year'])\n",
    "new_df = new_df[['Area', 'Item', 'TIME', 'Consumption', 'Production']]\n",
    "\n",
    "#cambiar escala de consumo pues está en miles de toneladas\n",
    "new_df['Consumption'] = new_df['Consumption'] * 1000\n",
    "\n",
    "new_df.head(10)"
   ]
  },
  {
   "cell_type": "code",
   "execution_count": null,
   "id": "154bdba4",
   "metadata": {
    "scrolled": true
   },
   "outputs": [],
   "source": [
    "new_df.describe()"
   ]
  },
  {
   "cell_type": "code",
   "execution_count": null,
   "id": "ad5be7d4",
   "metadata": {},
   "outputs": [],
   "source": [
    "fig, ax = plt.subplots(2, 2, sharex='col')\n",
    "ejes = ax.flatten()\n",
    "tipos = ['BEEF', 'SHEEP', 'PIG', 'POULTRY']\n",
    "\n",
    "fig.set_size_inches(18.5, 10.5)\n",
    "\n",
    "for i in range(4):\n",
    "    new_df.where(new_df['Item']==tipos[i]) \\\n",
    "        .groupby('TIME') \\\n",
    "        .sum() \\\n",
    "        .plot(title=tipos[i], ax=ejes[i])\n",
    "fig.savefig('porTipo.png', dpi=100)"
   ]
  },
  {
   "cell_type": "code",
   "execution_count": null,
   "id": "a32612a6",
   "metadata": {},
   "outputs": [],
   "source": [
    "axe = new_df.where(new_df['TIME']<2020).groupby('TIME').sum().plot(title='Total')\n",
    "axe.get_figure().savefig('total.png', dpi=100)"
   ]
  },
  {
   "cell_type": "code",
   "execution_count": null,
   "id": "ba595fa3",
   "metadata": {},
   "outputs": [],
   "source": [
    "paises = new_df['Area'].unique()\n",
    "print(len(paises))\n",
    "paises"
   ]
  },
  {
   "cell_type": "code",
   "execution_count": null,
   "id": "0cf14654",
   "metadata": {},
   "outputs": [],
   "source": [
    "axe = sns.heatmap(new_df.corr())\n",
    "axe.get_figure().savefig('correlation.png', dpi=100)"
   ]
  },
  {
   "cell_type": "code",
   "execution_count": null,
   "id": "1e7c0db5",
   "metadata": {},
   "outputs": [],
   "source": [
    "new_df.corr()"
   ]
  },
  {
   "cell_type": "code",
   "execution_count": null,
   "id": "c16033aa",
   "metadata": {},
   "outputs": [],
   "source": [
    "new_df.head(3)"
   ]
  },
  {
   "cell_type": "code",
   "execution_count": null,
   "id": "4527bfe6",
   "metadata": {},
   "outputs": [],
   "source": [
    "new_df[\"time+1\"] = (new_df['TIME']+1)\n",
    "new_df.head(3)"
   ]
  },
  {
   "cell_type": "code",
   "execution_count": null,
   "id": "f84add99",
   "metadata": {},
   "outputs": [],
   "source": [
    "df_for_time2 = pd.merge(left=new_df, right=new_df, how='left', \n",
    "         left_on=['Area','Item', 'time+1'], right_on = ['Area','Item', 'TIME'])\n",
    "\n",
    "df_for_time2 = df_for_time2[['Area','Item', 'TIME_x', 'Consumption_x', 'Production_x', 'Consumption_y','Production_y']]\n",
    "df_for_time2 = df_for_time2.rename(columns={'TIME_x': 'Time'})\n",
    "df_for_time2.head(3)"
   ]
  },
  {
   "cell_type": "code",
   "execution_count": null,
   "id": "758539a6",
   "metadata": {},
   "outputs": [],
   "source": [
    "df_for_time2.tail(3)"
   ]
  },
  {
   "cell_type": "code",
   "execution_count": null,
   "id": "b355626f",
   "metadata": {},
   "outputs": [],
   "source": [
    "# Load libraries\n",
    "import pandas as pd\n",
    "from sklearn.tree import DecisionTreeRegressor # Import Decision Tree Classifier\n",
    "from sklearn.model_selection import train_test_split # Import train_test_split function\n",
    "from sklearn import metrics #Import scikit-learn metrics module for accuracy calculation\n",
    "import category_encoders as ce\n"
   ]
  },
  {
   "cell_type": "code",
   "execution_count": null,
   "id": "7cb7b77c",
   "metadata": {},
   "outputs": [],
   "source": [
    "encoder = ce.OneHotEncoder()\n",
    "new_df_enc = encoder.fit_transform(df_for_time2)"
   ]
  },
  {
   "cell_type": "code",
   "execution_count": null,
   "id": "0d678d8a",
   "metadata": {},
   "outputs": [],
   "source": [
    "new_df_enc.columns"
   ]
  },
  {
   "cell_type": "code",
   "execution_count": null,
   "id": "91947371",
   "metadata": {},
   "outputs": [],
   "source": [
    "#Dividir en dataframe en datos de entrenamiento y prueba\n",
    "feature_cols = ['Area_1', 'Area_2', 'Area_3', 'Area_4', 'Area_5', 'Area_6', 'Area_7',\n",
    "       'Area_8', 'Area_9', 'Area_10', 'Area_11', 'Area_12', 'Area_13',\n",
    "       'Area_14', 'Area_15', 'Area_16', 'Area_17', 'Area_18', 'Area_19',\n",
    "       'Area_20', 'Area_21', 'Area_22', 'Area_23', 'Area_24', 'Area_25',\n",
    "       'Area_26', 'Area_27', 'Area_28', 'Area_29', 'Area_30', 'Area_31',\n",
    "       'Area_32', 'Area_33', 'Area_34', 'Area_35', 'Item_1', 'Item_2',\n",
    "       'Item_3', 'Item_4', 'Time', 'Consumption_x']\n",
    "X = new_df_enc[feature_cols] # Features\n",
    "y = new_df_enc.Consumption_y # Target variable"
   ]
  },
  {
   "cell_type": "code",
   "execution_count": null,
   "id": "8e40981a",
   "metadata": {},
   "outputs": [],
   "source": [
    "# Split dataset into training set and test set\n",
    "#X_train, X_test, y_train, y_test = train_test_split(X, y, test_size=0.3, random_state=1) # 70% training and 30% test\n",
    "\n",
    "dfTrain = new_df_enc[new_df_enc.Time < 2019 ]\n",
    "X_train = dfTrain[feature_cols]\n",
    "y_train = dfTrain.Consumption_y\n",
    "\n",
    "dfTest  = new_df_enc[new_df_enc.Time == 2019]\n",
    "X_test = dfTest[feature_cols]\n",
    "y_test = dfTest.Consumption_y"
   ]
  },
  {
   "cell_type": "code",
   "execution_count": null,
   "id": "8e8f0427",
   "metadata": {},
   "outputs": [],
   "source": [
    "# Create Decision Tree classifier object\n",
    "clf = DecisionTreeRegressor()\n",
    "# Train Decision Tree Classifier\n",
    "clf.fit(X_train,y_train)\n",
    "#Predict the response for test dataset\n",
    "y_pred = clf.predict(X_test)\n",
    "\n",
    "df_pred_test=pd.DataFrame({'Actual':y_test, 'Predicted':y_pred})\n",
    "df_pred_test"
   ]
  },
  {
   "cell_type": "code",
   "execution_count": null,
   "id": "26008213",
   "metadata": {},
   "outputs": [],
   "source": [
    "df3 = pd.DataFrame([(1,0,0,0,0,0,0,0,0,0,0,0,0,0,0,0,0,0,0,0,0,0,0,0,0,0,0,0,0,0,0,0,0,0,0,1,0,0,0,2025,0)], \n",
    "                   columns=['Area_1', 'Area_2', 'Area_3', 'Area_4', 'Area_5', 'Area_6', 'Area_7',\n",
    "       'Area_8', 'Area_9', 'Area_10', 'Area_11', 'Area_12', 'Area_13',\n",
    "       'Area_14', 'Area_15', 'Area_16', 'Area_17', 'Area_18', 'Area_19',\n",
    "       'Area_20', 'Area_21', 'Area_22', 'Area_23', 'Area_24', 'Area_25',\n",
    "       'Area_26', 'Area_27', 'Area_28', 'Area_29', 'Area_30', 'Area_31',\n",
    "       'Area_32', 'Area_33', 'Area_34', 'Area_35', 'Item_1', 'Item_2',\n",
    "       'Item_3', 'Item_4', 'Time', 'Consumption_x'])\n",
    "\n",
    "df3\n"
   ]
  },
  {
   "cell_type": "code",
   "execution_count": null,
   "id": "e98aed31",
   "metadata": {},
   "outputs": [],
   "source": [
    "\n",
    "#y_pred = clf.predict(df3)\n",
    "\n",
    "#print(y_pred)"
   ]
  },
  {
   "cell_type": "code",
   "execution_count": null,
   "id": "1948e462",
   "metadata": {},
   "outputs": [],
   "source": [
    "#def convert2matrix(dataset, look_back=1):\n",
    "#    X, Y =[], []\n",
    "#    for i in range(len(dataset)-look_back):\n",
    "#        d=i+look_back  \n",
    "#        X.append(dataset[i:d,0])\n",
    "#        Y.append(dataset[d,0])\n",
    "#    return np.array(X), np.array(Y)"
   ]
  },
  {
   "cell_type": "code",
   "execution_count": null,
   "id": "d2560bc9",
   "metadata": {},
   "outputs": [],
   "source": [
    "def neural_model(look_back, trainX, trainY, epochs, batch_size):\n",
    "    model = Sequential()\n",
    "    model.add(Dense(32, input_dim=look_back, activation='relu'))\n",
    "    model.add(Dense(32, activation='relu'))\n",
    "    model.add(Dense(1))\n",
    "    model.compile(loss='mse', optimizer='adam', metrics=['mae'])\n",
    "    history = model.fit(trainX, trainY, epochs=epochs, batch_size=batch_size, verbose=0, validation_data=(testX,testY), \n",
    "                        callbacks=[EarlyStopping(monitor='val_loss', patience=10)],shuffle=False)\n",
    "    return model, history"
   ]
  },
  {
   "cell_type": "code",
   "execution_count": null,
   "id": "295c9821",
   "metadata": {},
   "outputs": [],
   "source": [
    "def history_model_plot(dataset, look_back, trainPredict, testPredict):\n",
    "    # shift train predictions for plotting\n",
    "    trainPredictPlot = np.empty_like(dataset)\n",
    "    trainPredictPlot[:, :] = np.nan\n",
    "    trainPredictPlot[look_back:len(trainPredict)+look_back, :] = trainPredict\n",
    "    # shift test predictions for plotting\n",
    "    testPredictPlot = np.empty_like(dataset)\n",
    "    testPredictPlot[:, :] = np.nan\n",
    "    testPredictPlot[len(trainPredict)+look_back:len(dataset)-1, :] = testPredict\n",
    "    # plot baseline and predictions\n",
    "    print(dataset.shape)\n",
    "    print(trainPredict.shape)\n",
    "    print(testPredict.shape)\n",
    "    plt.plot(dataset)\n",
    "    plt.plot(trainPredictPlot)\n",
    "    plt.plot(testPredictPlot)\n",
    "    plt.show()"
   ]
  },
  {
   "cell_type": "code",
   "execution_count": null,
   "id": "66e40603",
   "metadata": {},
   "outputs": [],
   "source": [
    "def model_loss(history):\n",
    "    plt.figure(figsize=(8,4))\n",
    "    plt.plot(history.history['loss'], label='Train Loss')\n",
    "    plt.plot(history.history['val_loss'], label='Test Loss')\n",
    "    plt.title('model loss')\n",
    "    plt.ylabel('loss')\n",
    "    plt.xlabel('epochs')\n",
    "    plt.legend(loc='upper right')\n",
    "    plt.show();"
   ]
  },
  {
   "cell_type": "code",
   "execution_count": null,
   "id": "868284ae",
   "metadata": {},
   "outputs": [],
   "source": [
    "def prediction_plot(testY, test_predict, l):\n",
    "    len_prediction=[x for x in range(len(testY))]\n",
    "    plt.figure(figsize=(8,4))\n",
    "    plt.plot(len_prediction, testY[:l], marker='.', label=\"actual\")\n",
    "    plt.plot(len_prediction, test_predict[:l], 'r', label=\"prediction\")\n",
    "    plt.tight_layout()\n",
    "    sns.despine(top=True)\n",
    "    plt.subplots_adjust(left=0.07)\n",
    "    plt.ylabel('Ads Daily Spend', size=15)\n",
    "    plt.xlabel('Time step', size=15)\n",
    "    plt.legend(fontsize=15)\n",
    "    plt.show();"
   ]
  },
  {
   "cell_type": "code",
   "execution_count": null,
   "id": "7e2a6dcf",
   "metadata": {},
   "outputs": [],
   "source": [
    "#train_size = int(len(dataset) * 0.67)\n",
    "#test_size = len(dataset) - train_size\n",
    "#train, test = dataset[0:train_size,:], dataset[train_size:len(dataset),:]\n",
    "\n",
    "#look_back = 1\n",
    "#trainX, trainY = convert2matrix(train, look_back)\n",
    "#testX, testY = convert2matrix(test, look_back)\n",
    "\n",
    "model, history = neural_model(X_train.shape[1], X_train, y_train, 300, 20)"
   ]
  },
  {
   "cell_type": "code",
   "execution_count": null,
   "id": "a1851077",
   "metadata": {},
   "outputs": [],
   "source": [
    "trainScore = model.evaluate(trainX,trainY, verbose=0)\n",
    "print('Train Score: %.2f MSE (%.2f MAE)' % (trainScore[0], trainScore[1]))\n",
    "\n",
    "testScore = model.evaluate(testX, testY, verbose=0)\n",
    "print('Test Score: %.2f MSE (%.2f MAE)' % (trainScore[0], trainScore[1])) "
   ]
  },
  {
   "cell_type": "code",
   "execution_count": null,
   "id": "015f788a",
   "metadata": {},
   "outputs": [],
   "source": [
    "model_loss(history)"
   ]
  },
  {
   "cell_type": "code",
   "execution_count": null,
   "id": "6535f4f4",
   "metadata": {},
   "outputs": [],
   "source": [
    "trainPredict = model.predict(trainX)\n",
    "testPredict = model.predict(testX)"
   ]
  },
  {
   "cell_type": "code",
   "execution_count": null,
   "id": "1ee4c37b",
   "metadata": {},
   "outputs": [],
   "source": [
    "history_model_plot(dataset, look_back, trainPredict, testPredict)"
   ]
  },
  {
   "cell_type": "code",
   "execution_count": null,
   "id": "b6d65818",
   "metadata": {},
   "outputs": [],
   "source": [
    "prediction_plot(testY, testPredict, testY.shape[0])"
   ]
  },
  {
   "cell_type": "code",
   "execution_count": null,
   "id": "e5aa9122",
   "metadata": {},
   "outputs": [],
   "source": [
    "testX"
   ]
  },
  {
   "cell_type": "code",
   "execution_count": null,
   "id": "10176317",
   "metadata": {},
   "outputs": [],
   "source": [
    "testPredict"
   ]
  },
  {
   "cell_type": "code",
   "execution_count": null,
   "id": "9920cb3b",
   "metadata": {},
   "outputs": [],
   "source": [
    "new_df[(new_df['Area']== 'Saudi Arabia') & (new_df['Item']== 'SHEEP') ]\n",
    "\n",
    "new_df[(new_df['Area']== 'Saudi Arabia')]['Item'].unique()"
   ]
  },
  {
   "cell_type": "code",
   "execution_count": null,
   "id": "d3efe346",
   "metadata": {},
   "outputs": [],
   "source": []
  }
 ],
 "metadata": {
  "kernelspec": {
   "display_name": "Python 3 (ipykernel)",
   "language": "python",
   "name": "python3"
  },
  "language_info": {
   "codemirror_mode": {
    "name": "ipython",
    "version": 3
   },
   "file_extension": ".py",
   "mimetype": "text/x-python",
   "name": "python",
   "nbconvert_exporter": "python",
   "pygments_lexer": "ipython3",
   "version": "3.7.10"
  }
 },
 "nbformat": 4,
 "nbformat_minor": 5
}
