{
 "cells": [
  {
   "cell_type": "markdown",
   "metadata": {
    "id": "FYCK8Y-lTb3O"
   },
   "source": [
    "# Proyecto\n",
    "\n",
    "**Big data**\n",
    "\n",
    "Profesor: Luis Alexander Calvo Valverde\n",
    "\n",
    "Instituto Tecnológico de Costa Rica\n",
    "\n",
    "Estudiante: Ernesto Rivera\n"
   ]
  },
  {
   "cell_type": "markdown",
   "metadata": {
    "id": "cXPbCqJLTb3Q"
   },
   "source": [
    "# Datos elegidos\n",
    "\n",
    "## SAFIs: Utilidades y carteras financieras\n",
    "Las Sociedades Administradoras de Fondos de Invesión **SAFIs**, son supervisadas por la Superintendencia General de Valores **SUGEVAL**.\n",
    "\n",
    "Cada entidad supervisada debe presentar **mensualmente** informes sobre la composición de su cartera así como información de balances financieros (ficha financiera).\n",
    "\n",
    "Esta información es compilada y publicada por la SUGEVAL en sus páginas sobre [Carteras](https://aplicaciones.sugeval.fi.cr/InformesEstadisticas/CarterasSAFI) y [Fichas Financieras](https://aplicaciones.sugeval.fi.cr/InformesEstadisticas/SituacionFinancieraSAFI).\n",
    "\n",
    "La información disponible puede ser exportada _manualmente_ en formato xlsx (Microsoft Excel) en dichas páginas.\n",
    "\n",
    "## Archivos de entrada\n",
    "Los archivos están en formato xlsx.  En todos los archivos, que se encuentran en la carpeta `/src/data` dentro del contenedor o dentro de los archivos incluidos en el zip.\n",
    "\n",
    "### 1. Fichas Financieras\n",
    "Son un par de archivos que contienen la información financiera de las SAFIs:\n",
    "- FichaFinanciera_1 desde 01/2017 hasta 12/2019\n",
    "- FichaFinanciera_2 desde 01/2020 hasta 03/2022\n",
    "\n",
    "### 2. Composición de la Cartera\n",
    "La información disponible inicia en 01/2018 hasta 03/2022.  Existe un archivo por cada mes de información en dicho periodo de tiempo.  El nombre de los archivos sigue el formato `CarteraEntidades_YYYYMM.xlsx`, siendo YYYY el año y MM el mes.\n",
    "\n",
    "### Procesamiento\n",
    "Se utiliza la biblioteca de python `openpyxl` para extraer la información de los archivos.  En la sección \"Lectura y Limpieza\" se detalla las columnas y filas que son utilizadas.\n",
    "\n",
    "### Importar bibliotecas de python"
   ]
  },
  {
   "cell_type": "code",
   "execution_count": 1,
   "metadata": {},
   "outputs": [],
   "source": [
    "from datetime import datetime\n",
    "from decimal import Decimal, ConversionSyntax\n",
    "import glob\n",
    "\n",
    "import findspark\n",
    "findspark.init()\n",
    "\n",
    "import pyspark\n",
    "\n",
    "from pyspark.sql import SparkSession\n",
    "from pyspark.sql.types import (StringType, IntegerType, FloatType, DateType,\n",
    "                               DecimalType, StructField, StructType)\n",
    "from pyspark.sql.functions import avg, when, col, isnan, count, add_months, unix_timestamp\n",
    "from pyspark.ml.feature import StandardScaler, StringIndexer, VectorAssembler\n",
    "from pyspark.ml.classification import LogisticRegression\n",
    "from pyspark.ml.evaluation import RegressionEvaluator\n",
    "from pyspark.ml.regression import DecisionTreeRegressor\n",
    "\n",
    "from pyspark.ml.stat import Correlation\n",
    "from pyspark.ml.functions import vector_to_array\n",
    "import seaborn as sns\n",
    "import matplotlib.pyplot as plt\n",
    "\n",
    "import openpyxl"
   ]
  },
  {
   "cell_type": "markdown",
   "metadata": {},
   "source": [
    "## Para cargar los datos en diferentes sistemas operativos\n",
    "\n",
    "Comente o descomente las siguientes líneas dependiendo en cuál sistema operativo tiene docker corriendo."
   ]
  },
  {
   "cell_type": "code",
   "execution_count": 2,
   "metadata": {},
   "outputs": [],
   "source": [
    "# mac o windows\n",
    "database_url = \"jdbc:postgresql://host.docker.internal:5433/postgres\"\n",
    "\n",
    "# linux\n",
    "database_url = \"jdbc:postgresql://172.17.0.1:5433/postgres\""
   ]
  },
  {
   "cell_type": "markdown",
   "metadata": {
    "id": "BvlqRf1PTb3R"
   },
   "source": [
    "____\n",
    "\n",
    "# Lectura y limpieza\n",
    "\n",
    "____\n",
    "\n",
    "## 1. Leer datos de Excel\n",
    "\n",
    "Iniciamos con las funciones para leer los datos de los archivos de Excel.\n",
    "\n",
    "De los archivos de **Ficha Financiera**, solo vamos a leer:\n",
    " - El código de la SAFI, que está en el nombre de la hoja de excel.\n",
    " - El margen de utilidad neta, está en la fila 16.\n",
    " - El mes al que cada margen corresponde.  Los meses están por columnas, en la fila 12.\n",
    " \n",
    "De los archivos de **Cartera de las Entidades**, se van a leer las siguientes columnas:\n",
    " - A=0: Código de cada SAFI.\n",
    " - C=2: Fecha del reporte.\n",
    " - I=8: Tipo de título:\n",
    "    1. Renta fija (deuda)\n",
    "    2. Renta Variable (acciones)\n",
    "    3. Valores de participación fondos cerrados\n",
    "    4. Valores de participación fondos abiertos\n",
    "    5. Fideicomiso de Titularización de deuda\n",
    "    6. Fideicomiso de Titularización de participación\n",
    "    7. Fideicomiso de Titularización valores mixtos\n",
    "    8. Productos Estructurados\n",
    " - O=14: Sector Emisor:\n",
    "    1. Público\n",
    "    2. Privado\n",
    " - P=15: Moneda, como USD o CRC.\n",
    " - U=20: Premio, puntos adicionales que se suman a la tasa de referencia en instrumentos de deuda cuya tasa de cupón está indexada\n",
    " - W=22: Costo, desembolso o pago por la adquisición del título. Está en la moneda de la columna P.\n",
    " - Y=24: Ganancias Pérdidas, monto de las ganancias o pérdidas no realizadas en valoración a precios de mercado, a la fecha de corte  de la cartera.\n",
    " - Z=25: Monto Deterioro.\n",
    " - AA=26: Valor de Mercado, precio de valoración de un título, con base en el precio observado de las transacciones de mercado.\n",
    " - AB=27: Valor de Mercado en colones. Columna AA convertida a colones usando el tipo de cambio de referencia para la fecha del informe.\n",
    "\n",
    "La definición de estas columnas se encuentran más detalladas en el [archivo de glosario](https://www.sugeval.fi.cr/informesmercado/Documents/glosario.docx) provisto por SUGEVAL\n",
    "\n",
    "Las columnas no incluidas en la lista anterior se descartan por diferentes razones:\n",
    " - Nombre de la entidad está directamente relacionada con columna A, el código único de la SAFI.\n",
    " - Fechas del reporte o de compra de la inversión.\n",
    " - Mercado secundario o primario.  Dónde se compró o quién el instrumento es irrelevante.  Lo mismo aplica para el ID de la operación, código y nombre del Emisor.\n",
    " - Nombre del instrumento y código, tampoco se necesita para predecir utilidades.\n",
    " - Valor Facial: la definición de la columna dice que corresponde al valor nominal, sin embargo tenemos el valor del mercado (AA=26). El valor facial se registra cuando se emitió el valor. Como no cuenta depreciación es mejor ignorarlo.\n",
    " - Otras columnas solo aplican para instrumentos de tipo deuda, donde no hay datos o son datos por defecto para otros tipos de instrumentos.\n",
    " - Por último, algunas columnas son acumulados de intereses."
   ]
  },
  {
   "cell_type": "code",
   "execution_count": 3,
   "metadata": {},
   "outputs": [],
   "source": [
    "def leerFichasFinancieras():\n",
    "    lista = []\n",
    "    leerFichaFinanciera('./data/FichaFinanciera_1.xlsx', lista)\n",
    "    leerFichaFinanciera('./data/FichaFinanciera_2.xlsx', lista)\n",
    "    return lista\n",
    "\n",
    "def leerFichaFinanciera(archivo, lista):\n",
    "    wb = openpyxl.load_workbook(archivo)\n",
    "\n",
    "    for i in range(3, len(wb.sheetnames)):\n",
    "        sheetName = wb.sheetnames[i]\n",
    "        sheet = wb[sheetName]\n",
    "        \n",
    "        # inicia en columna 'C', e itera por todas las columnas.\n",
    "        columnaActual = 3\n",
    "        # filas fija\n",
    "        fecha = sheet.cell(12, columnaActual).value\n",
    "        \n",
    "        while fecha:\n",
    "            margenUtilidad = sheet.cell(16, columnaActual).value\n",
    "            \n",
    "            try:\n",
    "                if margenUtilidad:\n",
    "                    lista.append((sheetName,\n",
    "                            datetime.strptime(fecha.strip(), '%Y/%m'),\n",
    "                            float(margenUtilidad)))\n",
    "            except BaseException as valueError:\n",
    "                print('Error en', archivo, sheetName, columnaActual, margenUtilidad, valueError)\n",
    "            \n",
    "            columnaActual += 1\n",
    "            fecha = sheet.cell(12, columnaActual).value\n",
    "        \n",
    "    wb.close()\n",
    "    return lista\n",
    "\n",
    "\n",
    "def leerCartera(archivo):\n",
    "    wb = openpyxl.load_workbook(archivo)\n",
    "    sheet = wb.active\n",
    "    \n",
    "    lista = []\n",
    "    \n",
    "    # guarda solo algunas columnas de interés\n",
    "    columnas = [0, 2, 8, 14, 15, 20, 22, 24, 25, 26, 27]\n",
    "    for fila in sheet.iter_rows(min_row=12):\n",
    "        valoresFila = []\n",
    "        for columna in columnas:\n",
    "            if columna == 2: # fecha\n",
    "                # todos queden en el 1o del mes\n",
    "                valor = fila[columna].value.replace(day=1)\n",
    "            elif 20 <= columna: #columnas de monedas\n",
    "                valor = Decimal(fila[columna].value)\n",
    "            else:\n",
    "                valor = fila[columna].value\n",
    "            valoresFila.append(valor)\n",
    "\n",
    "        lista.append(tuple(valoresFila))\n",
    "    wb.close()\n",
    "    return lista\n"
   ]
  },
  {
   "cell_type": "markdown",
   "metadata": {},
   "source": [
    "## 2. Crear sesión de Spark y carga de datos\n",
    "El resultado final debe ser un par de DataFrames de Spark con toda la información leída de los archivos."
   ]
  },
  {
   "cell_type": "code",
   "execution_count": 4,
   "metadata": {},
   "outputs": [
    {
     "name": "stderr",
     "output_type": "stream",
     "text": [
      "WARNING: An illegal reflective access operation has occurred\n",
      "WARNING: Illegal reflective access by org.apache.spark.unsafe.Platform (file:/usr/lib/python3.7/site-packages/pyspark/jars/spark-unsafe_2.12-3.2.1.jar) to constructor java.nio.DirectByteBuffer(long,int)\n",
      "WARNING: Please consider reporting this to the maintainers of org.apache.spark.unsafe.Platform\n",
      "WARNING: Use --illegal-access=warn to enable warnings of further illegal reflective access operations\n",
      "WARNING: All illegal access operations will be denied in a future release\n",
      "Using Spark's default log4j profile: org/apache/spark/log4j-defaults.properties\n",
      "Setting default log level to \"WARN\".\n",
      "To adjust logging level use sc.setLogLevel(newLevel). For SparkR, use setLogLevel(newLevel).\n",
      "22/05/12 05:23:26 WARN NativeCodeLoader: Unable to load native-hadoop library for your platform... using builtin-java classes where applicable\n"
     ]
    }
   ],
   "source": [
    "spark = SparkSession \\\n",
    "    .builder \\\n",
    "    .appName(\"Basic JDBC pipeline\") \\\n",
    "    .config(\"spark.driver.extraClassPath\", \"postgresql-42.2.14.jar\") \\\n",
    "    .config(\"spark.executor.extraClassPath\", \"postgresql-42.2.14.jar\") \\\n",
    "    .getOrCreate()"
   ]
  },
  {
   "cell_type": "code",
   "execution_count": 5,
   "metadata": {},
   "outputs": [
    {
     "name": "stdout",
     "output_type": "stream",
     "text": [
      "root\n",
      " |-- cod: string (nullable = true)\n",
      " |-- mes: date (nullable = true)\n",
      " |-- utilidad: float (nullable = true)\n",
      "\n",
      "root\n",
      " |-- cod: string (nullable = true)\n",
      " |-- mes: date (nullable = true)\n",
      " |-- tipoTitulo: integer (nullable = true)\n",
      " |-- sector: integer (nullable = true)\n",
      " |-- moneda: string (nullable = true)\n",
      " |-- premio: decimal(12,2) (nullable = true)\n",
      " |-- costo: decimal(12,2) (nullable = true)\n",
      " |-- ganacias: decimal(12,2) (nullable = true)\n",
      " |-- montoDeterioro: decimal(12,2) (nullable = true)\n",
      " |-- valorMercado: decimal(12,2) (nullable = true)\n",
      " |-- valorMercadoCol: decimal(12,2) (nullable = true)\n",
      "\n"
     ]
    }
   ],
   "source": [
    "def crearDfFichaFinanciera(infoFichaFinanciera):\n",
    "    schema = StructType([\n",
    "                StructField(\"cod\", StringType()),\n",
    "                StructField(\"mes\", DateType()),\n",
    "                StructField(\"utilidad\", FloatType())\n",
    "        ])\n",
    "    return spark.createDataFrame(data=infoFichaFinanciera, schema=schema)\n",
    "\n",
    "def crearDfCartera(infoCartera):\n",
    "    schema = StructType([\n",
    "                StructField(\"cod\", StringType()),\n",
    "                StructField(\"mes\", DateType()),\n",
    "                StructField(\"tipoTitulo\", IntegerType()),\n",
    "                StructField(\"sector\", IntegerType()),\n",
    "                StructField(\"moneda\", StringType()),\n",
    "                StructField(\"premio\", DecimalType(12, 2)),\n",
    "                StructField(\"costo\", DecimalType(12, 2)),\n",
    "                StructField(\"ganacias\", DecimalType(12, 2)),\n",
    "                StructField(\"montoDeterioro\", DecimalType(12, 2)),\n",
    "                StructField(\"valorMercado\", DecimalType(12, 2)),\n",
    "                StructField(\"valorMercadoCol\", DecimalType(12, 2))\n",
    "        ])\n",
    "    return spark.createDataFrame(data=infoCartera, schema=schema)\n",
    "\n",
    "\n",
    "def leerCarteras():\n",
    "    # DF vacío\n",
    "    cartera_df = crearDfCartera([])\n",
    "    \n",
    "    for archivo in glob.glob(\"/src/data/CarteraEntidades*.xlsx\"):\n",
    "        cartera = leerCartera(archivo)\n",
    "        unaCartera_df = crearDfCartera(cartera)\n",
    "        cartera_df = cartera_df.union(unaCartera_df)\n",
    "    \n",
    "    return cartera_df\n",
    "\n",
    "margenUtilidad_df = crearDfFichaFinanciera(leerFichasFinancieras())\n",
    "margenUtilidad_df.printSchema()\n",
    "\n",
    "cartera_df = leerCarteras()\n",
    "cartera_df.printSchema()"
   ]
  },
  {
   "cell_type": "markdown",
   "metadata": {},
   "source": [
    "## 3. Limpieza de datos\n",
    "\n",
    "Comprobaciones realizadas:\n",
    "- Todas las entidades están reportadas en ambos datasets.\n",
    "- Todas las entidades recabadas en el DF de **Fichas Financieras** contienen 63 meses de información de utilidades.\n",
    "- No existen valores nulos en los datasets.\n",
    "- Se analizó las columnas _montoDeterioro_ y _premio_ por tener muchos ceros. Pero decidí no quitarlas antes de analizar resultados.\n",
    "\n",
    "Existe una SAFI _GLSAFI_ que aparece con únicamente indicador de liquidez para los últimos dos meses.  Sin embargo, el proceso de lectura lo descartó por no tener datos de utilidades.  Esta entidad tampoco aparece en los archivos de composición de cartera.\n",
    "\n",
    "Limpiezas realizadas:\n",
    "- El reporte de utilidad utiliza el primer día del mes, el reporte de cartera el último. Se elimina el día del mes del de cartera.  Este proceso se hizo durante la lectura de los archivos excel."
   ]
  },
  {
   "cell_type": "code",
   "execution_count": 6,
   "metadata": {},
   "outputs": [
    {
     "name": "stderr",
     "output_type": "stream",
     "text": [
      "\r",
      "[Stage 0:>                                                          (0 + 1) / 1]\r",
      "\r",
      "                                                                                \r"
     ]
    },
    {
     "name": "stdout",
     "output_type": "stream",
     "text": [
      "+---------+----------+------------+\n",
      "|      cod|       mes|    utilidad|\n",
      "+---------+----------+------------+\n",
      "|ALDESASFI|2017-01-01| 0.038032033|\n",
      "|ALDESASFI|2017-02-01|0.0045298934|\n",
      "|ALDESASFI|2017-03-01| 0.028659383|\n",
      "|ALDESASFI|2017-04-01| 0.082937166|\n",
      "|ALDESASFI|2017-05-01| 0.037380174|\n",
      "+---------+----------+------------+\n",
      "only showing top 5 rows\n",
      "\n",
      "+---------+----------+----------+------+------+------+------------+----------+--------------+------------+---------------+\n",
      "|      cod|       mes|tipoTitulo|sector|moneda|premio|       costo|  ganacias|montoDeterioro|valorMercado|valorMercadoCol|\n",
      "+---------+----------+----------+------+------+------+------------+----------+--------------+------------+---------------+\n",
      "|ALDESASFI|2020-01-01|         4|     2|   USD|  0.00|    10421.84|   1478.33|          0.00|    11900.17|     6823081.47|\n",
      "|ALDESASFI|2020-01-01|         1|     1|   USD|  0.00|   116020.64|   4179.33|          0.00|   122070.76|    69990490.95|\n",
      "|ALDESASFI|2020-01-01|         2|     2|   USD|  0.00|   130283.57| -29033.57|          0.00|   101250.00|    58052700.00|\n",
      "|ALDESASFI|2020-01-01|         2|     2|   USD|  0.00|    81900.00|      0.00|          0.00|    81900.00|    46958184.00|\n",
      "|ALDESASFI|2020-01-01|         1|     1|   CRC|  0.00|151542183.83|5187900.22|          0.00|156034500.00|   156034500.00|\n",
      "+---------+----------+----------+------+------+------+------------+----------+--------------+------------+---------------+\n",
      "only showing top 5 rows\n",
      "\n"
     ]
    }
   ],
   "source": [
    "margenUtilidad_df.show(5)\n",
    "cartera_df.show(5)"
   ]
  },
  {
   "cell_type": "code",
   "execution_count": 7,
   "metadata": {},
   "outputs": [
    {
     "name": "stderr",
     "output_type": "stream",
     "text": [
      "                                                                                \r"
     ]
    },
    {
     "data": {
      "text/plain": [
       "'Son iguales'"
      ]
     },
     "execution_count": 7,
     "metadata": {},
     "output_type": "execute_result"
    }
   ],
   "source": [
    "# ambos datasets tienen los mismos códigos de SAFIs\n",
    "\"Son iguales\" if cartera_df.select('cod').distinct().orderBy('cod').collect() == \\\n",
    "    margenUtilidad_df.select('cod').distinct().orderBy('cod').collect() else \"uuups\""
   ]
  },
  {
   "cell_type": "code",
   "execution_count": 8,
   "metadata": {
    "id": "pBbCLAzXTb3S",
    "outputId": "0bf8d265-bd7c-40ee-e9cd-c5c01cbf30b7",
    "scrolled": false
   },
   "outputs": [
    {
     "name": "stdout",
     "output_type": "stream",
     "text": [
      "+---------------+-----+\n",
      "|            cod|count|\n",
      "+---------------+-----+\n",
      "|      ALDESASFI|   63|\n",
      "|         BCRSFI|   63|\n",
      "|         BCTSFI|   63|\n",
      "|          BNSFI|   63|\n",
      "|   GIBRALTARSFI|   63|\n",
      "|INSBANCREDITSFI|   63|\n",
      "|    INTERFINSFI|   63|\n",
      "| MULTIFONDOSSFI|   63|\n",
      "|      MUTUALSFI|   63|\n",
      "|     POPULARSFI|   63|\n",
      "|      PRIVALSFI|   63|\n",
      "|        SAMASFI|   63|\n",
      "|  SANJOSEVALSFI|   63|\n",
      "|       VISTASFI|   63|\n",
      "+---------------+-----+\n",
      "\n"
     ]
    }
   ],
   "source": [
    "# todos los SAFIs tienen exactamente la misma cantidad de información\n",
    "# (los mismos meses de información)\n",
    "margenUtilidad_df.groupBy('cod').agg(count('utilidad').alias('count')).orderBy('cod').show()"
   ]
  },
  {
   "cell_type": "code",
   "execution_count": 9,
   "metadata": {},
   "outputs": [
    {
     "name": "stdout",
     "output_type": "stream",
     "text": [
      "+---+---+--------+\n",
      "|cod|mes|utilidad|\n",
      "+---+---+--------+\n",
      "|  0|  0|       0|\n",
      "+---+---+--------+\n",
      "\n"
     ]
    },
    {
     "name": "stderr",
     "output_type": "stream",
     "text": [
      "[Stage 26:=====================================================>(333 + 3) / 336]\r"
     ]
    },
    {
     "name": "stdout",
     "output_type": "stream",
     "text": [
      "+---+---+----------+------+------+------+-----+--------+--------------+------------+---------------+\n",
      "|cod|mes|tipoTitulo|sector|moneda|premio|costo|ganacias|montoDeterioro|valorMercado|valorMercadoCol|\n",
      "+---+---+----------+------+------+------+-----+--------+--------------+------------+---------------+\n",
      "|  0|  0|         0|     0|     0|     0|    0|       0|             0|           0|              0|\n",
      "+---+---+----------+------+------+------+-----+--------+--------------+------------+---------------+\n",
      "\n"
     ]
    },
    {
     "name": "stderr",
     "output_type": "stream",
     "text": [
      "\r",
      "                                                                                \r"
     ]
    },
    {
     "data": {
      "text/plain": [
       "DataFrame[cod: bigint, mes: bigint, tipoTitulo: bigint, sector: bigint, moneda: bigint, premio: bigint, costo: bigint, ganacias: bigint, montoDeterioro: bigint, valorMercado: bigint, valorMercadoCol: bigint]"
      ]
     },
     "execution_count": 9,
     "metadata": {},
     "output_type": "execute_result"
    }
   ],
   "source": [
    "def contarNulos(df):\n",
    "    df2 = df.select([count(when(col(c).isNull(), c)).alias(c) for c in df.columns])\n",
    "    df2.show()\n",
    "    return df2\n",
    "\n",
    "contarNulos(margenUtilidad_df)\n",
    "contarNulos(cartera_df)"
   ]
  },
  {
   "cell_type": "code",
   "execution_count": 10,
   "metadata": {},
   "outputs": [
    {
     "name": "stderr",
     "output_type": "stream",
     "text": [
      "[Stage 29:===========================================>         (278 + 12) / 336]\r"
     ]
    },
    {
     "name": "stdout",
     "output_type": "stream",
     "text": [
      "+--------------+-----+\n",
      "|montoDeterioro|count|\n",
      "+--------------+-----+\n",
      "|          0.00| 6701|\n",
      "|         -1.22|    2|\n",
      "|      -2066.29|    2|\n",
      "|      -5418.92|    2|\n",
      "|      -6441.91|    2|\n",
      "|         -1.78|    2|\n",
      "|         -1.90|    2|\n",
      "|      -1363.20|    2|\n",
      "|      -1218.54|    1|\n",
      "|       -332.33|    1|\n",
      "|      -4722.36|    1|\n",
      "|      -6444.02|    1|\n",
      "|       -918.07|    1|\n",
      "|       -490.63|    1|\n",
      "|      -2360.21|    1|\n",
      "+--------------+-----+\n",
      "only showing top 15 rows\n",
      "\n"
     ]
    },
    {
     "name": "stderr",
     "output_type": "stream",
     "text": [
      "\r",
      "[Stage 29:==================================================>  (320 + 12) / 336]\r",
      "\r",
      "                                                                                \r"
     ]
    }
   ],
   "source": [
    "# diferentes valores en montoDeterioro\n",
    "cartera_df.groupBy('montoDeterioro').agg(count('montoDeterioro').alias('count')).orderBy(col('count').desc()).show(15)"
   ]
  },
  {
   "cell_type": "code",
   "execution_count": 11,
   "metadata": {},
   "outputs": [
    {
     "name": "stderr",
     "output_type": "stream",
     "text": [
      "[Stage 32:============================================>        (280 + 12) / 336]\r"
     ]
    },
    {
     "name": "stdout",
     "output_type": "stream",
     "text": [
      "+------+-----+\n",
      "|premio|count|\n",
      "+------+-----+\n",
      "|  0.00| 7210|\n",
      "|  2.00|  113|\n",
      "|  4.79|    1|\n",
      "|  4.22|    1|\n",
      "+------+-----+\n",
      "\n"
     ]
    },
    {
     "name": "stderr",
     "output_type": "stream",
     "text": [
      "\r",
      "[Stage 32:=====================================================>(334 + 2) / 336]\r",
      "\r",
      "                                                                                \r"
     ]
    }
   ],
   "source": [
    "# diferentes valores en 'premio'\n",
    "cartera_df.groupBy('premio').agg(count('premio').alias('count')).orderBy(col('count').desc()).show(15)"
   ]
  },
  {
   "cell_type": "code",
   "execution_count": 12,
   "metadata": {},
   "outputs": [],
   "source": [
    "cartera_df = cartera_df.select('cod','mes','tipoTitulo','sector',\n",
    "                               'moneda','premio',\n",
    "                               'costo','ganacias','montoDeterioro',\n",
    "                               'valorMercado','valorMercadoCol')"
   ]
  },
  {
   "cell_type": "markdown",
   "metadata": {},
   "source": [
    "## 4. Features textual a códigos numéricos\n",
    "Esta transformación solo aplica para el dataframe de Cartera de Inversiones."
   ]
  },
  {
   "cell_type": "code",
   "execution_count": 13,
   "metadata": {},
   "outputs": [
    {
     "name": "stderr",
     "output_type": "stream",
     "text": [
      "                                                                                \r"
     ]
    },
    {
     "name": "stdout",
     "output_type": "stream",
     "text": [
      "+-------------+----+------+--------+\n",
      "|          cod|cod2|moneda|moneda_2|\n",
      "+-------------+----+------+--------+\n",
      "|    ALDESASFI|13.0|   USD|     1.0|\n",
      "|    ALDESASFI|13.0|   USD|     1.0|\n",
      "|    ALDESASFI|13.0|   USD|     1.0|\n",
      "|    ALDESASFI|13.0|   USD|     1.0|\n",
      "|    ALDESASFI|13.0|   CRC|     0.0|\n",
      "|SANJOSEVALSFI| 5.0|   CRC|     0.0|\n",
      "|SANJOSEVALSFI| 5.0|   CRC|     0.0|\n",
      "|SANJOSEVALSFI| 5.0|   CRC|     0.0|\n",
      "|SANJOSEVALSFI| 5.0|   USD|     1.0|\n",
      "|SANJOSEVALSFI| 5.0|   USD|     1.0|\n",
      "+-------------+----+------+--------+\n",
      "only showing top 10 rows\n",
      "\n"
     ]
    }
   ],
   "source": [
    "def deTextACodigos(df):\n",
    "    label_stringIdx = StringIndexer(inputCols = ['cod', 'moneda'], outputCols = ['cod2', 'moneda_2'])\n",
    "    model = label_stringIdx.fit(df)\n",
    "    indexadas = model.transform(df)\n",
    "    return indexadas\n",
    "\n",
    "cartera_df = deTextACodigos(cartera_df)\n",
    "cartera_df.select(['cod', 'cod2','moneda', 'moneda_2']).show(10)"
   ]
  },
  {
   "cell_type": "markdown",
   "metadata": {},
   "source": [
    "## 5. Todos los montos monetarios convertidos a colones\n",
    "\n",
    "El tipo de cambio se pone en una nueva columna.  Con él, se calculan el resto de campos a colones.\n",
    "\n",
    "Esta transformación solo aplica para el dataframe de Cartera de Inversiones."
   ]
  },
  {
   "cell_type": "code",
   "execution_count": 14,
   "metadata": {},
   "outputs": [
    {
     "name": "stdout",
     "output_type": "stream",
     "text": [
      "+----------+------+------+---------+------------+------------+\n",
      "|tipoCambio|moneda|premio|premioCol|       costo|    costoCol|\n",
      "+----------+------+------+---------+------------+------------+\n",
      "|    573.36|   USD|  0.00|     0.00|    10421.84|  5975466.18|\n",
      "|    573.36|   USD|  0.00|     0.00|   116020.64| 66521594.15|\n",
      "|    573.36|   USD|  0.00|     0.00|   130283.57| 74699387.70|\n",
      "|    573.36|   USD|  0.00|     0.00|    81900.00| 46958184.00|\n",
      "|      1.00|   CRC|  0.00|     0.00|151542183.83|151542183.83|\n",
      "|      1.00|   CRC|  0.00|     0.00| 84937886.60| 84937886.60|\n",
      "|      1.00|   CRC|  0.00|     0.00| 41290223.78| 41290223.78|\n",
      "|      1.00|   CRC|  0.00|     0.00| 92245939.67| 92245939.67|\n",
      "|    573.36|   USD|  0.00|     0.00|   130193.09| 74647510.08|\n",
      "|    573.36|   USD|  0.00|     0.00|   767746.82|440195316.72|\n",
      "+----------+------+------+---------+------------+------------+\n",
      "only showing top 10 rows\n",
      "\n",
      "root\n",
      " |-- cod: string (nullable = true)\n",
      " |-- mes: date (nullable = true)\n",
      " |-- tipoTitulo: integer (nullable = true)\n",
      " |-- sector: integer (nullable = true)\n",
      " |-- moneda: string (nullable = true)\n",
      " |-- premio: decimal(12,2) (nullable = true)\n",
      " |-- costo: decimal(12,2) (nullable = true)\n",
      " |-- ganacias: decimal(12,2) (nullable = true)\n",
      " |-- montoDeterioro: decimal(12,2) (nullable = true)\n",
      " |-- valorMercado: decimal(12,2) (nullable = true)\n",
      " |-- valorMercadoCol: decimal(12,2) (nullable = true)\n",
      " |-- cod2: double (nullable = false)\n",
      " |-- moneda_2: double (nullable = false)\n",
      " |-- tipoCambio: decimal(12,2) (nullable = true)\n",
      " |-- premioCol: decimal(12,2) (nullable = true)\n",
      " |-- costoCol: decimal(12,2) (nullable = true)\n",
      " |-- ganaciasCol: decimal(12,2) (nullable = true)\n",
      " |-- montoDeterioroCol: decimal(12,2) (nullable = true)\n",
      "\n"
     ]
    }
   ],
   "source": [
    "def calcularColones(df):\n",
    "    conColones = df \\\n",
    "        .withColumn('tipoCambio', (col('valorMercadoCol') / col('valorMercado')).cast(DecimalType(12,2))) \\\n",
    "        .withColumn('premioCol', (col('premio') * col('tipoCambio')).cast(DecimalType(12,2))) \\\n",
    "        .withColumn('costoCol', (col('costo') * col('tipoCambio')).cast(DecimalType(12,2))) \\\n",
    "        .withColumn('ganaciasCol', (col('ganacias') * col('tipoCambio')).cast(DecimalType(12,2))) \\\n",
    "        .withColumn('montoDeterioroCol', (col('montoDeterioro') * col('tipoCambio')).cast(DecimalType(12,2)))\n",
    "    return conColones\n",
    "\n",
    "cartera_tipoDeCambio_df = calcularColones(cartera_df)\n",
    "cartera_tipoDeCambio_df.select(['tipoCambio', 'moneda', 'premio','premioCol', 'costo', 'costoCol']).show(10)\n",
    "cartera_tipoDeCambio_df.printSchema()"
   ]
  },
  {
   "cell_type": "markdown",
   "metadata": {},
   "source": [
    "## 6. Pegar t con t+1 en preparación para analizar como serie de tiempo\n",
    "Como resultado de este proceso, la cantidad de registros disminuye en 14 pues son 14 las SAFIs.\n",
    "\n",
    "La columna 'label' es el _target_ a predecir"
   ]
  },
  {
   "cell_type": "code",
   "execution_count": 15,
   "metadata": {},
   "outputs": [
    {
     "name": "stdout",
     "output_type": "stream",
     "text": [
      "Previo:\n",
      "cantidad inicial 882\n",
      "+---------+----------+------------+\n",
      "|      cod|       mes|    utilidad|\n",
      "+---------+----------+------------+\n",
      "|ALDESASFI|2017-01-01| 0.038032033|\n",
      "|ALDESASFI|2017-02-01|0.0045298934|\n",
      "|ALDESASFI|2017-03-01| 0.028659383|\n",
      "|ALDESASFI|2017-04-01| 0.082937166|\n",
      "|ALDESASFI|2017-05-01| 0.037380174|\n",
      "+---------+----------+------------+\n",
      "only showing top 5 rows\n",
      "\n",
      "\n",
      "Después:\n",
      "+---------+----------+----------+------------+------------+\n",
      "|      cod|       mes|   sig_mes|    utilidad|       label|\n",
      "+---------+----------+----------+------------+------------+\n",
      "|ALDESASFI|2017-01-01|2017-02-01| 0.038032033|0.0045298934|\n",
      "|ALDESASFI|2017-02-01|2017-03-01|0.0045298934| 0.028659383|\n",
      "|ALDESASFI|2017-03-01|2017-04-01| 0.028659383| 0.082937166|\n",
      "|ALDESASFI|2017-04-01|2017-05-01| 0.082937166| 0.037380174|\n",
      "+---------+----------+----------+------------+------------+\n",
      "only showing top 4 rows\n",
      "\n",
      "cantidad final 868\n"
     ]
    }
   ],
   "source": [
    "def margenUtilidadSiguienteMes(df):\n",
    "    df1 = df.select(['cod','mes',add_months(col('mes'), 1).alias('sig_mes'),'utilidad']).alias('a')\n",
    "    df2 = df.alias('b')\n",
    "    result = df2 \\\n",
    "        .join(df1, [col('a.cod') == col('b.cod'), col('a.sig_mes') == col('b.mes')], 'inner') \\\n",
    "        .select('a.cod', 'a.mes', 'a.sig_mes', 'a.utilidad', col('b.utilidad').alias('label'))\n",
    "    return result\n",
    "\n",
    "print('Previo:')\n",
    "print('cantidad inicial', margenUtilidad_df.count())\n",
    "margenUtilidad_df.show(5)\n",
    "print()\n",
    "\n",
    "print('Después:')\n",
    "margenUtilidadSiguiente_df = margenUtilidadSiguienteMes(margenUtilidad_df)\n",
    "margenUtilidadSiguiente_df.filter(col('cod') == 'ALDESASFI').orderBy(col('mes').asc()).show(4)\n",
    "print('cantidad final', margenUtilidadSiguiente_df.count())"
   ]
  },
  {
   "cell_type": "markdown",
   "metadata": {},
   "source": [
    "## 7. Pegar ambos datasets"
   ]
  },
  {
   "cell_type": "code",
   "execution_count": 16,
   "metadata": {},
   "outputs": [
    {
     "name": "stderr",
     "output_type": "stream",
     "text": [
      "                                                                                \r"
     ]
    },
    {
     "name": "stdout",
     "output_type": "stream",
     "text": [
      "+---------+----------+----+----------+------+--------+---------------+---------+------------+------------+-----------------+------------+-----------+\n",
      "|      cod|       mes|cod2|tipoTitulo|sector|moneda_2|valorMercadoCol|premioCol|    costoCol| ganaciasCol|montoDeterioroCol|    utilidad|      label|\n",
      "+---------+----------+----+----------+------+--------+---------------+---------+------------+------------+-----------------+------------+-----------+\n",
      "|ALDESASFI|2020-02-01|13.0|         1|     1|     0.0|   155275500.00|     0.00|151542183.83|  4437011.23|             0.00| -0.11803949| 0.03091708|\n",
      "|ALDESASFI|2020-02-01|13.0|         2|     2|     1.0|    46873827.00|     0.00| 46873827.00|        0.00|             0.00| -0.11803949| 0.03091708|\n",
      "|ALDESASFI|2020-02-01|13.0|         2|     2|     1.0|    57948412.50|     0.00| 74565195.62|-16616783.12|             0.00| -0.11803949| 0.03091708|\n",
      "|ALDESASFI|2020-02-01|13.0|         1|     1|     1.0|    68776896.10|     0.00| 66402092.89|  1271562.73|             0.00| -0.11803949| 0.03091708|\n",
      "|ALDESASFI|2020-02-01|13.0|         4|     2|     1.0|     6818241.69|     0.00|  5964731.69|   853510.01|             0.00| -0.11803949| 0.03091708|\n",
      "|ALDESASFI|2020-06-01|13.0|         1|     1|     0.0|   149949000.00|     0.00|151542183.83|  -855366.59|             0.00|-0.041831836|-0.06832044|\n",
      "|ALDESASFI|2020-06-01|13.0|         2|     2|     1.0|    47787831.00|     0.00| 47787831.00|        0.00|             0.00|-0.041831836|-0.06832044|\n",
      "|ALDESASFI|2020-06-01|13.0|         2|     2|     1.0|    59078362.50|     0.00| 76019160.26|-16940797.76|             0.00|-0.041831836|-0.06832044|\n",
      "+---------+----------+----+----------+------+--------+---------------+---------+------------+------------+-----------------+------------+-----------+\n",
      "only showing top 8 rows\n",
      "\n"
     ]
    }
   ],
   "source": [
    "def unirParaAnalizar(cartera_df, utilidades_df):\n",
    "    dfc = cartera_df.alias('c')\n",
    "    dfu = utilidades_df.alias('u')\n",
    "    \n",
    "    return dfc \\\n",
    "        .join(dfu, [col('c.cod') == col('u.cod'), col('c.mes') == col('u.mes')], 'inner') \\\n",
    "        .select('c.cod', 'c.mes', 'c.cod2', 'tipoTitulo', 'sector', 'moneda_2', \n",
    "                'valorMercadoCol', 'premioCol', 'costoCol',\n",
    "                'ganaciasCol', 'montoDeterioroCol',\n",
    "                'u.utilidad', 'u.label')\n",
    "\n",
    "joint_df = unirParaAnalizar(cartera_tipoDeCambio_df, margenUtilidadSiguiente_df)\n",
    "joint_df.show(8)"
   ]
  },
  {
   "cell_type": "markdown",
   "metadata": {},
   "source": [
    "____\n",
    "\n",
    "# Guardar en Postgres\n",
    "\n",
    "____\n",
    "\n",
    "## 1. Gardar los datos\n"
   ]
  },
  {
   "cell_type": "code",
   "execution_count": 17,
   "metadata": {},
   "outputs": [
    {
     "name": "stderr",
     "output_type": "stream",
     "text": [
      "                                                                                \r"
     ]
    }
   ],
   "source": [
    "def salvarDb(df, nombreTabla):\n",
    "    df\\\n",
    "    .write \\\n",
    "    .format(\"jdbc\") \\\n",
    "    .mode(\"overwrite\") \\\n",
    "    .option(\"url\", database_url) \\\n",
    "    .option(\"user\", \"postgres\") \\\n",
    "    .option(\"password\", \"testPassword\") \\\n",
    "    .option(\"dbtable\", nombreTabla) \\\n",
    "    .save()\n",
    "\n",
    "salvarDb(cartera_tipoDeCambio_df, 'cartera')\n",
    "salvarDb(margenUtilidadSiguiente_df, 'utilidades')\n",
    "salvarDb(joint_df, 'infoSafi')"
   ]
  },
  {
   "cell_type": "markdown",
   "metadata": {},
   "source": [
    "### Esquema de las tablas resultantes\n",
    "\n",
    "Esquema de **infoSafi** (tabla unida)\n",
    "\n",
    "|    Columna        |   Tipo de dato   | Precisión | Definición |\n",
    "|:------------------|:-----------------|----:|:--|\n",
    "| cod               | text             ||Código de la SAFI en letras|\n",
    "| cod2              | double precision ||código de la SAFI en numérico|\n",
    "| mes               | date             ||mes de la lectura|\n",
    "| tipoTitulo        | integer          |          0|Tipo de título\n",
    "| sector            | integer          |          0|Sector privado o público\n",
    "| moneda_2          | double precision ||Código de la moneda en numérico\n",
    "| valorMercadoCol   | numeric          |          2|Valor del título en colones\n",
    "| premioCol         | numeric          |          2|Premio en colones\n",
    "| costoCol          | numeric          |          2|Costo del título en colones\n",
    "| ganaciasCol       | numeric          |          2|Ganancias en colones\n",
    "| montoDeterioroCol | numeric          |          2|Deterioro en colones\n",
    "| utilidad          | real             ||Utilidad reportada para el mes\n",
    "| label             | real             ||columna target, corresponde a la utilidad del siguiente mes\n",
    "\n",
    "\n",
    "Esquema de **utilidades**\n",
    "\n",
    "|    Columna        |   Tipo de dato   | Precisión | Definición |\n",
    "|:------------------|:-----------------|----:|:--|\n",
    "| cod               | text             ||Código de la SAFI en letras|\n",
    "| mes               | date             ||mes de la lectura|\n",
    "| sig_mes           | date             ||mes siguiente a la lectura|\n",
    "| utilidad          | real             ||Utilidad reportada para el mes\n",
    "| label             | real             ||columna target, corresponde a la utilidad del siguiente mes\n",
    "\n",
    "Esquema de **utilidades**\n",
    "\n",
    "|    Columna        |   Tipo de dato   | Precisión | Definición |\n",
    "|:------------------|:-----------------|----:|:--|\n",
    "| cod               | text             ||Código de la SAFI en letras|\n",
    "| cod2              | double precision ||código de la SAFI en numérico|\n",
    "| mes               | date             ||mes de la lectura|\n",
    "| moneda            | text             ||Código de la moneda en letras\n",
    "| moneda_2          | double precision ||Código de la moneda en numérico\n",
    "| tipoCambio        | numeric          |          2|Valor del dólar expresado en colones\n",
    "| montoDeterioroCol | numeric          |          2|Deterioro, en colones\n",
    "| tipoTitulo        | integer          |          0|Tipo de título\n",
    "| sector            | integer          |          0|Sector privado o público\n",
    "| premio            | numeric          |          2|Premio, en moneda original\n",
    "| costo             | numeric          |          2|Costo, en moneda original\n",
    "| ganacias          | numeric          |          2|Ganancias, en moneda original\n",
    "| montoDeterioro    | numeric          |          2|Deterior, en moneda original\n",
    "| valorMercado      | numeric          |          2|Valor del título, en moneda original\n",
    "| valorMercadoCol   | numeric          |          2|Valor del título en colones\n",
    "| premioCol         | numeric          |          2|Premio, en colones\n",
    "| costoCol          | numeric          |          2|Costo del título, en colones\n",
    "| ganaciasCol       | numeric          |          2|Ganancias en colones\n",
    "| montoDeterioroCol | numeric          |          2|Deterioro en colones\n",
    "| premioCol         | numeric          |             2|Premio en colones\n"
   ]
  },
  {
   "cell_type": "markdown",
   "metadata": {},
   "source": [
    "## 2. Leer los datos"
   ]
  },
  {
   "cell_type": "code",
   "execution_count": 18,
   "metadata": {},
   "outputs": [
    {
     "name": "stdout",
     "output_type": "stream",
     "text": [
      "+---------+----------+----+----------+------+--------+---------------+---------+------------+-----------+-----------------+-----------+----------+\n",
      "|      cod|       mes|cod2|tipoTitulo|sector|moneda_2|valorMercadoCol|premioCol|    costoCol|ganaciasCol|montoDeterioroCol|   utilidad|     label|\n",
      "+---------+----------+----+----------+------+--------+---------------+---------+------------+-----------+-----------------+-----------+----------+\n",
      "|ALDESASFI|2020-02-01|13.0|         1|     1|     0.0|   155275500.00|     0.00|151542183.83| 4437011.23|             0.00|-0.11803949|0.03091708|\n",
      "|ALDESASFI|2020-02-01|13.0|         2|     2|     1.0|    46873827.00|     0.00| 46873827.00|       0.00|             0.00|-0.11803949|0.03091708|\n",
      "+---------+----------+----+----------+------+--------+---------------+---------+------------+-----------+-----------------+-----------+----------+\n",
      "only showing top 2 rows\n",
      "\n"
     ]
    }
   ],
   "source": [
    "def leerDb(nombreTabla):\n",
    "    df = spark \\\n",
    "    .read \\\n",
    "    .format(\"jdbc\") \\\n",
    "    .option(\"url\", database_url) \\\n",
    "    .option(\"user\", \"postgres\") \\\n",
    "    .option(\"password\", \"testPassword\") \\\n",
    "    .option(\"dbtable\", nombreTabla) \\\n",
    "    .load()\n",
    "    \n",
    "    return df\n",
    "\n",
    "infoSafi = leerDb('infoSafi')\n",
    "infoSafi.show(2)"
   ]
  },
  {
   "cell_type": "markdown",
   "metadata": {},
   "source": [
    "____\n",
    "\n",
    "# Modelos de Predicción\n",
    "\n",
    "____\n",
    "\n",
    "## 1. Preparación: Vectorizar los datos\n"
   ]
  },
  {
   "cell_type": "code",
   "execution_count": 19,
   "metadata": {
    "scrolled": true
   },
   "outputs": [
    {
     "name": "stdout",
     "output_type": "stream",
     "text": [
      "+---------+----------+----+----------+------+--------+---------------+---------+------------+------------+-----------------+-----------+----------+----------+--------------------+\n",
      "|      cod|       mes|cod2|tipoTitulo|sector|moneda_2|valorMercadoCol|premioCol|    costoCol| ganaciasCol|montoDeterioroCol|   utilidad|     label|      mes2|            features|\n",
      "+---------+----------+----+----------+------+--------+---------------+---------+------------+------------+-----------------+-----------+----------+----------+--------------------+\n",
      "|ALDESASFI|2020-02-01|13.0|         1|     1|     0.0|   155275500.00|     0.00|151542183.83|  4437011.23|             0.00|-0.11803949|0.03091708|1580515200|[13.0,1.5805152E9...|\n",
      "|ALDESASFI|2020-02-01|13.0|         2|     2|     1.0|    46873827.00|     0.00| 46873827.00|        0.00|             0.00|-0.11803949|0.03091708|1580515200|[13.0,1.5805152E9...|\n",
      "|ALDESASFI|2020-02-01|13.0|         2|     2|     1.0|    57948412.50|     0.00| 74565195.62|-16616783.12|             0.00|-0.11803949|0.03091708|1580515200|[13.0,1.5805152E9...|\n",
      "|ALDESASFI|2020-02-01|13.0|         1|     1|     1.0|    68776896.10|     0.00| 66402092.89|  1271562.73|             0.00|-0.11803949|0.03091708|1580515200|[13.0,1.5805152E9...|\n",
      "|ALDESASFI|2020-02-01|13.0|         4|     2|     1.0|     6818241.69|     0.00|  5964731.69|   853510.01|             0.00|-0.11803949|0.03091708|1580515200|[13.0,1.5805152E9...|\n",
      "+---------+----------+----+----------+------+--------+---------------+---------+------------+------------+-----------------+-----------+----------+----------+--------------------+\n",
      "only showing top 5 rows\n",
      "\n"
     ]
    }
   ],
   "source": [
    "# no se pueden vectorizar fechas, entonces se convierten en Epocs\n",
    "infoSafi2 = infoSafi.withColumn('mes2', unix_timestamp(col('mes')))\n",
    "\n",
    "# se usa la columna 'mes2' en vez de 'mes'\n",
    "assembler = VectorAssembler(\n",
    "    inputCols=['cod2','mes2','tipoTitulo','sector','moneda_2','valorMercadoCol','premioCol',\n",
    "               'costoCol','ganaciasCol','montoDeterioroCol','utilidad','label'],\n",
    "    outputCol=\"features\")\n",
    "\n",
    "vector_df = assembler.transform(infoSafi2)\n",
    "\n",
    "vector_df.show(5)"
   ]
  },
  {
   "cell_type": "markdown",
   "metadata": {},
   "source": [
    "## 2. Preparación: Estandarización de los datos"
   ]
  },
  {
   "cell_type": "code",
   "execution_count": 20,
   "metadata": {},
   "outputs": [
    {
     "name": "stdout",
     "output_type": "stream",
     "text": [
      "+---------+----------+----+----------+------+--------+---------------+---------+------------+------------+-----------------+-----------+----------+----------+--------------------+--------------------+\n",
      "|      cod|       mes|cod2|tipoTitulo|sector|moneda_2|valorMercadoCol|premioCol|    costoCol| ganaciasCol|montoDeterioroCol|   utilidad|     label|      mes2|            features|              scaled|\n",
      "+---------+----------+----+----------+------+--------+---------------+---------+------------+------------+-----------------+-----------+----------+----------+--------------------+--------------------+\n",
      "|ALDESASFI|2020-02-01|13.0|         1|     1|     0.0|   155275500.00|     0.00|151542183.83|  4437011.23|             0.00|-0.11803949|0.03091708|1580515200|[13.0,1.5805152E9...|[3.66220372937828...|\n",
      "|ALDESASFI|2020-02-01|13.0|         2|     2|     1.0|    46873827.00|     0.00| 46873827.00|        0.00|             0.00|-0.11803949|0.03091708|1580515200|[13.0,1.5805152E9...|[3.66220372937828...|\n",
      "|ALDESASFI|2020-02-01|13.0|         2|     2|     1.0|    57948412.50|     0.00| 74565195.62|-16616783.12|             0.00|-0.11803949|0.03091708|1580515200|[13.0,1.5805152E9...|[3.66220372937828...|\n",
      "|ALDESASFI|2020-02-01|13.0|         1|     1|     1.0|    68776896.10|     0.00| 66402092.89|  1271562.73|             0.00|-0.11803949|0.03091708|1580515200|[13.0,1.5805152E9...|[3.66220372937828...|\n",
      "|ALDESASFI|2020-02-01|13.0|         4|     2|     1.0|     6818241.69|     0.00|  5964731.69|   853510.01|             0.00|-0.11803949|0.03091708|1580515200|[13.0,1.5805152E9...|[3.66220372937828...|\n",
      "+---------+----------+----+----------+------+--------+---------------+---------+------------+------------+-----------------+-----------+----------+----------+--------------------+--------------------+\n",
      "only showing top 5 rows\n",
      "\n"
     ]
    }
   ],
   "source": [
    "standard_scaler = StandardScaler(inputCol='features', outputCol='scaled')\n",
    "scale_model = standard_scaler.fit(vector_df)\n",
    "scaled_df = scale_model.transform(vector_df)\n",
    "scaled_df.show(5)"
   ]
  },
  {
   "cell_type": "code",
   "execution_count": 21,
   "metadata": {},
   "outputs": [
    {
     "name": "stdout",
     "output_type": "stream",
     "text": [
      "+---------+----------+----+----------+------+--------+---------------+---------+------------+------------+-----------------+-----------+----------+----------+--------------------+--------------------+\n",
      "|      cod|       mes|cod2|tipoTitulo|sector|moneda_2|valorMercadoCol|premioCol|    costoCol| ganaciasCol|montoDeterioroCol|   utilidad|     label|      mes2|            features|              scaled|\n",
      "+---------+----------+----+----------+------+--------+---------------+---------+------------+------------+-----------------+-----------+----------+----------+--------------------+--------------------+\n",
      "|ALDESASFI|2020-02-01|13.0|         1|     1|     0.0|   155275500.00|     0.00|151542183.83|  4437011.23|             0.00|-0.11803949|0.03091708|1580515200|[13.0,1.5805152E9...|[3.66220372937828...|\n",
      "|ALDESASFI|2020-02-01|13.0|         2|     2|     1.0|    46873827.00|     0.00| 46873827.00|        0.00|             0.00|-0.11803949|0.03091708|1580515200|[13.0,1.5805152E9...|[3.66220372937828...|\n",
      "|ALDESASFI|2020-02-01|13.0|         2|     2|     1.0|    57948412.50|     0.00| 74565195.62|-16616783.12|             0.00|-0.11803949|0.03091708|1580515200|[13.0,1.5805152E9...|[3.66220372937828...|\n",
      "|ALDESASFI|2020-02-01|13.0|         1|     1|     1.0|    68776896.10|     0.00| 66402092.89|  1271562.73|             0.00|-0.11803949|0.03091708|1580515200|[13.0,1.5805152E9...|[3.66220372937828...|\n",
      "|ALDESASFI|2020-02-01|13.0|         4|     2|     1.0|     6818241.69|     0.00|  5964731.69|   853510.01|             0.00|-0.11803949|0.03091708|1580515200|[13.0,1.5805152E9...|[3.66220372937828...|\n",
      "+---------+----------+----+----------+------+--------+---------------+---------+------------+------------+-----------------+-----------+----------+----------+--------------------+--------------------+\n",
      "only showing top 5 rows\n",
      "\n"
     ]
    }
   ],
   "source": [
    "scaled_df.show(5)"
   ]
  },
  {
   "cell_type": "markdown",
   "metadata": {},
   "source": [
    "## 3. Preparación: Separar datos de entrenamiento y prueba\n",
    "\n",
    "Por ser una serie de tiempo, se toman los últimos meses como datos de pruebas y el resto como datos de entrenamiento."
   ]
  },
  {
   "cell_type": "code",
   "execution_count": 22,
   "metadata": {},
   "outputs": [
    {
     "name": "stdout",
     "output_type": "stream",
     "text": [
      "Elementos para entrenamiento 6769\n",
      "Elementos para pruebas 280\n"
     ]
    }
   ],
   "source": [
    "#(trainingData, testData) = scaled_df.randomSplit([0.6, 0.4], 1234)\n",
    "\n",
    "fechaLimite = datetime(2022, 2, 1)\n",
    "trainingData = scaled_df.filter(col('mes') < fechaLimite)\n",
    "testData = scaled_df.filter(col('mes') >= fechaLimite)\n",
    "\n",
    "print(\"Elementos para entrenamiento\", trainingData.count())\n",
    "print(\"Elementos para pruebas\", testData.count())\n",
    "\n",
    "# valores por defecto: labelCol=\"label\", predictionCol=\"prediction\", metricName=\"rmse\"\n",
    "evaluator = RegressionEvaluator()"
   ]
  },
  {
   "cell_type": "code",
   "execution_count": 23,
   "metadata": {},
   "outputs": [],
   "source": [
    "def regresionYAnalisis(rg):\n",
    "    model = rg.fit(trainingData)\n",
    "    predictions = model.transform(testData)\n",
    "    rmse = evaluator.evaluate(predictions)\n",
    "    print(\"Root Mean Squared Error (RMSE) on test data = %g\" % rmse)\n",
    "    predictions.select('cod','mes','label', 'prediction').show(40)\n",
    "    \n",
    "    # ordenar predicciones para tomar la mejor SAFI\n",
    "    print(\"Predicción promedio por SAFI a partir de los datos de prueba - último mes:\")\n",
    "    predictions.select('cod','prediction').groupBy('cod').agg(avg('prediction').alias('p')).orderBy(col('p').desc()).show(5)"
   ]
  },
  {
   "cell_type": "markdown",
   "metadata": {},
   "source": [
    "## 4. Regresión Lineal "
   ]
  },
  {
   "cell_type": "code",
   "execution_count": 24,
   "metadata": {},
   "outputs": [
    {
     "name": "stderr",
     "output_type": "stream",
     "text": [
      "22/05/12 05:24:00 WARN InstanceBuilder$NativeBLAS: Failed to load implementation from:dev.ludovic.netlib.blas.JNIBLAS\n",
      "22/05/12 05:24:00 WARN InstanceBuilder$NativeBLAS: Failed to load implementation from:dev.ludovic.netlib.blas.ForeignLinkerBLAS\n"
     ]
    },
    {
     "name": "stdout",
     "output_type": "stream",
     "text": [
      "Root Mean Squared Error (RMSE): 0.162375\n"
     ]
    }
   ],
   "source": [
    "from pyspark.ml.regression import LinearRegression\n",
    "def regresionLineal():\n",
    "    lr = LinearRegression(maxIter=10, regParam=0.3, elasticNetParam=0.8)\n",
    "    lrModel = lr.fit(scaled_df)\n",
    "    trainingSummary = lrModel.summary\n",
    "    print(\"Root Mean Squared Error (RMSE): %f\" % trainingSummary.rootMeanSquaredError)\n",
    "\n",
    "regresionLineal()"
   ]
  },
  {
   "cell_type": "markdown",
   "metadata": {},
   "source": [
    "\n",
    "## 5. Regresión con Árbol de Decisión"
   ]
  },
  {
   "cell_type": "code",
   "execution_count": 25,
   "metadata": {},
   "outputs": [
    {
     "name": "stdout",
     "output_type": "stream",
     "text": [
      "Root Mean Squared Error (RMSE) on test data = 0.00602563\n",
      "+-------------+----------+-----------+--------------------+\n",
      "|          cod|       mes|      label|          prediction|\n",
      "+-------------+----------+-----------+--------------------+\n",
      "|       BCRSFI|2022-02-01|  0.3198345| 0.32467767693729044|\n",
      "|       BCRSFI|2022-02-01|  0.3198345| 0.32467767693729044|\n",
      "|       BCRSFI|2022-02-01|  0.3198345| 0.32467767693729044|\n",
      "|       BCRSFI|2022-02-01|  0.3198345| 0.32467767693729044|\n",
      "|       BCRSFI|2022-02-01|  0.3198345| 0.32467767693729044|\n",
      "|       BCRSFI|2022-02-01|  0.3198345| 0.32467767693729044|\n",
      "|       BCRSFI|2022-02-01|  0.3198345| 0.32467767693729044|\n",
      "|       BCRSFI|2022-02-01|  0.3198345| 0.32467767693729044|\n",
      "|       BCRSFI|2022-02-01|  0.3198345| 0.32467767693729044|\n",
      "|       BCRSFI|2022-02-01|  0.3198345| 0.32467767693729044|\n",
      "|       BCRSFI|2022-02-01|  0.3198345| 0.32467767693729044|\n",
      "|       BCRSFI|2022-02-01|  0.3198345| 0.32467767693729044|\n",
      "|       BCRSFI|2022-02-01|  0.3198345| 0.32467767693729044|\n",
      "|       BCRSFI|2022-02-01|  0.3198345| 0.32467767693729044|\n",
      "|       BCRSFI|2022-02-01|  0.3198345| 0.32467767693729044|\n",
      "|       BCRSFI|2022-02-01|  0.3198345| 0.32467767693729044|\n",
      "|       BCRSFI|2022-02-01|  0.3198345| 0.32467767693729044|\n",
      "|       BCRSFI|2022-02-01|  0.3198345| 0.32467767693729044|\n",
      "|       BCRSFI|2022-02-01|  0.3198345| 0.32467767693729044|\n",
      "|       BCRSFI|2022-02-01|  0.3198345| 0.32467767693729044|\n",
      "|       BCRSFI|2022-02-01|  0.3198345| 0.32467767693729044|\n",
      "|       BCRSFI|2022-02-01|  0.3198345| 0.32467767693729044|\n",
      "|       BCRSFI|2022-02-01|  0.3198345| 0.32467767693729044|\n",
      "|       BCRSFI|2022-02-01|  0.3198345| 0.32467767693729044|\n",
      "|       BCRSFI|2022-02-01|  0.3198345| 0.32467767693729044|\n",
      "|       BCRSFI|2022-02-01|  0.3198345| 0.32467767693729044|\n",
      "|       BCRSFI|2022-02-01|  0.3198345| 0.32467767693729044|\n",
      "|       BCRSFI|2022-02-01|  0.3198345| 0.32467767693729044|\n",
      "|    ALDESASFI|2022-02-01|0.014854495|-0.01415867096660...|\n",
      "|    ALDESASFI|2022-02-01|0.014854495|-0.01415867096660...|\n",
      "|    ALDESASFI|2022-02-01|0.014854495|-0.01415867096660...|\n",
      "|    ALDESASFI|2022-02-01|0.014854495|-0.01415867096660...|\n",
      "|SANJOSEVALSFI|2022-02-01|   0.252997| 0.25111598730231255|\n",
      "|SANJOSEVALSFI|2022-02-01|   0.252997| 0.25111598730231255|\n",
      "|SANJOSEVALSFI|2022-02-01|   0.252997| 0.25111598730231255|\n",
      "|SANJOSEVALSFI|2022-02-01|   0.252997| 0.25111598730231255|\n",
      "|SANJOSEVALSFI|2022-02-01|   0.252997| 0.25111598730231255|\n",
      "|SANJOSEVALSFI|2022-02-01|   0.252997| 0.25111598730231255|\n",
      "|SANJOSEVALSFI|2022-02-01|   0.252997| 0.25111598730231255|\n",
      "|SANJOSEVALSFI|2022-02-01|   0.252997| 0.25111598730231255|\n",
      "+-------------+----------+-----------+--------------------+\n",
      "only showing top 40 rows\n",
      "\n",
      "Predicción promedio por SAFI a partir de los datos de prueba - último mes:\n",
      "+---------------+-------------------+\n",
      "|            cod|                  p|\n",
      "+---------------+-------------------+\n",
      "|INSBANCREDITSFI|0.42807087302207947|\n",
      "|          BNSFI|0.36810361162373223|\n",
      "|    INTERFINSFI| 0.3424972949536026|\n",
      "|      MUTUALSFI| 0.3246776769372905|\n",
      "|         BCRSFI|0.32467767693729044|\n",
      "+---------------+-------------------+\n",
      "only showing top 5 rows\n",
      "\n"
     ]
    }
   ],
   "source": [
    "def regresionConArbolDeDecision():\n",
    "    tree_reg = DecisionTreeRegressor(featuresCol=\"scaled\")\n",
    "    regresionYAnalisis(tree_reg)\n",
    "\n",
    "regresionConArbolDeDecision()"
   ]
  },
  {
   "cell_type": "markdown",
   "metadata": {},
   "source": [
    "## 6. Regresión con Random Forest"
   ]
  },
  {
   "cell_type": "code",
   "execution_count": 26,
   "metadata": {},
   "outputs": [
    {
     "name": "stdout",
     "output_type": "stream",
     "text": [
      "Root Mean Squared Error (RMSE) on test data = 0.0308681\n",
      "+-------------+----------+-----------+--------------------+\n",
      "|          cod|       mes|      label|          prediction|\n",
      "+-------------+----------+-----------+--------------------+\n",
      "|       BCRSFI|2022-02-01|  0.3198345|  0.2940915705354651|\n",
      "|       BCRSFI|2022-02-01|  0.3198345| 0.29898262528244757|\n",
      "|       BCRSFI|2022-02-01|  0.3198345| 0.29898262528244757|\n",
      "|       BCRSFI|2022-02-01|  0.3198345|  0.2940915705354651|\n",
      "|       BCRSFI|2022-02-01|  0.3198345|  0.2940915705354651|\n",
      "|       BCRSFI|2022-02-01|  0.3198345| 0.29641829033994455|\n",
      "|       BCRSFI|2022-02-01|  0.3198345| 0.29854713202214095|\n",
      "|       BCRSFI|2022-02-01|  0.3198345|  0.2940915705354651|\n",
      "|       BCRSFI|2022-02-01|  0.3198345| 0.29898262528244757|\n",
      "|       BCRSFI|2022-02-01|  0.3198345|  0.2940915705354651|\n",
      "|       BCRSFI|2022-02-01|  0.3198345| 0.29641829033994455|\n",
      "|       BCRSFI|2022-02-01|  0.3198345| 0.29898262528244757|\n",
      "|       BCRSFI|2022-02-01|  0.3198345| 0.29898262528244757|\n",
      "|       BCRSFI|2022-02-01|  0.3198345| 0.29898262528244757|\n",
      "|       BCRSFI|2022-02-01|  0.3198345| 0.29898262528244757|\n",
      "|       BCRSFI|2022-02-01|  0.3198345|  0.2921511045967363|\n",
      "|       BCRSFI|2022-02-01|  0.3198345|  0.2921511045967363|\n",
      "|       BCRSFI|2022-02-01|  0.3198345|  0.2940915705354651|\n",
      "|       BCRSFI|2022-02-01|  0.3198345| 0.29551223978330327|\n",
      "|       BCRSFI|2022-02-01|  0.3198345|  0.2921511045967363|\n",
      "|       BCRSFI|2022-02-01|  0.3198345|  0.2921511045967363|\n",
      "|       BCRSFI|2022-02-01|  0.3198345|  0.3015991197009948|\n",
      "|       BCRSFI|2022-02-01|  0.3198345|  0.3022238923823585|\n",
      "|       BCRSFI|2022-02-01|  0.3198345| 0.29208273358903986|\n",
      "|       BCRSFI|2022-02-01|  0.3198345|  0.3001112294266325|\n",
      "|       BCRSFI|2022-02-01|  0.3198345|  0.3007360021079962|\n",
      "|       BCRSFI|2022-02-01|  0.3198345|  0.3001112294266325|\n",
      "|       BCRSFI|2022-02-01|  0.3198345| 0.29208273358903986|\n",
      "|    ALDESASFI|2022-02-01|0.014854495|0.005270720417739173|\n",
      "|    ALDESASFI|2022-02-01|0.014854495|-0.02830565619294202|\n",
      "|    ALDESASFI|2022-02-01|0.014854495|-0.03596163111194...|\n",
      "|    ALDESASFI|2022-02-01|0.014854495|-0.03238196957281663|\n",
      "|SANJOSEVALSFI|2022-02-01|   0.252997|  0.2441049247003945|\n",
      "|SANJOSEVALSFI|2022-02-01|   0.252997|  0.2441049247003945|\n",
      "|SANJOSEVALSFI|2022-02-01|   0.252997|  0.2421370146434873|\n",
      "|SANJOSEVALSFI|2022-02-01|   0.252997|  0.2421370146434873|\n",
      "|SANJOSEVALSFI|2022-02-01|   0.252997|  0.2441049247003945|\n",
      "|SANJOSEVALSFI|2022-02-01|   0.252997| 0.24308940932131634|\n",
      "|SANJOSEVALSFI|2022-02-01|   0.252997|  0.2441049247003945|\n",
      "|SANJOSEVALSFI|2022-02-01|   0.252997|  0.2550531081263855|\n",
      "+-------------+----------+-----------+--------------------+\n",
      "only showing top 40 rows\n",
      "\n",
      "Predicción promedio por SAFI a partir de los datos de prueba - último mes:\n",
      "+---------------+-------------------+\n",
      "|            cod|                  p|\n",
      "+---------------+-------------------+\n",
      "|INSBANCREDITSFI|0.37643202236030926|\n",
      "|          BNSFI| 0.3430753381280745|\n",
      "|    INTERFINSFI|0.31443630196909134|\n",
      "|         BCRSFI|0.29649553968874626|\n",
      "|     POPULARSFI|0.29291251887027436|\n",
      "+---------------+-------------------+\n",
      "only showing top 5 rows\n",
      "\n"
     ]
    }
   ],
   "source": [
    "from pyspark.ml.regression import RandomForestRegressor\n",
    "\n",
    "def regresionConRandomForest():\n",
    "    rf = RandomForestRegressor(featuresCol=\"scaled\")\n",
    "    regresionYAnalisis(rf)\n",
    "\n",
    "regresionConRandomForest()"
   ]
  },
  {
   "cell_type": "markdown",
   "metadata": {},
   "source": [
    "# Análisis de resultados\n",
    "\n",
    "## Sobre el proceso\n",
    "\n",
    "La pricipal dificultad fue entender los datos y los términos del dominio del negocio en cuestión.  Decisiones como cuáles features no son necesarios requirieron investigación.\n",
    "\n",
    "El trabajo con series de tiempo es un poco distinto que las regresiones regulares:\n",
    "- El orden importa.\n",
    "- La división de datos de entrenamiento y pruebas debe respetar el orden temporal.\n",
    "- Queda fuera de este trabajo, pero el modelo debe actualizarse cada vez que se reciban datos nuevos.\n",
    "\n",
    "## Sobre las fuentes de datos\n",
    "\n",
    "- Los datos provistos por la SUGEVAL son de buena calidad entanto no contienen datos y están bien registrados.\n",
    "- Sin embargo, por el formato de archivo, se necesitó código para extraer la información de los archivos.  En este mismo proceso se hizo tranformaciones como cambios de tipos de datos o hacer que todas las fechas estuvieran en el primer día del mes en lugar del último.\n",
    "- Recomendada la biblioteca openpyxl para leer datos, es muy intuitiva.\n",
    "\n",
    "## Sobre los resultados\n",
    "\n",
    "Para ambos métodos de regresión utilizados (Decision Tree, Random Tree Forest), concuerdan con los datos del último mes de utilidades: la SAFI con código 'INSBANCREDITSFI', o INS-Inversiones SAFI SA, es la que se proyecta con los mejores rendimientos.\n",
    "\n",
    "A continuación el top 5 de mejores utilidades con los datos de entrada para marzo (leído de los datos de SUGEVAL sin procesar)."
   ]
  },
  {
   "cell_type": "code",
   "execution_count": 27,
   "metadata": {},
   "outputs": [
    {
     "name": "stdout",
     "output_type": "stream",
     "text": [
      "+---------------+----------+----------+\n",
      "|            cod|       mes|  utilidad|\n",
      "+---------------+----------+----------+\n",
      "|INSBANCREDITSFI|2022-03-01|0.42624912|\n",
      "|          BNSFI|2022-03-01|0.37036204|\n",
      "|    INTERFINSFI|2022-03-01|0.34626266|\n",
      "|      MUTUALSFI|2022-03-01|0.32133445|\n",
      "|         BCRSFI|2022-03-01| 0.3198345|\n",
      "+---------------+----------+----------+\n",
      "only showing top 5 rows\n",
      "\n"
     ]
    }
   ],
   "source": [
    "margenUtilidad_df.filter(col('mes') > fechaLimite).orderBy(col('utilidad').desc()).show(5)"
   ]
  }
 ],
 "metadata": {
  "celltoolbar": "Edit Metadata",
  "colab": {
   "name": "BigData-Leccion5.ipynb",
   "provenance": []
  },
  "kernelspec": {
   "display_name": "Python 3 (ipykernel)",
   "language": "python",
   "name": "python3"
  },
  "language_info": {
   "codemirror_mode": {
    "name": "ipython",
    "version": 3
   },
   "file_extension": ".py",
   "mimetype": "text/x-python",
   "name": "python",
   "nbconvert_exporter": "python",
   "pygments_lexer": "ipython3",
   "version": "3.7.10"
  }
 },
 "nbformat": 4,
 "nbformat_minor": 1
}
