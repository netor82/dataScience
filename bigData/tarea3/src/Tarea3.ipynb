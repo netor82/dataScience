{
 "cells": [
  {
   "cell_type": "markdown",
   "metadata": {
    "id": "FYCK8Y-lTb3O"
   },
   "source": [
    "# Tarea 3\n",
    "\n",
    "**Big data**\n",
    "\n",
    "Profesor: Luis Alexander Calvo Valverde.\n",
    "\n",
    "Instituto Tecnológico de Costa Rica,\n",
    "\n",
    "Medio de entrega: TecDigital.\n",
    "\n",
    "Grupo de trabajo:\n",
    "\n",
    "    Manuel Calderón\n",
    "    Ernesto Rivera\n"
   ]
  },
  {
   "cell_type": "markdown",
   "metadata": {
    "id": "cXPbCqJLTb3Q"
   },
   "source": [
    "# Datos elegidos\n",
    "\n",
    "## Variable de predicción\n",
    "\n",
    "Si los ingresos exceden los $50K/año según los datos del censo\n",
    "\n",
    "Link: https://www.kaggle.com/datasets/uciml/adult-census-income?resource=download\n",
    "\n",
    "\n",
    "Los datos fueron extraídos de la base de datos de la oficina del Censo de 1994 por Ronny Kohavi y Barry Becker (Data Mining and Visualization, Silicon Graphics). Se extrajo un conjunto de registros razonablemente limpios usando las siguientes condiciones: ((AAGE>16) && (AGI>100) && (AFNLWGT>1) && (HRSWK>0)). La tarea de predicción es determinar si una persona gana más de $50,000 al año.\n",
    "\n",
    "\n",
    "## Descripción de fnlwgt (peso final)\n",
    "\n",
    "Los pesos en los archivos de la Encuesta de Población Actual (CPS) se controlan según estimaciones independientes de la población civil no institucional de los EE. UU.  Estos son preparados mensualmente por la División de Población en la Oficina del Censo. Se usan 3 conjuntos de controles. Estos son:\n",
    "\n",
    "1. Una estimación de una sola celda de la población mayor de 16 años para cada estado.\n",
    "1. Controles de origen hispano por edad y sexo.\n",
    "1. Controles por raza, edad y sexo.\n",
    "\n",
    "El término estimación se refiere a los totales de población derivados de CPS mediante la creación de \"recuentos ponderados\" de cualquier característica socioeconómica específica de la población. Las personas con características demográficas similares deberían tener pesos similares. Hay una advertencia importante para recordar acerca de esta declaración: dado que la muestra de CPS es en realidad una colección de 51 muestras estatales, cada una con su propia probabilidad de selección, la declaración solo se aplica dentro del estado."
   ]
  },
  {
   "cell_type": "code",
   "execution_count": 1,
   "metadata": {},
   "outputs": [],
   "source": [
    "import findspark\n",
    "findspark.init()\n",
    "\n",
    "import pyspark\n",
    "\n",
    "from pyspark.sql import SparkSession\n",
    "from pyspark.sql.types import (StringType, IntegerType, FloatType, \n",
    "                               DecimalType, StructField, StructType)\n",
    "from pyspark.sql.functions import when, col, concat\n",
    "from pyspark.ml.feature import StandardScaler, StringIndexer, VectorAssembler\n",
    "from pyspark.ml.classification import LogisticRegression\n",
    "\n",
    "from pyspark.ml.stat import Correlation\n",
    "from pyspark.ml.functions import vector_to_array\n",
    "import seaborn as sns\n",
    "import matplotlib.pyplot as plt\n"
   ]
  },
  {
   "cell_type": "markdown",
   "metadata": {},
   "source": [
    "## Para cargar los datos en diferentes sistemas operativos\n",
    "\n",
    "Comente o descomente las siguientes líneas dependiendo en cuál sistema operativo tiene docker corriendo."
   ]
  },
  {
   "cell_type": "code",
   "execution_count": 2,
   "metadata": {},
   "outputs": [],
   "source": [
    "# mac o windows\n",
    "database_url = \"jdbc:postgresql://host.docker.internal:5433/postgres\"\n",
    "\n",
    "# linux\n",
    "database_url = \"jdbc:postgresql://172.17.0.1:5433/postgres\""
   ]
  },
  {
   "cell_type": "markdown",
   "metadata": {
    "id": "BvlqRf1PTb3R"
   },
   "source": [
    "____\n",
    "\n",
    "# Lectura y limpieza\n",
    "\n",
    "____"
   ]
  },
  {
   "cell_type": "code",
   "execution_count": 3,
   "metadata": {
    "id": "pBbCLAzXTb3S",
    "outputId": "0bf8d265-bd7c-40ee-e9cd-c5c01cbf30b7"
   },
   "outputs": [
    {
     "name": "stderr",
     "output_type": "stream",
     "text": [
      "WARNING: An illegal reflective access operation has occurred\n",
      "WARNING: Illegal reflective access by org.apache.spark.unsafe.Platform (file:/usr/lib/python3.7/site-packages/pyspark/jars/spark-unsafe_2.12-3.2.1.jar) to constructor java.nio.DirectByteBuffer(long,int)\n",
      "WARNING: Please consider reporting this to the maintainers of org.apache.spark.unsafe.Platform\n",
      "WARNING: Use --illegal-access=warn to enable warnings of further illegal reflective access operations\n",
      "WARNING: All illegal access operations will be denied in a future release\n",
      "Using Spark's default log4j profile: org/apache/spark/log4j-defaults.properties\n",
      "Setting default log level to \"WARN\".\n",
      "To adjust logging level use sc.setLogLevel(newLevel). For SparkR, use setLogLevel(newLevel).\n",
      "22/05/06 03:40:37 WARN NativeCodeLoader: Unable to load native-hadoop library for your platform... using builtin-java classes where applicable\n"
     ]
    }
   ],
   "source": [
    "spark = SparkSession \\\n",
    "    .builder \\\n",
    "    .appName(\"Basic JDBC pipeline\") \\\n",
    "    .config(\"spark.driver.extraClassPath\", \"postgresql-42.2.14.jar\") \\\n",
    "    .config(\"spark.executor.extraClassPath\", \"postgresql-42.2.14.jar\") \\\n",
    "    .getOrCreate()\n",
    "\n",
    "adult_df = spark \\\n",
    "    .read \\\n",
    "    .format(\"csv\") \\\n",
    "    .option(\"path\", \"adult.csv\") \\\n",
    "    .option(\"header\", True) \\\n",
    "    .schema(StructType([\n",
    "                StructField(\"age\", IntegerType()),\n",
    "                StructField(\"workclass\", StringType()),\n",
    "                StructField(\"fnlwgt\", IntegerType()),\n",
    "                StructField(\"education\", StringType()),\n",
    "                StructField(\"education.num\", IntegerType()),\n",
    "                StructField(\"marital.status\", StringType()),\n",
    "                StructField(\"occupation\", StringType()),\n",
    "                StructField(\"relationship\", StringType()),\n",
    "                StructField(\"race\", StringType()),\n",
    "                StructField(\"sex\", StringType()),\n",
    "                StructField(\"capital.gain\", IntegerType()),\n",
    "                StructField(\"capital.loss\", IntegerType()),\n",
    "                StructField(\"hours.per.week\", IntegerType()),\n",
    "                StructField(\"native.country\", StringType()),\n",
    "                StructField(\"income\", StringType())])) \\\n",
    "    .load()\n"
   ]
  },
  {
   "cell_type": "code",
   "execution_count": 4,
   "metadata": {},
   "outputs": [
    {
     "name": "stdout",
     "output_type": "stream",
     "text": [
      "root\n",
      " |-- age: integer (nullable = true)\n",
      " |-- workclass: string (nullable = true)\n",
      " |-- fnlwgt: integer (nullable = true)\n",
      " |-- education: string (nullable = true)\n",
      " |-- education.num: integer (nullable = true)\n",
      " |-- marital.status: string (nullable = true)\n",
      " |-- occupation: string (nullable = true)\n",
      " |-- relationship: string (nullable = true)\n",
      " |-- race: string (nullable = true)\n",
      " |-- sex: string (nullable = true)\n",
      " |-- capital.gain: integer (nullable = true)\n",
      " |-- capital.loss: integer (nullable = true)\n",
      " |-- hours.per.week: integer (nullable = true)\n",
      " |-- native.country: string (nullable = true)\n",
      " |-- income: string (nullable = true)\n",
      "\n"
     ]
    }
   ],
   "source": [
    "adult_df.printSchema()"
   ]
  },
  {
   "cell_type": "code",
   "execution_count": 5,
   "metadata": {},
   "outputs": [
    {
     "name": "stdout",
     "output_type": "stream",
     "text": [
      "+---+---------+------+------------+-------------+--------------+-----------------+-------------+-----+------+------------+------------+--------------+--------------+------+\n",
      "|age|workclass|fnlwgt|   education|education.num|marital.status|       occupation| relationship| race|   sex|capital.gain|capital.loss|hours.per.week|native.country|income|\n",
      "+---+---------+------+------------+-------------+--------------+-----------------+-------------+-----+------+------------+------------+--------------+--------------+------+\n",
      "| 90|        ?| 77053|     HS-grad|            9|       Widowed|                ?|Not-in-family|White|Female|           0|        4356|            40| United-States| <=50K|\n",
      "| 82|  Private|132870|     HS-grad|            9|       Widowed|  Exec-managerial|Not-in-family|White|Female|           0|        4356|            18| United-States| <=50K|\n",
      "| 66|        ?|186061|Some-college|           10|       Widowed|                ?|    Unmarried|Black|Female|           0|        4356|            40| United-States| <=50K|\n",
      "| 54|  Private|140359|     7th-8th|            4|      Divorced|Machine-op-inspct|    Unmarried|White|Female|           0|        3900|            40| United-States| <=50K|\n",
      "| 41|  Private|264663|Some-college|           10|     Separated|   Prof-specialty|    Own-child|White|Female|           0|        3900|            40| United-States| <=50K|\n",
      "+---+---------+------+------------+-------------+--------------+-----------------+-------------+-----+------+------------+------------+--------------+--------------+------+\n",
      "only showing top 5 rows\n",
      "\n"
     ]
    }
   ],
   "source": [
    "adult_df.show(5)"
   ]
  },
  {
   "cell_type": "code",
   "execution_count": 6,
   "metadata": {},
   "outputs": [
    {
     "name": "stderr",
     "output_type": "stream",
     "text": [
      "\r",
      "[Stage 1:>                                                          (0 + 1) / 1]\r"
     ]
    },
    {
     "name": "stdout",
     "output_type": "stream",
     "text": [
      "+-------+------------------+-----------+------------------+------------+-----------------+--------------+----------------+------------+------------------+------+------------------+-----------------+------------------+--------------+------+\n",
      "|summary|               age|  workclass|            fnlwgt|   education|    education.num|marital.status|      occupation|relationship|              race|   sex|      capital.gain|     capital.loss|    hours.per.week|native.country|income|\n",
      "+-------+------------------+-----------+------------------+------------+-----------------+--------------+----------------+------------+------------------+------+------------------+-----------------+------------------+--------------+------+\n",
      "|  count|             32561|      32561|             32561|       32561|            32561|         32561|           32561|       32561|             32561| 32561|             32561|            32561|             32561|         32561| 32561|\n",
      "|   mean| 38.58164675532078|       null|189778.36651208502|        null| 10.0806793403151|          null|            null|        null|              null|  null|1077.6488437087312|  87.303829734959|40.437455852092995|          null|  null|\n",
      "| stddev|13.640432553581295|       null|105549.97769702264|        null|2.572720332067391|          null|            null|        null|              null|  null| 7385.292084840311|402.9602186489979|12.347428681731857|          null|  null|\n",
      "|    min|                17|          ?|             12285|        10th|                1|      Divorced|               ?|     Husband|Amer-Indian-Eskimo|Female|                 0|                0|                 1|             ?| <=50K|\n",
      "|    25%|                28|       null|            117802|        null|                9|          null|            null|        null|              null|  null|                 0|                0|                40|          null|  null|\n",
      "|    50%|                37|       null|            178353|        null|               10|          null|            null|        null|              null|  null|                 0|                0|                40|          null|  null|\n",
      "|    75%|                48|       null|            236994|        null|               12|          null|            null|        null|              null|  null|                 0|                0|                45|          null|  null|\n",
      "|    max|                90|Without-pay|           1484705|Some-college|               16|       Widowed|Transport-moving|        Wife|             White|  Male|             99999|             4356|                99|    Yugoslavia|  >50K|\n",
      "+-------+------------------+-----------+------------------+------------+-----------------+--------------+----------------+------------+------------------+------+------------------+-----------------+------------------+--------------+------+\n",
      "\n"
     ]
    },
    {
     "name": "stderr",
     "output_type": "stream",
     "text": [
      "\r",
      "                                                                                \r"
     ]
    }
   ],
   "source": [
    "adult_df.summary().show()"
   ]
  },
  {
   "cell_type": "code",
   "execution_count": 7,
   "metadata": {},
   "outputs": [
    {
     "data": {
      "text/plain": [
       "[Row(income='<=50K'), Row(income='>50K')]"
      ]
     },
     "execution_count": 7,
     "metadata": {},
     "output_type": "execute_result"
    }
   ],
   "source": [
    "# posibles valores para la columna 'income'\n",
    "\n",
    "adult_df.select('income').distinct().collect()"
   ]
  },
  {
   "cell_type": "code",
   "execution_count": 8,
   "metadata": {},
   "outputs": [
    {
     "name": "stdout",
     "output_type": "stream",
     "text": [
      "root\n",
      " |-- age: integer (nullable = true)\n",
      " |-- workclass: string (nullable = true)\n",
      " |-- fnlwgt: integer (nullable = true)\n",
      " |-- education: string (nullable = true)\n",
      " |-- education_num: integer (nullable = true)\n",
      " |-- marital_status: string (nullable = true)\n",
      " |-- occupation: string (nullable = true)\n",
      " |-- relationship: string (nullable = true)\n",
      " |-- race: string (nullable = true)\n",
      " |-- sex: string (nullable = true)\n",
      " |-- capital_gain: integer (nullable = true)\n",
      " |-- capital_loss: integer (nullable = true)\n",
      " |-- hours_week: integer (nullable = true)\n",
      " |-- native_country: string (nullable = true)\n",
      " |-- income: string (nullable = true)\n",
      " |-- income_target: integer (nullable = false)\n",
      "\n",
      "+---+---------+------+------------+-------------+--------------+-----------------+--------------+-----+------+------------+------------+----------+--------------+------+-------------+\n",
      "|age|workclass|fnlwgt|   education|education_num|marital_status|       occupation|  relationship| race|   sex|capital_gain|capital_loss|hours_week|native_country|income|income_target|\n",
      "+---+---------+------+------------+-------------+--------------+-----------------+--------------+-----+------+------------+------------+----------+--------------+------+-------------+\n",
      "| 90|        ?| 77053|     HS-grad|            9|       Widowed|                ?| Not-in-family|White|Female|           0|        4356|        40| United-States| <=50K|            0|\n",
      "| 82|  Private|132870|     HS-grad|            9|       Widowed|  Exec-managerial| Not-in-family|White|Female|           0|        4356|        18| United-States| <=50K|            0|\n",
      "| 66|        ?|186061|Some-college|           10|       Widowed|                ?|     Unmarried|Black|Female|           0|        4356|        40| United-States| <=50K|            0|\n",
      "| 54|  Private|140359|     7th-8th|            4|      Divorced|Machine-op-inspct|     Unmarried|White|Female|           0|        3900|        40| United-States| <=50K|            0|\n",
      "| 41|  Private|264663|Some-college|           10|     Separated|   Prof-specialty|     Own-child|White|Female|           0|        3900|        40| United-States| <=50K|            0|\n",
      "| 34|  Private|216864|     HS-grad|            9|      Divorced|    Other-service|     Unmarried|White|Female|           0|        3770|        45| United-States| <=50K|            0|\n",
      "| 38|  Private|150601|        10th|            6|     Separated|     Adm-clerical|     Unmarried|White|  Male|           0|        3770|        40| United-States| <=50K|            0|\n",
      "| 74|State-gov| 88638|   Doctorate|           16| Never-married|   Prof-specialty|Other-relative|White|Female|           0|        3683|        20| United-States|  >50K|            1|\n",
      "+---+---------+------+------------+-------------+--------------+-----------------+--------------+-----+------+------------+------------+----------+--------------+------+-------------+\n",
      "only showing top 8 rows\n",
      "\n"
     ]
    }
   ],
   "source": [
    "# se transforma la columna income a boolean,\n",
    "# y se quitan los puntos '.' de los nombres de las columnas para evitar errores\n",
    "\n",
    "adult_df = adult_df.withColumn(\"income_target\", when(col(\"income\") == \">50K\", 1).otherwise(0)) \\\n",
    "    .withColumnRenamed(\"education.num\", \"education_num\") \\\n",
    "    .withColumnRenamed(\"marital.status\", \"marital_status\") \\\n",
    "    .withColumnRenamed(\"capital.gain\", \"capital_gain\") \\\n",
    "    .withColumnRenamed(\"capital.loss\", \"capital_loss\") \\\n",
    "    .withColumnRenamed(\"hours.per.week\", \"hours_week\") \\\n",
    "    .withColumnRenamed(\"native.country\", \"native_country\")\n",
    "adult_df.printSchema()\n",
    "adult_df.show(8)"
   ]
  },
  {
   "cell_type": "code",
   "execution_count": 9,
   "metadata": {},
   "outputs": [
    {
     "name": "stderr",
     "output_type": "stream",
     "text": [
      "                                                                                \r"
     ]
    },
    {
     "name": "stdout",
     "output_type": "stream",
     "text": [
      "+-------+-----------+--------------+----------------+------------+------------------+------+--------------+\n",
      "|summary|  workclass|marital_status|      occupation|relationship|              race|   sex|native_country|\n",
      "+-------+-----------+--------------+----------------+------------+------------------+------+--------------+\n",
      "|  count|      32561|         32561|           32561|       32561|             32561| 32561|         32561|\n",
      "|   mean|       null|          null|            null|        null|              null|  null|          null|\n",
      "| stddev|       null|          null|            null|        null|              null|  null|          null|\n",
      "|    min|          ?|      Divorced|               ?|     Husband|Amer-Indian-Eskimo|Female|             ?|\n",
      "|    max|Without-pay|       Widowed|Transport-moving|        Wife|             White|  Male|    Yugoslavia|\n",
      "+-------+-----------+--------------+----------------+------------+------------------+------+--------------+\n",
      "\n",
      "+-------+------------------+------------------+-----------------+------------------+-----------------+------------------+\n",
      "|summary|               age|            fnlwgt|    education_num|      capital_gain|     capital_loss|        hours_week|\n",
      "+-------+------------------+------------------+-----------------+------------------+-----------------+------------------+\n",
      "|  count|             32561|             32561|            32561|             32561|            32561|             32561|\n",
      "|   mean| 38.58164675532078|189778.36651208502| 10.0806793403151|1077.6488437087312|  87.303829734959|40.437455852092995|\n",
      "| stddev|13.640432553581295|105549.97769702264|2.572720332067391| 7385.292084840311|402.9602186489979|12.347428681731857|\n",
      "|    min|                17|             12285|                1|                 0|                0|                 1|\n",
      "|    max|                90|           1484705|               16|             99999|             4356|                99|\n",
      "+-------+------------------+------------------+-----------------+------------------+-----------------+------------------+\n",
      "\n",
      "+-------+------------------+\n",
      "|summary|     income_target|\n",
      "+-------+------------------+\n",
      "|  count|             32561|\n",
      "|   mean|0.2408095574460244|\n",
      "| stddev|0.4275814885646923|\n",
      "|    min|                 0|\n",
      "|    max|                 1|\n",
      "+-------+------------------+\n",
      "\n"
     ]
    }
   ],
   "source": [
    "# Información descriptiva del dataframe\n",
    "\n",
    "adult_df.describe([\"workclass\",\"marital_status\",\"occupation\",\n",
    "                \"relationship\",\"race\",\"sex\",\"native_country\"]).show()\n",
    "\n",
    "adult_df.describe([\"age\",\"fnlwgt\",\"education_num\",\"capital_gain\",\"capital_loss\",\"hours_week\"]).show()\n",
    "\n",
    "adult_df.describe([\"income_target\"]).show()"
   ]
  },
  {
   "cell_type": "code",
   "execution_count": 10,
   "metadata": {},
   "outputs": [
    {
     "name": "stdout",
     "output_type": "stream",
     "text": [
      "+---+---------+------+------------+-------------+--------------+-----------------+-------------+-----+------+------------+------------+----------+--------------+------+-------------+-----------+----------------+------------+--------------+----------------+\n",
      "|age|workclass|fnlwgt|   education|education_num|marital_status|       occupation| relationship| race|   sex|capital_gain|capital_loss|hours_week|native_country|income|income_target|workclass_2|marital_status_2|occupation_2|relationship_2|native_country_2|\n",
      "+---+---------+------+------------+-------------+--------------+-----------------+-------------+-----+------+------------+------------+----------+--------------+------+-------------+-----------+----------------+------------+--------------+----------------+\n",
      "| 90|        ?| 77053|     HS-grad|            9|       Widowed|                ?|Not-in-family|White|Female|           0|        4356|        40| United-States| <=50K|            0|        3.0|             4.0|         7.0|           1.0|             0.0|\n",
      "| 82|  Private|132870|     HS-grad|            9|       Widowed|  Exec-managerial|Not-in-family|White|Female|           0|        4356|        18| United-States| <=50K|            0|        0.0|             4.0|         2.0|           1.0|             0.0|\n",
      "| 66|        ?|186061|Some-college|           10|       Widowed|                ?|    Unmarried|Black|Female|           0|        4356|        40| United-States| <=50K|            0|        3.0|             4.0|         7.0|           3.0|             0.0|\n",
      "| 54|  Private|140359|     7th-8th|            4|      Divorced|Machine-op-inspct|    Unmarried|White|Female|           0|        3900|        40| United-States| <=50K|            0|        0.0|             2.0|         6.0|           3.0|             0.0|\n",
      "| 41|  Private|264663|Some-college|           10|     Separated|   Prof-specialty|    Own-child|White|Female|           0|        3900|        40| United-States| <=50K|            0|        0.0|             3.0|         0.0|           2.0|             0.0|\n",
      "+---+---------+------+------------+-------------+--------------+-----------------+-------------+-----+------+------------+------------+----------+--------------+------+-------------+-----------+----------------+------------+--------------+----------------+\n",
      "only showing top 5 rows\n",
      "\n"
     ]
    }
   ],
   "source": [
    "# convertir de categorías textuales a numéricas\n",
    "\n",
    "label_stringIdx = StringIndexer(inputCols = [\"workclass\",\"marital_status\",\"occupation\",\n",
    "                \"relationship\",\"native_country\"], \n",
    "                                outputCols = [\"workclass_2\", \"marital_status_2\",\"occupation_2\",\n",
    "                \"relationship_2\",\"native_country_2\"])\n",
    "model = label_stringIdx.fit(adult_df)\n",
    "indexadas = model.transform(adult_df)\n",
    "indexadas.show(5)"
   ]
  },
  {
   "cell_type": "code",
   "execution_count": 11,
   "metadata": {
    "id": "TeCBV1AGTb3X",
    "outputId": "87a92ff5-f247-4a75-e470-8c6e7acf2ad1"
   },
   "outputs": [
    {
     "name": "stdout",
     "output_type": "stream",
     "text": [
      "+---------+------+---------+-------+----------+------------+----+----+----------+-------+------+\n",
      "|workclass|fnlwgt|education|marital|occupation|relationship|gain|loss|hours_week|country|target|\n",
      "+---------+------+---------+-------+----------+------------+----+----+----------+-------+------+\n",
      "|      3.0| 77053|        9|    4.0|       7.0|         1.0|   0|4356|        40|    0.0|     0|\n",
      "|      0.0|132870|        9|    4.0|       2.0|         1.0|   0|4356|        18|    0.0|     0|\n",
      "|      3.0|186061|       10|    4.0|       7.0|         3.0|   0|4356|        40|    0.0|     0|\n",
      "|      0.0|140359|        4|    2.0|       6.0|         3.0|   0|3900|        40|    0.0|     0|\n",
      "|      0.0|264663|       10|    3.0|       0.0|         2.0|   0|3900|        40|    0.0|     0|\n",
      "+---------+------+---------+-------+----------+------------+----+----+----------+-------+------+\n",
      "only showing top 5 rows\n",
      "\n"
     ]
    }
   ],
   "source": [
    "# El objetivo que es el \"income\" - ahora \"target\"\n",
    "# Se quitan: \"age\", \"sex\", \"race\", por estar incluídos en el cálculo de \"fnlwgt\", según descripción del dataset.\n",
    "\n",
    "columns_kept = [\"workclass_2\",\"fnlwgt\",\"education_num\",\"marital_status_2\",\"occupation_2\",\n",
    "                \"relationship_2\",\"capital_gain\",\"capital_loss\",\"hours_week\",\n",
    "                \"native_country_2\",\"income_target\" ]\n",
    "selected_columns_df = indexadas.select(columns_kept) \\\n",
    "    .withColumnRenamed(\"workclass_2\", \"workclass\") \\\n",
    "    .withColumnRenamed(\"education_num\", \"education\") \\\n",
    "    .withColumnRenamed(\"marital_status_2\", \"marital\") \\\n",
    "    .withColumnRenamed(\"occupation_2\", \"occupation\") \\\n",
    "    .withColumnRenamed(\"relationship_2\", \"relationship\") \\\n",
    "    .withColumnRenamed(\"capital_gain\", \"gain\") \\\n",
    "    .withColumnRenamed(\"capital_loss\", \"loss\") \\\n",
    "    .withColumnRenamed(\"native_country_2\", \"country\") \\\n",
    "    .withColumnRenamed(\"income_target\", \"target\")\n",
    "\n",
    "selected_columns_df.show(5)"
   ]
  },
  {
   "cell_type": "code",
   "execution_count": 12,
   "metadata": {},
   "outputs": [
    {
     "name": "stdout",
     "output_type": "stream",
     "text": [
      "+--------------------+\n",
      "|            features|\n",
      "+--------------------+\n",
      "|[3.0,77053.0,9.0,...|\n",
      "|[0.0,132870.0,9.0...|\n",
      "|[3.0,186061.0,10....|\n",
      "|[0.0,140359.0,4.0...|\n",
      "|[0.0,264663.0,10....|\n",
      "+--------------------+\n",
      "only showing top 5 rows\n",
      "\n"
     ]
    }
   ],
   "source": [
    "# Para realizar operaciones más detalladas es necesario expresar las filas originales en vectores\n",
    "\n",
    "assembler = VectorAssembler(\n",
    "    inputCols=[\"workclass\",\"fnlwgt\",\"education\",\"marital\",\"occupation\",\n",
    "                \"relationship\",\"gain\",\"loss\",\"hours_week\",\n",
    "                \"country\"],\n",
    "    outputCol=\"features\")\n",
    "\n",
    "vector_df = assembler.transform(selected_columns_df)\n",
    "vector_df.select('features').show(5)"
   ]
  },
  {
   "cell_type": "code",
   "execution_count": 13,
   "metadata": {
    "scrolled": false
   },
   "outputs": [
    {
     "name": "stderr",
     "output_type": "stream",
     "text": [
      "22/05/06 03:40:48 WARN InstanceBuilder$NativeBLAS: Failed to load implementation from:dev.ludovic.netlib.blas.JNIBLAS\n",
      "22/05/06 03:40:48 WARN InstanceBuilder$NativeBLAS: Failed to load implementation from:dev.ludovic.netlib.blas.ForeignLinkerBLAS\n",
      "/usr/lib/python3.7/site-packages/pyspark/sql/context.py:127: FutureWarning: Deprecated in 3.0.0. Use SparkSession.builder.getOrCreate() instead.\n",
      "  FutureWarning\n"
     ]
    },
    {
     "data": {
      "text/plain": [
       "<AxesSubplot:>"
      ]
     },
     "execution_count": 13,
     "metadata": {},
     "output_type": "execute_result"
    },
    {
     "data": {
      "image/png": "[encoded data removed]",
      "text/plain": [
       "<Figure size 1080x576 with 2 Axes>"
      ]
     },
     "metadata": {
      "needs_background": "light"
     },
     "output_type": "display_data"
    }
   ],
   "source": [
    "# Con la representación de vectores podemos calcular correlaciones\n",
    "\n",
    "pearson_matrix = Correlation.corr(vector_df, 'features').collect()[0][0]\n",
    "\n",
    "# pinta el heatmap grandote\n",
    "plt.figure(figsize = (15,8))\n",
    "sns.heatmap(pearson_matrix.toArray(), annot=True, fmt=\".2f\", cmap='viridis')"
   ]
  },
  {
   "cell_type": "markdown",
   "metadata": {},
   "source": [
    "# Estandarización\n",
    "Como recordamos de los módulos anteriores es deseable que los datos se encuentren estandarizados o normalizados, para evitar que la magnitud de ciertos atributos dominen el proceso de entrenamiento. El módulo `pyspark.ml.feature` tiene varias alternativas. A continuación se presenta una."
   ]
  },
  {
   "cell_type": "code",
   "execution_count": 14,
   "metadata": {},
   "outputs": [
    {
     "name": "stdout",
     "output_type": "stream",
     "text": [
      "+---------+------+---------+-------+----------+------------+----+----+----------+-------+------+--------------------+--------------------+\n",
      "|workclass|fnlwgt|education|marital|occupation|relationship|gain|loss|hours_week|country|target|            features|              scaled|\n",
      "+---------+------+---------+-------+----------+------------+----+----+----------+-------+------+--------------------+--------------------+\n",
      "|      3.0| 77053|        9|    4.0|       7.0|         1.0|   0|4356|        40|    0.0|     0|[3.0,77053.0,9.0,...|[1.84473473501235...|\n",
      "|      0.0|132870|        9|    4.0|       2.0|         1.0|   0|4356|        18|    0.0|     0|[0.0,132870.0,9.0...|[0.0,1.2588349415...|\n",
      "|      3.0|186061|       10|    4.0|       7.0|         3.0|   0|4356|        40|    0.0|     0|[3.0,186061.0,10....|[1.84473473501235...|\n",
      "|      0.0|140359|        4|    2.0|       6.0|         3.0|   0|3900|        40|    0.0|     0|[0.0,140359.0,4.0...|[0.0,1.3297871118...|\n",
      "|      0.0|264663|       10|    3.0|       0.0|         2.0|   0|3900|        40|    0.0|     0|[0.0,264663.0,10....|[0.0,2.5074661859...|\n",
      "|      0.0|216864|        9|    2.0|       5.0|         3.0|   0|3770|        45|    0.0|     0|[0.0,216864.0,9.0...|[0.0,2.0546096241...|\n",
      "|      0.0|150601|        6|    3.0|       3.0|         3.0|   0|3770|        40|    0.0|     0|[0.0,150601.0,6.0...|[0.0,1.4268217131...|\n",
      "|      4.0| 88638|       16|    1.0|       0.0|         5.0|   0|3683|        20|    0.0|     1|[4.0,88638.0,16.0...|[2.45964631334980...|\n",
      "|      6.0|422013|        9|    2.0|       0.0|         1.0|   0|3683|        40|    0.0|     0|[6.0,422013.0,9.0...|[3.68946947002470...|\n",
      "|      0.0| 70037|       10|    1.0|       1.0|         3.0|   0|3004|        60|    2.0|     1|[0.0,70037.0,10.0...|[0.0,0.6635434845...|\n",
      "+---------+------+---------+-------+----------+------------+----+----+----------+-------+------+--------------------+--------------------+\n",
      "only showing top 10 rows\n",
      "\n"
     ]
    }
   ],
   "source": [
    "standard_scaler = StandardScaler(inputCol='features', outputCol='scaled')\n",
    "scale_model = standard_scaler.fit(vector_df)\n",
    "scaled_df = scale_model.transform(vector_df)\n",
    "scaled_df.show(10)\n"
   ]
  },
  {
   "cell_type": "markdown",
   "metadata": {},
   "source": [
    "____\n",
    "\n",
    "# Escritura de la tabla\n",
    "\n",
    "____"
   ]
  },
  {
   "cell_type": "code",
   "execution_count": 15,
   "metadata": {},
   "outputs": [
    {
     "name": "stdout",
     "output_type": "stream",
     "text": [
      "+---------+---------+---------+---------+----------+------------+----+--------+----------+-------+------+\n",
      "|workclass|   fnlwgt|education|  marital|occupation|relationship|gain|    loss|hours_week|country|target|\n",
      "+---------+---------+---------+---------+----------+------------+----+--------+----------+-------+------+\n",
      "|1.8447348|0.7300144|3.4982426|3.6411223| 2.1472657|   0.7355963| 0.0|   10.81| 3.2395408|    0.0|     0|\n",
      "|      0.0| 1.258835|3.4982426|3.6411223|0.61350447|   0.7355963| 0.0|   10.81| 1.4577934|    0.0|     0|\n",
      "|1.8447348|1.7627763|3.8869362|3.6411223| 2.1472657|    2.206789| 0.0|   10.81| 3.2395408|    0.0|     0|\n",
      "|      0.0|1.3297871|1.5547745|1.8205612| 1.8405135|    2.206789| 0.0|9.678374| 3.2395408|    0.0|     0|\n",
      "|      0.0| 2.507466|3.8869362|2.7308419|       0.0|   1.4711926| 0.0|9.678374| 3.2395408|    0.0|     0|\n",
      "+---------+---------+---------+---------+----------+------------+----+--------+----------+-------+------+\n",
      "only showing top 5 rows\n",
      "\n"
     ]
    }
   ],
   "source": [
    "expanded_df = scaled_df.withColumn(\"vec\", vector_to_array(\"scaled\", \"float32\")) \\\n",
    "    .select([\"vec\", \"target\"])\n",
    "\n",
    "columnas_expanded = [\"workclass\", \"fnlwgt\", \"education\", \"marital\", \"occupation\", \"relationship\",\n",
    "            \"gain\", \"loss\", \"hours_week\", \"country\"]\n",
    "columnas_to_select = [col(\"vec\")[i].alias(columnas_expanded[i]) for i in range(10)]\n",
    "columnas_to_select.append(col(\"target\"))\n",
    "\n",
    "depurados_df = expanded_df.select(columnas_to_select)\n",
    "depurados_df.show(5)"
   ]
  },
  {
   "cell_type": "code",
   "execution_count": 16,
   "metadata": {
    "id": "-LtTt2AyTb3d"
   },
   "outputs": [
    {
     "name": "stderr",
     "output_type": "stream",
     "text": [
      "\r",
      "[Stage 32:>                                                         (0 + 1) / 1]\r",
      "\r",
      "                                                                                \r"
     ]
    }
   ],
   "source": [
    "# Almacenar el conjunto de datos limpio en la base de datos\n",
    "\n",
    "depurados_df \\\n",
    "    .write \\\n",
    "    .format(\"jdbc\") \\\n",
    "    .mode(\"overwrite\") \\\n",
    "    .option(\"url\", database_url) \\\n",
    "    .option(\"user\", \"postgres\") \\\n",
    "    .option(\"password\", \"testPassword\") \\\n",
    "    .option(\"dbtable\", \"tarea3\") \\\n",
    "    .save()\n"
   ]
  },
  {
   "cell_type": "markdown",
   "metadata": {
    "id": "93Fc2KNTTb3f"
   },
   "source": [
    "# Inspección de datos\n",
    "Previo a entrenar el modelo es común que se realice algún tipo de descripción de los datos, para tener una idea del tipo de problema con el que nos enfrentamos. A continuación, algunas operacions útiles que podemos usar.\n"
   ]
  },
  {
   "cell_type": "code",
   "execution_count": 17,
   "metadata": {
    "id": "5II3C8K8Tb3g",
    "outputId": "6b22d1ec-2fd8-45e3-b4fb-b590ddedbc39",
    "scrolled": false
   },
   "outputs": [
    {
     "name": "stdout",
     "output_type": "stream",
     "text": [
      "Lectura de tabla: tarea3\n",
      "+---------+---------+---------+---------+----------+------------+----+--------+----------+-------+------+\n",
      "|workclass|   fnlwgt|education|  marital|occupation|relationship|gain|    loss|hours_week|country|target|\n",
      "+---------+---------+---------+---------+----------+------------+----+--------+----------+-------+------+\n",
      "|1.8447348|0.7300144|3.4982426|3.6411223| 2.1472657|   0.7355963| 0.0|   10.81| 3.2395408|    0.0|     0|\n",
      "|      0.0| 1.258835|3.4982426|3.6411223|0.61350447|   0.7355963| 0.0|   10.81| 1.4577934|    0.0|     0|\n",
      "|1.8447348|1.7627763|3.8869362|3.6411223| 2.1472657|    2.206789| 0.0|   10.81| 3.2395408|    0.0|     0|\n",
      "|      0.0|1.3297871|1.5547745|1.8205612| 1.8405135|    2.206789| 0.0|9.678374| 3.2395408|    0.0|     0|\n",
      "|      0.0| 2.507466|3.8869362|2.7308419|       0.0|   1.4711926| 0.0|9.678374| 3.2395408|    0.0|     0|\n",
      "+---------+---------+---------+---------+----------+------------+----+--------+----------+-------+------+\n",
      "only showing top 5 rows\n",
      "\n"
     ]
    }
   ],
   "source": [
    "# Cargar el conjunto de datos. Esta vez desde la base de datos\n",
    "\n",
    "def leerDeTabla(nombreTabla): \n",
    "    df = spark \\\n",
    "        .read \\\n",
    "        .format(\"jdbc\") \\\n",
    "        .option(\"url\", database_url) \\\n",
    "        .option(\"user\", \"postgres\") \\\n",
    "        .option(\"password\", \"testPassword\") \\\n",
    "        .option(\"dbtable\", nombreTabla) \\\n",
    "        .load()\n",
    "    print(\"Lectura de tabla:\", nombreTabla)\n",
    "    df.show(5)\n",
    "    return df\n",
    "\n",
    "df = leerDeTabla(\"tarea3\")"
   ]
  },
  {
   "cell_type": "code",
   "execution_count": 18,
   "metadata": {},
   "outputs": [],
   "source": [
    "assembler = VectorAssembler(\n",
    "    inputCols=[\"workclass\",\"fnlwgt\",\"education\",\"marital\",\"occupation\",\n",
    "                \"relationship\",\"gain\",\"loss\",\"hours_week\",\"country\"],\n",
    "    outputCol=\"features\")\n",
    "\n",
    "vector_df = assembler.transform(df)"
   ]
  },
  {
   "cell_type": "markdown",
   "metadata": {},
   "source": [
    "____\n",
    "\n",
    "## Modelos de entrenamiento usando Cross-validator y evaluación\n",
    "____\n",
    "\n",
    "### Pasos previos"
   ]
  },
  {
   "cell_type": "code",
   "execution_count": 19,
   "metadata": {},
   "outputs": [],
   "source": [
    "# importar bibliotecas\n",
    "from pyspark.ml.classification import (LogisticRegression, MultilayerPerceptronClassifier,\n",
    "                                    RandomForestClassifier)\n",
    "from pyspark.ml.evaluation import MulticlassClassificationEvaluator\n",
    "from pyspark.ml.tuning import CrossValidator, ParamGridBuilder\n",
    "\n",
    "# preparando dataset para el entrenamiento\n",
    "df2 = assembler.transform(df).withColumnRenamed(\"target\", \"label\")\n",
    "\n",
    "# divide la data en entrenamiento y pruebas\n",
    "(trainingData, testData) = df2.randomSplit([0.6, 0.4], 1234)\n",
    "\n",
    "# objeto evaluador\n",
    "evaluator = MulticlassClassificationEvaluator(predictionCol=\"prediction\")\n",
    "\n",
    "\n",
    "def guardarModelo(df, nombreTabla):\n",
    "    df.select([\"workclass\", \"fnlwgt\", \"education\", \"marital\", \"occupation\", \"relationship\",\n",
    "            \"gain\", \"loss\", \"hours_week\", \"country\", \"prediction\"]) \\\n",
    "        .write \\\n",
    "        .format(\"jdbc\") \\\n",
    "        .mode('overwrite') \\\n",
    "        .option(\"url\", database_url) \\\n",
    "        .option(\"user\", \"postgres\") \\\n",
    "        .option(\"password\", \"testPassword\") \\\n",
    "        .option(\"dbtable\", nombreTabla) \\\n",
    "        .save()\n",
    "    print(\"Tabla guardada\", nombreTabla)"
   ]
  },
  {
   "cell_type": "code",
   "execution_count": 20,
   "metadata": {},
   "outputs": [
    {
     "name": "stdout",
     "output_type": "stream",
     "text": [
      "+---------+----------+---------+---------+----------+------------+---------+----+----------+-------+-----+--------------------+\n",
      "|workclass|    fnlwgt|education|  marital|occupation|relationship|     gain|loss|hours_week|country|label|            features|\n",
      "+---------+----------+---------+---------+----------+------------+---------+----+----------+-------+-----+--------------------+\n",
      "|      0.0|0.13045006|3.8869362|      0.0| 1.8405135|         0.0|      0.0| 0.0| 2.4296556|    0.0|    0|(10,[1,2,4,8],[0....|\n",
      "|      0.0|0.17837048|3.8869362|0.9102806| 2.4540179|   0.7355963|      0.0| 0.0| 3.2395408|    0.0|    0|[0.0,0.1783704757...|\n",
      "|      0.0|0.18287072|3.8869362|0.9102806|0.92025673|   0.7355963|      0.0| 0.0|  3.887449|    0.0|    0|[0.0,0.1828707158...|\n",
      "|      0.0|0.18466134|3.8869362|0.9102806|0.30675223|   0.7355963|      0.0| 0.0| 3.2395408|    0.0|    0|[0.0,0.1846613436...|\n",
      "|      0.0|0.18852681|3.4982426|      0.0|0.30675223|         0.0|2.0343137| 0.0| 3.6444836|    0.0|    1|(10,[1,2,4,6,8],[...|\n",
      "+---------+----------+---------+---------+----------+------------+---------+----+----------+-------+-----+--------------------+\n",
      "only showing top 5 rows\n",
      "\n"
     ]
    }
   ],
   "source": [
    "testData.show(5)"
   ]
  },
  {
   "cell_type": "markdown",
   "metadata": {},
   "source": [
    "____\n",
    "\n",
    "## 1. Multilayer Perceptron Classifier\n",
    "____"
   ]
  },
  {
   "cell_type": "code",
   "execution_count": 21,
   "metadata": {},
   "outputs": [
    {
     "name": "stdout",
     "output_type": "stream",
     "text": [
      "Tabla guardada modelo1\n",
      "Lectura de tabla: modelo1\n",
      "+---------+----------+---------+---------+----------+------------+---------+----+----------+-------+----------+\n",
      "|workclass|    fnlwgt|education|  marital|occupation|relationship|     gain|loss|hours_week|country|prediction|\n",
      "+---------+----------+---------+---------+----------+------------+---------+----+----------+-------+----------+\n",
      "|      0.0|0.13045006|3.8869362|      0.0| 1.8405135|         0.0|      0.0| 0.0| 2.4296556|    0.0|       0.0|\n",
      "|      0.0|0.17837048|3.8869362|0.9102806| 2.4540179|   0.7355963|      0.0| 0.0| 3.2395408|    0.0|       0.0|\n",
      "|      0.0|0.18287072|3.8869362|0.9102806|0.92025673|   0.7355963|      0.0| 0.0|  3.887449|    0.0|       0.0|\n",
      "|      0.0|0.18466134|3.8869362|0.9102806|0.30675223|   0.7355963|      0.0| 0.0| 3.2395408|    0.0|       0.0|\n",
      "|      0.0|0.18852681|3.4982426|      0.0|0.30675223|         0.0|2.0343137| 0.0| 3.6444836|    0.0|       1.0|\n",
      "+---------+----------+---------+---------+----------+------------+---------+----+----------+-------+----------+\n",
      "only showing top 5 rows\n",
      "\n",
      "Precisión = 0.830496\n"
     ]
    }
   ],
   "source": [
    "# capas de la red neuronal:\n",
    "# 10 (features), dos capas intermedias\n",
    "# salida de dos clases\n",
    "layers = [10, 5, 4, 2]\n",
    "\n",
    "ml_trainer = MultilayerPerceptronClassifier()\n",
    "\n",
    "grid = ParamGridBuilder() \\\n",
    "    .addGrid(ml_trainer.maxIter,[100]) \\\n",
    "    .addGrid(ml_trainer.layers, [layers]) \\\n",
    "    .addGrid(ml_trainer.blockSize,[128]) \\\n",
    "    .addGrid(ml_trainer.seed, [1234]) \\\n",
    "    .build()\n",
    "evaluator = MulticlassClassificationEvaluator()\n",
    "crossval = CrossValidator(estimator=ml_trainer, \n",
    "                          estimatorParamMaps=grid, \n",
    "                          evaluator=evaluator, \n",
    "                          parallelism=2,\n",
    "                          numFolds=4)\n",
    "\n",
    "\n",
    "ml_model = crossval.fit(trainingData)\n",
    "ml_predictions = ml_model.transform(testData)\n",
    "\n",
    "# evalúa, guarda y vuelve a leer\n",
    "evaluacionModelo1 = evaluator.evaluate(ml_predictions)\n",
    "guardarModelo(ml_predictions, \"modelo1\")\n",
    "leerDeTabla(\"modelo1\")\n",
    "print(\"Precisión = %g\" % (evaluacionModelo1))\n",
    "\n"
   ]
  },
  {
   "cell_type": "markdown",
   "metadata": {},
   "source": [
    "____\n",
    "\n",
    "## 2. Random Forest Classifier\n",
    "____"
   ]
  },
  {
   "cell_type": "code",
   "execution_count": 22,
   "metadata": {},
   "outputs": [
    {
     "name": "stdout",
     "output_type": "stream",
     "text": [
      "Tabla guardada modelo2\n",
      "Lectura de tabla: modelo2\n",
      "+---------+----------+---------+---------+----------+------------+---------+----+----------+-------+----------+\n",
      "|workclass|    fnlwgt|education|  marital|occupation|relationship|     gain|loss|hours_week|country|prediction|\n",
      "+---------+----------+---------+---------+----------+------------+---------+----+----------+-------+----------+\n",
      "|      0.0|0.13045006|3.8869362|      0.0| 1.8405135|         0.0|      0.0| 0.0| 2.4296556|    0.0|       0.0|\n",
      "|      0.0|0.17837048|3.8869362|0.9102806| 2.4540179|   0.7355963|      0.0| 0.0| 3.2395408|    0.0|       0.0|\n",
      "|      0.0|0.18287072|3.8869362|0.9102806|0.92025673|   0.7355963|      0.0| 0.0|  3.887449|    0.0|       0.0|\n",
      "|      0.0|0.18466134|3.8869362|0.9102806|0.30675223|   0.7355963|      0.0| 0.0| 3.2395408|    0.0|       0.0|\n",
      "|      0.0|0.18852681|3.4982426|      0.0|0.30675223|         0.0|2.0343137| 0.0| 3.6444836|    0.0|       1.0|\n",
      "+---------+----------+---------+---------+----------+------------+---------+----+----------+-------+----------+\n",
      "only showing top 5 rows\n",
      "\n",
      "Precisión = 0.833573\n"
     ]
    }
   ],
   "source": [
    "# Creación, Entrenamiento y Predicción del modelo\n",
    "\n",
    "rf_trainer = RandomForestClassifier(labelCol=\"label\",\n",
    "                                    featuresCol=\"features\", numTrees=10, maxBins = 42)\n",
    "\n",
    "grid = ParamGridBuilder().build()\n",
    "crossval = CrossValidator(estimator=rf_trainer,\n",
    "                          estimatorParamMaps=grid,\n",
    "                          evaluator=evaluator,\n",
    "                          parallelism=2,\n",
    "                          numFolds=4)\n",
    "\n",
    "rf_model = crossval.fit(trainingData)\n",
    "rf_predictions = rf_model.transform(testData)\n",
    "\n",
    "# evalúa, guarda y vuelve a leer\n",
    "evaluacionModelo2 = evaluator.evaluate(rf_predictions)\n",
    "guardarModelo(rf_predictions, \"modelo2\")\n",
    "leerDeTabla(\"modelo2\")\n",
    "print(\"Precisión = %g\" % (evaluacionModelo2))\n"
   ]
  },
  {
   "cell_type": "markdown",
   "metadata": {},
   "source": [
    "## Análisis de resultados\n",
    "\n",
    "**Resultado de Modelo 1 (Multilayer Perceptron Classifier)**\n",
    "\n",
    "Usando Multilayer Perceptron, se obtienen buenos resultados con una precisión del 83% aproximadamente. Para este caso, solo se tuvo que aplicar las capas bien (inical con cantidad de features de entrada, salida con cantidad de clases del clasificador) y buscar una combinación que dé buenos resultados.\n",
    "\n",
    "\n",
    "**Resultado de Modelo 2 (RandomForestClassifier)**\n",
    "\n",
    "Usando Random Forest, se logran buenos resultados con una precisión del 83% aproximadamente, queda como aprendizaje que al principio se tuvieron problemas con los datos, dado que por defecto solo acepta un máximo de Bins de 32, pero en nuestro caso teníamos unos datos categóricos de 42 registros, por lo que para corregirlo se podía extender los bins o eliminar el campo, por lo que se decidió aumentar los BINS, que tuvo como resultado un aumento de la precisión.\n",
    "\n",
    "**Comparación entre modelos**\n",
    "\n",
    "Aplicando una comparación de los resultados las diferencias son mínimas donde ambas pruebas aplicaron un 83% aproximadamente.\n",
    "\n",
    "Una diferencia a notar entre usar un evaluador normal y un evaluador utilizando el k-fold es que usando el segundo se obtuvo un resultado más preciso."
   ]
  },
  {
   "cell_type": "code",
   "execution_count": null,
   "metadata": {},
   "outputs": [],
   "source": []
  }
 ],
 "metadata": {
  "celltoolbar": "Edit Metadata",
  "colab": {
   "name": "BigData-Leccion5.ipynb",
   "provenance": []
  },
  "kernelspec": {
   "display_name": "Python 3 (ipykernel)",
   "language": "python",
   "name": "python3"
  },
  "language_info": {
   "codemirror_mode": {
    "name": "ipython",
    "version": 3
   },
   "file_extension": ".py",
   "mimetype": "text/x-python",
   "name": "python",
   "nbconvert_exporter": "python",
   "pygments_lexer": "ipython3",
   "version": "3.7.10"
  }
 },
 "nbformat": 4,
 "nbformat_minor": 1
}
