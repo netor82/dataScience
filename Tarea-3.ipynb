{
 "cells": [
  {
   "cell_type": "code",
   "execution_count": 6,
   "id": "ad238baa",
   "metadata": {},
   "outputs": [],
   "source": [
    "import numpy as np\n",
    "import pandas as pd\n",
    "import torch as torch\n",
    "import sklearn.preprocessing as preprocessing\n",
    "from sklearn.model_selection import train_test_split\n",
    "from sklearn.metrics import accuracy_score\n",
    "from sklearn.tree import DecisionTreeClassifier\n",
    "from sklearn.ensemble import RandomForestClassifier\n",
    "\n",
    "from matplotlib import pyplot as plt\n",
    "import seaborn as sns\n",
    "%matplotlib inline"
   ]
  },
  {
   "cell_type": "code",
   "execution_count": 7,
   "id": "729d5e36",
   "metadata": {},
   "outputs": [],
   "source": [
    "## función para graficar\n",
    "def graficar(X, Y1, Y2, xlabel, ylabel):\n",
    "    \n",
    "    if Y2:\n",
    "        _, (ax1, ax2) = plt.subplots(1, 2, sharey=False)\n",
    "\n",
    "        ax1.plot(X, Y1)\n",
    "        ax1.set_xlabel(xlabel)\n",
    "        ax1.set_ylabel(ylabel)\n",
    "        ax2.set_xlabel(xlabel)\n",
    "        ax2.plot(X, Y2)\n",
    "    else:\n",
    "        plt.plot(X, Y1)\n",
    "        plt.xlabel(xlabel)        \n",
    "        plt.ylabel(ylabel)\n",
    "\n",
    "    plt.suptitle(\"Error datos de entrenamiento y datos de prueba\")\n",
    "    plt.tight_layout(pad=3.0)\n",
    "\n",
    "    plt.show()"
   ]
  },
  {
   "cell_type": "code",
   "execution_count": 8,
   "id": "7d9bc999",
   "metadata": {},
   "outputs": [],
   "source": [
    "## reemplazos textuales para curar los datos del dataset\n",
    "replacements = [\n",
    "[\"\\\"This Listing Is For Verified\", \"This Listing Is For Verified\", -1],\n",
    "[\"\\\"This subtropical\", \"This subtropical\", -1],\n",
    "[\"\\\"This po\", \"This po\", -1],\n",
    "[\"\\\"Mr. H\", \"Mr. H\", -1],\n",
    "[\"\\\"An engaging\", \"An engaging\", -1],\n",
    "[\",\\\"Professional F\", \",Professional F\", -1],\n",
    "[\",\\\"Professional D\", \",Professional D\", -1],\n",
    "[\"SKU:90183\\\"\", \"SKU:90183\", -1],\n",
    "[\"\\\"Encryption\", \"Encryption\", -1],\n",
    "[\"\\\"ProSoma\", \"ProSoma\", -1],\n",
    "[\"\\\"If you’\", \"If you’\", -1],\n",
    "[\",\\\"Named\", \"Named\", -1],\n",
    "[\",\\\"THC\", \",THC\", -1],\n",
    "[\"\\\"Strassman'\", \"Strassman'\", -1],\n",
    "[\"\\\"You d\", \"You d\", -1],\n",
    "[\",\\\"This is your\", \",This is your\", -1],\n",
    "[\"35,\\\"P\", \"35,P\", -1],\n",
    "[\"wing,\\\"\", \"wing,\", -1],\n",
    "[\"22,\\\"I\", \"22,I\", -1],\n",
    "[\",\\\"G13\", \",G13\", -1],\n",
    "[\"0,\\\"Pl\", \"0,Pl\", -1],\n",
    "[\"s Sunglasses Replica are 1:1  ...\", \"s Sunglasses Replica are 1:1 ...\\\"\", -1],\n",
    "[\"],,,,\", \"],\", -1],\n",
    "[\",David Icke (\", \",\\\"David Icke (\", -1],\n",
    "[\"r Bud,I\", \"r Bud,\\\"I\", -1],\n",
    "[\"hone,B\", \"hone,\\\"B\", -1],\n",
    "[\"h,I r\", \"h,\\\"I r\", -1],\n",
    "[\".,0.01547\", \".\\\",0.01547\", -1],\n",
    "[\"~5/5,,\", \"~5/5,\", -1],\n",
    "[\".,2.32555\", \".\\\",2.32555\", -1],\n",
    "[\"/5,,\", \"/5,\", -1],\n",
    "[\".,0.130088\", \".\\\",0.130088\", -1],\n",
    "[\"tazepam,\", \"tazepam\\\",\", -1],\n",
    "[\"E,15.8\", \"E\\\",15.8\", -1],\n",
    "[\"Quality\\\"\\\" we've all come to know and love. This MD ...\\\",1\", \n",
    "                        \"Quality we've all come to know and love. This MD ...,1\", -1] ]\n",
    "\n",
    "with open(\"Agora2.csv\", \"wb\") as nuevoArchivo: # trunca el archivo si ya existe\n",
    "    with open(\"Agora.csv\", mode=\"r\", encoding=\"UTF-8\", errors=\"ignore\") as archivoOriginal:\n",
    "        numero = 1\n",
    "        for linea in archivoOriginal:\n",
    "            if numero == 5000:\n",
    "                break\n",
    "            try:\n",
    "                # se corrigen los errores encontrados\n",
    "                for rep in replacements:\n",
    "                    modified = False\n",
    "                    if rep[0] in linea:\n",
    "                        if not modified:\n",
    "                            rep[2] = numero\n",
    "                            modified = True\n",
    "                        linea = linea.replace(rep[0], rep[1])\n",
    "                \n",
    "                # se almacena el texto en el nuevo archivo\n",
    "                linea = linea.encode(\"utf-8\")\n",
    "                nuevoArchivo.write(linea)\n",
    "            except Exception as e:\n",
    "                print(\"Error con el string\", numero, linea, e)\n",
    "                raise e\n",
    "            finally:\n",
    "                numero += 1\n",
    "\n",
    "# replacements"
   ]
  },
  {
   "cell_type": "code",
   "execution_count": 9,
   "id": "d1d929db",
   "metadata": {},
   "outputs": [
    {
     "data": {
      "text/html": [
       "<div>\n",
       "<style scoped>\n",
       "    .dataframe tbody tr th:only-of-type {\n",
       "        vertical-align: middle;\n",
       "    }\n",
       "\n",
       "    .dataframe tbody tr th {\n",
       "        vertical-align: top;\n",
       "    }\n",
       "\n",
       "    .dataframe thead th {\n",
       "        text-align: right;\n",
       "    }\n",
       "</style>\n",
       "<table border=\"1\" class=\"dataframe\">\n",
       "  <thead>\n",
       "    <tr style=\"text-align: right;\">\n",
       "      <th></th>\n",
       "      <th>Vendor</th>\n",
       "      <th>Category</th>\n",
       "      <th>Item</th>\n",
       "      <th>Item Description</th>\n",
       "      <th>Price</th>\n",
       "      <th>Origin</th>\n",
       "      <th>Destination</th>\n",
       "      <th>Rating</th>\n",
       "      <th>Remarks</th>\n",
       "    </tr>\n",
       "  </thead>\n",
       "  <tbody>\n",
       "    <tr>\n",
       "      <th>count</th>\n",
       "      <td>4998</td>\n",
       "      <td>4998</td>\n",
       "      <td>4998</td>\n",
       "      <td>4998</td>\n",
       "      <td>4998</td>\n",
       "      <td>3521</td>\n",
       "      <td>1525</td>\n",
       "      <td>4998</td>\n",
       "      <td>721</td>\n",
       "    </tr>\n",
       "    <tr>\n",
       "      <th>unique</th>\n",
       "      <td>339</td>\n",
       "      <td>21</td>\n",
       "      <td>4953</td>\n",
       "      <td>3930</td>\n",
       "      <td>4870</td>\n",
       "      <td>61</td>\n",
       "      <td>84</td>\n",
       "      <td>74</td>\n",
       "      <td>1</td>\n",
       "    </tr>\n",
       "    <tr>\n",
       "      <th>top</th>\n",
       "      <td>fake</td>\n",
       "      <td>Drugs/Prescription</td>\n",
       "      <td>Social Engineering: The Art of Human Hacking</td>\n",
       "      <td>This shipment is with tracking number. The shi...</td>\n",
       "      <td>0.00415549 BTC</td>\n",
       "      <td>USA</td>\n",
       "      <td>Worldwide</td>\n",
       "      <td>5.00/5</td>\n",
       "      <td>Average price may be skewed outliar &gt; .5 BTC f...</td>\n",
       "    </tr>\n",
       "    <tr>\n",
       "      <th>freq</th>\n",
       "      <td>467</td>\n",
       "      <td>1057</td>\n",
       "      <td>3</td>\n",
       "      <td>96</td>\n",
       "      <td>29</td>\n",
       "      <td>691</td>\n",
       "      <td>492</td>\n",
       "      <td>839</td>\n",
       "      <td>721</td>\n",
       "    </tr>\n",
       "  </tbody>\n",
       "</table>\n",
       "</div>"
      ],
      "text/plain": [
       "       Vendor            Category  \\\n",
       "count    4998                4998   \n",
       "unique    339                  21   \n",
       "top      fake  Drugs/Prescription   \n",
       "freq      467                1057   \n",
       "\n",
       "                                                Item  \\\n",
       "count                                           4998   \n",
       "unique                                          4953   \n",
       "top     Social Engineering: The Art of Human Hacking   \n",
       "freq                                               3   \n",
       "\n",
       "                                         Item Description           Price  \\\n",
       "count                                                4998            4998   \n",
       "unique                                               3930            4870   \n",
       "top     This shipment is with tracking number. The shi...  0.00415549 BTC   \n",
       "freq                                                   96              29   \n",
       "\n",
       "        Origin  Destination  Rating  \\\n",
       "count     3521         1525    4998   \n",
       "unique      61           84      74   \n",
       "top        USA    Worldwide  5.00/5   \n",
       "freq       691          492     839   \n",
       "\n",
       "                                                  Remarks  \n",
       "count                                                 721  \n",
       "unique                                                  1  \n",
       "top     Average price may be skewed outliar > .5 BTC f...  \n",
       "freq                                                  721  "
      ]
     },
     "execution_count": 9,
     "metadata": {},
     "output_type": "execute_result"
    }
   ],
   "source": [
    "df = pd.read_csv(\"Agora2.csv\")\n",
    "df.describe()"
   ]
  },
  {
   "cell_type": "code",
   "execution_count": 10,
   "id": "3816cf96",
   "metadata": {},
   "outputs": [
    {
     "name": "stdout",
     "output_type": "stream",
     "text": [
      "Cantidad de filas iniciales: 4998\n",
      "Cantidad de filas sin outliars: 4277\n",
      "Cantidad de filas con rating no nulo: 4277\n",
      "Cantidad de filas con ratings válidos: 4088\n",
      "Cantidad de filas con precio: 4088\n",
      "cantidad de precios en BTC: 4088\n",
      "Columnas restantes: Index(['Vendor', ' Category', ' Price', ' Rating'], dtype='object')\n"
     ]
    },
    {
     "data": {
      "text/html": [
       "<div>\n",
       "<style scoped>\n",
       "    .dataframe tbody tr th:only-of-type {\n",
       "        vertical-align: middle;\n",
       "    }\n",
       "\n",
       "    .dataframe tbody tr th {\n",
       "        vertical-align: top;\n",
       "    }\n",
       "\n",
       "    .dataframe thead th {\n",
       "        text-align: right;\n",
       "    }\n",
       "</style>\n",
       "<table border=\"1\" class=\"dataframe\">\n",
       "  <thead>\n",
       "    <tr style=\"text-align: right;\">\n",
       "      <th></th>\n",
       "      <th>Price</th>\n",
       "      <th>Rating</th>\n",
       "    </tr>\n",
       "  </thead>\n",
       "  <tbody>\n",
       "    <tr>\n",
       "      <th>count</th>\n",
       "      <td>4.088000e+03</td>\n",
       "      <td>4088.000000</td>\n",
       "    </tr>\n",
       "    <tr>\n",
       "      <th>mean</th>\n",
       "      <td>6.705033e+00</td>\n",
       "      <td>4.866215</td>\n",
       "    </tr>\n",
       "    <tr>\n",
       "      <th>std</th>\n",
       "      <td>3.511620e+02</td>\n",
       "      <td>0.337424</td>\n",
       "    </tr>\n",
       "    <tr>\n",
       "      <th>min</th>\n",
       "      <td>1.000000e-07</td>\n",
       "      <td>0.000000</td>\n",
       "    </tr>\n",
       "    <tr>\n",
       "      <th>25%</th>\n",
       "      <td>2.818479e-02</td>\n",
       "      <td>4.827750</td>\n",
       "    </tr>\n",
       "    <tr>\n",
       "      <th>50%</th>\n",
       "      <td>1.000080e-01</td>\n",
       "      <td>4.960000</td>\n",
       "    </tr>\n",
       "    <tr>\n",
       "      <th>75%</th>\n",
       "      <td>2.541704e-01</td>\n",
       "      <td>4.994000</td>\n",
       "    </tr>\n",
       "    <tr>\n",
       "      <th>max</th>\n",
       "      <td>2.198500e+04</td>\n",
       "      <td>5.000000</td>\n",
       "    </tr>\n",
       "  </tbody>\n",
       "</table>\n",
       "</div>"
      ],
      "text/plain": [
       "              Price       Rating\n",
       "count  4.088000e+03  4088.000000\n",
       "mean   6.705033e+00     4.866215\n",
       "std    3.511620e+02     0.337424\n",
       "min    1.000000e-07     0.000000\n",
       "25%    2.818479e-02     4.827750\n",
       "50%    1.000080e-01     4.960000\n",
       "75%    2.541704e-01     4.994000\n",
       "max    2.198500e+04     5.000000"
      ]
     },
     "execution_count": 10,
     "metadata": {},
     "output_type": "execute_result"
    }
   ],
   "source": [
    "print('Cantidad de filas iniciales:', df.shape[0])\n",
    "\n",
    "# queda en 10737 si outliers\n",
    "df = df[df[\" Remarks\"] != \"Average price may be skewed outliar > .5 BTC found\"]\n",
    "print('Cantidad de filas sin outliars:', df.shape[0])\n",
    "\n",
    "# Elimina entradas sin rating\n",
    "df.dropna(subset = [\" Rating\"], inplace=True)\n",
    "print('Cantidad de filas con rating no nulo:', df.shape[0])\n",
    "\n",
    "# se deja los Ratings válidos - que terminan en '/5'\n",
    "df = df[df[\" Rating\"].str.endswith(\"/5\")]\n",
    "print('Cantidad de filas con ratings válidos:', df.shape[0])\n",
    "\n",
    "# Todas las entradas tienen precio, entonces **no elimina** ninguna fila\n",
    "df.dropna(subset = [\" Price\"], inplace=True)\n",
    "print('Cantidad de filas con precio:', df.shape[0])\n",
    "\n",
    "# Verifica la cantidad de entradas que terminan con 'BTC'\n",
    "print('cantidad de precios en BTC:', df[\" Price\"].str.endswith('BTC').count() )\n",
    "\n",
    "# texto a números\n",
    "df[\" Price\"]  = df[\" Price\"].str.replace(\" BTC\" , \"\")\n",
    "df[\" Rating\"] = df[\" Rating\"].str.replace(\"/5\" , \"\")\n",
    "df[\" Rating\"] = df[\" Rating\"].str.replace(\"~\" , \"\")\n",
    "df[\" Price\"]  = pd.to_numeric(df[\" Price\"], errors =\"coerce\")\n",
    "df[\" Rating\"] = pd.to_numeric(df[\" Rating\"], errors =\"coerce\")\n",
    "\n",
    "\n",
    "\n",
    "# eliminar features no necesarios\n",
    "df.drop(columns=[\" Item\", \" Item Description\", \" Origin\", \" Destination\", \" Remarks\"], inplace=True)\n",
    "print('Columnas restantes:', df.columns)\n",
    "\n",
    "df.describe()"
   ]
  },
  {
   "cell_type": "code",
   "execution_count": 11,
   "id": "a6dd0aec",
   "metadata": {},
   "outputs": [],
   "source": [
    "def soloCategoria(cat):\n",
    "    posInicio = cat.find(\"/\")\n",
    "    if posInicio == -1:\n",
    "        return cat\n",
    "    \n",
    "    posFin = cat.rindex(\"/\")\n",
    "    if posInicio == posFin:\n",
    "        return cat[posInicio+1:]\n",
    "    return cat[posInicio+1:posFin]\n",
    "\n",
    "# usa la subcategoría\n",
    "df[\" Category\"] = df[ \" Category\" ].apply(soloCategoria)\n",
    "\n",
    "# codifica la categoría usando one-hot-encoding\n",
    "oneHotEncoded = pd.get_dummies(df, columns=[\" Category\"], prefix=\"Cat\")\n",
    "\n",
    "\n",
    "## Retorna la categoría correspondiente al rating.\n",
    "## El valor Rating de los datos está en el rango [2.6, 5.0]\n",
    "## Categorías resultantes:\n",
    "## - 2: bueno\n",
    "## - 1: regular\n",
    "## - 0: malo\n",
    "def categoriasDeRating(valor):\n",
    "    if valor > 4.1:\n",
    "        return 2 # bueno\n",
    "    if valor > 3.2:\n",
    "        return 1 # regular\n",
    "    return 0 #malo\n",
    "\n",
    "df[\" RatingClass\"] = df[ \" Rating\" ].apply(categoriasDeRating)"
   ]
  },
  {
   "cell_type": "code",
   "execution_count": 12,
   "id": "3079acfe",
   "metadata": {
    "scrolled": false
   },
   "outputs": [
    {
     "name": "stdout",
     "output_type": "stream",
     "text": [
      "0       4.96\n",
      "1       4.96\n",
      "2       4.93\n",
      "3       4.89\n",
      "4       4.88\n",
      "        ... \n",
      "4993    4.96\n",
      "4994    4.67\n",
      "4995    4.96\n",
      "4996    4.96\n",
      "4997    4.96\n",
      "Name:  Rating, Length: 4088, dtype: float64\n",
      "Datos codificados usando one-hot-encoding 4088\n",
      "Total columnas:  20 Index([' Price', 'Cat_Accounts', 'Cat_Clothing', 'Cat_Electronics',\n",
      "       'Cat_Guides', 'Cat_Hacking', 'Cat_Jewelry', 'Cat_Money', 'Cat_Other',\n",
      "       'Cat_Physical documents', 'Cat_Pipes', 'Cat_Pirated',\n",
      "       'Cat_Prescription', 'Cat_RCs', 'Cat_Scans', 'Cat_Smoked',\n",
      "       'Cat_Software', 'Cat_Steroids', 'Cat_Weight loss', 'Cat_eBooks'],\n",
      "      dtype='object')\n"
     ]
    }
   ],
   "source": [
    "print(df[\" Rating\"])\n",
    "oneHotEncoded.drop(columns=[\"Vendor\", \" Rating\"], inplace=True)\n",
    "print(\"Datos codificados usando one-hot-encoding\", oneHotEncoded.shape[0])\n",
    "print(\"Total columnas: \", oneHotEncoded.shape[1], oneHotEncoded.columns)"
   ]
  },
  {
   "cell_type": "code",
   "execution_count": 13,
   "id": "8fe66e11",
   "metadata": {},
   "outputs": [
    {
     "name": "stdout",
     "output_type": "stream",
     "text": [
      "Cantidad de valores para entrenar: 3066\n",
      "Cantidad de valores para comprobar: 1022\n"
     ]
    }
   ],
   "source": [
    "## datos para usar regresión\n",
    "X_train, X_test, Y_train, Y_test = train_test_split(oneHotEncoded, df[\" Rating\"], random_state=13)\n",
    "print(\"Cantidad de valores para entrenar:\", Y_train.shape[0])\n",
    "print(\"Cantidad de valores para comprobar:\", Y_test.shape[0])"
   ]
  },
  {
   "cell_type": "code",
   "execution_count": 14,
   "id": "3c3a7f91",
   "metadata": {},
   "outputs": [
    {
     "data": {
      "image/png": "[encoded data removed]",
      "text/plain": [
       "<Figure size 432x288 with 2 Axes>"
      ]
     },
     "metadata": {
      "needs_background": "light"
     },
     "output_type": "display_data"
    }
   ],
   "source": [
    "# regresión lineal usando pytorch\n",
    "\n",
    "## modelo lineal\n",
    "def modeloLineal(x, w, b):\n",
    "    return x @ w + b\n",
    "\n",
    "## función de cálculo de error, usando mse\n",
    "def mse(t1, t2):\n",
    "    diff = t1 - t2\n",
    "    return torch.sum(diff * diff) / diff.numel()\n",
    "\n",
    "\n",
    "## Calcula un epoch más para la regresión lineal\n",
    "def regresionLinealForward(metrica, inputs, targets, w, b):\n",
    "    preds = modeloLineal(inputs, w, b)\n",
    "    loss = metrica(preds, targets)\n",
    "    loss.backward()\n",
    "    with torch.no_grad():\n",
    "        w -= w.grad * 1e-5\n",
    "        b -= b.grad * 1e-5\n",
    "        w.grad.zero_()\n",
    "        b.grad.zero_()\n",
    "        error = loss.numpy()\n",
    "    return error\n",
    "\n",
    "## Va entrenando la regresión lineal y calculando la tasa de error\n",
    "## de los datos para pruebas\n",
    "def testRegresionLineal():\n",
    "    # convierte a tensor de pytorch\n",
    "    inputs = torch.tensor(X_train.values)\n",
    "    target = torch.tensor(Y_train.values)\n",
    "    \n",
    "    inputs_test = torch.tensor(X_test.values)\n",
    "    target_test = torch.tensor(Y_test.values)\n",
    "    \n",
    "    # valores iniciales, aleatorios\n",
    "    torch.manual_seed(0)\n",
    "    w = torch.randn(inputs.shape[1], 1, dtype=torch.float64, requires_grad=True)\n",
    "    b = torch.randn(1, dtype=torch.float64, requires_grad=True)\n",
    "    \n",
    "    # epochs\n",
    "    iteraciones = range(5)\n",
    "    erroresEntrenamiento = []\n",
    "    erroresPruebas = []\n",
    "    for i in iteraciones:\n",
    "        # un paso de entrenamiento\n",
    "        errorEntrenamiento = regresionLinealForward(mse, inputs, target, w, b)\n",
    "        erroresEntrenamiento.append(errorEntrenamiento)\n",
    "        \n",
    "        # test con el modelo resultante\n",
    "        predicciones = modeloLineal(inputs_test, w, b)\n",
    "        errorTest = mse(predicciones, target_test)\n",
    "        with torch.no_grad():\n",
    "            erroresPruebas.append(errorTest.numpy())\n",
    "        \n",
    "    #print(erroresEntrenamiento)\n",
    "    #print(erroresPruebas)\n",
    "    graficar(iteraciones, erroresEntrenamiento, erroresPruebas, \"iteraciones\", \"error\")\n",
    "    \n",
    "testRegresionLineal()"
   ]
  },
  {
   "cell_type": "code",
   "execution_count": 15,
   "id": "3855ff4f",
   "metadata": {},
   "outputs": [],
   "source": [
    "## datos para usar clasificación\n",
    "X_class_train, X_class_test, Y_class_train, Y_class_test = train_test_split(oneHotEncoded, df[\" RatingClass\"], random_state=13)"
   ]
  },
  {
   "cell_type": "code",
   "execution_count": 18,
   "id": "534a10e7",
   "metadata": {},
   "outputs": [
    {
     "name": "stdout",
     "output_type": "stream",
     "text": [
      "[0.987279843444227, 0.987279843444227, 0.9863013698630136, 0.9853228962818004]\n"
     ]
    },
    {
     "data": {
      "image/png": "[encoded data removed]",
      "text/plain": [
       "<Figure size 432x288 with 1 Axes>"
      ]
     },
     "metadata": {
      "needs_background": "light"
     },
     "output_type": "display_data"
    }
   ],
   "source": [
    "## Función auxiliar\n",
    "def ajustarYEvaluarModelo(modelo):\n",
    "    modelo.fit(X_class_train, Y_class_train)\n",
    "    y_predict = modelo.predict(X_class_test)\n",
    "    acc = accuracy_score(Y_class_test, y_predict)\n",
    "    return acc\n",
    "\n",
    "## Utilizando árboles de decisión\n",
    "\n",
    "def testDecisionTree():\n",
    "    profundidades = range(3, 7)\n",
    "    precision = []\n",
    "    for i in profundidades:\n",
    "        modelo = DecisionTreeClassifier(max_depth = i)\n",
    "        precision.append(ajustarYEvaluarModelo(modelo))\n",
    "\n",
    "    print(precision)\n",
    "    graficar(profundidades, precision, None, \"Profundidad\", \"Precisión\")\n",
    "\n",
    "testDecisionTree()"
   ]
  },
  {
   "cell_type": "code",
   "execution_count": 19,
   "id": "4ee59a60",
   "metadata": {},
   "outputs": [
    {
     "name": "stdout",
     "output_type": "stream",
     "text": [
      "[0.987279843444227, 0.987279843444227, 0.987279843444227, 0.987279843444227]\n"
     ]
    },
    {
     "data": {
      "image/png": "[encoded data removed]",
      "text/plain": [
       "<Figure size 432x288 with 1 Axes>"
      ]
     },
     "metadata": {
      "needs_background": "light"
     },
     "output_type": "display_data"
    }
   ],
   "source": [
    "## Utilizando random forest\n",
    "def testRandomForest():\n",
    "    profundidades = range(3, 7)\n",
    "    precision = []\n",
    "    for i in profundidades:\n",
    "        modelo = RandomForestClassifier(min_samples_leaf=3, max_depth=i)\n",
    "        precision.append(ajustarYEvaluarModelo(modelo))\n",
    "\n",
    "    print(precision)\n",
    "    graficar(profundidades, precision, None, \"Profundidad\", \"Precisión\")\n",
    "\n",
    "testRandomForest()"
   ]
  },
  {
   "cell_type": "code",
   "execution_count": 20,
   "id": "cd052e29",
   "metadata": {},
   "outputs": [],
   "source": [
    "df=df[df[\" Price\"] <= 5]\n",
    "\n",
    "df.fillna(df[\" Price\"].median(), inplace = True)\n",
    "df.fillna(df[\" Rating\"].median(), inplace = True)\n",
    "df = df.round({\" Rating\": 2, \" Price\": 4})"
   ]
  },
  {
   "cell_type": "code",
   "execution_count": 21,
   "id": "24f57611",
   "metadata": {},
   "outputs": [
    {
     "name": "stdout",
     "output_type": "stream",
     "text": [
      "{'Hacking': 1, 'Other': 2, 'RCs': 3, 'Physical documents': 4, 'Smoked': 5, 'Money': 6, 'Software': 7, 'Accounts': 8, 'Clothing': 9, 'eBooks': 10, 'Electronics': 11, 'Pipes': 12, 'Weight loss': 13, 'Pirated': 14, 'Steroids': 15, 'Prescription': 16, 'Guides': 17, 'Scans': 18, 'Jewelry': 19}\n"
     ]
    }
   ],
   "source": [
    "val = {}\n",
    "ind_val = 1\n",
    "for cate in df[\" Category\"].unique():\n",
    "    if cate not in val:\n",
    "        val.update({cate: ind_val})\n",
    "        ind_val += 1\n",
    "\n",
    "def cateToNum(cat):\n",
    "    if cat in val:\n",
    "        return val[cat]\n",
    "\n",
    "# usa la subcategoría\n",
    "df[\" Category\"] = df[ \" Category\" ].apply(cateToNum)\n",
    "\n",
    "# codifica la categoría\n",
    "print(val)"
   ]
  },
  {
   "cell_type": "code",
   "execution_count": 22,
   "id": "787d93fb",
   "metadata": {},
   "outputs": [],
   "source": [
    "val3 = {}\n",
    "ind_val3 = 1\n",
    "for cate in df[\"Vendor\"].unique():\n",
    "    if cate not in val:\n",
    "        val3.update({cate: ind_val3})\n",
    "        ind_val3 += 1\n",
    "\n",
    "def vendorToNum(cat):\n",
    "    if cat in val3:\n",
    "        return val3[cat]\n",
    "\n",
    "# usa la subcategoría\n",
    "df[\"Vendor\"] = df[ \"Vendor\" ].apply(vendorToNum)"
   ]
  },
  {
   "cell_type": "code",
   "execution_count": 23,
   "id": "3ba66b57",
   "metadata": {},
   "outputs": [],
   "source": [
    "# val2 = {}\n",
    "# ind_val2 = 1\n",
    "# for cate in df[\" Item\"].unique():\n",
    "#     if cate not in val:\n",
    "#         val2.update({cate: ind_val2})\n",
    "#         ind_val2 += 1\n",
    "\n",
    "# def itemToNum(cat):\n",
    "#     if cat in val2:\n",
    "#         return val2[cat]\n",
    "\n",
    "# # usa la subcategoría\n",
    "# df[\" Item\"] = df[ \" Item\" ].apply(itemToNum)"
   ]
  },
  {
   "cell_type": "code",
   "execution_count": 24,
   "id": "d1e5656a",
   "metadata": {},
   "outputs": [
    {
     "data": {
      "text/plain": [
       "<AxesSubplot:>"
      ]
     },
     "execution_count": 24,
     "metadata": {},
     "output_type": "execute_result"
    },
    {
     "data": {
      "image/png": "[encoded data removed]",
      "text/plain": [
       "<Figure size 1080x720 with 2 Axes>"
      ]
     },
     "metadata": {
      "needs_background": "light"
     },
     "output_type": "display_data"
    }
   ],
   "source": [
    "_,ax=plt.subplots(figsize=(15,10))\n",
    "colormap=sns.diverging_palette(220,10,as_cmap=True)\n",
    "sns.heatmap(df.corr(),annot=True,cmap=colormap)"
   ]
  },
  {
   "cell_type": "code",
   "execution_count": 29,
   "id": "28ad6a63",
   "metadata": {},
   "outputs": [],
   "source": []
  },
  {
   "cell_type": "code",
   "execution_count": null,
   "id": "00ecc60f",
   "metadata": {},
   "outputs": [],
   "source": []
  }
 ],
 "metadata": {
  "kernelspec": {
   "display_name": "Python 3",
   "language": "python",
   "name": "python3"
  },
  "language_info": {
   "codemirror_mode": {
    "name": "ipython",
    "version": 3
   },
   "file_extension": ".py",
   "mimetype": "text/x-python",
   "name": "python",
   "nbconvert_exporter": "python",
   "pygments_lexer": "ipython3",
   "version": "3.8.8"
  }
 },
 "nbformat": 4,
 "nbformat_minor": 5
}
